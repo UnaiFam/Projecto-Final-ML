{
 "cells": [
  {
   "cell_type": "markdown",
   "id": "8c70d932",
   "metadata": {},
   "source": [
    "# DOCUMENTACION\n",
    "\n",
    "## Objetivo del proyecto\n",
    "\n",
    "Se pretende estimar primero la si la respuesta a tiempo (algo que aparentemente fue bastante facil y solo se realizo un modelo) y luego usar este dadot para estimar la si el cliente disputo o no. \n",
    "Tras esto se pretende utilizar ambos modelose introducirlos o en una API de fast api o en una app de gradio (aunque finalmente e han hecho 2 una para cada modelo porque no se me ocurrio como meterlo en el mismo). \n",
    "\n",
    "\n",
    "## Fuente de Datos y resumen de EDA\n",
    "\n"
   ]
  }
 ],
 "metadata": {
  "language_info": {
   "name": "python"
  }
 },
 "nbformat": 4,
 "nbformat_minor": 5
}
