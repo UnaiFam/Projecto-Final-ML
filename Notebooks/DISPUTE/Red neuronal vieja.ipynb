{
 "cells": [
  {
   "cell_type": "code",
   "execution_count": 1,
   "id": "cff92a96",
   "metadata": {},
   "outputs": [
    {
     "name": "stderr",
     "output_type": "stream",
     "text": [
      "c:\\Users\\unaif\\anaconda3\\envs\\projecto\\Lib\\site-packages\\sklearn\\preprocessing\\_label.py:93: DataConversionWarning: A column-vector y was passed when a 1d array was expected. Please change the shape of y to (n_samples, ), for example using ravel().\n",
      "  y = column_or_1d(y, warn=True)\n",
      "c:\\Users\\unaif\\anaconda3\\envs\\projecto\\Lib\\site-packages\\sklearn\\preprocessing\\_label.py:93: DataConversionWarning: A column-vector y was passed when a 1d array was expected. Please change the shape of y to (n_samples, ), for example using ravel().\n",
      "  y = column_or_1d(y, warn=True)\n"
     ]
    }
   ],
   "source": [
    "import os\n",
    "os.chdir(\"..\")\n",
    "os.chdir(\"../src\")\n",
    "from tool_preprocess_onehot import state_df_zip, convert_to_str\n",
    "\n",
    "\n",
    "\n",
    "\n",
    "\n",
    "\n",
    "os.chdir(\"../data\")\n",
    "import pandas as pd\n",
    "df = pd.read_csv(\"quejas-clientes-limpio.csv\", low_memory=False)\n"
   ]
  },
  {
   "cell_type": "code",
   "execution_count": 2,
   "id": "97bd6048",
   "metadata": {},
   "outputs": [
    {
     "data": {
      "text/plain": [
       "'c:\\\\Users\\\\unaif\\\\OneDrive\\\\Documentos\\\\Documentos_Clase_Data\\\\PROYECTOS\\\\nombre_proyecto_final_ML\\\\Projecto-Final-ML\\\\data'"
      ]
     },
     "execution_count": 2,
     "metadata": {},
     "output_type": "execute_result"
    }
   ],
   "source": [
    "import os\n",
    "\n",
    "os.getcwd()"
   ]
  },
  {
   "cell_type": "code",
   "execution_count": 3,
   "id": "a6000971",
   "metadata": {},
   "outputs": [
    {
     "data": {
      "text/html": [
       "<div>\n",
       "<style scoped>\n",
       "    .dataframe tbody tr th:only-of-type {\n",
       "        vertical-align: middle;\n",
       "    }\n",
       "\n",
       "    .dataframe tbody tr th {\n",
       "        vertical-align: top;\n",
       "    }\n",
       "\n",
       "    .dataframe thead th {\n",
       "        text-align: right;\n",
       "    }\n",
       "</style>\n",
       "<table border=\"1\" class=\"dataframe\">\n",
       "  <thead>\n",
       "    <tr style=\"text-align: right;\">\n",
       "      <th></th>\n",
       "      <th>Complaint ID</th>\n",
       "      <th>Product</th>\n",
       "      <th>Sub-product</th>\n",
       "      <th>Issue</th>\n",
       "      <th>Sub-issue</th>\n",
       "      <th>State</th>\n",
       "      <th>ZIP code</th>\n",
       "      <th>Date received</th>\n",
       "      <th>Date sent to company</th>\n",
       "      <th>Company</th>\n",
       "      <th>Company response</th>\n",
       "      <th>Timely response?</th>\n",
       "      <th>Consumer disputed?</th>\n",
       "      <th>dias de retraso</th>\n",
       "      <th>weekday</th>\n",
       "    </tr>\n",
       "  </thead>\n",
       "  <tbody>\n",
       "    <tr>\n",
       "      <th>0</th>\n",
       "      <td>1291006</td>\n",
       "      <td>Debt collection</td>\n",
       "      <td>Unknown or not specified</td>\n",
       "      <td>Communication tactics</td>\n",
       "      <td>Frequent or repeated calls</td>\n",
       "      <td>TX</td>\n",
       "      <td>76119</td>\n",
       "      <td>2015-03-19</td>\n",
       "      <td>2015-03-19</td>\n",
       "      <td>Premium Asset Services, LLC</td>\n",
       "      <td>In progress</td>\n",
       "      <td>Yes</td>\n",
       "      <td>Unknown or not specified</td>\n",
       "      <td>0 days</td>\n",
       "      <td>Thursday</td>\n",
       "    </tr>\n",
       "    <tr>\n",
       "      <th>1</th>\n",
       "      <td>1290580</td>\n",
       "      <td>Debt collection</td>\n",
       "      <td>Medical</td>\n",
       "      <td>Cont'd attempts collect debt not owed</td>\n",
       "      <td>Debt is not mine</td>\n",
       "      <td>TX</td>\n",
       "      <td>77479</td>\n",
       "      <td>2015-03-19</td>\n",
       "      <td>2015-03-19</td>\n",
       "      <td>Accounts Receivable Consultants Inc.</td>\n",
       "      <td>Closed with explanation</td>\n",
       "      <td>Yes</td>\n",
       "      <td>Unknown or not specified</td>\n",
       "      <td>0 days</td>\n",
       "      <td>Thursday</td>\n",
       "    </tr>\n",
       "    <tr>\n",
       "      <th>2</th>\n",
       "      <td>1290564</td>\n",
       "      <td>Mortgage</td>\n",
       "      <td>FHA mortgage</td>\n",
       "      <td>Application, originator, mortgage broker</td>\n",
       "      <td>Unknown or not specified</td>\n",
       "      <td>MA</td>\n",
       "      <td>2127</td>\n",
       "      <td>2015-03-19</td>\n",
       "      <td>2015-03-19</td>\n",
       "      <td>RBS Citizens</td>\n",
       "      <td>Closed with explanation</td>\n",
       "      <td>Yes</td>\n",
       "      <td>Yes</td>\n",
       "      <td>0 days</td>\n",
       "      <td>Thursday</td>\n",
       "    </tr>\n",
       "    <tr>\n",
       "      <th>3</th>\n",
       "      <td>1291615</td>\n",
       "      <td>Credit card</td>\n",
       "      <td>Unknown or not specified</td>\n",
       "      <td>Other</td>\n",
       "      <td>Unknown or not specified</td>\n",
       "      <td>CA</td>\n",
       "      <td>92592</td>\n",
       "      <td>2015-03-19</td>\n",
       "      <td>2015-03-19</td>\n",
       "      <td>Navy FCU</td>\n",
       "      <td>In progress</td>\n",
       "      <td>Yes</td>\n",
       "      <td>Unknown or not specified</td>\n",
       "      <td>0 days</td>\n",
       "      <td>Thursday</td>\n",
       "    </tr>\n",
       "    <tr>\n",
       "      <th>4</th>\n",
       "      <td>1292165</td>\n",
       "      <td>Debt collection</td>\n",
       "      <td>Non-federal student loan</td>\n",
       "      <td>Cont'd attempts collect debt not owed</td>\n",
       "      <td>Debt resulted from identity theft</td>\n",
       "      <td>OH</td>\n",
       "      <td>43068</td>\n",
       "      <td>2015-03-19</td>\n",
       "      <td>2015-03-19</td>\n",
       "      <td>Transworld Systems Inc.</td>\n",
       "      <td>In progress</td>\n",
       "      <td>Yes</td>\n",
       "      <td>Unknown or not specified</td>\n",
       "      <td>0 days</td>\n",
       "      <td>Thursday</td>\n",
       "    </tr>\n",
       "    <tr>\n",
       "      <th>...</th>\n",
       "      <td>...</td>\n",
       "      <td>...</td>\n",
       "      <td>...</td>\n",
       "      <td>...</td>\n",
       "      <td>...</td>\n",
       "      <td>...</td>\n",
       "      <td>...</td>\n",
       "      <td>...</td>\n",
       "      <td>...</td>\n",
       "      <td>...</td>\n",
       "      <td>...</td>\n",
       "      <td>...</td>\n",
       "      <td>...</td>\n",
       "      <td>...</td>\n",
       "      <td>...</td>\n",
       "    </tr>\n",
       "    <tr>\n",
       "      <th>28151</th>\n",
       "      <td>1178184</td>\n",
       "      <td>Debt collection</td>\n",
       "      <td>Unknown or not specified</td>\n",
       "      <td>Cont'd attempts collect debt not owed</td>\n",
       "      <td>Debt is not mine</td>\n",
       "      <td>TX</td>\n",
       "      <td>75201</td>\n",
       "      <td>2015-01-01</td>\n",
       "      <td>2015-01-01</td>\n",
       "      <td>Enhanced Recovery Company, LLC</td>\n",
       "      <td>Closed with non-monetary relief</td>\n",
       "      <td>Yes</td>\n",
       "      <td>No</td>\n",
       "      <td>0 days</td>\n",
       "      <td>Thursday</td>\n",
       "    </tr>\n",
       "    <tr>\n",
       "      <th>28152</th>\n",
       "      <td>1178183</td>\n",
       "      <td>Consumer loan</td>\n",
       "      <td>Vehicle loan</td>\n",
       "      <td>Taking out the loan or lease</td>\n",
       "      <td>Unknown or not specified</td>\n",
       "      <td>GA</td>\n",
       "      <td>30043</td>\n",
       "      <td>2015-01-01</td>\n",
       "      <td>2015-01-01</td>\n",
       "      <td>DriveTime</td>\n",
       "      <td>Closed with explanation</td>\n",
       "      <td>Yes</td>\n",
       "      <td>Unknown or not specified</td>\n",
       "      <td>0 days</td>\n",
       "      <td>Thursday</td>\n",
       "    </tr>\n",
       "    <tr>\n",
       "      <th>28153</th>\n",
       "      <td>1178182</td>\n",
       "      <td>Mortgage</td>\n",
       "      <td>Conventional fixed mortgage</td>\n",
       "      <td>Loan servicing, payments, escrow account</td>\n",
       "      <td>Unknown or not specified</td>\n",
       "      <td>MN</td>\n",
       "      <td>55105</td>\n",
       "      <td>2015-01-01</td>\n",
       "      <td>2015-01-01</td>\n",
       "      <td>Regions</td>\n",
       "      <td>Closed with non-monetary relief</td>\n",
       "      <td>Yes</td>\n",
       "      <td>No</td>\n",
       "      <td>0 days</td>\n",
       "      <td>Thursday</td>\n",
       "    </tr>\n",
       "    <tr>\n",
       "      <th>28154</th>\n",
       "      <td>1178181</td>\n",
       "      <td>Payday loan</td>\n",
       "      <td>Unknown or not specified</td>\n",
       "      <td>Can't stop charges to bank account</td>\n",
       "      <td>Unknown or not specified</td>\n",
       "      <td>CA</td>\n",
       "      <td>92509</td>\n",
       "      <td>2015-01-01</td>\n",
       "      <td>2015-01-01</td>\n",
       "      <td>Moneytree Inc</td>\n",
       "      <td>Closed with explanation</td>\n",
       "      <td>Yes</td>\n",
       "      <td>Unknown or not specified</td>\n",
       "      <td>0 days</td>\n",
       "      <td>Thursday</td>\n",
       "    </tr>\n",
       "    <tr>\n",
       "      <th>28155</th>\n",
       "      <td>1178180</td>\n",
       "      <td>Money transfers</td>\n",
       "      <td>Domestic (US) money transfer</td>\n",
       "      <td>Other transaction issues</td>\n",
       "      <td>Unknown or not specified</td>\n",
       "      <td>OH</td>\n",
       "      <td>45068</td>\n",
       "      <td>2015-01-01</td>\n",
       "      <td>2015-01-01</td>\n",
       "      <td>PayPal</td>\n",
       "      <td>Closed with explanation</td>\n",
       "      <td>Yes</td>\n",
       "      <td>Yes</td>\n",
       "      <td>0 days</td>\n",
       "      <td>Thursday</td>\n",
       "    </tr>\n",
       "  </tbody>\n",
       "</table>\n",
       "<p>28156 rows × 15 columns</p>\n",
       "</div>"
      ],
      "text/plain": [
       "       Complaint ID          Product                   Sub-product  \\\n",
       "0           1291006  Debt collection      Unknown or not specified   \n",
       "1           1290580  Debt collection                       Medical   \n",
       "2           1290564         Mortgage                  FHA mortgage   \n",
       "3           1291615      Credit card      Unknown or not specified   \n",
       "4           1292165  Debt collection      Non-federal student loan   \n",
       "...             ...              ...                           ...   \n",
       "28151       1178184  Debt collection      Unknown or not specified   \n",
       "28152       1178183    Consumer loan                  Vehicle loan   \n",
       "28153       1178182         Mortgage   Conventional fixed mortgage   \n",
       "28154       1178181      Payday loan      Unknown or not specified   \n",
       "28155       1178180  Money transfers  Domestic (US) money transfer   \n",
       "\n",
       "                                          Issue  \\\n",
       "0                         Communication tactics   \n",
       "1         Cont'd attempts collect debt not owed   \n",
       "2      Application, originator, mortgage broker   \n",
       "3                                         Other   \n",
       "4         Cont'd attempts collect debt not owed   \n",
       "...                                         ...   \n",
       "28151     Cont'd attempts collect debt not owed   \n",
       "28152              Taking out the loan or lease   \n",
       "28153  Loan servicing, payments, escrow account   \n",
       "28154        Can't stop charges to bank account   \n",
       "28155                  Other transaction issues   \n",
       "\n",
       "                               Sub-issue State  ZIP code Date received  \\\n",
       "0             Frequent or repeated calls    TX     76119    2015-03-19   \n",
       "1                       Debt is not mine    TX     77479    2015-03-19   \n",
       "2               Unknown or not specified    MA      2127    2015-03-19   \n",
       "3               Unknown or not specified    CA     92592    2015-03-19   \n",
       "4      Debt resulted from identity theft    OH     43068    2015-03-19   \n",
       "...                                  ...   ...       ...           ...   \n",
       "28151                   Debt is not mine    TX     75201    2015-01-01   \n",
       "28152           Unknown or not specified    GA     30043    2015-01-01   \n",
       "28153           Unknown or not specified    MN     55105    2015-01-01   \n",
       "28154           Unknown or not specified    CA     92509    2015-01-01   \n",
       "28155           Unknown or not specified    OH     45068    2015-01-01   \n",
       "\n",
       "      Date sent to company                               Company  \\\n",
       "0               2015-03-19           Premium Asset Services, LLC   \n",
       "1               2015-03-19  Accounts Receivable Consultants Inc.   \n",
       "2               2015-03-19                          RBS Citizens   \n",
       "3               2015-03-19                              Navy FCU   \n",
       "4               2015-03-19               Transworld Systems Inc.   \n",
       "...                    ...                                   ...   \n",
       "28151           2015-01-01        Enhanced Recovery Company, LLC   \n",
       "28152           2015-01-01                             DriveTime   \n",
       "28153           2015-01-01                               Regions   \n",
       "28154           2015-01-01                         Moneytree Inc   \n",
       "28155           2015-01-01                                PayPal   \n",
       "\n",
       "                      Company response Timely response?  \\\n",
       "0                          In progress              Yes   \n",
       "1              Closed with explanation              Yes   \n",
       "2              Closed with explanation              Yes   \n",
       "3                          In progress              Yes   \n",
       "4                          In progress              Yes   \n",
       "...                                ...              ...   \n",
       "28151  Closed with non-monetary relief              Yes   \n",
       "28152          Closed with explanation              Yes   \n",
       "28153  Closed with non-monetary relief              Yes   \n",
       "28154          Closed with explanation              Yes   \n",
       "28155          Closed with explanation              Yes   \n",
       "\n",
       "             Consumer disputed? dias de retraso   weekday  \n",
       "0      Unknown or not specified          0 days  Thursday  \n",
       "1      Unknown or not specified          0 days  Thursday  \n",
       "2                           Yes          0 days  Thursday  \n",
       "3      Unknown or not specified          0 days  Thursday  \n",
       "4      Unknown or not specified          0 days  Thursday  \n",
       "...                         ...             ...       ...  \n",
       "28151                        No          0 days  Thursday  \n",
       "28152  Unknown or not specified          0 days  Thursday  \n",
       "28153                        No          0 days  Thursday  \n",
       "28154  Unknown or not specified          0 days  Thursday  \n",
       "28155                       Yes          0 days  Thursday  \n",
       "\n",
       "[28156 rows x 15 columns]"
      ]
     },
     "execution_count": 3,
     "metadata": {},
     "output_type": "execute_result"
    }
   ],
   "source": [
    "df"
   ]
  },
  {
   "cell_type": "code",
   "execution_count": 4,
   "id": "aedefa8c",
   "metadata": {},
   "outputs": [],
   "source": [
    "df.fillna(\"Unknown or not specified\", inplace=True)"
   ]
  },
  {
   "cell_type": "code",
   "execution_count": 5,
   "id": "7006488b",
   "metadata": {},
   "outputs": [
    {
     "data": {
      "text/plain": [
       "array(['Unknown or not specified', 'Yes', 'No'], dtype=object)"
      ]
     },
     "execution_count": 5,
     "metadata": {},
     "output_type": "execute_result"
    }
   ],
   "source": [
    "df[\"Consumer disputed?\"].unique()"
   ]
  },
  {
   "cell_type": "code",
   "execution_count": 6,
   "id": "94079f0d",
   "metadata": {},
   "outputs": [],
   "source": [
    "df=df.drop(columns=[\"Date received\",\t\"Date sent to company\" ])\n",
    "df=df[df[\"Company response\"]!=\"In progress\"]\n",
    "df=df[df[\"Consumer disputed?\"]!=\"Unknown or not specified\"]"
   ]
  },
  {
   "cell_type": "code",
   "execution_count": 7,
   "id": "7a87c66e",
   "metadata": {},
   "outputs": [
    {
     "data": {
      "text/html": [
       "<div>\n",
       "<style scoped>\n",
       "    .dataframe tbody tr th:only-of-type {\n",
       "        vertical-align: middle;\n",
       "    }\n",
       "\n",
       "    .dataframe tbody tr th {\n",
       "        vertical-align: top;\n",
       "    }\n",
       "\n",
       "    .dataframe thead th {\n",
       "        text-align: right;\n",
       "    }\n",
       "</style>\n",
       "<table border=\"1\" class=\"dataframe\">\n",
       "  <thead>\n",
       "    <tr style=\"text-align: right;\">\n",
       "      <th></th>\n",
       "      <th>Product</th>\n",
       "      <th>Sub-product</th>\n",
       "      <th>Issue</th>\n",
       "      <th>Sub-issue</th>\n",
       "      <th>State</th>\n",
       "      <th>Company</th>\n",
       "      <th>Company response</th>\n",
       "      <th>Timely response?</th>\n",
       "      <th>Consumer disputed?</th>\n",
       "      <th>weekday</th>\n",
       "    </tr>\n",
       "  </thead>\n",
       "  <tbody>\n",
       "    <tr>\n",
       "      <th>2</th>\n",
       "      <td>Mortgage</td>\n",
       "      <td>FHA mortgage</td>\n",
       "      <td>Application, originator, mortgage broker</td>\n",
       "      <td>Unknown or not specified</td>\n",
       "      <td>MA</td>\n",
       "      <td>RBS Citizens</td>\n",
       "      <td>Closed with explanation</td>\n",
       "      <td>Yes</td>\n",
       "      <td>Yes</td>\n",
       "      <td>Thursday</td>\n",
       "    </tr>\n",
       "    <tr>\n",
       "      <th>6</th>\n",
       "      <td>Consumer loan</td>\n",
       "      <td>Installment loan</td>\n",
       "      <td>Managing the loan or lease</td>\n",
       "      <td>Unknown or not specified</td>\n",
       "      <td>OH</td>\n",
       "      <td>CashCall, Inc.</td>\n",
       "      <td>Closed with explanation</td>\n",
       "      <td>Yes</td>\n",
       "      <td>Yes</td>\n",
       "      <td>Wednesday</td>\n",
       "    </tr>\n",
       "    <tr>\n",
       "      <th>9</th>\n",
       "      <td>Debt collection</td>\n",
       "      <td>Payday loan</td>\n",
       "      <td>Taking/threatening an illegal action</td>\n",
       "      <td>Threatened arrest/jail if do not pay</td>\n",
       "      <td>TX</td>\n",
       "      <td>Cottonwood Financial Ltd.</td>\n",
       "      <td>Closed with explanation</td>\n",
       "      <td>Yes</td>\n",
       "      <td>Yes</td>\n",
       "      <td>Wednesday</td>\n",
       "    </tr>\n",
       "    <tr>\n",
       "      <th>14</th>\n",
       "      <td>Debt collection</td>\n",
       "      <td>Other (phone, health club, etc.)</td>\n",
       "      <td>Disclosure verification of debt</td>\n",
       "      <td>Not given enough info to verify debt</td>\n",
       "      <td>UT</td>\n",
       "      <td>Account Liquidation Services Inc.</td>\n",
       "      <td>Closed with non-monetary relief</td>\n",
       "      <td>Yes</td>\n",
       "      <td>Yes</td>\n",
       "      <td>Wednesday</td>\n",
       "    </tr>\n",
       "    <tr>\n",
       "      <th>22</th>\n",
       "      <td>Debt collection</td>\n",
       "      <td>Unknown or not specified</td>\n",
       "      <td>Improper contact or sharing of info</td>\n",
       "      <td>Contacted me after I asked not to</td>\n",
       "      <td>IL</td>\n",
       "      <td>Municipal Collections Services, Inc.</td>\n",
       "      <td>Closed with explanation</td>\n",
       "      <td>Yes</td>\n",
       "      <td>Yes</td>\n",
       "      <td>Wednesday</td>\n",
       "    </tr>\n",
       "    <tr>\n",
       "      <th>...</th>\n",
       "      <td>...</td>\n",
       "      <td>...</td>\n",
       "      <td>...</td>\n",
       "      <td>...</td>\n",
       "      <td>...</td>\n",
       "      <td>...</td>\n",
       "      <td>...</td>\n",
       "      <td>...</td>\n",
       "      <td>...</td>\n",
       "      <td>...</td>\n",
       "    </tr>\n",
       "    <tr>\n",
       "      <th>28149</th>\n",
       "      <td>Credit reporting</td>\n",
       "      <td>Unknown or not specified</td>\n",
       "      <td>Improper use of my credit report</td>\n",
       "      <td>Report improperly shared by CRC</td>\n",
       "      <td>MI</td>\n",
       "      <td>Experian</td>\n",
       "      <td>Closed with explanation</td>\n",
       "      <td>Yes</td>\n",
       "      <td>No</td>\n",
       "      <td>Thursday</td>\n",
       "    </tr>\n",
       "    <tr>\n",
       "      <th>28150</th>\n",
       "      <td>Credit card</td>\n",
       "      <td>Unknown or not specified</td>\n",
       "      <td>Late fee</td>\n",
       "      <td>Unknown or not specified</td>\n",
       "      <td>AR</td>\n",
       "      <td>U.S. Bancorp</td>\n",
       "      <td>Closed with monetary relief</td>\n",
       "      <td>Yes</td>\n",
       "      <td>No</td>\n",
       "      <td>Thursday</td>\n",
       "    </tr>\n",
       "    <tr>\n",
       "      <th>28151</th>\n",
       "      <td>Debt collection</td>\n",
       "      <td>Unknown or not specified</td>\n",
       "      <td>Cont'd attempts collect debt not owed</td>\n",
       "      <td>Debt is not mine</td>\n",
       "      <td>TX</td>\n",
       "      <td>Enhanced Recovery Company, LLC</td>\n",
       "      <td>Closed with non-monetary relief</td>\n",
       "      <td>Yes</td>\n",
       "      <td>No</td>\n",
       "      <td>Thursday</td>\n",
       "    </tr>\n",
       "    <tr>\n",
       "      <th>28153</th>\n",
       "      <td>Mortgage</td>\n",
       "      <td>Conventional fixed mortgage</td>\n",
       "      <td>Loan servicing, payments, escrow account</td>\n",
       "      <td>Unknown or not specified</td>\n",
       "      <td>MN</td>\n",
       "      <td>Regions</td>\n",
       "      <td>Closed with non-monetary relief</td>\n",
       "      <td>Yes</td>\n",
       "      <td>No</td>\n",
       "      <td>Thursday</td>\n",
       "    </tr>\n",
       "    <tr>\n",
       "      <th>28155</th>\n",
       "      <td>Money transfers</td>\n",
       "      <td>Domestic (US) money transfer</td>\n",
       "      <td>Other transaction issues</td>\n",
       "      <td>Unknown or not specified</td>\n",
       "      <td>OH</td>\n",
       "      <td>PayPal</td>\n",
       "      <td>Closed with explanation</td>\n",
       "      <td>Yes</td>\n",
       "      <td>Yes</td>\n",
       "      <td>Thursday</td>\n",
       "    </tr>\n",
       "  </tbody>\n",
       "</table>\n",
       "<p>6006 rows × 10 columns</p>\n",
       "</div>"
      ],
      "text/plain": [
       "                Product                       Sub-product  \\\n",
       "2              Mortgage                      FHA mortgage   \n",
       "6         Consumer loan                  Installment loan   \n",
       "9       Debt collection                       Payday loan   \n",
       "14      Debt collection  Other (phone, health club, etc.)   \n",
       "22      Debt collection          Unknown or not specified   \n",
       "...                 ...                               ...   \n",
       "28149  Credit reporting          Unknown or not specified   \n",
       "28150       Credit card          Unknown or not specified   \n",
       "28151   Debt collection          Unknown or not specified   \n",
       "28153          Mortgage       Conventional fixed mortgage   \n",
       "28155   Money transfers      Domestic (US) money transfer   \n",
       "\n",
       "                                          Issue  \\\n",
       "2      Application, originator, mortgage broker   \n",
       "6                    Managing the loan or lease   \n",
       "9          Taking/threatening an illegal action   \n",
       "14              Disclosure verification of debt   \n",
       "22          Improper contact or sharing of info   \n",
       "...                                         ...   \n",
       "28149          Improper use of my credit report   \n",
       "28150                                  Late fee   \n",
       "28151     Cont'd attempts collect debt not owed   \n",
       "28153  Loan servicing, payments, escrow account   \n",
       "28155                  Other transaction issues   \n",
       "\n",
       "                                  Sub-issue State  \\\n",
       "2                  Unknown or not specified    MA   \n",
       "6                  Unknown or not specified    OH   \n",
       "9      Threatened arrest/jail if do not pay    TX   \n",
       "14     Not given enough info to verify debt    UT   \n",
       "22        Contacted me after I asked not to    IL   \n",
       "...                                     ...   ...   \n",
       "28149       Report improperly shared by CRC    MI   \n",
       "28150              Unknown or not specified    AR   \n",
       "28151                      Debt is not mine    TX   \n",
       "28153              Unknown or not specified    MN   \n",
       "28155              Unknown or not specified    OH   \n",
       "\n",
       "                                    Company                 Company response  \\\n",
       "2                              RBS Citizens          Closed with explanation   \n",
       "6                            CashCall, Inc.          Closed with explanation   \n",
       "9                 Cottonwood Financial Ltd.          Closed with explanation   \n",
       "14        Account Liquidation Services Inc.  Closed with non-monetary relief   \n",
       "22     Municipal Collections Services, Inc.          Closed with explanation   \n",
       "...                                     ...                              ...   \n",
       "28149                              Experian          Closed with explanation   \n",
       "28150                          U.S. Bancorp      Closed with monetary relief   \n",
       "28151        Enhanced Recovery Company, LLC  Closed with non-monetary relief   \n",
       "28153                               Regions  Closed with non-monetary relief   \n",
       "28155                                PayPal          Closed with explanation   \n",
       "\n",
       "      Timely response? Consumer disputed?    weekday  \n",
       "2                  Yes                Yes   Thursday  \n",
       "6                  Yes                Yes  Wednesday  \n",
       "9                  Yes                Yes  Wednesday  \n",
       "14                 Yes                Yes  Wednesday  \n",
       "22                 Yes                Yes  Wednesday  \n",
       "...                ...                ...        ...  \n",
       "28149              Yes                 No   Thursday  \n",
       "28150              Yes                 No   Thursday  \n",
       "28151              Yes                 No   Thursday  \n",
       "28153              Yes                 No   Thursday  \n",
       "28155              Yes                Yes   Thursday  \n",
       "\n",
       "[6006 rows x 10 columns]"
      ]
     },
     "execution_count": 7,
     "metadata": {},
     "output_type": "execute_result"
    }
   ],
   "source": [
    "df.drop(columns=[\"Complaint ID\", \"ZIP code\",\"dias de retraso\"], inplace=True)\n",
    "df"
   ]
  },
  {
   "cell_type": "code",
   "execution_count": 8,
   "id": "8a22e72c",
   "metadata": {},
   "outputs": [
    {
     "name": "stdout",
     "output_type": "stream",
     "text": [
      "<class 'pandas.core.frame.DataFrame'>\n",
      "Index: 6006 entries, 2 to 28155\n",
      "Data columns (total 10 columns):\n",
      " #   Column              Non-Null Count  Dtype \n",
      "---  ------              --------------  ----- \n",
      " 0   Product             6006 non-null   object\n",
      " 1   Sub-product         6006 non-null   object\n",
      " 2   Issue               6006 non-null   object\n",
      " 3   Sub-issue           6006 non-null   object\n",
      " 4   State               6006 non-null   object\n",
      " 5   Company             6006 non-null   object\n",
      " 6   Company response    6006 non-null   object\n",
      " 7   Timely response?    6006 non-null   object\n",
      " 8   Consumer disputed?  6006 non-null   object\n",
      " 9   weekday             6006 non-null   object\n",
      "dtypes: object(10)\n",
      "memory usage: 516.1+ KB\n"
     ]
    }
   ],
   "source": [
    "df.info()"
   ]
  },
  {
   "cell_type": "code",
   "execution_count": null,
   "id": "37640cea",
   "metadata": {},
   "outputs": [],
   "source": []
  },
  {
   "cell_type": "code",
   "execution_count": 9,
   "id": "530c2e41",
   "metadata": {},
   "outputs": [],
   "source": [
    "X=df.drop(columns=[\"Consumer disputed?\"])"
   ]
  },
  {
   "cell_type": "code",
   "execution_count": 10,
   "id": "3251b87c",
   "metadata": {},
   "outputs": [
    {
     "name": "stdout",
     "output_type": "stream",
     "text": [
      "<class 'pandas.core.frame.DataFrame'>\n",
      "Index: 6006 entries, 2 to 28155\n",
      "Data columns (total 9 columns):\n",
      " #   Column            Non-Null Count  Dtype \n",
      "---  ------            --------------  ----- \n",
      " 0   Product           6006 non-null   object\n",
      " 1   Sub-product       6006 non-null   object\n",
      " 2   Issue             6006 non-null   object\n",
      " 3   Sub-issue         6006 non-null   object\n",
      " 4   State             6006 non-null   object\n",
      " 5   Company           6006 non-null   object\n",
      " 6   Company response  6006 non-null   object\n",
      " 7   Timely response?  6006 non-null   object\n",
      " 8   weekday           6006 non-null   object\n",
      "dtypes: object(9)\n",
      "memory usage: 469.2+ KB\n"
     ]
    }
   ],
   "source": [
    "X.info()"
   ]
  },
  {
   "cell_type": "code",
   "execution_count": 11,
   "id": "2b2dc271",
   "metadata": {},
   "outputs": [],
   "source": [
    "y=df['Consumer disputed?'].apply(lambda x: 1 if x == 'Yes' else 0)"
   ]
  },
  {
   "cell_type": "code",
   "execution_count": 12,
   "id": "15731e26",
   "metadata": {},
   "outputs": [
    {
     "data": {
      "text/plain": [
       "2        1\n",
       "6        1\n",
       "9        1\n",
       "14       1\n",
       "22       1\n",
       "        ..\n",
       "28149    0\n",
       "28150    0\n",
       "28151    0\n",
       "28153    0\n",
       "28155    1\n",
       "Name: Consumer disputed?, Length: 6006, dtype: int64"
      ]
     },
     "execution_count": 12,
     "metadata": {},
     "output_type": "execute_result"
    }
   ],
   "source": [
    "y"
   ]
  },
  {
   "cell_type": "code",
   "execution_count": 13,
   "id": "ace7c226",
   "metadata": {},
   "outputs": [
    {
     "data": {
      "text/plain": [
       "(6006, 10)"
      ]
     },
     "execution_count": 13,
     "metadata": {},
     "output_type": "execute_result"
    }
   ],
   "source": [
    "df.shape"
   ]
  },
  {
   "cell_type": "code",
   "execution_count": 14,
   "id": "74ddbff1",
   "metadata": {},
   "outputs": [],
   "source": [
    "import pandas as pd\n",
    "import numpy as np\n",
    "from sklearn.pipeline import Pipeline\n",
    "from sklearn.model_selection import train_test_split\n",
    "from sklearn.preprocessing import LabelEncoder, OneHotEncoder, StandardScaler\n",
    "from sklearn.impute import SimpleImputer\n",
    "from sklearn.compose import ColumnTransformer\n",
    "import tensorflow as tf\n",
    "from tensorflow import keras\n",
    "from scikeras.wrappers import KerasClassifier\n",
    "from imblearn.pipeline import  Pipeline\n",
    "from tensorflow.keras.callbacks import EarlyStopping, ReduceLROnPlateau\n",
    "# --- Asumiendo que ya tienes el DataFrame df cargado y limpiado de NaNs básicos ---\n",
    "\n",
    "# 1. Codificación binaria de la variable objetivo\n",
    "\n",
    "from imblearn.pipeline import Pipeline as ImbPipeline\n",
    "from imblearn.over_sampling import ADASYN"
   ]
  },
  {
   "cell_type": "code",
   "execution_count": 15,
   "id": "d093fea1",
   "metadata": {},
   "outputs": [
    {
     "data": {
      "text/plain": [
       "Index(['Product', 'Sub-product', 'Issue', 'Sub-issue', 'State', 'Company',\n",
       "       'Company response', 'Timely response?', 'weekday'],\n",
       "      dtype='object')"
      ]
     },
     "execution_count": 15,
     "metadata": {},
     "output_type": "execute_result"
    }
   ],
   "source": [
    "X.columns"
   ]
  },
  {
   "cell_type": "code",
   "execution_count": 16,
   "id": "8e6a35d0",
   "metadata": {},
   "outputs": [],
   "source": [
    "categorical_features=['Product', 'Sub-product', 'Issue', 'Sub-issue', 'State',\n",
    "       'Company response', 'Timely response?', 'weekday', \"Company\"]\n",
    "\n",
    "\n"
   ]
  },
  {
   "cell_type": "code",
   "execution_count": 17,
   "id": "1b82e624",
   "metadata": {},
   "outputs": [],
   "source": [
    "preprocessor = ColumnTransformer(\n",
    "    transformers=[\n",
    "        ('cat', OneHotEncoder(handle_unknown='ignore', sparse_output=False), categorical_features), \n",
    "\n",
    "    ],\n",
    "\n",
    "    remainder='passthrough'  # deja pasar las numéricas sin tocar\n",
    ")"
   ]
  },
  {
   "cell_type": "code",
   "execution_count": 18,
   "id": "2c6ffd8c",
   "metadata": {},
   "outputs": [],
   "source": [
    "model_pipeline = ImbPipeline(steps=[\n",
    "    ('preprocessor', preprocessor),\n",
    "    ('oversampler', ADASYN(random_state=42)),\n",
    "\n",
    "])"
   ]
  },
  {
   "cell_type": "code",
   "execution_count": 19,
   "id": "a620541a",
   "metadata": {},
   "outputs": [
    {
     "data": {
      "text/plain": [
       "952"
      ]
     },
     "execution_count": 19,
     "metadata": {},
     "output_type": "execute_result"
    }
   ],
   "source": [
    "n_features=preprocessor.fit_transform(X).shape[1]\n",
    "n_features"
   ]
  },
  {
   "cell_type": "code",
   "execution_count": 20,
   "id": "d50b71d9",
   "metadata": {},
   "outputs": [
    {
     "data": {
      "text/plain": [
       "array([[0., 0., 0., ..., 0., 0., 0.],\n",
       "       [0., 1., 0., ..., 0., 0., 0.],\n",
       "       [0., 0., 0., ..., 0., 0., 0.],\n",
       "       ...,\n",
       "       [0., 0., 0., ..., 0., 0., 0.],\n",
       "       [0., 0., 0., ..., 0., 0., 0.],\n",
       "       [0., 0., 0., ..., 0., 0., 0.]])"
      ]
     },
     "execution_count": 20,
     "metadata": {},
     "output_type": "execute_result"
    }
   ],
   "source": [
    "X_proceses=preprocessor.fit_transform(X)\n",
    "X_proceses"
   ]
  },
  {
   "cell_type": "code",
   "execution_count": 21,
   "id": "5f95cb93",
   "metadata": {},
   "outputs": [],
   "source": [
    "X_proceses, y=ADASYN(random_state=42).fit_resample(X_proceses, y)"
   ]
  },
  {
   "cell_type": "code",
   "execution_count": 22,
   "id": "2996fc7e",
   "metadata": {},
   "outputs": [],
   "source": [
    "\n",
    "\n",
    "\n",
    "X_train, X_test, y_train, y_test = train_test_split(X_proceses, y, test_size = 0.20, random_state = 42, shuffle=True)"
   ]
  },
  {
   "cell_type": "code",
   "execution_count": 23,
   "id": "b4b55dfc",
   "metadata": {},
   "outputs": [
    {
     "data": {
      "text/plain": [
       "array([[0., 0., 0., ..., 0., 0., 0.],\n",
       "       [0., 0., 0., ..., 0., 0., 0.],\n",
       "       [1., 0., 0., ..., 0., 0., 0.],\n",
       "       ...,\n",
       "       [0., 0., 0., ..., 0., 0., 0.],\n",
       "       [0., 0., 0., ..., 0., 0., 0.],\n",
       "       [1., 0., 0., ..., 0., 0., 0.]])"
      ]
     },
     "execution_count": 23,
     "metadata": {},
     "output_type": "execute_result"
    }
   ],
   "source": [
    "X_train"
   ]
  },
  {
   "cell_type": "code",
   "execution_count": 24,
   "id": "32df2f79",
   "metadata": {},
   "outputs": [
    {
     "data": {
      "text/plain": [
       "'model = keras.Sequential([\\n    keras.layers.Input(shape=(n_features,)),\\n    keras.layers.Dense(50, activation=\\'tanh\\'),\\n    keras.layers.Dense(50, activation=\\'relu\\'),\\n    keras.layers.Dense(1, activation=\"sigmoid\")   # 1 neurona + sigmoid\\n])'"
      ]
     },
     "execution_count": 24,
     "metadata": {},
     "output_type": "execute_result"
    }
   ],
   "source": [
    "\n",
    "\n",
    "\"\"\"model = keras.Sequential([\n",
    "    keras.layers.Input(shape=(n_features,)),\n",
    "    keras.layers.Dense(50, activation='tanh'),\n",
    "    keras.layers.Dense(50, activation='relu'),\n",
    "    keras.layers.Dense(1, activation=\"sigmoid\")   # 1 neurona + sigmoid\n",
    "])\"\"\""
   ]
  },
  {
   "cell_type": "code",
   "execution_count": 25,
   "id": "1084be4a",
   "metadata": {},
   "outputs": [],
   "source": [
    "model = keras.Sequential([\n",
    "    keras.layers.Input(shape=(n_features,)), # dice el numeor de entrada\n",
    "\n",
    "\n",
    "    keras.layers.Dense(64, activation='relu', kernel_regularizer=keras.regularizers.l2(0.001)), # aprende de forma no lineal  y evita sobreajuste\n",
    "    keras.layers.BatchNormalization(), # normaliza la capa de salida, ayuda para que las capas aprnda de forma mas consistente\n",
    "    keras.layers.Dropout(0.3),# Apaga aleatoriamente 30% de las neuronas durante el entrenamiento reduce sobreajuste\n",
    "    keras.layers.Dense(32, activation='relu', kernel_regularizer=keras.regularizers.l2(0.001)), # mismo que la anterior pero decreciente\n",
    "    keras.layers.BatchNormalization(),# normaliza\n",
    "    keras.layers.Dropout(0.3),# Apaga aleatoriamente 30% de las neuronas durante el entrenamiento reduce sobreajuste\n",
    "\n",
    "\n",
    "\n",
    "    keras.layers.Dense(1, activation=\"sigmoid\")\n",
    "])"
   ]
  },
  {
   "cell_type": "code",
   "execution_count": 26,
   "id": "39bef65d",
   "metadata": {},
   "outputs": [],
   "source": [
    "model.compile(\n",
    "    optimizer=tf.keras.optimizers.RMSprop(0.001),\n",
    "    loss=\"binary_crossentropy\",\n",
    "    metrics=[\n",
    "        \"accuracy\",\n",
    "        tf.keras.metrics.AUC(name=\"auc\", curve=\"ROC\")   # AUC‑ROC\n",
    "    ]\n",
    ")"
   ]
  },
  {
   "cell_type": "code",
   "execution_count": 27,
   "id": "3ed5487f",
   "metadata": {},
   "outputs": [],
   "source": [
    "early_stop = EarlyStopping(\n",
    "    monitor='val_loss',      # Observa la pérdida en validación\n",
    "    patience=20,             # Espera 20 épocas sin mejora antes de detener\n",
    "    restore_best_weights=True # Restaura los mejores pesos\n",
    ")\n",
    "\n",
    "reduce_lr = ReduceLROnPlateau(\n",
    "    monitor='val_loss',\n",
    "    factor=0.5,              # Reduce la tasa de aprendizaje a la mitad\n",
    "    patience=10,             # Si no mejora en 10 épocas\n",
    "    min_lr=1e-6\n",
    ")"
   ]
  },
  {
   "cell_type": "code",
   "execution_count": 28,
   "id": "baa9be52",
   "metadata": {},
   "outputs": [
    {
     "name": "stdout",
     "output_type": "stream",
     "text": [
      "Epoch 1/500\n",
      "\u001b[1m93/93\u001b[0m \u001b[32m━━━━━━━━━━━━━━━━━━━━\u001b[0m\u001b[37m\u001b[0m \u001b[1m1s\u001b[0m 4ms/step - accuracy: 0.5738 - auc: 0.6036 - loss: 0.8825 - val_accuracy: 0.5142 - val_auc: 0.6893 - val_loss: 0.8193 - learning_rate: 0.0010\n",
      "Epoch 2/500\n",
      "\u001b[1m93/93\u001b[0m \u001b[32m━━━━━━━━━━━━━━━━━━━━\u001b[0m\u001b[37m\u001b[0m \u001b[1m0s\u001b[0m 2ms/step - accuracy: 0.6456 - auc: 0.6989 - loss: 0.7348 - val_accuracy: 0.5142 - val_auc: 0.7480 - val_loss: 0.7945 - learning_rate: 0.0010\n",
      "Epoch 3/500\n",
      "\u001b[1m93/93\u001b[0m \u001b[32m━━━━━━━━━━━━━━━━━━━━\u001b[0m\u001b[37m\u001b[0m \u001b[1m0s\u001b[0m 2ms/step - accuracy: 0.6811 - auc: 0.7412 - loss: 0.6779 - val_accuracy: 0.5331 - val_auc: 0.7839 - val_loss: 0.7335 - learning_rate: 0.0010\n",
      "Epoch 4/500\n",
      "\u001b[1m93/93\u001b[0m \u001b[32m━━━━━━━━━━━━━━━━━━━━\u001b[0m\u001b[37m\u001b[0m \u001b[1m0s\u001b[0m 2ms/step - accuracy: 0.7277 - auc: 0.7977 - loss: 0.6145 - val_accuracy: 0.6331 - val_auc: 0.8093 - val_loss: 0.6726 - learning_rate: 0.0010\n",
      "Epoch 5/500\n",
      "\u001b[1m93/93\u001b[0m \u001b[32m━━━━━━━━━━━━━━━━━━━━\u001b[0m\u001b[37m\u001b[0m \u001b[1m0s\u001b[0m 2ms/step - accuracy: 0.7462 - auc: 0.8248 - loss: 0.5756 - val_accuracy: 0.7250 - val_auc: 0.8376 - val_loss: 0.6103 - learning_rate: 0.0010\n",
      "Epoch 6/500\n",
      "\u001b[1m93/93\u001b[0m \u001b[32m━━━━━━━━━━━━━━━━━━━━\u001b[0m\u001b[37m\u001b[0m \u001b[1m0s\u001b[0m 2ms/step - accuracy: 0.7761 - auc: 0.8509 - loss: 0.5385 - val_accuracy: 0.7703 - val_auc: 0.8514 - val_loss: 0.5622 - learning_rate: 0.0010\n",
      "Epoch 7/500\n",
      "\u001b[1m93/93\u001b[0m \u001b[32m━━━━━━━━━━━━━━━━━━━━\u001b[0m\u001b[37m\u001b[0m \u001b[1m0s\u001b[0m 2ms/step - accuracy: 0.7972 - auc: 0.8779 - loss: 0.4962 - val_accuracy: 0.7757 - val_auc: 0.8597 - val_loss: 0.5277 - learning_rate: 0.0010\n",
      "Epoch 8/500\n",
      "\u001b[1m93/93\u001b[0m \u001b[32m━━━━━━━━━━━━━━━━━━━━\u001b[0m\u001b[37m\u001b[0m \u001b[1m0s\u001b[0m 2ms/step - accuracy: 0.8112 - auc: 0.8905 - loss: 0.4704 - val_accuracy: 0.7716 - val_auc: 0.8702 - val_loss: 0.5160 - learning_rate: 0.0010\n",
      "Epoch 9/500\n",
      "\u001b[1m93/93\u001b[0m \u001b[32m━━━━━━━━━━━━━━━━━━━━\u001b[0m\u001b[37m\u001b[0m \u001b[1m0s\u001b[0m 2ms/step - accuracy: 0.8317 - auc: 0.9061 - loss: 0.4405 - val_accuracy: 0.8142 - val_auc: 0.8877 - val_loss: 0.4775 - learning_rate: 0.0010\n",
      "Epoch 10/500\n",
      "\u001b[1m93/93\u001b[0m \u001b[32m━━━━━━━━━━━━━━━━━━━━\u001b[0m\u001b[37m\u001b[0m \u001b[1m0s\u001b[0m 2ms/step - accuracy: 0.8394 - auc: 0.9163 - loss: 0.4193 - val_accuracy: 0.8115 - val_auc: 0.8856 - val_loss: 0.4792 - learning_rate: 0.0010\n",
      "Epoch 11/500\n",
      "\u001b[1m93/93\u001b[0m \u001b[32m━━━━━━━━━━━━━━━━━━━━\u001b[0m\u001b[37m\u001b[0m \u001b[1m0s\u001b[0m 2ms/step - accuracy: 0.8533 - auc: 0.9264 - loss: 0.3950 - val_accuracy: 0.8162 - val_auc: 0.8975 - val_loss: 0.4609 - learning_rate: 0.0010\n",
      "Epoch 12/500\n",
      "\u001b[1m93/93\u001b[0m \u001b[32m━━━━━━━━━━━━━━━━━━━━\u001b[0m\u001b[37m\u001b[0m \u001b[1m0s\u001b[0m 2ms/step - accuracy: 0.8668 - auc: 0.9362 - loss: 0.3708 - val_accuracy: 0.8135 - val_auc: 0.9058 - val_loss: 0.4591 - learning_rate: 0.0010\n",
      "Epoch 13/500\n",
      "\u001b[1m93/93\u001b[0m \u001b[32m━━━━━━━━━━━━━━━━━━━━\u001b[0m\u001b[37m\u001b[0m \u001b[1m0s\u001b[0m 2ms/step - accuracy: 0.8665 - auc: 0.9365 - loss: 0.3677 - val_accuracy: 0.8304 - val_auc: 0.9044 - val_loss: 0.4427 - learning_rate: 0.0010\n",
      "Epoch 14/500\n",
      "\u001b[1m93/93\u001b[0m \u001b[32m━━━━━━━━━━━━━━━━━━━━\u001b[0m\u001b[37m\u001b[0m \u001b[1m0s\u001b[0m 2ms/step - accuracy: 0.8717 - auc: 0.9442 - loss: 0.3470 - val_accuracy: 0.8331 - val_auc: 0.9071 - val_loss: 0.4376 - learning_rate: 0.0010\n",
      "Epoch 15/500\n",
      "\u001b[1m93/93\u001b[0m \u001b[32m━━━━━━━━━━━━━━━━━━━━\u001b[0m\u001b[37m\u001b[0m \u001b[1m0s\u001b[0m 2ms/step - accuracy: 0.8822 - auc: 0.9514 - loss: 0.3258 - val_accuracy: 0.8331 - val_auc: 0.9086 - val_loss: 0.4588 - learning_rate: 0.0010\n",
      "Epoch 16/500\n",
      "\u001b[1m93/93\u001b[0m \u001b[32m━━━━━━━━━━━━━━━━━━━━\u001b[0m\u001b[37m\u001b[0m \u001b[1m0s\u001b[0m 2ms/step - accuracy: 0.8849 - auc: 0.9518 - loss: 0.3235 - val_accuracy: 0.8318 - val_auc: 0.9140 - val_loss: 0.4382 - learning_rate: 0.0010\n",
      "Epoch 17/500\n",
      "\u001b[1m93/93\u001b[0m \u001b[32m━━━━━━━━━━━━━━━━━━━━\u001b[0m\u001b[37m\u001b[0m \u001b[1m0s\u001b[0m 2ms/step - accuracy: 0.8959 - auc: 0.9595 - loss: 0.2980 - val_accuracy: 0.8399 - val_auc: 0.9124 - val_loss: 0.4303 - learning_rate: 0.0010\n",
      "Epoch 18/500\n",
      "\u001b[1m93/93\u001b[0m \u001b[32m━━━━━━━━━━━━━━━━━━━━\u001b[0m\u001b[37m\u001b[0m \u001b[1m0s\u001b[0m 2ms/step - accuracy: 0.8908 - auc: 0.9571 - loss: 0.3065 - val_accuracy: 0.8608 - val_auc: 0.9174 - val_loss: 0.4219 - learning_rate: 0.0010\n",
      "Epoch 19/500\n",
      "\u001b[1m93/93\u001b[0m \u001b[32m━━━━━━━━━━━━━━━━━━━━\u001b[0m\u001b[37m\u001b[0m \u001b[1m0s\u001b[0m 2ms/step - accuracy: 0.8976 - auc: 0.9626 - loss: 0.2865 - val_accuracy: 0.8426 - val_auc: 0.9141 - val_loss: 0.4361 - learning_rate: 0.0010\n",
      "Epoch 20/500\n",
      "\u001b[1m93/93\u001b[0m \u001b[32m━━━━━━━━━━━━━━━━━━━━\u001b[0m\u001b[37m\u001b[0m \u001b[1m0s\u001b[0m 2ms/step - accuracy: 0.9015 - auc: 0.9651 - loss: 0.2777 - val_accuracy: 0.8520 - val_auc: 0.9135 - val_loss: 0.4274 - learning_rate: 0.0010\n",
      "Epoch 21/500\n",
      "\u001b[1m93/93\u001b[0m \u001b[32m━━━━━━━━━━━━━━━━━━━━\u001b[0m\u001b[37m\u001b[0m \u001b[1m0s\u001b[0m 2ms/step - accuracy: 0.9059 - auc: 0.9649 - loss: 0.2764 - val_accuracy: 0.8574 - val_auc: 0.9229 - val_loss: 0.4182 - learning_rate: 0.0010\n",
      "Epoch 22/500\n",
      "\u001b[1m93/93\u001b[0m \u001b[32m━━━━━━━━━━━━━━━━━━━━\u001b[0m\u001b[37m\u001b[0m \u001b[1m0s\u001b[0m 2ms/step - accuracy: 0.9011 - auc: 0.9611 - loss: 0.2871 - val_accuracy: 0.8419 - val_auc: 0.9216 - val_loss: 0.4139 - learning_rate: 0.0010\n",
      "Epoch 23/500\n",
      "\u001b[1m93/93\u001b[0m \u001b[32m━━━━━━━━━━━━━━━━━━━━\u001b[0m\u001b[37m\u001b[0m \u001b[1m0s\u001b[0m 2ms/step - accuracy: 0.9136 - auc: 0.9698 - loss: 0.2574 - val_accuracy: 0.8547 - val_auc: 0.9210 - val_loss: 0.4207 - learning_rate: 0.0010\n",
      "Epoch 24/500\n",
      "\u001b[1m93/93\u001b[0m \u001b[32m━━━━━━━━━━━━━━━━━━━━\u001b[0m\u001b[37m\u001b[0m \u001b[1m0s\u001b[0m 2ms/step - accuracy: 0.9114 - auc: 0.9656 - loss: 0.2706 - val_accuracy: 0.8574 - val_auc: 0.9257 - val_loss: 0.3944 - learning_rate: 0.0010\n",
      "Epoch 25/500\n",
      "\u001b[1m93/93\u001b[0m \u001b[32m━━━━━━━━━━━━━━━━━━━━\u001b[0m\u001b[37m\u001b[0m \u001b[1m0s\u001b[0m 2ms/step - accuracy: 0.9106 - auc: 0.9694 - loss: 0.2569 - val_accuracy: 0.8500 - val_auc: 0.9213 - val_loss: 0.4141 - learning_rate: 0.0010\n",
      "Epoch 26/500\n",
      "\u001b[1m93/93\u001b[0m \u001b[32m━━━━━━━━━━━━━━━━━━━━\u001b[0m\u001b[37m\u001b[0m \u001b[1m0s\u001b[0m 2ms/step - accuracy: 0.9060 - auc: 0.9655 - loss: 0.2696 - val_accuracy: 0.8486 - val_auc: 0.9182 - val_loss: 0.4305 - learning_rate: 0.0010\n",
      "Epoch 27/500\n",
      "\u001b[1m93/93\u001b[0m \u001b[32m━━━━━━━━━━━━━━━━━━━━\u001b[0m\u001b[37m\u001b[0m \u001b[1m0s\u001b[0m 2ms/step - accuracy: 0.9209 - auc: 0.9699 - loss: 0.2512 - val_accuracy: 0.8439 - val_auc: 0.9155 - val_loss: 0.4420 - learning_rate: 0.0010\n",
      "Epoch 28/500\n",
      "\u001b[1m93/93\u001b[0m \u001b[32m━━━━━━━━━━━━━━━━━━━━\u001b[0m\u001b[37m\u001b[0m \u001b[1m0s\u001b[0m 2ms/step - accuracy: 0.9187 - auc: 0.9716 - loss: 0.2462 - val_accuracy: 0.8547 - val_auc: 0.9190 - val_loss: 0.4149 - learning_rate: 0.0010\n",
      "Epoch 29/500\n",
      "\u001b[1m93/93\u001b[0m \u001b[32m━━━━━━━━━━━━━━━━━━━━\u001b[0m\u001b[37m\u001b[0m \u001b[1m0s\u001b[0m 2ms/step - accuracy: 0.9207 - auc: 0.9723 - loss: 0.2394 - val_accuracy: 0.8426 - val_auc: 0.9146 - val_loss: 0.4439 - learning_rate: 0.0010\n",
      "Epoch 30/500\n",
      "\u001b[1m93/93\u001b[0m \u001b[32m━━━━━━━━━━━━━━━━━━━━\u001b[0m\u001b[37m\u001b[0m \u001b[1m0s\u001b[0m 2ms/step - accuracy: 0.9148 - auc: 0.9705 - loss: 0.2462 - val_accuracy: 0.8595 - val_auc: 0.9231 - val_loss: 0.4176 - learning_rate: 0.0010\n",
      "Epoch 31/500\n",
      "\u001b[1m93/93\u001b[0m \u001b[32m━━━━━━━━━━━━━━━━━━━━\u001b[0m\u001b[37m\u001b[0m \u001b[1m0s\u001b[0m 2ms/step - accuracy: 0.9148 - auc: 0.9667 - loss: 0.2590 - val_accuracy: 0.8527 - val_auc: 0.9217 - val_loss: 0.4185 - learning_rate: 0.0010\n",
      "Epoch 32/500\n",
      "\u001b[1m93/93\u001b[0m \u001b[32m━━━━━━━━━━━━━━━━━━━━\u001b[0m\u001b[37m\u001b[0m \u001b[1m0s\u001b[0m 2ms/step - accuracy: 0.9168 - auc: 0.9690 - loss: 0.2502 - val_accuracy: 0.8541 - val_auc: 0.9166 - val_loss: 0.4136 - learning_rate: 0.0010\n",
      "Epoch 33/500\n",
      "\u001b[1m93/93\u001b[0m \u001b[32m━━━━━━━━━━━━━━━━━━━━\u001b[0m\u001b[37m\u001b[0m \u001b[1m0s\u001b[0m 2ms/step - accuracy: 0.9143 - auc: 0.9699 - loss: 0.2464 - val_accuracy: 0.8574 - val_auc: 0.9148 - val_loss: 0.4260 - learning_rate: 0.0010\n",
      "Epoch 34/500\n",
      "\u001b[1m93/93\u001b[0m \u001b[32m━━━━━━━━━━━━━━━━━━━━\u001b[0m\u001b[37m\u001b[0m \u001b[1m0s\u001b[0m 2ms/step - accuracy: 0.9141 - auc: 0.9700 - loss: 0.2463 - val_accuracy: 0.8514 - val_auc: 0.9233 - val_loss: 0.4179 - learning_rate: 0.0010\n",
      "Epoch 35/500\n",
      "\u001b[1m93/93\u001b[0m \u001b[32m━━━━━━━━━━━━━━━━━━━━\u001b[0m\u001b[37m\u001b[0m \u001b[1m0s\u001b[0m 2ms/step - accuracy: 0.9287 - auc: 0.9776 - loss: 0.2143 - val_accuracy: 0.8581 - val_auc: 0.9254 - val_loss: 0.4109 - learning_rate: 5.0000e-04\n",
      "Epoch 36/500\n",
      "\u001b[1m93/93\u001b[0m \u001b[32m━━━━━━━━━━━━━━━━━━━━\u001b[0m\u001b[37m\u001b[0m \u001b[1m0s\u001b[0m 2ms/step - accuracy: 0.9402 - auc: 0.9799 - loss: 0.2031 - val_accuracy: 0.8534 - val_auc: 0.9249 - val_loss: 0.4133 - learning_rate: 5.0000e-04\n",
      "Epoch 37/500\n",
      "\u001b[1m93/93\u001b[0m \u001b[32m━━━━━━━━━━━━━━━━━━━━\u001b[0m\u001b[37m\u001b[0m \u001b[1m0s\u001b[0m 2ms/step - accuracy: 0.9378 - auc: 0.9804 - loss: 0.1987 - val_accuracy: 0.8541 - val_auc: 0.9299 - val_loss: 0.4112 - learning_rate: 5.0000e-04\n",
      "Epoch 38/500\n",
      "\u001b[1m93/93\u001b[0m \u001b[32m━━━━━━━━━━━━━━━━━━━━\u001b[0m\u001b[37m\u001b[0m \u001b[1m0s\u001b[0m 2ms/step - accuracy: 0.9429 - auc: 0.9829 - loss: 0.1856 - val_accuracy: 0.8608 - val_auc: 0.9298 - val_loss: 0.3975 - learning_rate: 5.0000e-04\n",
      "Epoch 39/500\n",
      "\u001b[1m93/93\u001b[0m \u001b[32m━━━━━━━━━━━━━━━━━━━━\u001b[0m\u001b[37m\u001b[0m \u001b[1m0s\u001b[0m 2ms/step - accuracy: 0.9407 - auc: 0.9804 - loss: 0.1944 - val_accuracy: 0.8561 - val_auc: 0.9211 - val_loss: 0.4281 - learning_rate: 5.0000e-04\n",
      "Epoch 40/500\n",
      "\u001b[1m93/93\u001b[0m \u001b[32m━━━━━━━━━━━━━━━━━━━━\u001b[0m\u001b[37m\u001b[0m \u001b[1m0s\u001b[0m 2ms/step - accuracy: 0.9393 - auc: 0.9820 - loss: 0.1868 - val_accuracy: 0.8649 - val_auc: 0.9288 - val_loss: 0.4111 - learning_rate: 5.0000e-04\n",
      "Epoch 41/500\n",
      "\u001b[1m93/93\u001b[0m \u001b[32m━━━━━━━━━━━━━━━━━━━━\u001b[0m\u001b[37m\u001b[0m \u001b[1m0s\u001b[0m 2ms/step - accuracy: 0.9397 - auc: 0.9802 - loss: 0.1955 - val_accuracy: 0.8622 - val_auc: 0.9279 - val_loss: 0.4127 - learning_rate: 5.0000e-04\n",
      "Epoch 42/500\n",
      "\u001b[1m93/93\u001b[0m \u001b[32m━━━━━━━━━━━━━━━━━━━━\u001b[0m\u001b[37m\u001b[0m \u001b[1m0s\u001b[0m 2ms/step - accuracy: 0.9403 - auc: 0.9782 - loss: 0.1992 - val_accuracy: 0.8628 - val_auc: 0.9290 - val_loss: 0.4081 - learning_rate: 5.0000e-04\n",
      "Epoch 43/500\n",
      "\u001b[1m93/93\u001b[0m \u001b[32m━━━━━━━━━━━━━━━━━━━━\u001b[0m\u001b[37m\u001b[0m \u001b[1m0s\u001b[0m 2ms/step - accuracy: 0.9392 - auc: 0.9817 - loss: 0.1889 - val_accuracy: 0.8682 - val_auc: 0.9294 - val_loss: 0.4099 - learning_rate: 5.0000e-04\n",
      "Epoch 44/500\n",
      "\u001b[1m93/93\u001b[0m \u001b[32m━━━━━━━━━━━━━━━━━━━━\u001b[0m\u001b[37m\u001b[0m \u001b[1m0s\u001b[0m 2ms/step - accuracy: 0.9408 - auc: 0.9819 - loss: 0.1876 - val_accuracy: 0.8682 - val_auc: 0.9296 - val_loss: 0.3941 - learning_rate: 5.0000e-04\n",
      "Epoch 45/500\n",
      "\u001b[1m93/93\u001b[0m \u001b[32m━━━━━━━━━━━━━━━━━━━━\u001b[0m\u001b[37m\u001b[0m \u001b[1m0s\u001b[0m 2ms/step - accuracy: 0.9442 - auc: 0.9816 - loss: 0.1875 - val_accuracy: 0.8682 - val_auc: 0.9291 - val_loss: 0.4039 - learning_rate: 5.0000e-04\n",
      "Epoch 46/500\n",
      "\u001b[1m93/93\u001b[0m \u001b[32m━━━━━━━━━━━━━━━━━━━━\u001b[0m\u001b[37m\u001b[0m \u001b[1m0s\u001b[0m 2ms/step - accuracy: 0.9429 - auc: 0.9793 - loss: 0.1928 - val_accuracy: 0.8743 - val_auc: 0.9310 - val_loss: 0.3963 - learning_rate: 5.0000e-04\n",
      "Epoch 47/500\n",
      "\u001b[1m93/93\u001b[0m \u001b[32m━━━━━━━━━━━━━━━━━━━━\u001b[0m\u001b[37m\u001b[0m \u001b[1m0s\u001b[0m 2ms/step - accuracy: 0.9430 - auc: 0.9807 - loss: 0.1880 - val_accuracy: 0.8696 - val_auc: 0.9244 - val_loss: 0.4239 - learning_rate: 5.0000e-04\n",
      "Epoch 48/500\n",
      "\u001b[1m93/93\u001b[0m \u001b[32m━━━━━━━━━━━━━━━━━━━━\u001b[0m\u001b[37m\u001b[0m \u001b[1m0s\u001b[0m 2ms/step - accuracy: 0.9414 - auc: 0.9806 - loss: 0.1841 - val_accuracy: 0.8669 - val_auc: 0.9257 - val_loss: 0.4145 - learning_rate: 5.0000e-04\n",
      "Epoch 49/500\n",
      "\u001b[1m93/93\u001b[0m \u001b[32m━━━━━━━━━━━━━━━━━━━━\u001b[0m\u001b[37m\u001b[0m \u001b[1m0s\u001b[0m 2ms/step - accuracy: 0.9414 - auc: 0.9819 - loss: 0.1832 - val_accuracy: 0.8601 - val_auc: 0.9269 - val_loss: 0.4223 - learning_rate: 5.0000e-04\n",
      "Epoch 50/500\n",
      "\u001b[1m93/93\u001b[0m \u001b[32m━━━━━━━━━━━━━━━━━━━━\u001b[0m\u001b[37m\u001b[0m \u001b[1m0s\u001b[0m 2ms/step - accuracy: 0.9412 - auc: 0.9818 - loss: 0.1847 - val_accuracy: 0.8622 - val_auc: 0.9229 - val_loss: 0.4341 - learning_rate: 5.0000e-04\n",
      "Epoch 51/500\n",
      "\u001b[1m93/93\u001b[0m \u001b[32m━━━━━━━━━━━━━━━━━━━━\u001b[0m\u001b[37m\u001b[0m \u001b[1m0s\u001b[0m 2ms/step - accuracy: 0.9395 - auc: 0.9810 - loss: 0.1890 - val_accuracy: 0.8642 - val_auc: 0.9228 - val_loss: 0.4382 - learning_rate: 5.0000e-04\n",
      "Epoch 52/500\n",
      "\u001b[1m93/93\u001b[0m \u001b[32m━━━━━━━━━━━━━━━━━━━━\u001b[0m\u001b[37m\u001b[0m \u001b[1m0s\u001b[0m 2ms/step - accuracy: 0.9429 - auc: 0.9822 - loss: 0.1795 - val_accuracy: 0.8628 - val_auc: 0.9237 - val_loss: 0.4331 - learning_rate: 5.0000e-04\n",
      "Epoch 53/500\n",
      "\u001b[1m93/93\u001b[0m \u001b[32m━━━━━━━━━━━━━━━━━━━━\u001b[0m\u001b[37m\u001b[0m \u001b[1m0s\u001b[0m 2ms/step - accuracy: 0.9381 - auc: 0.9806 - loss: 0.1875 - val_accuracy: 0.8696 - val_auc: 0.9214 - val_loss: 0.4313 - learning_rate: 5.0000e-04\n",
      "Epoch 54/500\n",
      "\u001b[1m93/93\u001b[0m \u001b[32m━━━━━━━━━━━━━━━━━━━━\u001b[0m\u001b[37m\u001b[0m \u001b[1m0s\u001b[0m 2ms/step - accuracy: 0.9429 - auc: 0.9788 - loss: 0.1922 - val_accuracy: 0.8628 - val_auc: 0.9236 - val_loss: 0.4338 - learning_rate: 5.0000e-04\n",
      "Epoch 55/500\n",
      "\u001b[1m93/93\u001b[0m \u001b[32m━━━━━━━━━━━━━━━━━━━━\u001b[0m\u001b[37m\u001b[0m \u001b[1m0s\u001b[0m 2ms/step - accuracy: 0.9479 - auc: 0.9823 - loss: 0.1750 - val_accuracy: 0.8723 - val_auc: 0.9265 - val_loss: 0.4231 - learning_rate: 2.5000e-04\n",
      "Epoch 56/500\n",
      "\u001b[1m93/93\u001b[0m \u001b[32m━━━━━━━━━━━━━━━━━━━━\u001b[0m\u001b[37m\u001b[0m \u001b[1m0s\u001b[0m 2ms/step - accuracy: 0.9500 - auc: 0.9844 - loss: 0.1641 - val_accuracy: 0.8703 - val_auc: 0.9294 - val_loss: 0.4116 - learning_rate: 2.5000e-04\n",
      "Epoch 57/500\n",
      "\u001b[1m93/93\u001b[0m \u001b[32m━━━━━━━━━━━━━━━━━━━━\u001b[0m\u001b[37m\u001b[0m \u001b[1m0s\u001b[0m 2ms/step - accuracy: 0.9501 - auc: 0.9848 - loss: 0.1642 - val_accuracy: 0.8669 - val_auc: 0.9253 - val_loss: 0.4263 - learning_rate: 2.5000e-04\n",
      "Epoch 58/500\n",
      "\u001b[1m93/93\u001b[0m \u001b[32m━━━━━━━━━━━━━━━━━━━━\u001b[0m\u001b[37m\u001b[0m \u001b[1m0s\u001b[0m 2ms/step - accuracy: 0.9515 - auc: 0.9832 - loss: 0.1677 - val_accuracy: 0.8615 - val_auc: 0.9290 - val_loss: 0.4189 - learning_rate: 2.5000e-04\n",
      "Epoch 59/500\n",
      "\u001b[1m93/93\u001b[0m \u001b[32m━━━━━━━━━━━━━━━━━━━━\u001b[0m\u001b[37m\u001b[0m \u001b[1m0s\u001b[0m 2ms/step - accuracy: 0.9552 - auc: 0.9861 - loss: 0.1548 - val_accuracy: 0.8615 - val_auc: 0.9271 - val_loss: 0.4332 - learning_rate: 2.5000e-04\n",
      "Epoch 60/500\n",
      "\u001b[1m93/93\u001b[0m \u001b[32m━━━━━━━━━━━━━━━━━━━━\u001b[0m\u001b[37m\u001b[0m \u001b[1m0s\u001b[0m 2ms/step - accuracy: 0.9561 - auc: 0.9847 - loss: 0.1584 - val_accuracy: 0.8696 - val_auc: 0.9275 - val_loss: 0.4278 - learning_rate: 2.5000e-04\n",
      "Epoch 61/500\n",
      "\u001b[1m93/93\u001b[0m \u001b[32m━━━━━━━━━━━━━━━━━━━━\u001b[0m\u001b[37m\u001b[0m \u001b[1m0s\u001b[0m 2ms/step - accuracy: 0.9584 - auc: 0.9868 - loss: 0.1500 - val_accuracy: 0.8662 - val_auc: 0.9273 - val_loss: 0.4362 - learning_rate: 2.5000e-04\n",
      "Epoch 62/500\n",
      "\u001b[1m93/93\u001b[0m \u001b[32m━━━━━━━━━━━━━━━━━━━━\u001b[0m\u001b[37m\u001b[0m \u001b[1m0s\u001b[0m 2ms/step - accuracy: 0.9562 - auc: 0.9851 - loss: 0.1554 - val_accuracy: 0.8622 - val_auc: 0.9240 - val_loss: 0.4436 - learning_rate: 2.5000e-04\n",
      "Epoch 63/500\n",
      "\u001b[1m93/93\u001b[0m \u001b[32m━━━━━━━━━━━━━━━━━━━━\u001b[0m\u001b[37m\u001b[0m \u001b[1m0s\u001b[0m 2ms/step - accuracy: 0.9605 - auc: 0.9869 - loss: 0.1480 - val_accuracy: 0.8669 - val_auc: 0.9238 - val_loss: 0.4361 - learning_rate: 2.5000e-04\n",
      "Epoch 64/500\n",
      "\u001b[1m93/93\u001b[0m \u001b[32m━━━━━━━━━━━━━━━━━━━━\u001b[0m\u001b[37m\u001b[0m \u001b[1m0s\u001b[0m 2ms/step - accuracy: 0.9530 - auc: 0.9846 - loss: 0.1618 - val_accuracy: 0.8682 - val_auc: 0.9235 - val_loss: 0.4491 - learning_rate: 2.5000e-04\n"
     ]
    }
   ],
   "source": [
    "history = model.fit(\n",
    "    X_train,\n",
    "    y_train,\n",
    "    batch_size=64,\n",
    "    epochs=500, validation_split=0.2,\n",
    "    callbacks=[early_stop, reduce_lr],\n",
    "    \n",
    "    \n",
    ")"
   ]
  },
  {
   "cell_type": "code",
   "execution_count": 29,
   "id": "a384be76",
   "metadata": {},
   "outputs": [
    {
     "name": "stdout",
     "output_type": "stream",
     "text": [
      "\u001b[1m58/58\u001b[0m \u001b[32m━━━━━━━━━━━━━━━━━━━━\u001b[0m\u001b[37m\u001b[0m \u001b[1m0s\u001b[0m 1ms/step\n"
     ]
    }
   ],
   "source": [
    "y_prob=model.predict(X_test)"
   ]
  },
  {
   "cell_type": "code",
   "execution_count": 30,
   "id": "dc98f563",
   "metadata": {},
   "outputs": [
    {
     "name": "stdout",
     "output_type": "stream",
     "text": [
      "\u001b[1m58/58\u001b[0m \u001b[32m━━━━━━━━━━━━━━━━━━━━\u001b[0m\u001b[37m\u001b[0m \u001b[1m0s\u001b[0m 591us/step\n"
     ]
    }
   ],
   "source": [
    "y_pred=(model.predict(X_test) >= 0.23).astype(int)"
   ]
  },
  {
   "cell_type": "code",
   "execution_count": 31,
   "id": "c57f4f70",
   "metadata": {},
   "outputs": [
    {
     "data": {
      "text/plain": [
       "array([[1],\n",
       "       [1],\n",
       "       [1],\n",
       "       ...,\n",
       "       [0],\n",
       "       [1],\n",
       "       [1]])"
      ]
     },
     "execution_count": 31,
     "metadata": {},
     "output_type": "execute_result"
    }
   ],
   "source": [
    "y_pred"
   ]
  },
  {
   "cell_type": "code",
   "execution_count": 32,
   "id": "c950dcae",
   "metadata": {},
   "outputs": [],
   "source": [
    "import seaborn as sns"
   ]
  },
  {
   "cell_type": "code",
   "execution_count": null,
   "id": "8f8ac86a",
   "metadata": {},
   "outputs": [],
   "source": []
  },
  {
   "cell_type": "code",
   "execution_count": 33,
   "id": "748edab5",
   "metadata": {},
   "outputs": [
    {
     "name": "stdout",
     "output_type": "stream",
     "text": [
      "0.847027027027027\n",
      "Accuracy: 0.847027027027027\n",
      "Precision: 0.821743388834476\n",
      "Recall: 0.8925531914893617\n",
      "F1: 0.8556858745537991\n",
      "AUC-ROC: 0.8462765957446808\n"
     ]
    },
    {
     "data": {
      "text/plain": [
       "'              precision    recall  f1-score   support\\n\\n           0       0.88      0.80      0.84       910\\n           1       0.82      0.89      0.86       940\\n\\n    accuracy                           0.85      1850\\n   macro avg       0.85      0.85      0.85      1850\\nweighted avg       0.85      0.85      0.85      1850\\n'"
      ]
     },
     "execution_count": 33,
     "metadata": {},
     "output_type": "execute_result"
    },
    {
     "data": {
      "image/png": "[encoded data removed]",
      "text/plain": [
       "<Figure size 640x480 with 2 Axes>"
      ]
     },
     "metadata": {},
     "output_type": "display_data"
    }
   ],
   "source": [
    "from sklearn.metrics import accuracy_score\n",
    "from sklearn.metrics import classification_report\n",
    "from sklearn.model_selection import cross_validate\n",
    "import seaborn as sns\n",
    "\n",
    "print(accuracy_score(y_test, y_pred))\n",
    "from sklearn.metrics import confusion_matrix\n",
    "\n",
    "\n",
    "\n",
    "sns.heatmap(confusion_matrix(y_test, y_pred, normalize='true'), annot=True, \n",
    "            fmt='.2%', cmap='Blues');\n",
    "from sklearn.metrics import accuracy_score, precision_score, recall_score, f1_score, roc_auc_score\n",
    "print(\"Accuracy:\", accuracy_score(y_test, y_pred))\n",
    "print(\"Precision:\", precision_score(y_test, y_pred))\n",
    "\"\"\"print(\"cv\", cross_validate(model, X_train,y_train))\"\"\"\n",
    "\"\"\"print(\"train\", model.score(X_train,y_train))\n",
    "print(\"test\",model.score(X_test,y_test)\"\"\"\n",
    "print(\"Recall:\", recall_score(y_test, y_pred))\n",
    "print(\"F1:\", f1_score(y_test, y_pred))\n",
    "print(\"AUC-ROC:\", roc_auc_score(y_test, y_pred))\n",
    "classification_report(y_test, y_pred)"
   ]
  },
  {
   "cell_type": "code",
   "execution_count": 34,
   "id": "bb6ff631",
   "metadata": {},
   "outputs": [
    {
     "data": {
      "text/plain": [
       "array([[0.8       , 0.2       ],\n",
       "       [0.10744681, 0.89255319]])"
      ]
     },
     "execution_count": 34,
     "metadata": {},
     "output_type": "execute_result"
    }
   ],
   "source": [
    "confusion_matrix(y_test, y_pred, normalize='true')"
   ]
  },
  {
   "cell_type": "code",
   "execution_count": 35,
   "id": "b5fad6b1",
   "metadata": {},
   "outputs": [
    {
     "data": {
      "text/plain": [
       "'              precision    recall  f1-score   support\\n\\n           0       0.88      0.80      0.84       910\\n           1       0.82      0.89      0.86       940\\n\\n    accuracy                           0.85      1850\\n   macro avg       0.85      0.85      0.85      1850\\nweighted avg       0.85      0.85      0.85      1850\\n'"
      ]
     },
     "execution_count": 35,
     "metadata": {},
     "output_type": "execute_result"
    }
   ],
   "source": [
    "classification_report(y_test, y_pred, )"
   ]
  },
  {
   "cell_type": "code",
   "execution_count": 36,
   "id": "d98a2876",
   "metadata": {},
   "outputs": [
    {
     "name": "stdout",
     "output_type": "stream",
     "text": [
      "Mejor umbral (threshold) para F1: 0.5099999999999998\n",
      "Mejor F1 obtenido: 0.8677191072400653\n"
     ]
    }
   ],
   "source": [
    "import numpy as np\n",
    "thresholds = np.arange(.1, 1, 0.01)\n",
    "\n",
    "best_threshold = 0\n",
    "best_f1 = 0\n",
    "\n",
    "for t in thresholds:\n",
    "    # Convertir probabilidades en etiquetas según el threshold\n",
    "    y_pred_t =  (y_prob > t).astype(int)\n",
    "    ()\n",
    "    \n",
    "    # Calcular F1 para ese threshold\n",
    "    current_f1 = f1_score(y_test, y_pred_t)\n",
    "    \n",
    "    # Guardar si es mejor que el mejor hasta ahora\n",
    "    if current_f1 > best_f1:\n",
    "        best_f1 = current_f1\n",
    "        best_threshold = t\n",
    "\n",
    "print(f\"Mejor umbral (threshold) para F1: {best_threshold}\")\n",
    "print(f\"Mejor F1 obtenido: {best_f1}\")\n"
   ]
  },
  {
   "cell_type": "code",
   "execution_count": 37,
   "id": "704b5558",
   "metadata": {},
   "outputs": [
    {
     "name": "stdout",
     "output_type": "stream",
     "text": [
      "Mejor umbral (threshold) para F1: 0.5009999999999999\n",
      "Mejor F1 obtenido: 0.8681081081081081\n"
     ]
    }
   ],
   "source": [
    "import numpy as np\n",
    "thresholds = np.arange(.001, 1.01, 0.01)\n",
    "\n",
    "best_threshold = 0\n",
    "best_f1 = 0\n",
    "\n",
    "for t in thresholds:\n",
    "    # Convertir probabilidades en etiquetas según el threshold\n",
    "    y_pred_t =  (y_prob > t).astype(int)\n",
    "    ()\n",
    "    \n",
    "    # Calcular F1 para ese threshold\n",
    "    current_f1 = accuracy_score(y_test, y_pred_t)\n",
    "    \n",
    "    # Guardar si es mejor que el mejor hasta ahora\n",
    "    if current_f1 > best_f1:\n",
    "        best_f1 = current_f1\n",
    "        best_threshold = t\n",
    "\n",
    "print(f\"Mejor umbral (threshold) para F1: {best_threshold}\")\n",
    "print(f\"Mejor F1 obtenido: {best_f1}\")"
   ]
  },
  {
   "cell_type": "code",
   "execution_count": 38,
   "id": "cc0e705a",
   "metadata": {},
   "outputs": [
    {
     "ename": "SyntaxError",
     "evalue": "invalid syntax (1947214667.py, line 1)",
     "output_type": "error",
     "traceback": [
      "  \u001b[36mCell\u001b[39m\u001b[36m \u001b[39m\u001b[32mIn[38]\u001b[39m\u001b[32m, line 1\u001b[39m\n\u001b[31m    \u001b[39m\u001b[31m---\u001b[39m\n       ^\n\u001b[31mSyntaxError\u001b[39m\u001b[31m:\u001b[39m invalid syntax\n"
     ]
    }
   ],
   "source": [
    "---"
   ]
  },
  {
   "cell_type": "code",
   "execution_count": null,
   "id": "7143e2c8",
   "metadata": {},
   "outputs": [],
   "source": [
    "# Guardar en formato nativo de Keras\n",
    "os.chdir(\"../models\")\n",
    "model.save(\"modelo_dispute_red_vieja.keras\")"
   ]
  },
  {
   "cell_type": "code",
   "execution_count": null,
   "id": "13d14ba7",
   "metadata": {},
   "outputs": [
    {
     "data": {
      "text/plain": [
       "['preprocesador_red.pkl']"
      ]
     },
     "execution_count": 49,
     "metadata": {},
     "output_type": "execute_result"
    }
   ],
   "source": [
    "import joblib\n",
    "\n",
    "os.chdir(\"../src\")\n",
    "\n",
    "# Guardar el scaler entrenado\n",
    "joblib.dump(preprocessor, \"preprocesador_red.pkl\")"
   ]
  }
 ],
 "metadata": {
  "kernelspec": {
   "display_name": "projecto",
   "language": "python",
   "name": "python3"
  },
  "language_info": {
   "codemirror_mode": {
    "name": "ipython",
    "version": 3
   },
   "file_extension": ".py",
   "mimetype": "text/x-python",
   "name": "python",
   "nbconvert_exporter": "python",
   "pygments_lexer": "ipython3",
   "version": "3.12.3"
  }
 },
 "nbformat": 4,
 "nbformat_minor": 5
}
