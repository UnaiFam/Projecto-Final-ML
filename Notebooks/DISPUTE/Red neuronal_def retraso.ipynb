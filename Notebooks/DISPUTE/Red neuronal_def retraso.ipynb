{
 "cells": [
  {
   "cell_type": "code",
   "execution_count": 1,
   "id": "cff92a96",
   "metadata": {},
   "outputs": [
    {
     "name": "stderr",
     "output_type": "stream",
     "text": [
      "c:\\Users\\unaif\\anaconda3\\envs\\projecto\\Lib\\site-packages\\sklearn\\preprocessing\\_label.py:93: DataConversionWarning: A column-vector y was passed when a 1d array was expected. Please change the shape of y to (n_samples, ), for example using ravel().\n",
      "  y = column_or_1d(y, warn=True)\n",
      "c:\\Users\\unaif\\anaconda3\\envs\\projecto\\Lib\\site-packages\\sklearn\\preprocessing\\_label.py:93: DataConversionWarning: A column-vector y was passed when a 1d array was expected. Please change the shape of y to (n_samples, ), for example using ravel().\n",
      "  y = column_or_1d(y, warn=True)\n"
     ]
    }
   ],
   "source": [
    "import os\n",
    "os.chdir(\"..\")\n",
    "os.chdir(\"../src\")\n",
    "from tool_preprocess_onehot import state_df_zip, convert_to_str\n",
    "\n",
    "\n",
    "\n",
    "\n",
    "\n",
    "\n",
    "os.chdir(\"../data\")\n",
    "import pandas as pd\n",
    "df = pd.read_csv(\"quejas-clientes-limpio.csv\", low_memory=False)\n"
   ]
  },
  {
   "cell_type": "code",
   "execution_count": 2,
   "id": "97bd6048",
   "metadata": {},
   "outputs": [
    {
     "data": {
      "text/plain": [
       "'c:\\\\Users\\\\unaif\\\\OneDrive\\\\Documentos\\\\Documentos_Clase_Data\\\\PROYECTOS\\\\nombre_proyecto_final_ML\\\\Projecto-Final-ML\\\\data'"
      ]
     },
     "execution_count": 2,
     "metadata": {},
     "output_type": "execute_result"
    }
   ],
   "source": [
    "import os\n",
    "\n",
    "os.getcwd()"
   ]
  },
  {
   "cell_type": "code",
   "execution_count": 3,
   "id": "a6000971",
   "metadata": {},
   "outputs": [
    {
     "data": {
      "text/html": [
       "<div>\n",
       "<style scoped>\n",
       "    .dataframe tbody tr th:only-of-type {\n",
       "        vertical-align: middle;\n",
       "    }\n",
       "\n",
       "    .dataframe tbody tr th {\n",
       "        vertical-align: top;\n",
       "    }\n",
       "\n",
       "    .dataframe thead th {\n",
       "        text-align: right;\n",
       "    }\n",
       "</style>\n",
       "<table border=\"1\" class=\"dataframe\">\n",
       "  <thead>\n",
       "    <tr style=\"text-align: right;\">\n",
       "      <th></th>\n",
       "      <th>Complaint ID</th>\n",
       "      <th>Product</th>\n",
       "      <th>Sub-product</th>\n",
       "      <th>Issue</th>\n",
       "      <th>Sub-issue</th>\n",
       "      <th>State</th>\n",
       "      <th>ZIP code</th>\n",
       "      <th>Date received</th>\n",
       "      <th>Date sent to company</th>\n",
       "      <th>Company</th>\n",
       "      <th>Company response</th>\n",
       "      <th>Timely response?</th>\n",
       "      <th>Consumer disputed?</th>\n",
       "      <th>dias de retraso</th>\n",
       "      <th>weekday</th>\n",
       "    </tr>\n",
       "  </thead>\n",
       "  <tbody>\n",
       "    <tr>\n",
       "      <th>0</th>\n",
       "      <td>1291006</td>\n",
       "      <td>Debt collection</td>\n",
       "      <td>Unknown or not specified</td>\n",
       "      <td>Communication tactics</td>\n",
       "      <td>Frequent or repeated calls</td>\n",
       "      <td>TX</td>\n",
       "      <td>76119</td>\n",
       "      <td>2015-03-19</td>\n",
       "      <td>2015-03-19</td>\n",
       "      <td>Premium Asset Services, LLC</td>\n",
       "      <td>In progress</td>\n",
       "      <td>Yes</td>\n",
       "      <td>Unknown or not specified</td>\n",
       "      <td>0</td>\n",
       "      <td>Thursday</td>\n",
       "    </tr>\n",
       "    <tr>\n",
       "      <th>1</th>\n",
       "      <td>1290580</td>\n",
       "      <td>Debt collection</td>\n",
       "      <td>Medical</td>\n",
       "      <td>Cont'd attempts collect debt not owed</td>\n",
       "      <td>Debt is not mine</td>\n",
       "      <td>TX</td>\n",
       "      <td>77479</td>\n",
       "      <td>2015-03-19</td>\n",
       "      <td>2015-03-19</td>\n",
       "      <td>Accounts Receivable Consultants Inc.</td>\n",
       "      <td>Closed with explanation</td>\n",
       "      <td>Yes</td>\n",
       "      <td>Unknown or not specified</td>\n",
       "      <td>0</td>\n",
       "      <td>Thursday</td>\n",
       "    </tr>\n",
       "    <tr>\n",
       "      <th>2</th>\n",
       "      <td>1290564</td>\n",
       "      <td>Mortgage</td>\n",
       "      <td>FHA mortgage</td>\n",
       "      <td>Application, originator, mortgage broker</td>\n",
       "      <td>Unknown or not specified</td>\n",
       "      <td>MA</td>\n",
       "      <td>2127</td>\n",
       "      <td>2015-03-19</td>\n",
       "      <td>2015-03-19</td>\n",
       "      <td>RBS Citizens</td>\n",
       "      <td>Closed with explanation</td>\n",
       "      <td>Yes</td>\n",
       "      <td>Yes</td>\n",
       "      <td>0</td>\n",
       "      <td>Thursday</td>\n",
       "    </tr>\n",
       "    <tr>\n",
       "      <th>3</th>\n",
       "      <td>1291615</td>\n",
       "      <td>Credit card</td>\n",
       "      <td>Unknown or not specified</td>\n",
       "      <td>Other</td>\n",
       "      <td>Unknown or not specified</td>\n",
       "      <td>CA</td>\n",
       "      <td>92592</td>\n",
       "      <td>2015-03-19</td>\n",
       "      <td>2015-03-19</td>\n",
       "      <td>Navy FCU</td>\n",
       "      <td>In progress</td>\n",
       "      <td>Yes</td>\n",
       "      <td>Unknown or not specified</td>\n",
       "      <td>0</td>\n",
       "      <td>Thursday</td>\n",
       "    </tr>\n",
       "    <tr>\n",
       "      <th>4</th>\n",
       "      <td>1292165</td>\n",
       "      <td>Debt collection</td>\n",
       "      <td>Non-federal student loan</td>\n",
       "      <td>Cont'd attempts collect debt not owed</td>\n",
       "      <td>Debt resulted from identity theft</td>\n",
       "      <td>OH</td>\n",
       "      <td>43068</td>\n",
       "      <td>2015-03-19</td>\n",
       "      <td>2015-03-19</td>\n",
       "      <td>Transworld Systems Inc.</td>\n",
       "      <td>In progress</td>\n",
       "      <td>Yes</td>\n",
       "      <td>Unknown or not specified</td>\n",
       "      <td>0</td>\n",
       "      <td>Thursday</td>\n",
       "    </tr>\n",
       "    <tr>\n",
       "      <th>...</th>\n",
       "      <td>...</td>\n",
       "      <td>...</td>\n",
       "      <td>...</td>\n",
       "      <td>...</td>\n",
       "      <td>...</td>\n",
       "      <td>...</td>\n",
       "      <td>...</td>\n",
       "      <td>...</td>\n",
       "      <td>...</td>\n",
       "      <td>...</td>\n",
       "      <td>...</td>\n",
       "      <td>...</td>\n",
       "      <td>...</td>\n",
       "      <td>...</td>\n",
       "      <td>...</td>\n",
       "    </tr>\n",
       "    <tr>\n",
       "      <th>28151</th>\n",
       "      <td>1178184</td>\n",
       "      <td>Debt collection</td>\n",
       "      <td>Unknown or not specified</td>\n",
       "      <td>Cont'd attempts collect debt not owed</td>\n",
       "      <td>Debt is not mine</td>\n",
       "      <td>TX</td>\n",
       "      <td>75201</td>\n",
       "      <td>2015-01-01</td>\n",
       "      <td>2015-01-02</td>\n",
       "      <td>Enhanced Recovery Company, LLC</td>\n",
       "      <td>Closed with non-monetary relief</td>\n",
       "      <td>Yes</td>\n",
       "      <td>No</td>\n",
       "      <td>-1</td>\n",
       "      <td>Thursday</td>\n",
       "    </tr>\n",
       "    <tr>\n",
       "      <th>28152</th>\n",
       "      <td>1178183</td>\n",
       "      <td>Consumer loan</td>\n",
       "      <td>Vehicle loan</td>\n",
       "      <td>Taking out the loan or lease</td>\n",
       "      <td>Unknown or not specified</td>\n",
       "      <td>GA</td>\n",
       "      <td>30043</td>\n",
       "      <td>2015-01-01</td>\n",
       "      <td>2015-01-07</td>\n",
       "      <td>DriveTime</td>\n",
       "      <td>Closed with explanation</td>\n",
       "      <td>Yes</td>\n",
       "      <td>Unknown or not specified</td>\n",
       "      <td>-6</td>\n",
       "      <td>Thursday</td>\n",
       "    </tr>\n",
       "    <tr>\n",
       "      <th>28153</th>\n",
       "      <td>1178182</td>\n",
       "      <td>Mortgage</td>\n",
       "      <td>Conventional fixed mortgage</td>\n",
       "      <td>Loan servicing, payments, escrow account</td>\n",
       "      <td>Unknown or not specified</td>\n",
       "      <td>MN</td>\n",
       "      <td>55105</td>\n",
       "      <td>2015-01-01</td>\n",
       "      <td>2015-01-02</td>\n",
       "      <td>Regions</td>\n",
       "      <td>Closed with non-monetary relief</td>\n",
       "      <td>Yes</td>\n",
       "      <td>No</td>\n",
       "      <td>-1</td>\n",
       "      <td>Thursday</td>\n",
       "    </tr>\n",
       "    <tr>\n",
       "      <th>28154</th>\n",
       "      <td>1178181</td>\n",
       "      <td>Payday loan</td>\n",
       "      <td>Unknown or not specified</td>\n",
       "      <td>Can't stop charges to bank account</td>\n",
       "      <td>Unknown or not specified</td>\n",
       "      <td>CA</td>\n",
       "      <td>92509</td>\n",
       "      <td>2015-01-01</td>\n",
       "      <td>2015-01-07</td>\n",
       "      <td>Moneytree Inc</td>\n",
       "      <td>Closed with explanation</td>\n",
       "      <td>Yes</td>\n",
       "      <td>Unknown or not specified</td>\n",
       "      <td>-6</td>\n",
       "      <td>Thursday</td>\n",
       "    </tr>\n",
       "    <tr>\n",
       "      <th>28155</th>\n",
       "      <td>1178180</td>\n",
       "      <td>Money transfers</td>\n",
       "      <td>Domestic (US) money transfer</td>\n",
       "      <td>Other transaction issues</td>\n",
       "      <td>Unknown or not specified</td>\n",
       "      <td>OH</td>\n",
       "      <td>45068</td>\n",
       "      <td>2015-01-01</td>\n",
       "      <td>2015-01-02</td>\n",
       "      <td>PayPal</td>\n",
       "      <td>Closed with explanation</td>\n",
       "      <td>Yes</td>\n",
       "      <td>Yes</td>\n",
       "      <td>-1</td>\n",
       "      <td>Thursday</td>\n",
       "    </tr>\n",
       "  </tbody>\n",
       "</table>\n",
       "<p>28156 rows × 15 columns</p>\n",
       "</div>"
      ],
      "text/plain": [
       "       Complaint ID          Product                   Sub-product  \\\n",
       "0           1291006  Debt collection      Unknown or not specified   \n",
       "1           1290580  Debt collection                       Medical   \n",
       "2           1290564         Mortgage                  FHA mortgage   \n",
       "3           1291615      Credit card      Unknown or not specified   \n",
       "4           1292165  Debt collection      Non-federal student loan   \n",
       "...             ...              ...                           ...   \n",
       "28151       1178184  Debt collection      Unknown or not specified   \n",
       "28152       1178183    Consumer loan                  Vehicle loan   \n",
       "28153       1178182         Mortgage   Conventional fixed mortgage   \n",
       "28154       1178181      Payday loan      Unknown or not specified   \n",
       "28155       1178180  Money transfers  Domestic (US) money transfer   \n",
       "\n",
       "                                          Issue  \\\n",
       "0                         Communication tactics   \n",
       "1         Cont'd attempts collect debt not owed   \n",
       "2      Application, originator, mortgage broker   \n",
       "3                                         Other   \n",
       "4         Cont'd attempts collect debt not owed   \n",
       "...                                         ...   \n",
       "28151     Cont'd attempts collect debt not owed   \n",
       "28152              Taking out the loan or lease   \n",
       "28153  Loan servicing, payments, escrow account   \n",
       "28154        Can't stop charges to bank account   \n",
       "28155                  Other transaction issues   \n",
       "\n",
       "                               Sub-issue State  ZIP code Date received  \\\n",
       "0             Frequent or repeated calls    TX     76119    2015-03-19   \n",
       "1                       Debt is not mine    TX     77479    2015-03-19   \n",
       "2               Unknown or not specified    MA      2127    2015-03-19   \n",
       "3               Unknown or not specified    CA     92592    2015-03-19   \n",
       "4      Debt resulted from identity theft    OH     43068    2015-03-19   \n",
       "...                                  ...   ...       ...           ...   \n",
       "28151                   Debt is not mine    TX     75201    2015-01-01   \n",
       "28152           Unknown or not specified    GA     30043    2015-01-01   \n",
       "28153           Unknown or not specified    MN     55105    2015-01-01   \n",
       "28154           Unknown or not specified    CA     92509    2015-01-01   \n",
       "28155           Unknown or not specified    OH     45068    2015-01-01   \n",
       "\n",
       "      Date sent to company                               Company  \\\n",
       "0               2015-03-19           Premium Asset Services, LLC   \n",
       "1               2015-03-19  Accounts Receivable Consultants Inc.   \n",
       "2               2015-03-19                          RBS Citizens   \n",
       "3               2015-03-19                              Navy FCU   \n",
       "4               2015-03-19               Transworld Systems Inc.   \n",
       "...                    ...                                   ...   \n",
       "28151           2015-01-02        Enhanced Recovery Company, LLC   \n",
       "28152           2015-01-07                             DriveTime   \n",
       "28153           2015-01-02                               Regions   \n",
       "28154           2015-01-07                         Moneytree Inc   \n",
       "28155           2015-01-02                                PayPal   \n",
       "\n",
       "                      Company response Timely response?  \\\n",
       "0                          In progress              Yes   \n",
       "1              Closed with explanation              Yes   \n",
       "2              Closed with explanation              Yes   \n",
       "3                          In progress              Yes   \n",
       "4                          In progress              Yes   \n",
       "...                                ...              ...   \n",
       "28151  Closed with non-monetary relief              Yes   \n",
       "28152          Closed with explanation              Yes   \n",
       "28153  Closed with non-monetary relief              Yes   \n",
       "28154          Closed with explanation              Yes   \n",
       "28155          Closed with explanation              Yes   \n",
       "\n",
       "             Consumer disputed?  dias de retraso   weekday  \n",
       "0      Unknown or not specified                0  Thursday  \n",
       "1      Unknown or not specified                0  Thursday  \n",
       "2                           Yes                0  Thursday  \n",
       "3      Unknown or not specified                0  Thursday  \n",
       "4      Unknown or not specified                0  Thursday  \n",
       "...                         ...              ...       ...  \n",
       "28151                        No               -1  Thursday  \n",
       "28152  Unknown or not specified               -6  Thursday  \n",
       "28153                        No               -1  Thursday  \n",
       "28154  Unknown or not specified               -6  Thursday  \n",
       "28155                       Yes               -1  Thursday  \n",
       "\n",
       "[28156 rows x 15 columns]"
      ]
     },
     "execution_count": 3,
     "metadata": {},
     "output_type": "execute_result"
    }
   ],
   "source": [
    "df"
   ]
  },
  {
   "cell_type": "code",
   "execution_count": 4,
   "id": "aedefa8c",
   "metadata": {},
   "outputs": [],
   "source": [
    "df.fillna(\"Unknown or not specified\", inplace=True)"
   ]
  },
  {
   "cell_type": "code",
   "execution_count": 5,
   "id": "7006488b",
   "metadata": {},
   "outputs": [
    {
     "data": {
      "text/plain": [
       "array(['Unknown or not specified', 'Yes', 'No'], dtype=object)"
      ]
     },
     "execution_count": 5,
     "metadata": {},
     "output_type": "execute_result"
    }
   ],
   "source": [
    "df[\"Consumer disputed?\"].unique()"
   ]
  },
  {
   "cell_type": "code",
   "execution_count": null,
   "id": "8f727852",
   "metadata": {},
   "outputs": [],
   "source": []
  },
  {
   "cell_type": "code",
   "execution_count": 6,
   "id": "94079f0d",
   "metadata": {},
   "outputs": [],
   "source": [
    "df=df.drop(columns=[\"Date received\",\t\"Date sent to company\",  ])\n",
    "df=df[df[\"Company response\"]!=\"In progress\"]\n",
    "df=df[df[\"Consumer disputed?\"]!=\"Unknown or not specified\"]"
   ]
  },
  {
   "cell_type": "code",
   "execution_count": 7,
   "id": "7a87c66e",
   "metadata": {},
   "outputs": [
    {
     "data": {
      "text/html": [
       "<div>\n",
       "<style scoped>\n",
       "    .dataframe tbody tr th:only-of-type {\n",
       "        vertical-align: middle;\n",
       "    }\n",
       "\n",
       "    .dataframe tbody tr th {\n",
       "        vertical-align: top;\n",
       "    }\n",
       "\n",
       "    .dataframe thead th {\n",
       "        text-align: right;\n",
       "    }\n",
       "</style>\n",
       "<table border=\"1\" class=\"dataframe\">\n",
       "  <thead>\n",
       "    <tr style=\"text-align: right;\">\n",
       "      <th></th>\n",
       "      <th>Product</th>\n",
       "      <th>Sub-product</th>\n",
       "      <th>Issue</th>\n",
       "      <th>Sub-issue</th>\n",
       "      <th>State</th>\n",
       "      <th>Company</th>\n",
       "      <th>Company response</th>\n",
       "      <th>Timely response?</th>\n",
       "      <th>Consumer disputed?</th>\n",
       "      <th>dias de retraso</th>\n",
       "      <th>weekday</th>\n",
       "    </tr>\n",
       "  </thead>\n",
       "  <tbody>\n",
       "    <tr>\n",
       "      <th>2</th>\n",
       "      <td>Mortgage</td>\n",
       "      <td>FHA mortgage</td>\n",
       "      <td>Application, originator, mortgage broker</td>\n",
       "      <td>Unknown or not specified</td>\n",
       "      <td>MA</td>\n",
       "      <td>RBS Citizens</td>\n",
       "      <td>Closed with explanation</td>\n",
       "      <td>Yes</td>\n",
       "      <td>Yes</td>\n",
       "      <td>0</td>\n",
       "      <td>Thursday</td>\n",
       "    </tr>\n",
       "    <tr>\n",
       "      <th>6</th>\n",
       "      <td>Consumer loan</td>\n",
       "      <td>Installment loan</td>\n",
       "      <td>Managing the loan or lease</td>\n",
       "      <td>Unknown or not specified</td>\n",
       "      <td>OH</td>\n",
       "      <td>CashCall, Inc.</td>\n",
       "      <td>Closed with explanation</td>\n",
       "      <td>Yes</td>\n",
       "      <td>Yes</td>\n",
       "      <td>0</td>\n",
       "      <td>Wednesday</td>\n",
       "    </tr>\n",
       "    <tr>\n",
       "      <th>9</th>\n",
       "      <td>Debt collection</td>\n",
       "      <td>Payday loan</td>\n",
       "      <td>Taking/threatening an illegal action</td>\n",
       "      <td>Threatened arrest/jail if do not pay</td>\n",
       "      <td>TX</td>\n",
       "      <td>Cottonwood Financial Ltd.</td>\n",
       "      <td>Closed with explanation</td>\n",
       "      <td>Yes</td>\n",
       "      <td>Yes</td>\n",
       "      <td>0</td>\n",
       "      <td>Wednesday</td>\n",
       "    </tr>\n",
       "    <tr>\n",
       "      <th>14</th>\n",
       "      <td>Debt collection</td>\n",
       "      <td>Other (phone, health club, etc.)</td>\n",
       "      <td>Disclosure verification of debt</td>\n",
       "      <td>Not given enough info to verify debt</td>\n",
       "      <td>UT</td>\n",
       "      <td>Account Liquidation Services Inc.</td>\n",
       "      <td>Closed with non-monetary relief</td>\n",
       "      <td>Yes</td>\n",
       "      <td>Yes</td>\n",
       "      <td>0</td>\n",
       "      <td>Wednesday</td>\n",
       "    </tr>\n",
       "    <tr>\n",
       "      <th>22</th>\n",
       "      <td>Debt collection</td>\n",
       "      <td>Unknown or not specified</td>\n",
       "      <td>Improper contact or sharing of info</td>\n",
       "      <td>Contacted me after I asked not to</td>\n",
       "      <td>IL</td>\n",
       "      <td>Municipal Collections Services, Inc.</td>\n",
       "      <td>Closed with explanation</td>\n",
       "      <td>Yes</td>\n",
       "      <td>Yes</td>\n",
       "      <td>0</td>\n",
       "      <td>Wednesday</td>\n",
       "    </tr>\n",
       "    <tr>\n",
       "      <th>...</th>\n",
       "      <td>...</td>\n",
       "      <td>...</td>\n",
       "      <td>...</td>\n",
       "      <td>...</td>\n",
       "      <td>...</td>\n",
       "      <td>...</td>\n",
       "      <td>...</td>\n",
       "      <td>...</td>\n",
       "      <td>...</td>\n",
       "      <td>...</td>\n",
       "      <td>...</td>\n",
       "    </tr>\n",
       "    <tr>\n",
       "      <th>28149</th>\n",
       "      <td>Credit reporting</td>\n",
       "      <td>Unknown or not specified</td>\n",
       "      <td>Improper use of my credit report</td>\n",
       "      <td>Report improperly shared by CRC</td>\n",
       "      <td>MI</td>\n",
       "      <td>Experian</td>\n",
       "      <td>Closed with explanation</td>\n",
       "      <td>Yes</td>\n",
       "      <td>No</td>\n",
       "      <td>-6</td>\n",
       "      <td>Thursday</td>\n",
       "    </tr>\n",
       "    <tr>\n",
       "      <th>28150</th>\n",
       "      <td>Credit card</td>\n",
       "      <td>Unknown or not specified</td>\n",
       "      <td>Late fee</td>\n",
       "      <td>Unknown or not specified</td>\n",
       "      <td>AR</td>\n",
       "      <td>U.S. Bancorp</td>\n",
       "      <td>Closed with monetary relief</td>\n",
       "      <td>Yes</td>\n",
       "      <td>No</td>\n",
       "      <td>-1</td>\n",
       "      <td>Thursday</td>\n",
       "    </tr>\n",
       "    <tr>\n",
       "      <th>28151</th>\n",
       "      <td>Debt collection</td>\n",
       "      <td>Unknown or not specified</td>\n",
       "      <td>Cont'd attempts collect debt not owed</td>\n",
       "      <td>Debt is not mine</td>\n",
       "      <td>TX</td>\n",
       "      <td>Enhanced Recovery Company, LLC</td>\n",
       "      <td>Closed with non-monetary relief</td>\n",
       "      <td>Yes</td>\n",
       "      <td>No</td>\n",
       "      <td>-1</td>\n",
       "      <td>Thursday</td>\n",
       "    </tr>\n",
       "    <tr>\n",
       "      <th>28153</th>\n",
       "      <td>Mortgage</td>\n",
       "      <td>Conventional fixed mortgage</td>\n",
       "      <td>Loan servicing, payments, escrow account</td>\n",
       "      <td>Unknown or not specified</td>\n",
       "      <td>MN</td>\n",
       "      <td>Regions</td>\n",
       "      <td>Closed with non-monetary relief</td>\n",
       "      <td>Yes</td>\n",
       "      <td>No</td>\n",
       "      <td>-1</td>\n",
       "      <td>Thursday</td>\n",
       "    </tr>\n",
       "    <tr>\n",
       "      <th>28155</th>\n",
       "      <td>Money transfers</td>\n",
       "      <td>Domestic (US) money transfer</td>\n",
       "      <td>Other transaction issues</td>\n",
       "      <td>Unknown or not specified</td>\n",
       "      <td>OH</td>\n",
       "      <td>PayPal</td>\n",
       "      <td>Closed with explanation</td>\n",
       "      <td>Yes</td>\n",
       "      <td>Yes</td>\n",
       "      <td>-1</td>\n",
       "      <td>Thursday</td>\n",
       "    </tr>\n",
       "  </tbody>\n",
       "</table>\n",
       "<p>6006 rows × 11 columns</p>\n",
       "</div>"
      ],
      "text/plain": [
       "                Product                       Sub-product  \\\n",
       "2              Mortgage                      FHA mortgage   \n",
       "6         Consumer loan                  Installment loan   \n",
       "9       Debt collection                       Payday loan   \n",
       "14      Debt collection  Other (phone, health club, etc.)   \n",
       "22      Debt collection          Unknown or not specified   \n",
       "...                 ...                               ...   \n",
       "28149  Credit reporting          Unknown or not specified   \n",
       "28150       Credit card          Unknown or not specified   \n",
       "28151   Debt collection          Unknown or not specified   \n",
       "28153          Mortgage       Conventional fixed mortgage   \n",
       "28155   Money transfers      Domestic (US) money transfer   \n",
       "\n",
       "                                          Issue  \\\n",
       "2      Application, originator, mortgage broker   \n",
       "6                    Managing the loan or lease   \n",
       "9          Taking/threatening an illegal action   \n",
       "14              Disclosure verification of debt   \n",
       "22          Improper contact or sharing of info   \n",
       "...                                         ...   \n",
       "28149          Improper use of my credit report   \n",
       "28150                                  Late fee   \n",
       "28151     Cont'd attempts collect debt not owed   \n",
       "28153  Loan servicing, payments, escrow account   \n",
       "28155                  Other transaction issues   \n",
       "\n",
       "                                  Sub-issue State  \\\n",
       "2                  Unknown or not specified    MA   \n",
       "6                  Unknown or not specified    OH   \n",
       "9      Threatened arrest/jail if do not pay    TX   \n",
       "14     Not given enough info to verify debt    UT   \n",
       "22        Contacted me after I asked not to    IL   \n",
       "...                                     ...   ...   \n",
       "28149       Report improperly shared by CRC    MI   \n",
       "28150              Unknown or not specified    AR   \n",
       "28151                      Debt is not mine    TX   \n",
       "28153              Unknown or not specified    MN   \n",
       "28155              Unknown or not specified    OH   \n",
       "\n",
       "                                    Company                 Company response  \\\n",
       "2                              RBS Citizens          Closed with explanation   \n",
       "6                            CashCall, Inc.          Closed with explanation   \n",
       "9                 Cottonwood Financial Ltd.          Closed with explanation   \n",
       "14        Account Liquidation Services Inc.  Closed with non-monetary relief   \n",
       "22     Municipal Collections Services, Inc.          Closed with explanation   \n",
       "...                                     ...                              ...   \n",
       "28149                              Experian          Closed with explanation   \n",
       "28150                          U.S. Bancorp      Closed with monetary relief   \n",
       "28151        Enhanced Recovery Company, LLC  Closed with non-monetary relief   \n",
       "28153                               Regions  Closed with non-monetary relief   \n",
       "28155                                PayPal          Closed with explanation   \n",
       "\n",
       "      Timely response? Consumer disputed?  dias de retraso    weekday  \n",
       "2                  Yes                Yes                0   Thursday  \n",
       "6                  Yes                Yes                0  Wednesday  \n",
       "9                  Yes                Yes                0  Wednesday  \n",
       "14                 Yes                Yes                0  Wednesday  \n",
       "22                 Yes                Yes                0  Wednesday  \n",
       "...                ...                ...              ...        ...  \n",
       "28149              Yes                 No               -6   Thursday  \n",
       "28150              Yes                 No               -1   Thursday  \n",
       "28151              Yes                 No               -1   Thursday  \n",
       "28153              Yes                 No               -1   Thursday  \n",
       "28155              Yes                Yes               -1   Thursday  \n",
       "\n",
       "[6006 rows x 11 columns]"
      ]
     },
     "execution_count": 7,
     "metadata": {},
     "output_type": "execute_result"
    }
   ],
   "source": [
    "df.drop(columns=[\"Complaint ID\", \"ZIP code\"], inplace=True)\n",
    "df"
   ]
  },
  {
   "cell_type": "code",
   "execution_count": 8,
   "id": "8a22e72c",
   "metadata": {},
   "outputs": [
    {
     "name": "stdout",
     "output_type": "stream",
     "text": [
      "<class 'pandas.core.frame.DataFrame'>\n",
      "Index: 6006 entries, 2 to 28155\n",
      "Data columns (total 11 columns):\n",
      " #   Column              Non-Null Count  Dtype \n",
      "---  ------              --------------  ----- \n",
      " 0   Product             6006 non-null   object\n",
      " 1   Sub-product         6006 non-null   object\n",
      " 2   Issue               6006 non-null   object\n",
      " 3   Sub-issue           6006 non-null   object\n",
      " 4   State               6006 non-null   object\n",
      " 5   Company             6006 non-null   object\n",
      " 6   Company response    6006 non-null   object\n",
      " 7   Timely response?    6006 non-null   object\n",
      " 8   Consumer disputed?  6006 non-null   object\n",
      " 9   dias de retraso     6006 non-null   int64 \n",
      " 10  weekday             6006 non-null   object\n",
      "dtypes: int64(1), object(10)\n",
      "memory usage: 563.1+ KB\n"
     ]
    }
   ],
   "source": [
    "df.info()"
   ]
  },
  {
   "cell_type": "code",
   "execution_count": null,
   "id": "37640cea",
   "metadata": {},
   "outputs": [],
   "source": []
  },
  {
   "cell_type": "code",
   "execution_count": 9,
   "id": "530c2e41",
   "metadata": {},
   "outputs": [],
   "source": [
    "X=df.drop(columns=[\"Consumer disputed?\"])"
   ]
  },
  {
   "cell_type": "code",
   "execution_count": 10,
   "id": "3251b87c",
   "metadata": {},
   "outputs": [
    {
     "name": "stdout",
     "output_type": "stream",
     "text": [
      "<class 'pandas.core.frame.DataFrame'>\n",
      "Index: 6006 entries, 2 to 28155\n",
      "Data columns (total 10 columns):\n",
      " #   Column            Non-Null Count  Dtype \n",
      "---  ------            --------------  ----- \n",
      " 0   Product           6006 non-null   object\n",
      " 1   Sub-product       6006 non-null   object\n",
      " 2   Issue             6006 non-null   object\n",
      " 3   Sub-issue         6006 non-null   object\n",
      " 4   State             6006 non-null   object\n",
      " 5   Company           6006 non-null   object\n",
      " 6   Company response  6006 non-null   object\n",
      " 7   Timely response?  6006 non-null   object\n",
      " 8   dias de retraso   6006 non-null   int64 \n",
      " 9   weekday           6006 non-null   object\n",
      "dtypes: int64(1), object(9)\n",
      "memory usage: 516.1+ KB\n"
     ]
    }
   ],
   "source": [
    "X.info()"
   ]
  },
  {
   "cell_type": "code",
   "execution_count": 11,
   "id": "2b2dc271",
   "metadata": {},
   "outputs": [],
   "source": [
    "y=df['Consumer disputed?'].apply(lambda x: 1 if x == 'Yes' else 0)"
   ]
  },
  {
   "cell_type": "code",
   "execution_count": 12,
   "id": "15731e26",
   "metadata": {},
   "outputs": [
    {
     "data": {
      "text/plain": [
       "2        1\n",
       "6        1\n",
       "9        1\n",
       "14       1\n",
       "22       1\n",
       "        ..\n",
       "28149    0\n",
       "28150    0\n",
       "28151    0\n",
       "28153    0\n",
       "28155    1\n",
       "Name: Consumer disputed?, Length: 6006, dtype: int64"
      ]
     },
     "execution_count": 12,
     "metadata": {},
     "output_type": "execute_result"
    }
   ],
   "source": [
    "y"
   ]
  },
  {
   "cell_type": "code",
   "execution_count": 13,
   "id": "ace7c226",
   "metadata": {},
   "outputs": [
    {
     "data": {
      "text/plain": [
       "(6006, 11)"
      ]
     },
     "execution_count": 13,
     "metadata": {},
     "output_type": "execute_result"
    }
   ],
   "source": [
    "df.shape"
   ]
  },
  {
   "cell_type": "code",
   "execution_count": 14,
   "id": "74ddbff1",
   "metadata": {},
   "outputs": [],
   "source": [
    "import pandas as pd\n",
    "import numpy as np\n",
    "from sklearn.pipeline import Pipeline\n",
    "from sklearn.model_selection import train_test_split\n",
    "from sklearn.preprocessing import LabelEncoder, OneHotEncoder, StandardScaler\n",
    "from sklearn.impute import SimpleImputer\n",
    "from sklearn.compose import ColumnTransformer\n",
    "import tensorflow as tf\n",
    "from tensorflow import keras\n",
    "from scikeras.wrappers import KerasClassifier\n",
    "from imblearn.pipeline import  Pipeline\n",
    "from tensorflow.keras.callbacks import EarlyStopping, ReduceLROnPlateau\n",
    "# --- Asumiendo que ya tienes el DataFrame df cargado y limpiado de NaNs básicos ---\n",
    "\n",
    "# 1. Codificación binaria de la variable objetivo\n",
    "\n",
    "from imblearn.pipeline import Pipeline as ImbPipeline\n",
    "from imblearn.over_sampling import ADASYN"
   ]
  },
  {
   "cell_type": "code",
   "execution_count": 15,
   "id": "9a452ec4",
   "metadata": {},
   "outputs": [
    {
     "data": {
      "text/plain": [
       "2        0\n",
       "6        0\n",
       "9        0\n",
       "14       0\n",
       "22       0\n",
       "        ..\n",
       "28149   -6\n",
       "28150   -1\n",
       "28151   -1\n",
       "28153   -1\n",
       "28155   -1\n",
       "Name: dias de retraso, Length: 6006, dtype: int64"
      ]
     },
     "execution_count": 15,
     "metadata": {},
     "output_type": "execute_result"
    }
   ],
   "source": [
    "df[\"dias de retraso\"]"
   ]
  },
  {
   "cell_type": "code",
   "execution_count": 16,
   "id": "d093fea1",
   "metadata": {},
   "outputs": [
    {
     "data": {
      "text/plain": [
       "Index(['Product', 'Sub-product', 'Issue', 'Sub-issue', 'State', 'Company',\n",
       "       'Company response', 'Timely response?', 'dias de retraso', 'weekday'],\n",
       "      dtype='object')"
      ]
     },
     "execution_count": 16,
     "metadata": {},
     "output_type": "execute_result"
    }
   ],
   "source": [
    "X.columns"
   ]
  },
  {
   "cell_type": "code",
   "execution_count": 17,
   "id": "8e6a35d0",
   "metadata": {},
   "outputs": [],
   "source": [
    "categorical_features=['Product', 'Sub-product', 'Issue', 'Sub-issue', 'State',\n",
    "       'Company response', 'Timely response?', 'weekday', \"Company\"]\n",
    "\n",
    "\n"
   ]
  },
  {
   "cell_type": "code",
   "execution_count": 18,
   "id": "4a508388",
   "metadata": {},
   "outputs": [],
   "source": [
    "numerical_features=[\"dias de retraso\"]"
   ]
  },
  {
   "cell_type": "code",
   "execution_count": 19,
   "id": "1b82e624",
   "metadata": {},
   "outputs": [],
   "source": [
    "preprocessor = ColumnTransformer(\n",
    "    transformers=[\n",
    "        ('cat', OneHotEncoder(handle_unknown='ignore', sparse_output=False, feature_name_combiner='concat'), categorical_features), \n",
    "        (\"Num\", StandardScaler(), numerical_features)\n",
    "    ],\n",
    "\n",
    "    remainder='passthrough'  # deja pasar las numéricas sin tocar\n",
    ")"
   ]
  },
  {
   "cell_type": "code",
   "execution_count": 20,
   "id": "2c6ffd8c",
   "metadata": {},
   "outputs": [],
   "source": [
    "model_pipeline = ImbPipeline(steps=[\n",
    "    ('preprocessor', preprocessor),\n",
    "    ('oversampler', ADASYN(random_state=42)),\n",
    "\n",
    "])"
   ]
  },
  {
   "cell_type": "code",
   "execution_count": 21,
   "id": "a620541a",
   "metadata": {},
   "outputs": [
    {
     "data": {
      "text/plain": [
       "953"
      ]
     },
     "execution_count": 21,
     "metadata": {},
     "output_type": "execute_result"
    }
   ],
   "source": [
    "n_features=preprocessor.fit_transform(X).shape[1]\n",
    "n_features"
   ]
  },
  {
   "cell_type": "code",
   "execution_count": 22,
   "id": "d50b71d9",
   "metadata": {},
   "outputs": [
    {
     "data": {
      "text/plain": [
       "array([[ 0.        ,  0.        ,  0.        , ...,  0.        ,\n",
       "         0.        ,  0.10863143],\n",
       "       [ 0.        ,  1.        ,  0.        , ...,  0.        ,\n",
       "         0.        ,  0.10863143],\n",
       "       [ 0.        ,  0.        ,  0.        , ...,  0.        ,\n",
       "         0.        ,  0.10863143],\n",
       "       ...,\n",
       "       [ 0.        ,  0.        ,  0.        , ...,  0.        ,\n",
       "         0.        , -0.07417618],\n",
       "       [ 0.        ,  0.        ,  0.        , ...,  0.        ,\n",
       "         0.        , -0.07417618],\n",
       "       [ 0.        ,  0.        ,  0.        , ...,  0.        ,\n",
       "         0.        , -0.07417618]])"
      ]
     },
     "execution_count": 22,
     "metadata": {},
     "output_type": "execute_result"
    }
   ],
   "source": [
    "X_proceses=preprocessor.fit_transform(X)\n",
    "X_proceses"
   ]
  },
  {
   "cell_type": "code",
   "execution_count": 23,
   "id": "5f95cb93",
   "metadata": {},
   "outputs": [],
   "source": [
    "X_proceses, y=ADASYN(random_state=42).fit_resample(X_proceses, y)"
   ]
  },
  {
   "cell_type": "code",
   "execution_count": 24,
   "id": "2996fc7e",
   "metadata": {},
   "outputs": [],
   "source": [
    "\n",
    "\n",
    "\n",
    "X_train, X_test, y_train, y_test = train_test_split(X_proceses, y, test_size = 0.20, random_state = 42, shuffle=True)"
   ]
  },
  {
   "cell_type": "code",
   "execution_count": 25,
   "id": "b4b55dfc",
   "metadata": {},
   "outputs": [
    {
     "data": {
      "text/plain": [
       "array([[ 0.        ,  0.        ,  0.        , ...,  0.        ,\n",
       "         0.        , -0.4397914 ],\n",
       "       [ 0.        ,  0.        ,  0.        , ...,  0.        ,\n",
       "         0.        , -0.4397914 ],\n",
       "       [ 0.        ,  0.        ,  1.        , ...,  0.        ,\n",
       "         0.        , -0.02775442],\n",
       "       ...,\n",
       "       [ 0.        ,  0.        ,  0.        , ...,  0.        ,\n",
       "         0.        , -0.07417618],\n",
       "       [ 0.        ,  0.        ,  0.        , ...,  0.        ,\n",
       "         0.        ,  0.10863143],\n",
       "       [ 0.        ,  0.        ,  0.        , ...,  0.        ,\n",
       "         0.        ,  0.10863143]])"
      ]
     },
     "execution_count": 25,
     "metadata": {},
     "output_type": "execute_result"
    }
   ],
   "source": [
    "X_train"
   ]
  },
  {
   "cell_type": "code",
   "execution_count": 26,
   "id": "32df2f79",
   "metadata": {},
   "outputs": [
    {
     "data": {
      "text/plain": [
       "'model = keras.Sequential([\\n    keras.layers.Input(shape=(n_features,)),\\n    keras.layers.Dense(50, activation=\\'tanh\\'),\\n    keras.layers.Dense(50, activation=\\'relu\\'),\\n    keras.layers.Dense(1, activation=\"sigmoid\")   # 1 neurona + sigmoid\\n])'"
      ]
     },
     "execution_count": 26,
     "metadata": {},
     "output_type": "execute_result"
    }
   ],
   "source": [
    "\n",
    "\n",
    "\"\"\"model = keras.Sequential([\n",
    "    keras.layers.Input(shape=(n_features,)),\n",
    "    keras.layers.Dense(50, activation='tanh'),\n",
    "    keras.layers.Dense(50, activation='relu'),\n",
    "    keras.layers.Dense(1, activation=\"sigmoid\")   # 1 neurona + sigmoid\n",
    "])\"\"\""
   ]
  },
  {
   "cell_type": "code",
   "execution_count": 27,
   "id": "1084be4a",
   "metadata": {},
   "outputs": [],
   "source": [
    "model = keras.Sequential([\n",
    "    keras.layers.Input(shape=(n_features,)), # dice el numeor de entrada\n",
    "    keras.layers.Dense(256, activation='relu', kernel_regularizer=keras.regularizers.l2(0.001)), # mismo que la anterior pero decreciente\n",
    "    keras.layers.BatchNormalization(),# normaliza\n",
    "    keras.layers.Dropout(0.3),# Apaga aleatoriamente 30% de las neuronas durante el entrenamiento reduce sobreajuste\n",
    "\n",
    "\n",
    "    keras.layers.Dense(128, activation='relu', kernel_regularizer=keras.regularizers.l2(0.001)), # aprende de forma no lineal  y evita sobreajuste\n",
    "    keras.layers.BatchNormalization(), # normaliza la capa de salida, ayuda para que las capas aprnda de forma mas consistente\n",
    "    keras.layers.Dropout(0.3),# Apaga aleatoriamente 30% de las neuronas durante el entrenamiento reduce sobreajuste\n",
    "    keras.layers.Dense(64, activation='relu', kernel_regularizer=keras.regularizers.l2(0.001)), # mismo que la anterior pero decreciente\n",
    "    keras.layers.BatchNormalization(),# normaliza\n",
    "    keras.layers.Dropout(0.3),# Apaga aleatoriamente 30% de las neuronas durante el entrenamiento reduce sobreajuste\n",
    "\n",
    "    keras.layers.Dense(32, activation='relu', kernel_regularizer=keras.regularizers.l2(0.001)), # mismo que la anterior pero decreciente\n",
    "    keras.layers.BatchNormalization(),# normaliza\n",
    "    keras.layers.Dropout(0.3),# Apaga aleatoriamente 30% de las neuronas durante el entrenamiento reduce sobreajuste\n",
    "\n",
    "    keras.layers.Dense(1, activation=\"sigmoid\")\n",
    "])"
   ]
  },
  {
   "cell_type": "code",
   "execution_count": 28,
   "id": "39bef65d",
   "metadata": {},
   "outputs": [],
   "source": [
    "model.compile(\n",
    "    optimizer=tf.keras.optimizers.RMSprop(0.001),\n",
    "    loss=\"binary_crossentropy\",\n",
    "    metrics=[\n",
    "        \"accuracy\",\n",
    "        tf.keras.metrics.AUC(name=\"auc\", curve=\"ROC\"),  # AUC‑ROC\n",
    "  \n",
    "    ]\n",
    ")"
   ]
  },
  {
   "cell_type": "code",
   "execution_count": 29,
   "id": "3ed5487f",
   "metadata": {},
   "outputs": [],
   "source": [
    "early_stop = EarlyStopping(\n",
    "    monitor='val_loss',      # Observa la pérdida en validación\n",
    "    patience=20,             # Espera 20 épocas sin mejora antes de detener\n",
    "    restore_best_weights=True # Restaura los mejores pesos\n",
    ")\n",
    "\n",
    "reduce_lr = ReduceLROnPlateau(\n",
    "    monitor='val_loss',\n",
    "    factor=0.5,              # Reduce la tasa de aprendizaje a la mitad\n",
    "    patience=10,             # Si no mejora en 10 épocas\n",
    "    min_lr=1e-6\n",
    ")"
   ]
  },
  {
   "cell_type": "code",
   "execution_count": 30,
   "id": "baa9be52",
   "metadata": {},
   "outputs": [
    {
     "name": "stdout",
     "output_type": "stream",
     "text": [
      "Epoch 1/500\n",
      "\u001b[1m93/93\u001b[0m \u001b[32m━━━━━━━━━━━━━━━━━━━━\u001b[0m\u001b[37m\u001b[0m \u001b[1m3s\u001b[0m 8ms/step - accuracy: 0.5706 - auc: 0.5991 - loss: 1.3672 - val_accuracy: 0.5071 - val_auc: 0.6692 - val_loss: 1.2001 - learning_rate: 0.0010\n",
      "Epoch 2/500\n",
      "\u001b[1m93/93\u001b[0m \u001b[32m━━━━━━━━━━━━━━━━━━━━\u001b[0m\u001b[37m\u001b[0m \u001b[1m0s\u001b[0m 4ms/step - accuracy: 0.6303 - auc: 0.6876 - loss: 1.1113 - val_accuracy: 0.5084 - val_auc: 0.7265 - val_loss: 1.1286 - learning_rate: 0.0010\n",
      "Epoch 3/500\n",
      "\u001b[1m93/93\u001b[0m \u001b[32m━━━━━━━━━━━━━━━━━━━━\u001b[0m\u001b[37m\u001b[0m \u001b[1m0s\u001b[0m 4ms/step - accuracy: 0.6758 - auc: 0.7417 - loss: 0.9857 - val_accuracy: 0.5341 - val_auc: 0.7527 - val_loss: 1.0791 - learning_rate: 0.0010\n",
      "Epoch 4/500\n",
      "\u001b[1m93/93\u001b[0m \u001b[32m━━━━━━━━━━━━━━━━━━━━\u001b[0m\u001b[37m\u001b[0m \u001b[1m0s\u001b[0m 4ms/step - accuracy: 0.7332 - auc: 0.8023 - loss: 0.8842 - val_accuracy: 0.5563 - val_auc: 0.7982 - val_loss: 1.0694 - learning_rate: 0.0010\n",
      "Epoch 5/500\n",
      "\u001b[1m93/93\u001b[0m \u001b[32m━━━━━━━━━━━━━━━━━━━━\u001b[0m\u001b[37m\u001b[0m \u001b[1m0s\u001b[0m 4ms/step - accuracy: 0.7563 - auc: 0.8383 - loss: 0.8094 - val_accuracy: 0.5981 - val_auc: 0.8206 - val_loss: 1.0344 - learning_rate: 0.0010\n",
      "Epoch 6/500\n",
      "\u001b[1m93/93\u001b[0m \u001b[32m━━━━━━━━━━━━━━━━━━━━\u001b[0m\u001b[37m\u001b[0m \u001b[1m0s\u001b[0m 3ms/step - accuracy: 0.8114 - auc: 0.8840 - loss: 0.7192 - val_accuracy: 0.6534 - val_auc: 0.8518 - val_loss: 0.9659 - learning_rate: 0.0010\n",
      "Epoch 7/500\n",
      "\u001b[1m93/93\u001b[0m \u001b[32m━━━━━━━━━━━━━━━━━━━━\u001b[0m\u001b[37m\u001b[0m \u001b[1m0s\u001b[0m 4ms/step - accuracy: 0.8298 - auc: 0.9080 - loss: 0.6546 - val_accuracy: 0.7235 - val_auc: 0.8733 - val_loss: 0.8856 - learning_rate: 0.0010\n",
      "Epoch 8/500\n",
      "\u001b[1m93/93\u001b[0m \u001b[32m━━━━━━━━━━━━━━━━━━━━\u001b[0m\u001b[37m\u001b[0m \u001b[1m0s\u001b[0m 4ms/step - accuracy: 0.8570 - auc: 0.9303 - loss: 0.5851 - val_accuracy: 0.7060 - val_auc: 0.8845 - val_loss: 0.9449 - learning_rate: 0.0010\n",
      "Epoch 9/500\n",
      "\u001b[1m93/93\u001b[0m \u001b[32m━━━━━━━━━━━━━━━━━━━━\u001b[0m\u001b[37m\u001b[0m \u001b[1m0s\u001b[0m 3ms/step - accuracy: 0.8777 - auc: 0.9440 - loss: 0.5317 - val_accuracy: 0.7539 - val_auc: 0.8898 - val_loss: 0.8064 - learning_rate: 0.0010\n",
      "Epoch 10/500\n",
      "\u001b[1m93/93\u001b[0m \u001b[32m━━━━━━━━━━━━━━━━━━━━\u001b[0m\u001b[37m\u001b[0m \u001b[1m0s\u001b[0m 4ms/step - accuracy: 0.8848 - auc: 0.9518 - loss: 0.4944 - val_accuracy: 0.7788 - val_auc: 0.9012 - val_loss: 0.7744 - learning_rate: 0.0010\n",
      "Epoch 11/500\n",
      "\u001b[1m93/93\u001b[0m \u001b[32m━━━━━━━━━━━━━━━━━━━━\u001b[0m\u001b[37m\u001b[0m \u001b[1m0s\u001b[0m 4ms/step - accuracy: 0.8958 - auc: 0.9586 - loss: 0.4579 - val_accuracy: 0.8139 - val_auc: 0.9144 - val_loss: 0.6643 - learning_rate: 0.0010\n",
      "Epoch 12/500\n",
      "\u001b[1m93/93\u001b[0m \u001b[32m━━━━━━━━━━━━━━━━━━━━\u001b[0m\u001b[37m\u001b[0m \u001b[1m0s\u001b[0m 4ms/step - accuracy: 0.8971 - auc: 0.9627 - loss: 0.4301 - val_accuracy: 0.8031 - val_auc: 0.9099 - val_loss: 0.6894 - learning_rate: 0.0010\n",
      "Epoch 13/500\n",
      "\u001b[1m93/93\u001b[0m \u001b[32m━━━━━━━━━━━━━━━━━━━━\u001b[0m\u001b[37m\u001b[0m \u001b[1m0s\u001b[0m 4ms/step - accuracy: 0.9089 - auc: 0.9667 - loss: 0.4020 - val_accuracy: 0.8092 - val_auc: 0.9093 - val_loss: 0.6815 - learning_rate: 0.0010\n",
      "Epoch 14/500\n",
      "\u001b[1m93/93\u001b[0m \u001b[32m━━━━━━━━━━━━━━━━━━━━\u001b[0m\u001b[37m\u001b[0m \u001b[1m0s\u001b[0m 3ms/step - accuracy: 0.9170 - auc: 0.9716 - loss: 0.3726 - val_accuracy: 0.8233 - val_auc: 0.9201 - val_loss: 0.6114 - learning_rate: 0.0010\n",
      "Epoch 15/500\n",
      "\u001b[1m93/93\u001b[0m \u001b[32m━━━━━━━━━━━━━━━━━━━━\u001b[0m\u001b[37m\u001b[0m \u001b[1m0s\u001b[0m 3ms/step - accuracy: 0.9148 - auc: 0.9702 - loss: 0.3663 - val_accuracy: 0.8206 - val_auc: 0.9174 - val_loss: 0.6121 - learning_rate: 0.0010\n",
      "Epoch 16/500\n",
      "\u001b[1m93/93\u001b[0m \u001b[32m━━━━━━━━━━━━━━━━━━━━\u001b[0m\u001b[37m\u001b[0m \u001b[1m0s\u001b[0m 4ms/step - accuracy: 0.9238 - auc: 0.9737 - loss: 0.3412 - val_accuracy: 0.8294 - val_auc: 0.9197 - val_loss: 0.5828 - learning_rate: 0.0010\n",
      "Epoch 17/500\n",
      "\u001b[1m93/93\u001b[0m \u001b[32m━━━━━━━━━━━━━━━━━━━━\u001b[0m\u001b[37m\u001b[0m \u001b[1m0s\u001b[0m 3ms/step - accuracy: 0.9260 - auc: 0.9749 - loss: 0.3283 - val_accuracy: 0.8213 - val_auc: 0.9212 - val_loss: 0.6006 - learning_rate: 0.0010\n",
      "Epoch 18/500\n",
      "\u001b[1m93/93\u001b[0m \u001b[32m━━━━━━━━━━━━━━━━━━━━\u001b[0m\u001b[37m\u001b[0m \u001b[1m0s\u001b[0m 4ms/step - accuracy: 0.9258 - auc: 0.9750 - loss: 0.3211 - val_accuracy: 0.8294 - val_auc: 0.9199 - val_loss: 0.5608 - learning_rate: 0.0010\n",
      "Epoch 19/500\n",
      "\u001b[1m93/93\u001b[0m \u001b[32m━━━━━━━━━━━━━━━━━━━━\u001b[0m\u001b[37m\u001b[0m \u001b[1m0s\u001b[0m 4ms/step - accuracy: 0.9302 - auc: 0.9753 - loss: 0.3100 - val_accuracy: 0.8449 - val_auc: 0.9168 - val_loss: 0.5387 - learning_rate: 0.0010\n",
      "Epoch 20/500\n",
      "\u001b[1m93/93\u001b[0m \u001b[32m━━━━━━━━━━━━━━━━━━━━\u001b[0m\u001b[37m\u001b[0m \u001b[1m0s\u001b[0m 3ms/step - accuracy: 0.9258 - auc: 0.9776 - loss: 0.2990 - val_accuracy: 0.8409 - val_auc: 0.9200 - val_loss: 0.5405 - learning_rate: 0.0010\n",
      "Epoch 21/500\n",
      "\u001b[1m93/93\u001b[0m \u001b[32m━━━━━━━━━━━━━━━━━━━━\u001b[0m\u001b[37m\u001b[0m \u001b[1m0s\u001b[0m 4ms/step - accuracy: 0.9228 - auc: 0.9774 - loss: 0.2968 - val_accuracy: 0.8456 - val_auc: 0.9199 - val_loss: 0.4939 - learning_rate: 0.0010\n",
      "Epoch 22/500\n",
      "\u001b[1m93/93\u001b[0m \u001b[32m━━━━━━━━━━━━━━━━━━━━\u001b[0m\u001b[37m\u001b[0m \u001b[1m0s\u001b[0m 3ms/step - accuracy: 0.9281 - auc: 0.9801 - loss: 0.2783 - val_accuracy: 0.8449 - val_auc: 0.9188 - val_loss: 0.5236 - learning_rate: 0.0010\n",
      "Epoch 23/500\n",
      "\u001b[1m93/93\u001b[0m \u001b[32m━━━━━━━━━━━━━━━━━━━━\u001b[0m\u001b[37m\u001b[0m \u001b[1m0s\u001b[0m 3ms/step - accuracy: 0.9344 - auc: 0.9814 - loss: 0.2663 - val_accuracy: 0.8395 - val_auc: 0.9231 - val_loss: 0.5548 - learning_rate: 0.0010\n",
      "Epoch 24/500\n",
      "\u001b[1m93/93\u001b[0m \u001b[32m━━━━━━━━━━━━━━━━━━━━\u001b[0m\u001b[37m\u001b[0m \u001b[1m0s\u001b[0m 3ms/step - accuracy: 0.9352 - auc: 0.9815 - loss: 0.2615 - val_accuracy: 0.8503 - val_auc: 0.9245 - val_loss: 0.4943 - learning_rate: 0.0010\n",
      "Epoch 25/500\n",
      "\u001b[1m93/93\u001b[0m \u001b[32m━━━━━━━━━━━━━━━━━━━━\u001b[0m\u001b[37m\u001b[0m \u001b[1m0s\u001b[0m 3ms/step - accuracy: 0.9320 - auc: 0.9795 - loss: 0.2671 - val_accuracy: 0.8402 - val_auc: 0.9276 - val_loss: 0.5051 - learning_rate: 0.0010\n",
      "Epoch 26/500\n",
      "\u001b[1m93/93\u001b[0m \u001b[32m━━━━━━━━━━━━━━━━━━━━\u001b[0m\u001b[37m\u001b[0m \u001b[1m0s\u001b[0m 3ms/step - accuracy: 0.9329 - auc: 0.9790 - loss: 0.2665 - val_accuracy: 0.8476 - val_auc: 0.9279 - val_loss: 0.4804 - learning_rate: 0.0010\n",
      "Epoch 27/500\n",
      "\u001b[1m93/93\u001b[0m \u001b[32m━━━━━━━━━━━━━━━━━━━━\u001b[0m\u001b[37m\u001b[0m \u001b[1m0s\u001b[0m 4ms/step - accuracy: 0.9362 - auc: 0.9819 - loss: 0.2484 - val_accuracy: 0.8260 - val_auc: 0.9202 - val_loss: 0.5180 - learning_rate: 0.0010\n",
      "Epoch 28/500\n",
      "\u001b[1m93/93\u001b[0m \u001b[32m━━━━━━━━━━━━━━━━━━━━\u001b[0m\u001b[37m\u001b[0m \u001b[1m0s\u001b[0m 3ms/step - accuracy: 0.9347 - auc: 0.9796 - loss: 0.2554 - val_accuracy: 0.8557 - val_auc: 0.9214 - val_loss: 0.4854 - learning_rate: 0.0010\n",
      "Epoch 29/500\n",
      "\u001b[1m93/93\u001b[0m \u001b[32m━━━━━━━━━━━━━━━━━━━━\u001b[0m\u001b[37m\u001b[0m \u001b[1m0s\u001b[0m 3ms/step - accuracy: 0.9349 - auc: 0.9825 - loss: 0.2415 - val_accuracy: 0.8260 - val_auc: 0.9230 - val_loss: 0.5275 - learning_rate: 0.0010\n",
      "Epoch 30/500\n",
      "\u001b[1m93/93\u001b[0m \u001b[32m━━━━━━━━━━━━━━━━━━━━\u001b[0m\u001b[37m\u001b[0m \u001b[1m0s\u001b[0m 4ms/step - accuracy: 0.9415 - auc: 0.9831 - loss: 0.2336 - val_accuracy: 0.8341 - val_auc: 0.9159 - val_loss: 0.5190 - learning_rate: 0.0010\n",
      "Epoch 31/500\n",
      "\u001b[1m93/93\u001b[0m \u001b[32m━━━━━━━━━━━━━━━━━━━━\u001b[0m\u001b[37m\u001b[0m \u001b[1m0s\u001b[0m 4ms/step - accuracy: 0.9381 - auc: 0.9828 - loss: 0.2326 - val_accuracy: 0.8247 - val_auc: 0.9209 - val_loss: 0.5179 - learning_rate: 0.0010\n",
      "Epoch 32/500\n",
      "\u001b[1m93/93\u001b[0m \u001b[32m━━━━━━━━━━━━━━━━━━━━\u001b[0m\u001b[37m\u001b[0m \u001b[1m0s\u001b[0m 3ms/step - accuracy: 0.9470 - auc: 0.9844 - loss: 0.2220 - val_accuracy: 0.8463 - val_auc: 0.9217 - val_loss: 0.5058 - learning_rate: 0.0010\n",
      "Epoch 33/500\n",
      "\u001b[1m93/93\u001b[0m \u001b[32m━━━━━━━━━━━━━━━━━━━━\u001b[0m\u001b[37m\u001b[0m \u001b[1m0s\u001b[0m 3ms/step - accuracy: 0.9364 - auc: 0.9821 - loss: 0.2328 - val_accuracy: 0.8490 - val_auc: 0.9246 - val_loss: 0.4612 - learning_rate: 0.0010\n",
      "Epoch 34/500\n",
      "\u001b[1m93/93\u001b[0m \u001b[32m━━━━━━━━━━━━━━━━━━━━\u001b[0m\u001b[37m\u001b[0m \u001b[1m0s\u001b[0m 3ms/step - accuracy: 0.9376 - auc: 0.9807 - loss: 0.2344 - val_accuracy: 0.8422 - val_auc: 0.9253 - val_loss: 0.4601 - learning_rate: 0.0010\n",
      "Epoch 35/500\n",
      "\u001b[1m93/93\u001b[0m \u001b[32m━━━━━━━━━━━━━━━━━━━━\u001b[0m\u001b[37m\u001b[0m \u001b[1m0s\u001b[0m 3ms/step - accuracy: 0.9420 - auc: 0.9853 - loss: 0.2122 - val_accuracy: 0.8294 - val_auc: 0.9158 - val_loss: 0.5307 - learning_rate: 0.0010\n",
      "Epoch 36/500\n",
      "\u001b[1m93/93\u001b[0m \u001b[32m━━━━━━━━━━━━━━━━━━━━\u001b[0m\u001b[37m\u001b[0m \u001b[1m0s\u001b[0m 4ms/step - accuracy: 0.9395 - auc: 0.9830 - loss: 0.2236 - val_accuracy: 0.8436 - val_auc: 0.9272 - val_loss: 0.4945 - learning_rate: 0.0010\n",
      "Epoch 37/500\n",
      "\u001b[1m93/93\u001b[0m \u001b[32m━━━━━━━━━━━━━━━━━━━━\u001b[0m\u001b[37m\u001b[0m \u001b[1m0s\u001b[0m 3ms/step - accuracy: 0.9393 - auc: 0.9811 - loss: 0.2272 - val_accuracy: 0.8570 - val_auc: 0.9231 - val_loss: 0.4780 - learning_rate: 0.0010\n",
      "Epoch 38/500\n",
      "\u001b[1m93/93\u001b[0m \u001b[32m━━━━━━━━━━━━━━━━━━━━\u001b[0m\u001b[37m\u001b[0m \u001b[1m0s\u001b[0m 3ms/step - accuracy: 0.9427 - auc: 0.9840 - loss: 0.2146 - val_accuracy: 0.8436 - val_auc: 0.9270 - val_loss: 0.4743 - learning_rate: 0.0010\n",
      "Epoch 39/500\n",
      "\u001b[1m93/93\u001b[0m \u001b[32m━━━━━━━━━━━━━━━━━━━━\u001b[0m\u001b[37m\u001b[0m \u001b[1m0s\u001b[0m 3ms/step - accuracy: 0.9378 - auc: 0.9823 - loss: 0.2208 - val_accuracy: 0.8469 - val_auc: 0.9170 - val_loss: 0.4852 - learning_rate: 0.0010\n",
      "Epoch 40/500\n",
      "\u001b[1m93/93\u001b[0m \u001b[32m━━━━━━━━━━━━━━━━━━━━\u001b[0m\u001b[37m\u001b[0m \u001b[1m0s\u001b[0m 3ms/step - accuracy: 0.9386 - auc: 0.9820 - loss: 0.2206 - val_accuracy: 0.8523 - val_auc: 0.9265 - val_loss: 0.4632 - learning_rate: 0.0010\n",
      "Epoch 41/500\n",
      "\u001b[1m93/93\u001b[0m \u001b[32m━━━━━━━━━━━━━━━━━━━━\u001b[0m\u001b[37m\u001b[0m \u001b[1m0s\u001b[0m 4ms/step - accuracy: 0.9376 - auc: 0.9824 - loss: 0.2191 - val_accuracy: 0.8550 - val_auc: 0.9241 - val_loss: 0.4556 - learning_rate: 0.0010\n",
      "Epoch 42/500\n",
      "\u001b[1m93/93\u001b[0m \u001b[32m━━━━━━━━━━━━━━━━━━━━\u001b[0m\u001b[37m\u001b[0m \u001b[1m0s\u001b[0m 3ms/step - accuracy: 0.9342 - auc: 0.9793 - loss: 0.2304 - val_accuracy: 0.8517 - val_auc: 0.9232 - val_loss: 0.4511 - learning_rate: 0.0010\n",
      "Epoch 43/500\n",
      "\u001b[1m93/93\u001b[0m \u001b[32m━━━━━━━━━━━━━━━━━━━━\u001b[0m\u001b[37m\u001b[0m \u001b[1m0s\u001b[0m 3ms/step - accuracy: 0.9405 - auc: 0.9832 - loss: 0.2133 - val_accuracy: 0.8503 - val_auc: 0.9235 - val_loss: 0.4747 - learning_rate: 0.0010\n",
      "Epoch 44/500\n",
      "\u001b[1m93/93\u001b[0m \u001b[32m━━━━━━━━━━━━━━━━━━━━\u001b[0m\u001b[37m\u001b[0m \u001b[1m0s\u001b[0m 3ms/step - accuracy: 0.9381 - auc: 0.9822 - loss: 0.2152 - val_accuracy: 0.8328 - val_auc: 0.9213 - val_loss: 0.4966 - learning_rate: 0.0010\n",
      "Epoch 45/500\n",
      "\u001b[1m93/93\u001b[0m \u001b[32m━━━━━━━━━━━━━━━━━━━━\u001b[0m\u001b[37m\u001b[0m \u001b[1m0s\u001b[0m 3ms/step - accuracy: 0.9356 - auc: 0.9811 - loss: 0.2201 - val_accuracy: 0.8341 - val_auc: 0.9258 - val_loss: 0.4828 - learning_rate: 0.0010\n",
      "Epoch 46/500\n",
      "\u001b[1m93/93\u001b[0m \u001b[32m━━━━━━━━━━━━━━━━━━━━\u001b[0m\u001b[37m\u001b[0m \u001b[1m0s\u001b[0m 3ms/step - accuracy: 0.9398 - auc: 0.9829 - loss: 0.2122 - val_accuracy: 0.8422 - val_auc: 0.9209 - val_loss: 0.4897 - learning_rate: 0.0010\n",
      "Epoch 47/500\n",
      "\u001b[1m93/93\u001b[0m \u001b[32m━━━━━━━━━━━━━━━━━━━━\u001b[0m\u001b[37m\u001b[0m \u001b[1m0s\u001b[0m 3ms/step - accuracy: 0.9430 - auc: 0.9853 - loss: 0.2003 - val_accuracy: 0.8557 - val_auc: 0.9258 - val_loss: 0.4582 - learning_rate: 0.0010\n",
      "Epoch 48/500\n",
      "\u001b[1m93/93\u001b[0m \u001b[32m━━━━━━━━━━━━━━━━━━━━\u001b[0m\u001b[37m\u001b[0m \u001b[1m0s\u001b[0m 4ms/step - accuracy: 0.9430 - auc: 0.9847 - loss: 0.2005 - val_accuracy: 0.8476 - val_auc: 0.9228 - val_loss: 0.4780 - learning_rate: 0.0010\n",
      "Epoch 49/500\n",
      "\u001b[1m93/93\u001b[0m \u001b[32m━━━━━━━━━━━━━━━━━━━━\u001b[0m\u001b[37m\u001b[0m \u001b[1m0s\u001b[0m 3ms/step - accuracy: 0.9342 - auc: 0.9807 - loss: 0.2202 - val_accuracy: 0.8624 - val_auc: 0.9225 - val_loss: 0.4628 - learning_rate: 0.0010\n",
      "Epoch 50/500\n",
      "\u001b[1m93/93\u001b[0m \u001b[32m━━━━━━━━━━━━━━━━━━━━\u001b[0m\u001b[37m\u001b[0m \u001b[1m0s\u001b[0m 3ms/step - accuracy: 0.9415 - auc: 0.9820 - loss: 0.2089 - val_accuracy: 0.8476 - val_auc: 0.9252 - val_loss: 0.4711 - learning_rate: 0.0010\n",
      "Epoch 51/500\n",
      "\u001b[1m93/93\u001b[0m \u001b[32m━━━━━━━━━━━━━━━━━━━━\u001b[0m\u001b[37m\u001b[0m \u001b[1m0s\u001b[0m 4ms/step - accuracy: 0.9369 - auc: 0.9821 - loss: 0.2144 - val_accuracy: 0.8442 - val_auc: 0.9187 - val_loss: 0.4711 - learning_rate: 0.0010\n",
      "Epoch 52/500\n",
      "\u001b[1m93/93\u001b[0m \u001b[32m━━━━━━━━━━━━━━━━━━━━\u001b[0m\u001b[37m\u001b[0m \u001b[1m0s\u001b[0m 3ms/step - accuracy: 0.9388 - auc: 0.9830 - loss: 0.2098 - val_accuracy: 0.8402 - val_auc: 0.9218 - val_loss: 0.4845 - learning_rate: 0.0010\n",
      "Epoch 53/500\n",
      "\u001b[1m93/93\u001b[0m \u001b[32m━━━━━━━━━━━━━━━━━━━━\u001b[0m\u001b[37m\u001b[0m \u001b[1m0s\u001b[0m 3ms/step - accuracy: 0.9551 - auc: 0.9885 - loss: 0.1711 - val_accuracy: 0.8436 - val_auc: 0.9273 - val_loss: 0.5040 - learning_rate: 5.0000e-04\n",
      "Epoch 54/500\n",
      "\u001b[1m93/93\u001b[0m \u001b[32m━━━━━━━━━━━━━━━━━━━━\u001b[0m\u001b[37m\u001b[0m \u001b[1m0s\u001b[0m 3ms/step - accuracy: 0.9568 - auc: 0.9893 - loss: 0.1669 - val_accuracy: 0.8537 - val_auc: 0.9292 - val_loss: 0.4576 - learning_rate: 5.0000e-04\n",
      "Epoch 55/500\n",
      "\u001b[1m93/93\u001b[0m \u001b[32m━━━━━━━━━━━━━━━━━━━━\u001b[0m\u001b[37m\u001b[0m \u001b[1m0s\u001b[0m 4ms/step - accuracy: 0.9646 - auc: 0.9914 - loss: 0.1505 - val_accuracy: 0.8503 - val_auc: 0.9312 - val_loss: 0.4788 - learning_rate: 5.0000e-04\n",
      "Epoch 56/500\n",
      "\u001b[1m93/93\u001b[0m \u001b[32m━━━━━━━━━━━━━━━━━━━━\u001b[0m\u001b[37m\u001b[0m \u001b[1m0s\u001b[0m 3ms/step - accuracy: 0.9626 - auc: 0.9904 - loss: 0.1535 - val_accuracy: 0.8490 - val_auc: 0.9256 - val_loss: 0.5089 - learning_rate: 5.0000e-04\n",
      "Epoch 57/500\n",
      "\u001b[1m93/93\u001b[0m \u001b[32m━━━━━━━━━━━━━━━━━━━━\u001b[0m\u001b[37m\u001b[0m \u001b[1m0s\u001b[0m 3ms/step - accuracy: 0.9610 - auc: 0.9920 - loss: 0.1497 - val_accuracy: 0.8597 - val_auc: 0.9302 - val_loss: 0.4864 - learning_rate: 5.0000e-04\n",
      "Epoch 58/500\n",
      "\u001b[1m93/93\u001b[0m \u001b[32m━━━━━━━━━━━━━━━━━━━━\u001b[0m\u001b[37m\u001b[0m \u001b[1m0s\u001b[0m 3ms/step - accuracy: 0.9605 - auc: 0.9912 - loss: 0.1501 - val_accuracy: 0.8645 - val_auc: 0.9298 - val_loss: 0.4747 - learning_rate: 5.0000e-04\n",
      "Epoch 59/500\n",
      "\u001b[1m93/93\u001b[0m \u001b[32m━━━━━━━━━━━━━━━━━━━━\u001b[0m\u001b[37m\u001b[0m \u001b[1m0s\u001b[0m 3ms/step - accuracy: 0.9605 - auc: 0.9918 - loss: 0.1464 - val_accuracy: 0.8564 - val_auc: 0.9323 - val_loss: 0.4771 - learning_rate: 5.0000e-04\n",
      "Epoch 60/500\n",
      "\u001b[1m93/93\u001b[0m \u001b[32m━━━━━━━━━━━━━━━━━━━━\u001b[0m\u001b[37m\u001b[0m \u001b[1m0s\u001b[0m 3ms/step - accuracy: 0.9622 - auc: 0.9912 - loss: 0.1485 - val_accuracy: 0.8645 - val_auc: 0.9339 - val_loss: 0.4564 - learning_rate: 5.0000e-04\n",
      "Epoch 61/500\n",
      "\u001b[1m93/93\u001b[0m \u001b[32m━━━━━━━━━━━━━━━━━━━━\u001b[0m\u001b[37m\u001b[0m \u001b[1m0s\u001b[0m 3ms/step - accuracy: 0.9641 - auc: 0.9928 - loss: 0.1367 - val_accuracy: 0.8604 - val_auc: 0.9314 - val_loss: 0.4877 - learning_rate: 5.0000e-04\n",
      "Epoch 62/500\n",
      "\u001b[1m93/93\u001b[0m \u001b[32m━━━━━━━━━━━━━━━━━━━━\u001b[0m\u001b[37m\u001b[0m \u001b[1m0s\u001b[0m 3ms/step - accuracy: 0.9585 - auc: 0.9910 - loss: 0.1498 - val_accuracy: 0.8611 - val_auc: 0.9300 - val_loss: 0.4588 - learning_rate: 5.0000e-04\n"
     ]
    }
   ],
   "source": [
    "history = model.fit(\n",
    "    X_train,\n",
    "    y_train,\n",
    "    batch_size=64,\n",
    "    epochs=500, validation_split=0.2,\n",
    "    callbacks=[early_stop, reduce_lr],\n",
    "    \n",
    "    \n",
    ")"
   ]
  },
  {
   "cell_type": "code",
   "execution_count": 31,
   "id": "a384be76",
   "metadata": {},
   "outputs": [
    {
     "name": "stdout",
     "output_type": "stream",
     "text": [
      "\u001b[1m58/58\u001b[0m \u001b[32m━━━━━━━━━━━━━━━━━━━━\u001b[0m\u001b[37m\u001b[0m \u001b[1m0s\u001b[0m 2ms/step\n"
     ]
    }
   ],
   "source": [
    "y_prob=model.predict(X_test)"
   ]
  },
  {
   "cell_type": "code",
   "execution_count": 32,
   "id": "dc98f563",
   "metadata": {},
   "outputs": [
    {
     "name": "stdout",
     "output_type": "stream",
     "text": [
      "\u001b[1m58/58\u001b[0m \u001b[32m━━━━━━━━━━━━━━━━━━━━\u001b[0m\u001b[37m\u001b[0m \u001b[1m0s\u001b[0m 830us/step\n"
     ]
    }
   ],
   "source": [
    "y_pred=(model.predict(X_test) >= 0.5).astype(int)"
   ]
  },
  {
   "cell_type": "code",
   "execution_count": 33,
   "id": "c57f4f70",
   "metadata": {},
   "outputs": [
    {
     "data": {
      "text/plain": [
       "array([[0],\n",
       "       [0],\n",
       "       [1],\n",
       "       ...,\n",
       "       [0],\n",
       "       [1],\n",
       "       [1]])"
      ]
     },
     "execution_count": 33,
     "metadata": {},
     "output_type": "execute_result"
    }
   ],
   "source": [
    "y_pred"
   ]
  },
  {
   "cell_type": "code",
   "execution_count": 34,
   "id": "c950dcae",
   "metadata": {},
   "outputs": [],
   "source": [
    "import seaborn as sns"
   ]
  },
  {
   "cell_type": "code",
   "execution_count": null,
   "id": "8f8ac86a",
   "metadata": {},
   "outputs": [],
   "source": []
  },
  {
   "cell_type": "code",
   "execution_count": 35,
   "id": "748edab5",
   "metadata": {},
   "outputs": [
    {
     "name": "stdout",
     "output_type": "stream",
     "text": [
      "0.8348623853211009\n",
      "Accuracy: 0.8348623853211009\n",
      "Precision: 0.857630979498861\n",
      "Recall: 0.8062098501070664\n",
      "F1: 0.8311258278145696\n",
      "AUC-ROC: 0.8350962199392786\n"
     ]
    },
    {
     "data": {
      "text/plain": [
       "'              precision    recall  f1-score   support\\n\\n           0       0.81      0.86      0.84       919\\n           1       0.86      0.81      0.83       934\\n\\n    accuracy                           0.83      1853\\n   macro avg       0.84      0.84      0.83      1853\\nweighted avg       0.84      0.83      0.83      1853\\n'"
      ]
     },
     "execution_count": 35,
     "metadata": {},
     "output_type": "execute_result"
    },
    {
     "data": {
      "image/png": "[encoded data removed]",
      "text/plain": [
       "<Figure size 640x480 with 2 Axes>"
      ]
     },
     "metadata": {},
     "output_type": "display_data"
    }
   ],
   "source": [
    "from sklearn.metrics import accuracy_score\n",
    "from sklearn.metrics import classification_report\n",
    "from sklearn.model_selection import cross_validate\n",
    "import seaborn as sns\n",
    "\n",
    "print(accuracy_score(y_test, y_pred))\n",
    "from sklearn.metrics import confusion_matrix\n",
    "\n",
    "\n",
    "\n",
    "sns.heatmap(confusion_matrix(y_test, y_pred, normalize='true'), annot=True, \n",
    "            fmt='.2%', cmap='Blues');\n",
    "from sklearn.metrics import accuracy_score, precision_score, recall_score, f1_score, roc_auc_score\n",
    "print(\"Accuracy:\", accuracy_score(y_test, y_pred))\n",
    "print(\"Precision:\", precision_score(y_test, y_pred))\n",
    "\"\"\"print(\"cv\", cross_validate(model, X_train,y_train))\"\"\"\n",
    "\"\"\"print(\"train\", model.score(X_train,y_train))\n",
    "print(\"test\",model.score(X_test,y_test)\"\"\"\n",
    "print(\"Recall:\", recall_score(y_test, y_pred))\n",
    "print(\"F1:\", f1_score(y_test, y_pred))\n",
    "print(\"AUC-ROC:\", roc_auc_score(y_test, y_pred))\n",
    "classification_report(y_test, y_pred)"
   ]
  },
  {
   "cell_type": "code",
   "execution_count": 36,
   "id": "bb6ff631",
   "metadata": {},
   "outputs": [
    {
     "data": {
      "text/plain": [
       "array([[0.86398259, 0.13601741],\n",
       "       [0.19379015, 0.80620985]])"
      ]
     },
     "execution_count": 36,
     "metadata": {},
     "output_type": "execute_result"
    }
   ],
   "source": [
    "confusion_matrix(y_test, y_pred, normalize='true')"
   ]
  },
  {
   "cell_type": "code",
   "execution_count": 37,
   "id": "b5fad6b1",
   "metadata": {},
   "outputs": [
    {
     "data": {
      "text/plain": [
       "'              precision    recall  f1-score   support\\n\\n           0       0.81      0.86      0.84       919\\n           1       0.86      0.81      0.83       934\\n\\n    accuracy                           0.83      1853\\n   macro avg       0.84      0.84      0.83      1853\\nweighted avg       0.84      0.83      0.83      1853\\n'"
      ]
     },
     "execution_count": 37,
     "metadata": {},
     "output_type": "execute_result"
    }
   ],
   "source": [
    "classification_report(y_test, y_pred, )"
   ]
  },
  {
   "cell_type": "code",
   "execution_count": 38,
   "id": "509fa1eb",
   "metadata": {},
   "outputs": [
    {
     "name": "stdout",
     "output_type": "stream",
     "text": [
      "Mejor umbral (threshold) para F1: 0.2899999999999999\n",
      "Mejor F1 obtenido: 0.853696906135291\n"
     ]
    },
    {
     "data": {
      "text/plain": [
       "<Axes: xlabel='Threshold', ylabel='F1'>"
      ]
     },
     "execution_count": 38,
     "metadata": {},
     "output_type": "execute_result"
    },
    {
     "data": {
      "image/png": "[encoded data removed]",
      "text/plain": [
       "<Figure size 640x480 with 1 Axes>"
      ]
     },
     "metadata": {},
     "output_type": "display_data"
    }
   ],
   "source": [
    "import numpy as np\n",
    "import seaborn as sns\n",
    "from sklearn.metrics import f1_score, accuracy_score\n",
    "thresholds = np.arange(.1, 1, 0.01)\n",
    "\n",
    "best_threshold = 0\n",
    "best_f1 = 0\n",
    "lista={}\n",
    "for t in thresholds:\n",
    "    # Convertir probabilidades en etiquetas según el threshold\n",
    "    y_pred_t =  (y_prob > t).astype(int)\n",
    "    \n",
    "    \n",
    "    # Calcular F1 para ese threshold\n",
    "    current_f1 = f1_score(y_test, y_pred_t)\n",
    "    lista[t]=current_f1\n",
    "    # Guardar si es mejor que el mejor hasta ahora\n",
    "    if current_f1 > best_f1:\n",
    "        best_f1 = current_f1\n",
    "        best_threshold = t\n",
    "\n",
    "\n",
    "print(f\"Mejor umbral (threshold) para F1: {best_threshold}\")\n",
    "print(f\"Mejor F1 obtenido: {best_f1}\")\n",
    "sns.kdeplot(pd.DataFrame(list(lista.items()), columns=[\"Threshold\", \"F1\"]),  x=\"Threshold\", y=\"F1\", fill=True)\n"
   ]
  },
  {
   "cell_type": "code",
   "execution_count": 39,
   "id": "83a80be1",
   "metadata": {},
   "outputs": [
    {
     "name": "stdout",
     "output_type": "stream",
     "text": [
      "Mejor umbral (threshold) para F1: 0.2899999999999999\n",
      "Mejor F1 obtenido: 0.8494333513221802\n"
     ]
    },
    {
     "data": {
      "text/plain": [
       "<Axes: xlabel='Threshold', ylabel='Density'>"
      ]
     },
     "execution_count": 39,
     "metadata": {},
     "output_type": "execute_result"
    },
    {
     "data": {
      "image/png": "[encoded data removed]",
      "text/plain": [
       "<Figure size 640x480 with 1 Axes>"
      ]
     },
     "metadata": {},
     "output_type": "display_data"
    }
   ],
   "source": [
    "import numpy as np\n",
    "thresholds = np.arange(.1, 1, 0.01)\n",
    "\n",
    "best_threshold = 0\n",
    "best_f1 = 0\n",
    "lista={}\n",
    "for t in thresholds:\n",
    "    # Convertir probabilidades en etiquetas según el threshold\n",
    "    y_pred_t =  (y_prob > t).astype(int)\n",
    "    ()\n",
    "    \n",
    "    # Calcular F1 para ese threshold\n",
    "    current_f1 = accuracy_score(y_test, y_pred_t)\n",
    "    lista[t]=current_f1    \n",
    "    # Guardar si es mejor que el mejor hasta ahora\n",
    "    if current_f1 > best_f1:\n",
    "        best_f1 = current_f1\n",
    "        best_threshold = t\n",
    "\n",
    "print(f\"Mejor umbral (threshold) para F1: {best_threshold}\")\n",
    "print(f\"Mejor F1 obtenido: {best_f1}\")\n",
    "\n",
    "sns.kdeplot(pd.DataFrame(list(lista.items()), columns=[\"Threshold\", \"Accuracy\"]) , x=\"Threshold\" ,  fill=True)"
   ]
  },
  {
   "cell_type": "code",
   "execution_count": 40,
   "id": "85d13bca",
   "metadata": {},
   "outputs": [
    {
     "name": "stderr",
     "output_type": "stream",
     "text": [
      "c:\\Users\\unaif\\anaconda3\\envs\\projecto\\Lib\\site-packages\\tqdm\\auto.py:21: TqdmWarning: IProgress not found. Please update jupyter and ipywidgets. See https://ipywidgets.readthedocs.io/en/stable/user_install.html\n",
      "  from .autonotebook import tqdm as notebook_tqdm\n"
     ]
    }
   ],
   "source": [
    "import shap\n"
   ]
  },
  {
   "cell_type": "code",
   "execution_count": 41,
   "id": "d2c6a66c",
   "metadata": {},
   "outputs": [
    {
     "data": {
      "text/html": [
       "<div>\n",
       "<style scoped>\n",
       "    .dataframe tbody tr th:only-of-type {\n",
       "        vertical-align: middle;\n",
       "    }\n",
       "\n",
       "    .dataframe tbody tr th {\n",
       "        vertical-align: top;\n",
       "    }\n",
       "\n",
       "    .dataframe thead th {\n",
       "        text-align: right;\n",
       "    }\n",
       "</style>\n",
       "<table border=\"1\" class=\"dataframe\">\n",
       "  <thead>\n",
       "    <tr style=\"text-align: right;\">\n",
       "      <th></th>\n",
       "      <th>cat__Product_Bank account or service</th>\n",
       "      <th>cat__Product_Consumer loan</th>\n",
       "      <th>cat__Product_Credit card</th>\n",
       "      <th>cat__Product_Credit reporting</th>\n",
       "      <th>cat__Product_Debt collection</th>\n",
       "      <th>cat__Product_Money transfers</th>\n",
       "      <th>cat__Product_Mortgage</th>\n",
       "      <th>cat__Product_Other financial service</th>\n",
       "      <th>cat__Product_Payday loan</th>\n",
       "      <th>cat__Product_Prepaid card</th>\n",
       "      <th>...</th>\n",
       "      <th>cat__Company_Williams &amp; Fudge, Inc</th>\n",
       "      <th>cat__Company_Windham Professionals</th>\n",
       "      <th>cat__Company_World Acceptance Corporation</th>\n",
       "      <th>cat__Company_Xoom</th>\n",
       "      <th>cat__Company_ZOA, LLC</th>\n",
       "      <th>cat__Company_Zarvad III S.A.</th>\n",
       "      <th>cat__Company_ZestFinance</th>\n",
       "      <th>cat__Company_Zions Bancorporation</th>\n",
       "      <th>cat__Company_Zwicker &amp; Associates</th>\n",
       "      <th>Num__dias de retraso</th>\n",
       "    </tr>\n",
       "  </thead>\n",
       "  <tbody>\n",
       "    <tr>\n",
       "      <th>0</th>\n",
       "      <td>0.0</td>\n",
       "      <td>0.0</td>\n",
       "      <td>0.0</td>\n",
       "      <td>1.0</td>\n",
       "      <td>0.0</td>\n",
       "      <td>0.0</td>\n",
       "      <td>0.0</td>\n",
       "      <td>0.0</td>\n",
       "      <td>0.0</td>\n",
       "      <td>0.0</td>\n",
       "      <td>...</td>\n",
       "      <td>0.0</td>\n",
       "      <td>0.0</td>\n",
       "      <td>0.0</td>\n",
       "      <td>0.0</td>\n",
       "      <td>0.0</td>\n",
       "      <td>0.0</td>\n",
       "      <td>0.0</td>\n",
       "      <td>0.0</td>\n",
       "      <td>0.0</td>\n",
       "      <td>0.108631</td>\n",
       "    </tr>\n",
       "    <tr>\n",
       "      <th>1</th>\n",
       "      <td>0.0</td>\n",
       "      <td>0.0</td>\n",
       "      <td>0.0</td>\n",
       "      <td>0.0</td>\n",
       "      <td>1.0</td>\n",
       "      <td>0.0</td>\n",
       "      <td>0.0</td>\n",
       "      <td>0.0</td>\n",
       "      <td>0.0</td>\n",
       "      <td>0.0</td>\n",
       "      <td>...</td>\n",
       "      <td>0.0</td>\n",
       "      <td>0.0</td>\n",
       "      <td>0.0</td>\n",
       "      <td>0.0</td>\n",
       "      <td>0.0</td>\n",
       "      <td>0.0</td>\n",
       "      <td>0.0</td>\n",
       "      <td>0.0</td>\n",
       "      <td>0.0</td>\n",
       "      <td>0.108631</td>\n",
       "    </tr>\n",
       "    <tr>\n",
       "      <th>2</th>\n",
       "      <td>0.0</td>\n",
       "      <td>0.0</td>\n",
       "      <td>0.0</td>\n",
       "      <td>0.0</td>\n",
       "      <td>1.0</td>\n",
       "      <td>0.0</td>\n",
       "      <td>0.0</td>\n",
       "      <td>0.0</td>\n",
       "      <td>0.0</td>\n",
       "      <td>0.0</td>\n",
       "      <td>...</td>\n",
       "      <td>0.0</td>\n",
       "      <td>0.0</td>\n",
       "      <td>0.0</td>\n",
       "      <td>0.0</td>\n",
       "      <td>0.0</td>\n",
       "      <td>0.0</td>\n",
       "      <td>0.0</td>\n",
       "      <td>0.0</td>\n",
       "      <td>0.0</td>\n",
       "      <td>0.108631</td>\n",
       "    </tr>\n",
       "    <tr>\n",
       "      <th>3</th>\n",
       "      <td>0.0</td>\n",
       "      <td>0.0</td>\n",
       "      <td>0.0</td>\n",
       "      <td>0.0</td>\n",
       "      <td>1.0</td>\n",
       "      <td>0.0</td>\n",
       "      <td>0.0</td>\n",
       "      <td>0.0</td>\n",
       "      <td>0.0</td>\n",
       "      <td>0.0</td>\n",
       "      <td>...</td>\n",
       "      <td>0.0</td>\n",
       "      <td>0.0</td>\n",
       "      <td>0.0</td>\n",
       "      <td>0.0</td>\n",
       "      <td>0.0</td>\n",
       "      <td>0.0</td>\n",
       "      <td>0.0</td>\n",
       "      <td>0.0</td>\n",
       "      <td>0.0</td>\n",
       "      <td>0.108631</td>\n",
       "    </tr>\n",
       "    <tr>\n",
       "      <th>4</th>\n",
       "      <td>0.0</td>\n",
       "      <td>0.0</td>\n",
       "      <td>0.0</td>\n",
       "      <td>1.0</td>\n",
       "      <td>0.0</td>\n",
       "      <td>0.0</td>\n",
       "      <td>0.0</td>\n",
       "      <td>0.0</td>\n",
       "      <td>0.0</td>\n",
       "      <td>0.0</td>\n",
       "      <td>...</td>\n",
       "      <td>0.0</td>\n",
       "      <td>0.0</td>\n",
       "      <td>0.0</td>\n",
       "      <td>0.0</td>\n",
       "      <td>0.0</td>\n",
       "      <td>0.0</td>\n",
       "      <td>0.0</td>\n",
       "      <td>0.0</td>\n",
       "      <td>0.0</td>\n",
       "      <td>0.108631</td>\n",
       "    </tr>\n",
       "    <tr>\n",
       "      <th>...</th>\n",
       "      <td>...</td>\n",
       "      <td>...</td>\n",
       "      <td>...</td>\n",
       "      <td>...</td>\n",
       "      <td>...</td>\n",
       "      <td>...</td>\n",
       "      <td>...</td>\n",
       "      <td>...</td>\n",
       "      <td>...</td>\n",
       "      <td>...</td>\n",
       "      <td>...</td>\n",
       "      <td>...</td>\n",
       "      <td>...</td>\n",
       "      <td>...</td>\n",
       "      <td>...</td>\n",
       "      <td>...</td>\n",
       "      <td>...</td>\n",
       "      <td>...</td>\n",
       "      <td>...</td>\n",
       "      <td>...</td>\n",
       "      <td>...</td>\n",
       "    </tr>\n",
       "    <tr>\n",
       "      <th>1848</th>\n",
       "      <td>0.0</td>\n",
       "      <td>0.0</td>\n",
       "      <td>0.0</td>\n",
       "      <td>0.0</td>\n",
       "      <td>1.0</td>\n",
       "      <td>0.0</td>\n",
       "      <td>0.0</td>\n",
       "      <td>0.0</td>\n",
       "      <td>0.0</td>\n",
       "      <td>0.0</td>\n",
       "      <td>...</td>\n",
       "      <td>0.0</td>\n",
       "      <td>0.0</td>\n",
       "      <td>0.0</td>\n",
       "      <td>0.0</td>\n",
       "      <td>0.0</td>\n",
       "      <td>0.0</td>\n",
       "      <td>0.0</td>\n",
       "      <td>0.0</td>\n",
       "      <td>0.0</td>\n",
       "      <td>-0.805407</td>\n",
       "    </tr>\n",
       "    <tr>\n",
       "      <th>1849</th>\n",
       "      <td>0.0</td>\n",
       "      <td>0.0</td>\n",
       "      <td>0.0</td>\n",
       "      <td>1.0</td>\n",
       "      <td>0.0</td>\n",
       "      <td>0.0</td>\n",
       "      <td>0.0</td>\n",
       "      <td>0.0</td>\n",
       "      <td>0.0</td>\n",
       "      <td>0.0</td>\n",
       "      <td>...</td>\n",
       "      <td>0.0</td>\n",
       "      <td>0.0</td>\n",
       "      <td>0.0</td>\n",
       "      <td>0.0</td>\n",
       "      <td>0.0</td>\n",
       "      <td>0.0</td>\n",
       "      <td>0.0</td>\n",
       "      <td>0.0</td>\n",
       "      <td>0.0</td>\n",
       "      <td>-0.164141</td>\n",
       "    </tr>\n",
       "    <tr>\n",
       "      <th>1850</th>\n",
       "      <td>0.0</td>\n",
       "      <td>0.0</td>\n",
       "      <td>1.0</td>\n",
       "      <td>0.0</td>\n",
       "      <td>0.0</td>\n",
       "      <td>0.0</td>\n",
       "      <td>0.0</td>\n",
       "      <td>0.0</td>\n",
       "      <td>0.0</td>\n",
       "      <td>0.0</td>\n",
       "      <td>...</td>\n",
       "      <td>0.0</td>\n",
       "      <td>0.0</td>\n",
       "      <td>0.0</td>\n",
       "      <td>0.0</td>\n",
       "      <td>0.0</td>\n",
       "      <td>0.0</td>\n",
       "      <td>0.0</td>\n",
       "      <td>0.0</td>\n",
       "      <td>0.0</td>\n",
       "      <td>-0.223039</td>\n",
       "    </tr>\n",
       "    <tr>\n",
       "      <th>1851</th>\n",
       "      <td>0.0</td>\n",
       "      <td>0.0</td>\n",
       "      <td>0.0</td>\n",
       "      <td>1.0</td>\n",
       "      <td>0.0</td>\n",
       "      <td>0.0</td>\n",
       "      <td>0.0</td>\n",
       "      <td>0.0</td>\n",
       "      <td>0.0</td>\n",
       "      <td>0.0</td>\n",
       "      <td>...</td>\n",
       "      <td>0.0</td>\n",
       "      <td>0.0</td>\n",
       "      <td>0.0</td>\n",
       "      <td>0.0</td>\n",
       "      <td>0.0</td>\n",
       "      <td>0.0</td>\n",
       "      <td>0.0</td>\n",
       "      <td>0.0</td>\n",
       "      <td>0.0</td>\n",
       "      <td>0.108631</td>\n",
       "    </tr>\n",
       "    <tr>\n",
       "      <th>1852</th>\n",
       "      <td>1.0</td>\n",
       "      <td>0.0</td>\n",
       "      <td>0.0</td>\n",
       "      <td>0.0</td>\n",
       "      <td>0.0</td>\n",
       "      <td>0.0</td>\n",
       "      <td>0.0</td>\n",
       "      <td>0.0</td>\n",
       "      <td>0.0</td>\n",
       "      <td>0.0</td>\n",
       "      <td>...</td>\n",
       "      <td>0.0</td>\n",
       "      <td>0.0</td>\n",
       "      <td>0.0</td>\n",
       "      <td>0.0</td>\n",
       "      <td>0.0</td>\n",
       "      <td>0.0</td>\n",
       "      <td>0.0</td>\n",
       "      <td>0.0</td>\n",
       "      <td>0.0</td>\n",
       "      <td>0.108631</td>\n",
       "    </tr>\n",
       "  </tbody>\n",
       "</table>\n",
       "<p>1853 rows × 953 columns</p>\n",
       "</div>"
      ],
      "text/plain": [
       "      cat__Product_Bank account or service  cat__Product_Consumer loan  \\\n",
       "0                                      0.0                         0.0   \n",
       "1                                      0.0                         0.0   \n",
       "2                                      0.0                         0.0   \n",
       "3                                      0.0                         0.0   \n",
       "4                                      0.0                         0.0   \n",
       "...                                    ...                         ...   \n",
       "1848                                   0.0                         0.0   \n",
       "1849                                   0.0                         0.0   \n",
       "1850                                   0.0                         0.0   \n",
       "1851                                   0.0                         0.0   \n",
       "1852                                   1.0                         0.0   \n",
       "\n",
       "      cat__Product_Credit card  cat__Product_Credit reporting  \\\n",
       "0                          0.0                            1.0   \n",
       "1                          0.0                            0.0   \n",
       "2                          0.0                            0.0   \n",
       "3                          0.0                            0.0   \n",
       "4                          0.0                            1.0   \n",
       "...                        ...                            ...   \n",
       "1848                       0.0                            0.0   \n",
       "1849                       0.0                            1.0   \n",
       "1850                       1.0                            0.0   \n",
       "1851                       0.0                            1.0   \n",
       "1852                       0.0                            0.0   \n",
       "\n",
       "      cat__Product_Debt collection  cat__Product_Money transfers  \\\n",
       "0                              0.0                           0.0   \n",
       "1                              1.0                           0.0   \n",
       "2                              1.0                           0.0   \n",
       "3                              1.0                           0.0   \n",
       "4                              0.0                           0.0   \n",
       "...                            ...                           ...   \n",
       "1848                           1.0                           0.0   \n",
       "1849                           0.0                           0.0   \n",
       "1850                           0.0                           0.0   \n",
       "1851                           0.0                           0.0   \n",
       "1852                           0.0                           0.0   \n",
       "\n",
       "      cat__Product_Mortgage  cat__Product_Other financial service  \\\n",
       "0                       0.0                                   0.0   \n",
       "1                       0.0                                   0.0   \n",
       "2                       0.0                                   0.0   \n",
       "3                       0.0                                   0.0   \n",
       "4                       0.0                                   0.0   \n",
       "...                     ...                                   ...   \n",
       "1848                    0.0                                   0.0   \n",
       "1849                    0.0                                   0.0   \n",
       "1850                    0.0                                   0.0   \n",
       "1851                    0.0                                   0.0   \n",
       "1852                    0.0                                   0.0   \n",
       "\n",
       "      cat__Product_Payday loan  cat__Product_Prepaid card  ...  \\\n",
       "0                          0.0                        0.0  ...   \n",
       "1                          0.0                        0.0  ...   \n",
       "2                          0.0                        0.0  ...   \n",
       "3                          0.0                        0.0  ...   \n",
       "4                          0.0                        0.0  ...   \n",
       "...                        ...                        ...  ...   \n",
       "1848                       0.0                        0.0  ...   \n",
       "1849                       0.0                        0.0  ...   \n",
       "1850                       0.0                        0.0  ...   \n",
       "1851                       0.0                        0.0  ...   \n",
       "1852                       0.0                        0.0  ...   \n",
       "\n",
       "      cat__Company_Williams & Fudge, Inc  cat__Company_Windham Professionals  \\\n",
       "0                                    0.0                                 0.0   \n",
       "1                                    0.0                                 0.0   \n",
       "2                                    0.0                                 0.0   \n",
       "3                                    0.0                                 0.0   \n",
       "4                                    0.0                                 0.0   \n",
       "...                                  ...                                 ...   \n",
       "1848                                 0.0                                 0.0   \n",
       "1849                                 0.0                                 0.0   \n",
       "1850                                 0.0                                 0.0   \n",
       "1851                                 0.0                                 0.0   \n",
       "1852                                 0.0                                 0.0   \n",
       "\n",
       "      cat__Company_World Acceptance Corporation  cat__Company_Xoom  \\\n",
       "0                                           0.0                0.0   \n",
       "1                                           0.0                0.0   \n",
       "2                                           0.0                0.0   \n",
       "3                                           0.0                0.0   \n",
       "4                                           0.0                0.0   \n",
       "...                                         ...                ...   \n",
       "1848                                        0.0                0.0   \n",
       "1849                                        0.0                0.0   \n",
       "1850                                        0.0                0.0   \n",
       "1851                                        0.0                0.0   \n",
       "1852                                        0.0                0.0   \n",
       "\n",
       "      cat__Company_ZOA, LLC  cat__Company_Zarvad III S.A.  \\\n",
       "0                       0.0                           0.0   \n",
       "1                       0.0                           0.0   \n",
       "2                       0.0                           0.0   \n",
       "3                       0.0                           0.0   \n",
       "4                       0.0                           0.0   \n",
       "...                     ...                           ...   \n",
       "1848                    0.0                           0.0   \n",
       "1849                    0.0                           0.0   \n",
       "1850                    0.0                           0.0   \n",
       "1851                    0.0                           0.0   \n",
       "1852                    0.0                           0.0   \n",
       "\n",
       "      cat__Company_ZestFinance  cat__Company_Zions Bancorporation  \\\n",
       "0                          0.0                                0.0   \n",
       "1                          0.0                                0.0   \n",
       "2                          0.0                                0.0   \n",
       "3                          0.0                                0.0   \n",
       "4                          0.0                                0.0   \n",
       "...                        ...                                ...   \n",
       "1848                       0.0                                0.0   \n",
       "1849                       0.0                                0.0   \n",
       "1850                       0.0                                0.0   \n",
       "1851                       0.0                                0.0   \n",
       "1852                       0.0                                0.0   \n",
       "\n",
       "      cat__Company_Zwicker & Associates  Num__dias de retraso  \n",
       "0                                   0.0              0.108631  \n",
       "1                                   0.0              0.108631  \n",
       "2                                   0.0              0.108631  \n",
       "3                                   0.0              0.108631  \n",
       "4                                   0.0              0.108631  \n",
       "...                                 ...                   ...  \n",
       "1848                                0.0             -0.805407  \n",
       "1849                                0.0             -0.164141  \n",
       "1850                                0.0             -0.223039  \n",
       "1851                                0.0              0.108631  \n",
       "1852                                0.0              0.108631  \n",
       "\n",
       "[1853 rows x 953 columns]"
      ]
     },
     "execution_count": 41,
     "metadata": {},
     "output_type": "execute_result"
    }
   ],
   "source": [
    "import shap\n",
    "def f(X):\n",
    "    return model.predict([X[:, i] for i in range(X.shape[1])]).flatten()\n",
    "df_shap = pd.DataFrame(\n",
    "    X_test,\n",
    "    columns=preprocessor.get_feature_names_out()\n",
    ")\n",
    "df_shap"
   ]
  },
  {
   "cell_type": "code",
   "execution_count": 42,
   "id": "f923f286",
   "metadata": {},
   "outputs": [
    {
     "name": "stdout",
     "output_type": "stream",
     "text": [
      "\u001b[1m58/58\u001b[0m \u001b[32m━━━━━━━━━━━━━━━━━━━━\u001b[0m\u001b[37m\u001b[0m \u001b[1m0s\u001b[0m 1ms/step \n"
     ]
    },
    {
     "data": {
      "text/plain": [
       "array([[0.02045977],\n",
       "       [0.06897926],\n",
       "       [0.94112915],\n",
       "       ...,\n",
       "       [0.00874587],\n",
       "       [0.5995011 ],\n",
       "       [0.9813608 ]], dtype=float32)"
      ]
     },
     "execution_count": 42,
     "metadata": {},
     "output_type": "execute_result"
    }
   ],
   "source": [
    "model.predict(df_shap)"
   ]
  },
  {
   "cell_type": "code",
   "execution_count": 43,
   "id": "2394124a",
   "metadata": {},
   "outputs": [],
   "source": [
    "kernel_explainer = shap.KernelExplainer(model= model, data=df_shap.iloc[:50,] )"
   ]
  },
  {
   "cell_type": "code",
   "execution_count": 44,
   "id": "136343c7",
   "metadata": {},
   "outputs": [
    {
     "name": "stderr",
     "output_type": "stream",
     "text": [
      "100%|██████████| 50/50 [00:09<00:00,  5.24it/s]\n"
     ]
    }
   ],
   "source": [
    "shap_values = kernel_explainer.shap_values(df_shap.iloc[:50,], nsamples=500)\n"
   ]
  },
  {
   "cell_type": "code",
   "execution_count": 45,
   "id": "f940c662",
   "metadata": {},
   "outputs": [
    {
     "data": {
      "text/plain": [
       "cat__Product_Bank account or service    1.000000\n",
       "cat__Product_Consumer loan              0.000000\n",
       "cat__Product_Credit card                0.000000\n",
       "cat__Product_Credit reporting           0.000000\n",
       "cat__Product_Debt collection            0.000000\n",
       "                                          ...   \n",
       "cat__Company_Zarvad III S.A.            0.000000\n",
       "cat__Company_ZestFinance                0.000000\n",
       "cat__Company_Zions Bancorporation       0.000000\n",
       "cat__Company_Zwicker & Associates       0.000000\n",
       "Num__dias de retraso                   -0.439791\n",
       "Name: 299, Length: 953, dtype: float64"
      ]
     },
     "execution_count": 45,
     "metadata": {},
     "output_type": "execute_result"
    }
   ],
   "source": [
    "df_shap.iloc[299, :]"
   ]
  },
  {
   "cell_type": "code",
   "execution_count": 46,
   "id": "2c2a7067",
   "metadata": {},
   "outputs": [],
   "source": [
    "shap_values_2d = shap_values[:, :, 0]"
   ]
  },
  {
   "cell_type": "code",
   "execution_count": 47,
   "id": "82217547",
   "metadata": {},
   "outputs": [
    {
     "data": {
      "text/html": [
       "\n",
       "<div id='iOUT4LAIYNOW41D3FNIWJ'>\n",
       "<div style='color: #900; text-align: center;'>\n",
       "  <b>Visualization omitted, Javascript library not loaded!</b><br>\n",
       "  Have you run `initjs()` in this notebook? If this notebook was from another\n",
       "  user you must also trust this notebook (File -> Trust notebook). If you are viewing\n",
       "  this notebook on github the Javascript has been stripped for security. If you are using\n",
       "  JupyterLab this error is because a JupyterLab extension has not yet been written.\n",
       "</div></div>\n",
       " <script>\n",
       "   if (window.SHAP) SHAP.ReactDom.render(\n",
       "    SHAP.React.createElement(SHAP.AdditiveForceVisualizer, {\"outNames\": [\"f(x)\"], \"baseValue\": 0.5435972772492096, \"outValue\": 0.03247303357466558, \"link\": \"identity\", \"featureNames\": [\"cat__Product_Bank account or service\", \"cat__Product_Consumer loan\", \"cat__Product_Credit card\", \"cat__Product_Credit reporting\", \"cat__Product_Debt collection\", \"cat__Product_Money transfers\", \"cat__Product_Mortgage\", \"cat__Product_Other financial service\", \"cat__Product_Payday loan\", \"cat__Product_Prepaid card\", \"cat__Product_Student loan\", \"cat__Sub-product_(CD) Certificate of deposit\", \"cat__Sub-product_Auto\", \"cat__Sub-product_Cashing a check without an account\", \"cat__Sub-product_Check cashing\", \"cat__Sub-product_Checking account\", \"cat__Sub-product_Conventional adjustable mortgage (ARM)\", \"cat__Sub-product_Conventional fixed mortgage\", \"cat__Sub-product_Credit card\", \"cat__Sub-product_Domestic (US) money transfer\", \"cat__Sub-product_FHA mortgage\", \"cat__Sub-product_Federal student loan\", \"cat__Sub-product_Foreign currency exchange\", \"cat__Sub-product_General purpose card\", \"cat__Sub-product_Gift or merchant card\", \"cat__Sub-product_Government benefit payment card\", \"cat__Sub-product_Home equity loan or line of credit\", \"cat__Sub-product_ID prepaid card\", \"cat__Sub-product_Installment loan\", \"cat__Sub-product_International money transfer\", \"cat__Sub-product_Medical\", \"cat__Sub-product_Mobile wallet\", \"cat__Sub-product_Mortgage\", \"cat__Sub-product_Non-federal student loan\", \"cat__Sub-product_Other (phone, health club, etc.)\", \"cat__Sub-product_Other bank product/service\", \"cat__Sub-product_Other mortgage\", \"cat__Sub-product_Pawn loan\", \"cat__Sub-product_Payday loan\", \"cat__Sub-product_Personal line of credit\", \"cat__Sub-product_Reverse mortgage\", \"cat__Sub-product_Savings account\", \"cat__Sub-product_Title loan\", \"cat__Sub-product_Traveler's/Cashier's checks\", \"cat__Sub-product_Unknown or not specified\", \"cat__Sub-product_VA mortgage\", \"cat__Sub-product_Vehicle lease\", \"cat__Sub-product_Vehicle loan\", \"cat__Issue_APR or interest rate\", \"cat__Issue_Account opening, closing, or management\", \"cat__Issue_Account terms and changes\", \"cat__Issue_Adding money\", \"cat__Issue_Advertising and marketing\", \"cat__Issue_Advertising, marketing or disclosures\", \"cat__Issue_Application processing delay\", \"cat__Issue_Application, originator, mortgage broker\", \"cat__Issue_Applied for loan/did not receive money\", \"cat__Issue_Arbitration\", \"cat__Issue_Balance transfer\", \"cat__Issue_Balance transfer fee\", \"cat__Issue_Bankruptcy\", \"cat__Issue_Billing disputes\", \"cat__Issue_Billing statement\", \"cat__Issue_Can't contact lender\", \"cat__Issue_Can't repay my loan\", \"cat__Issue_Can't stop charges to bank account\", \"cat__Issue_Cash advance\", \"cat__Issue_Cash advance fee\", \"cat__Issue_Charged bank acct wrong day or amt\", \"cat__Issue_Charged fees or interest I didn't expect\", \"cat__Issue_Closing/Cancelling account\", \"cat__Issue_Communication tactics\", \"cat__Issue_Cont'd attempts collect debt not owed\", \"cat__Issue_Convenience checks\", \"cat__Issue_Credit card protection / Debt protection\", \"cat__Issue_Credit decision / Underwriting\", \"cat__Issue_Credit determination\", \"cat__Issue_Credit line increase/decrease\", \"cat__Issue_Credit monitoring or identity protection\", \"cat__Issue_Credit reporting company's investigation\", \"cat__Issue_Customer service / Customer relations\", \"cat__Issue_Customer service/Customer relations\", \"cat__Issue_Dealing with my lender or servicer\", \"cat__Issue_Delinquent account\", \"cat__Issue_Deposits and withdrawals\", \"cat__Issue_Disclosure verification of debt\", \"cat__Issue_False statements or representation\", \"cat__Issue_Fees\", \"cat__Issue_Fraud or scam\", \"cat__Issue_Getting a loan\", \"cat__Issue_Identity theft / Fraud / Embezzlement\", \"cat__Issue_Improper contact or sharing of info\", \"cat__Issue_Improper use of my credit report\", \"cat__Issue_Incorrect exchange rate\", \"cat__Issue_Incorrect information on credit report\", \"cat__Issue_Incorrect/missing disclosures or info\", \"cat__Issue_Late fee\", \"cat__Issue_Loan modification,collection,foreclosure\", \"cat__Issue_Loan servicing, payments, escrow account\", \"cat__Issue_Making/receiving payments, sending money\", \"cat__Issue_Managing the line of credit\", \"cat__Issue_Managing the loan or lease\", \"cat__Issue_Managing, opening, or closing account\", \"cat__Issue_Money was not available when promised\", \"cat__Issue_Other\", \"cat__Issue_Other fee\", \"cat__Issue_Other service issues\", \"cat__Issue_Other transaction issues\", \"cat__Issue_Overlimit fee\", \"cat__Issue_Payment to acct not credited\", \"cat__Issue_Payoff process\", \"cat__Issue_Privacy\", \"cat__Issue_Problems caused by my funds being low\", \"cat__Issue_Problems when you are unable to pay\", \"cat__Issue_Received a loan I didn't apply for\", \"cat__Issue_Rewards\", \"cat__Issue_Sale of account\", \"cat__Issue_Settlement process and costs\", \"cat__Issue_Shopping for a line of credit\", \"cat__Issue_Shopping for a loan or lease\", \"cat__Issue_Taking out the loan or lease\", \"cat__Issue_Taking/threatening an illegal action\", \"cat__Issue_Transaction issue\", \"cat__Issue_Unable to get credit report/credit score\", \"cat__Issue_Unauthorized transactions/trans. issues\", \"cat__Issue_Unsolicited issuance of credit card\", \"cat__Issue_Using a debit or ATM card\", \"cat__Issue_Wrong amount charged or received\", \"cat__Sub-issue_Account status\", \"cat__Sub-issue_Account terms\", \"cat__Sub-issue_Account terms and changes\", \"cat__Sub-issue_Attempted to collect wrong amount\", \"cat__Sub-issue_Attempted to/Collected exempt funds\", \"cat__Sub-issue_Billing dispute\", \"cat__Sub-issue_Called after sent written cease of comm\", \"cat__Sub-issue_Called outside of 8am-9pm\", \"cat__Sub-issue_Contacted employer after asked not to\", \"cat__Sub-issue_Contacted me after I asked not to\", \"cat__Sub-issue_Contacted me instead of my attorney\", \"cat__Sub-issue_Debt is not mine\", \"cat__Sub-issue_Debt resulted from identity theft\", \"cat__Sub-issue_Debt was discharged in bankruptcy\", \"cat__Sub-issue_Debt was paid\", \"cat__Sub-issue_Frequent or repeated calls\", \"cat__Sub-issue_Impersonated an attorney or official\", \"cat__Sub-issue_Inadequate help over the phone\", \"cat__Sub-issue_Indicated committed crime not paying\", \"cat__Sub-issue_Indicated shouldn't respond to lawsuit\", \"cat__Sub-issue_Information is not mine\", \"cat__Sub-issue_Investigation took too long\", \"cat__Sub-issue_No notice of investigation status/result\", \"cat__Sub-issue_Not disclosed as an attempt to collect\", \"cat__Sub-issue_Not given enough info to verify debt\", \"cat__Sub-issue_Personal information\", \"cat__Sub-issue_Problem cancelling or closing account\", \"cat__Sub-issue_Problem getting my free annual report\", \"cat__Sub-issue_Problem getting report or credit score\", \"cat__Sub-issue_Problem with fraud alerts\", \"cat__Sub-issue_Problem with statement of dispute\", \"cat__Sub-issue_Public record\", \"cat__Sub-issue_Received marketing offer after opted out\", \"cat__Sub-issue_Receiving unwanted marketing/advertising\", \"cat__Sub-issue_Reinserted previously deleted info\", \"cat__Sub-issue_Report improperly shared by CRC\", \"cat__Sub-issue_Report shared with employer w/o consent\", \"cat__Sub-issue_Right to dispute notice not received\", \"cat__Sub-issue_Seized/Attempted to seize property\", \"cat__Sub-issue_Sued w/o proper notification of suit\", \"cat__Sub-issue_Sued where didn't live/sign for debt\", \"cat__Sub-issue_Talked to a third party about my debt\", \"cat__Sub-issue_Threatened arrest/jail if do not pay\", \"cat__Sub-issue_Threatened to sue on too old debt\", \"cat__Sub-issue_Threatened to take legal action\", \"cat__Sub-issue_Unknown or not specified\", \"cat__Sub-issue_Used obscene/profane/abusive language\", \"cat__State_AE\", \"cat__State_AK\", \"cat__State_AL\", \"cat__State_AP\", \"cat__State_AR\", \"cat__State_AS\", \"cat__State_AZ\", \"cat__State_CA\", \"cat__State_CO\", \"cat__State_CT\", \"cat__State_DC\", \"cat__State_DE\", \"cat__State_FL\", \"cat__State_GA\", \"cat__State_HI\", \"cat__State_IA\", \"cat__State_ID\", \"cat__State_IL\", \"cat__State_IN\", \"cat__State_KS\", \"cat__State_KY\", \"cat__State_LA\", \"cat__State_MA\", \"cat__State_MD\", \"cat__State_ME\", \"cat__State_MI\", \"cat__State_MN\", \"cat__State_MO\", \"cat__State_MS\", \"cat__State_MT\", \"cat__State_NC\", \"cat__State_ND\", \"cat__State_NE\", \"cat__State_NH\", \"cat__State_NJ\", \"cat__State_NM\", \"cat__State_NV\", \"cat__State_NY\", \"cat__State_OH\", \"cat__State_OK\", \"cat__State_OR\", \"cat__State_PA\", \"cat__State_PR\", \"cat__State_PW\", \"cat__State_RI\", \"cat__State_SC\", \"cat__State_SD\", \"cat__State_TN\", \"cat__State_TX\", \"cat__State_UT\", \"cat__State_Unknown\", \"cat__State_VA\", \"cat__State_VI\", \"cat__State_VT\", \"cat__State_WA\", \"cat__State_WI\", \"cat__State_WV\", \"cat__State_WY\", \"cat__Company response_Closed\", \"cat__Company response_Closed with explanation\", \"cat__Company response_Closed with monetary relief\", \"cat__Company response_Closed with non-monetary relief\", \"cat__Timely response?_No\", \"cat__Timely response?_Yes\", \"cat__weekday_Friday\", \"cat__weekday_Monday\", \"cat__weekday_Saturday\", \"cat__weekday_Sunday\", \"cat__weekday_Thursday\", \"cat__weekday_Tuesday\", \"cat__weekday_Wednesday\", \"cat__Company_21st Mortgage Corporation\", \"cat__Company_A.R.M. Solutions, Inc.\", \"cat__Company_AALM Consulting Services LTD (International company)\", \"cat__Company_ABA Recovery Service, Inc.\", \"cat__Company_AC Autopay, LLC\", \"cat__Company_ACE Cash Express Inc.\", \"cat__Company_ACS Education Services\", \"cat__Company_AES/PHEAA\", \"cat__Company_AMCOL Systems, Inc.\", \"cat__Company_AR Resources, Inc.\", \"cat__Company_ATG Credit, LLC\", \"cat__Company_Aargon Agency, Inc.\", \"cat__Company_Ability Recovery Services, LLC\", \"cat__Company_Academy Mortgage\", \"cat__Company_Access Group\", \"cat__Company_Account Brokers Inc.\", \"cat__Company_Account Control Systems, Inc\", \"cat__Company_Account Control Technology, Inc.\", \"cat__Company_Account Liquidation Services Inc.\", \"cat__Company_Account Management Resources\", \"cat__Company_Account Receivable Solutions, Inc.\", \"cat__Company_Account Resolution Corporation\", \"cat__Company_Account Services Collections, Inc\", \"cat__Company_Accounts Management, Inc\", \"cat__Company_Action Collection Agencies, Inc.\", \"cat__Company_Action Collection Service\", \"cat__Company_Ad Astra Recovery Services Inc\", \"cat__Company_Adler Wallach & Associates, Inc.\", \"cat__Company_Advance America, Cash Advance Centers, Inc.\", \"cat__Company_Afni, Inc.\", \"cat__Company_Agency of Credit Control\", \"cat__Company_Alliance Collection Service\", \"cat__Company_AllianceOne Recievables Management\", \"cat__Company_Allied Collection Services, Inc. (Nevada)\", \"cat__Company_Allied International Credit Corporation\", \"cat__Company_Allied Interstate LLC\", \"cat__Company_Ally Financial Inc.\", \"cat__Company_Alpha Recovery Corp\", \"cat__Company_Altisource Portfolio Solutions, S.\\u0085 r.l.\", \"cat__Company_AmerAssist A/R Solutions, Inc.\", \"cat__Company_AmeriCollect\", \"cat__Company_American Accounts & Advisers Inc.\", \"cat__Company_American Adjustment Bureau, Inc\", \"cat__Company_American Collections Enterprise, Inc.\", \"cat__Company_American Credit Resolution, Incorporated\", \"cat__Company_American Honda Finance Corporation\", \"cat__Company_American Internet Mortgage, Inc\", \"cat__Company_American Recovery Service Incorporated\", \"cat__Company_Amerisave\", \"cat__Company_Amex\", \"cat__Company_Arbor Residential Mortgage LLC\", \"cat__Company_Arcadia Holdings, LLC\", \"cat__Company_Armcon Corp\", \"cat__Company_Armor Systems Corporation\", \"cat__Company_Army and Air Force Exchange Service\", \"cat__Company_Arnold Scott Harris, P.C.\", \"cat__Company_Arvest Bank\", \"cat__Company_Aspen National Financial, Inc.\", \"cat__Company_Asset Management Outsourcing, Inc.\", \"cat__Company_Asset One Mortgage, Inc.\", \"cat__Company_Asset Recovery Solutions, LLC\", \"cat__Company_Associated Bank\", \"cat__Company_Association Capital Resources, LLC\", \"cat__Company_Asta Funding, Inc\", \"cat__Company_Astoria Bank\", \"cat__Company_Augusta Collection Agency, Inc.\", \"cat__Company_Automated Collection Services, Inc.\", \"cat__Company_Automotive Credit Corporation\", \"cat__Company_Avant Credit Corporation\", \"cat__Company_Avante\", \"cat__Company_B.C. Services, Inc.\", \"cat__Company_BAM Financial, LLC\", \"cat__Company_BB&T Financial\", \"cat__Company_BBVA Compass\", \"cat__Company_BMO Harris\", \"cat__Company_BMW Financial Services\", \"cat__Company_BNY Mellon\", \"cat__Company_BOK Financial Corp\", \"cat__Company_BRAUFMANN, LEIGHMANN & ASSOCIATES\", \"cat__Company_BWW Law Group, LLC\", \"cat__Company_Ballato Law Firm, P.C.\", \"cat__Company_Banco Popular North America\", \"cat__Company_Banco Popular de Puerto Rico\", \"cat__Company_Banco Santander Puerto Rico\", \"cat__Company_Bank of America\", \"cat__Company_Bank of Hawaii\", \"cat__Company_Bank of the West\", \"cat__Company_BankUnited\", \"cat__Company_Barclays\", \"cat__Company_Bayview Loan Servicing, LLC\", \"cat__Company_Berks Credit and Collections, Inc.\", \"cat__Company_Berlin-Wheeler, Inc.\", \"cat__Company_Berman & Rabin, P.A.\", \"cat__Company_Blackhawk Network Holdings Inc.\", \"cat__Company_Blakely-Witt and Associates, Inc.\", \"cat__Company_Blatt, Hasenmiller, Leibsker & Moore, LLC\", \"cat__Company_Bliksum, LLC\", \"cat__Company_Blitt and Gaines, P.C.\", \"cat__Company_BlueChip Financial\", \"cat__Company_Blueshore Recovery\", \"cat__Company_Bonneville Billing and Collections\", \"cat__Company_Brennan & Clark, Ltd., LLC\", \"cat__Company_Brock & Scott, PLLC\", \"cat__Company_Brown and Joseph, Ltd\", \"cat__Company_Bull City Financial Solutions, Inc\", \"cat__Company_Byrider Franchising, LLC\", \"cat__Company_C&F Mortgage Corporation\", \"cat__Company_CBS Collections, Inc\", \"cat__Company_CCS Financial Services, Inc.\", \"cat__Company_CFS2, Inc.\", \"cat__Company_CHS, Inc.\", \"cat__Company_CIR, Law Offices\", \"cat__Company_CIT Bank\", \"cat__Company_CMRE Financial Services, Inc.\", \"cat__Company_CNG Financial Corporation\", \"cat__Company_COLLECTIONS USA, INC.\", \"cat__Company_CU Recovery, Inc.\", \"cat__Company_Cade Investments LLC\", \"cat__Company_Caine & Weiner Co. Inc.\", \"cat__Company_Caliber Home Loans, Inc\", \"cat__Company_California Accounts Service\", \"cat__Company_California Business Bureau, Inc.\", \"cat__Company_Capio Partners, LLC\", \"cat__Company_Capital Accounts, LLC\", \"cat__Company_Capital Management Services, LP\", \"cat__Company_Capital One\", \"cat__Company_CarFinance Capital LLC\", \"cat__Company_Carrington Mortgage\", \"cat__Company_Carter-Young, Inc.\", \"cat__Company_Cash Express, LLC\", \"cat__Company_CashCall, Inc.\", \"cat__Company_Castle Credit Corp\", \"cat__Company_Cavalry Investments, LLC\", \"cat__Company_Central Portfolio Control Inc.\", \"cat__Company_Certified Recovery Systems, Inc.\", \"cat__Company_Checksmart Financial Company\", \"cat__Company_Choice Recovery, Inc.\", \"cat__Company_Citibank\", \"cat__Company_ClearSpring Loan Services, Inc.\", \"cat__Company_Client Services, Inc.\", \"cat__Company_Coast Professional, Inc.\", \"cat__Company_Coast to Coast Financial Solutions, Inc.\", \"cat__Company_Coastline Financial Resources, LLC\", \"cat__Company_Cohen McNeile & Pappas, PC\", \"cat__Company_Collectech Diversified, Inc.\", \"cat__Company_Collection Bureau of America Ltd.\", \"cat__Company_Collection Bureau of the Hudson Valley, Inc.\", \"cat__Company_Collection Consultants of California\", \"cat__Company_Collection Information Bureau, Inc.\", \"cat__Company_Collection Service Center, Inc.\", \"cat__Company_Collection Service of Nevada\", \"cat__Company_Collection Services, Inc.\", \"cat__Company_Colorado Housing and Finance Authority\", \"cat__Company_Columbia Collection Service, Inc.\", \"cat__Company_Comerica\", \"cat__Company_Commerce Bank\", \"cat__Company_Commercial Acceptance Company\", \"cat__Company_Commonwealth Financial Systems, Inc.\", \"cat__Company_Community Health Investment Company, LLC.\", \"cat__Company_ConServe\", \"cat__Company_Concentric Receivables Management, Ltd.\", \"cat__Company_Consolidated Management Group, LLC\", \"cat__Company_Consumer Adjustment Company Incorporated\", \"cat__Company_Consumer Portfolio Services\", \"cat__Company_Continental Finance Company, LLC\", \"cat__Company_Convergent Resources, Inc.\", \"cat__Company_CoreLogic\", \"cat__Company_Cottonwood Financial Ltd.\", \"cat__Company_Credence Resource Management, LLC\", \"cat__Company_Credico, Inc.\", \"cat__Company_Credit Acceptance Corporation\", \"cat__Company_Credit Bureau Collection Services, Inc.\", \"cat__Company_Credit Bureau of Lancaster County, Inc.\", \"cat__Company_Credit Bureau of Napa\", \"cat__Company_Credit Bureau of New Ulm, Inc.\", \"cat__Company_Credit Card Receivables Fund Incorporated\", \"cat__Company_Credit Clearing House of America, Inc.\", \"cat__Company_Credit Corp Solutions Inc.\", \"cat__Company_Credit Management Services, Inc.\", \"cat__Company_Credit One LLC\", \"cat__Company_Credit Plus Inc\", \"cat__Company_Credit Protection Association, L.P.\", \"cat__Company_Credit Services of Oregon, Inc.\", \"cat__Company_Credit Systems International, Inc.\", \"cat__Company_Crown Asset Management, LLC\", \"cat__Company_DCS Enterprises, Inc.\", \"cat__Company_DLC, LLC\", \"cat__Company_Darnel Quick Recovery, Inc.\", \"cat__Company_Data Search NY, Inc.\", \"cat__Company_Data and Contact Management Solutions, LLC\", \"cat__Company_DataMax Corporation\", \"cat__Company_Debt Recovery Solutions, LLC\", \"cat__Company_Delbert Services\", \"cat__Company_Delta Management Associates, Inc.\", \"cat__Company_Designed Receivable Solultions, Inc.\", \"cat__Company_Direct Financial Solutions LLC\", \"cat__Company_Discover\", \"cat__Company_Ditech Mortgage Corp\", \"cat__Company_Diversified Acceptance Corporation\", \"cat__Company_Diversified Adjustment Service, Inc.\", \"cat__Company_Diversified Consultants, Inc.\", \"cat__Company_Dominion Law Associates, P.L.L.C.\", \"cat__Company_Dovenmuehle Mortgage Inc.\", \"cat__Company_DriveTime\", \"cat__Company_Dyck-O'Neal, Inc.\", \"cat__Company_Dynamic Recovery Solutions, LLC\", \"cat__Company_E*Trade Bank\", \"cat__Company_ECMC Group, Inc.\", \"cat__Company_EOS Holdings, Inc.\", \"cat__Company_EZCORP, Inc.\", \"cat__Company_Eagle Collection Corp.\", \"cat__Company_Early Warning Services, LLC\", \"cat__Company_Eastern Account Systems of Connecticut, Inc.\", \"cat__Company_Eastpoint Recovery Group, Inc\", \"cat__Company_Eltman, Eltman & Cooper, PC\", \"cat__Company_Encore Capital Group\", \"cat__Company_Enerson Law, LLC.\", \"cat__Company_Enhanced Acquisitions, LLC\", \"cat__Company_Enhanced Recovery Company, LLC\", \"cat__Company_Enova International, Inc.\", \"cat__Company_Epn, Inc.\", \"cat__Company_Equifax\", \"cat__Company_Escallate, LLC\", \"cat__Company_Esser, James & Associates\", \"cat__Company_EverBank\", \"cat__Company_Exeter Finance Corp\", \"cat__Company_Experian\", \"cat__Company_Expert Global Solutions, Inc.\", \"cat__Company_Express Cash Mart Management\", \"cat__Company_F.H. Cann & Associates, Inc.\", \"cat__Company_FAIR COLLECTIONS & OUTSOURCING, INC.\", \"cat__Company_FC HoldCo LLC\", \"cat__Company_FCI Lender Services Inc.\", \"cat__Company_FMS Inc.\", \"cat__Company_FNIS (Fidelity National Information Services, Inc.)\", \"cat__Company_Fay Servicing, LLC\", \"cat__Company_Federal Bond and Collection Service, Inc.\", \"cat__Company_Fein, Such, Kahn & Shepard, P.C.\", \"cat__Company_Fidelis Recovery Management, LLC\", \"cat__Company_Fidelity Capital Holdings, Inc.\", \"cat__Company_Fidelity National Financial, Inc\", \"cat__Company_Fifth Third Bank\", \"cat__Company_Filings and Claims Inc.\", \"cat__Company_Financial Asset Management Systems, Inc.\", \"cat__Company_Financial Corporation of America\", \"cat__Company_Financial Credit Network Inc\", \"cat__Company_Financial Credit Service, Inc.\", \"cat__Company_Financial Data Systems\", \"cat__Company_Financial Filing & Reporting, Inc.\", \"cat__Company_Finkelstein, Kern, Steinberg & Cunningham, PC\", \"cat__Company_First Advantage Corporation\", \"cat__Company_First Advantage LNS Inc.\", \"cat__Company_First Associates Loan Servicing LLC\", \"cat__Company_First Citizens\", \"cat__Company_First Data Corporation\", \"cat__Company_First Federal Credit Control\", \"cat__Company_First Heritage Credit, LLC\", \"cat__Company_First Investors Financial Services Group, Inc.\", \"cat__Company_First National Bank of Omaha\", \"cat__Company_First National Bank of Pennsylvania\", \"cat__Company_First National Collection Bureau, Inc.\", \"cat__Company_First Niagara Bank\", \"cat__Company_First Republic Bank\", \"cat__Company_First Service Residential, Nevada, LLC\", \"cat__Company_First Tennessee Bank\", \"cat__Company_FirstBank\", \"cat__Company_FirstBank of Puerto Rico\", \"cat__Company_FirstMerit Bank\", \"cat__Company_FirstPoint Collection Resources\", \"cat__Company_FirstSource Advantage, LLC\", \"cat__Company_Flagstar Bank\", \"cat__Company_Focus Holding Company\", \"cat__Company_Ford Motor Credit Company\", \"cat__Company_Forster & Garbus LLP\", \"cat__Company_Franklin American Mortgage Company\", \"cat__Company_Franklin Collection Service, Inc.\", \"cat__Company_Frederick J. Hanna & Associates, P.C.\", \"cat__Company_Freedom Mortgage\", \"cat__Company_Friendly Finance Corporation\", \"cat__Company_GC Services Limited Partnership\", \"cat__Company_GE Capital Retail\", \"cat__Company_GM Financial\", \"cat__Company_GVA Holdings, LLC\", \"cat__Company_Gatestone & Co. International Inc.\", \"cat__Company_Gateway Funding\", \"cat__Company_General Financial, Inc.\", \"cat__Company_General Service Bureau, Inc.\", \"cat__Company_Genesis Lending\", \"cat__Company_Genuine Debt Solutions, LLC.\", \"cat__Company_Gila LLC\", \"cat__Company_Glass Mountain Capital, LLC\", \"cat__Company_Global Credit & Collection Corporation\", \"cat__Company_Global One Arbitration Inc.\", \"cat__Company_Global Recovery Group\", \"cat__Company_Global Trust Management LLC\", \"cat__Company_Gold Key Credit, Inc.\", \"cat__Company_Google Inc.\", \"cat__Company_Grant Mercantile Agency\", \"cat__Company_Great American Finance Co\", \"cat__Company_Green Tree Servicing, LLC\", \"cat__Company_GreenSky Trade Credit, LLC\", \"cat__Company_Greene & Cooper Collections LLC\", \"cat__Company_Grimley Financial Corporation\", \"cat__Company_Gryphon Corp\", \"cat__Company_Guaranteed Rate\", \"cat__Company_Guglielmo and Associates\", \"cat__Company_Gulf Coast Collection Bureau, Inc.\", \"cat__Company_Gurstel Chargo PA\", \"cat__Company_HCFS Health Care Financial Services, Inc.\", \"cat__Company_HOVG, LLC\", \"cat__Company_HSBC\", \"cat__Company_Halsted Financial Services, LLC.\", \"cat__Company_Harley-Davidson Financial Services, Inc.\", \"cat__Company_Harris & Harris, Ltd.\", \"cat__Company_Harvard Collections, LLC\", \"cat__Company_Health Services Asset Management, LLC.\", \"cat__Company_Healthcare Collections-I, LLC\", \"cat__Company_Healthcare Financial Services, LLC\", \"cat__Company_Healthcare Management, LLC\", \"cat__Company_Heartland Payment Systems\", \"cat__Company_Herbert P. Sears Co., Inc.\", \"cat__Company_Higher Education Student Assistance Authority (HESAA)\", \"cat__Company_Hillcrest Davidson & Assoc\", \"cat__Company_HireRight Solutions, Inc.\", \"cat__Company_Homebridge Financial Services, Inc.\", \"cat__Company_Hunt & Henriques\", \"cat__Company_Hunter Warfield, Inc.\", \"cat__Company_Hyundai Capital America\", \"cat__Company_I.C. System, Inc.\", \"cat__Company_I.Q. Data International, Inc.\", \"cat__Company_ICQ Search and Recovery Inc.\", \"cat__Company_Impac Mortgage Holdings, Inc.\", \"cat__Company_Independent Recovery Resources, Inc.\", \"cat__Company_Innovative Debt Solutions\", \"cat__Company_Integrated Recovery Services\", \"cat__Company_Integrity Solution Services, Inc.\", \"cat__Company_Interbank Mortgage Company\", \"cat__Company_Investment Retrievers, Inc.\", \"cat__Company_Investors Bank\", \"cat__Company_Io, Inc.\", \"cat__Company_Iowa Student Loan\", \"cat__Company_Ivy Street Development Corp.\", \"cat__Company_JH Portfolio Debt Equities, LLC\", \"cat__Company_JMD,LLC\", \"cat__Company_JPMorgan Chase\", \"cat__Company_James B. Nutter & Company\", \"cat__Company_Javitch, Block & Rathbone LLC\", \"cat__Company_Jim Bottin Enterprises, Inc\", \"cat__Company_John C. Bonewicz, P.C.\", \"cat__Company_Johnson Mark LLC\", \"cat__Company_Jon Barry and Associates, Inc.\", \"cat__Company_Jormandy, LLC\", \"cat__Company_K. Hovnanian American Mortgage, L.L.C.\", \"cat__Company_Keith D. Weiner & Associates Co., L.P.A.\", \"cat__Company_Kenneth, Eisen & Associates, Ltd.\", \"cat__Company_Key 2 Recovery, Inc.\", \"cat__Company_KeyBank NA\", \"cat__Company_Keystone Credit Collections Inc.\", \"cat__Company_Kimball, Tirey & St. John LLP\", \"cat__Company_Kings Credit Services\", \"cat__Company_Knight Adjustment Bureau\", \"cat__Company_Kohn Law Firm S.C.\", \"cat__Company_Kramer & Frank, P.C.\", \"cat__Company_LJ Ross Associates\", \"cat__Company_LTD Financial Services, L.P.\", \"cat__Company_Lacy Katzen LLP\", \"cat__Company_Lamont, Hanley & Associates, Inc.\", \"cat__Company_Landlord Rent Collections, LLC\", \"cat__Company_Law Offices of Timothy E. Baxter & Associates, P.C.\", \"cat__Company_Law Offices of Zakheim & LaVrar, P.A.\", \"cat__Company_Lazarus Financial Group, Inc.\", \"cat__Company_Legal Prevention Services, LLC.\", \"cat__Company_Lendmark Financial Services, LLC\", \"cat__Company_LexisNexis\", \"cat__Company_Linebarger Goggan Blair & Sampson, LLP\", \"cat__Company_Loan Care\", \"cat__Company_Loan To Learn\", \"cat__Company_LoanDepot\", \"cat__Company_Love, Beal & Nixon, P.C.\", \"cat__Company_Lustig, Glaser & Wilson, P.C.\", \"cat__Company_M&T Bank\", \"cat__Company_M.A.R.S. Inc.\", \"cat__Company_MEFA\", \"cat__Company_MNE Services, Inc\", \"cat__Company_MRS BPO, L.L.C.\", \"cat__Company_MSW Capital, LLC\", \"cat__Company_Malcolm S. Gerald and Associates, Inc.\", \"cat__Company_Mariner Finance, LLC\", \"cat__Company_MarkOne Holdings, LLC\", \"cat__Company_Matthew Thomas & Associates LLC\", \"cat__Company_McCalla Raymer, LLC\", \"cat__Company_McCarthy, Burgess & Wolff, Inc.\", \"cat__Company_Meade & Associates, Inc.\", \"cat__Company_Med-1 Solutions, LLC\", \"cat__Company_Medical Business Bureau\", \"cat__Company_Medical Data Systems, Inc.\", \"cat__Company_Medical Society Business Services, Inc.\", \"cat__Company_Mercantile Adjustment Bureau, LLC\", \"cat__Company_Mercedes-Benz Financial Services\", \"cat__Company_Merchants Credit Adjusters, Inc.\", \"cat__Company_Merchants Credit Corporation\", \"cat__Company_Merchants and Medical Credit Corporation, Inc.\", \"cat__Company_Merchants and Professional Bureau, Inc.\", \"cat__Company_Merchants' Credit Guide Company\", \"cat__Company_Meridian Financial Services, Inc.\", \"cat__Company_Messerli & Kramer P.A.\", \"cat__Company_Midstate Collection Solutions, Inc.\", \"cat__Company_Midway Resolution Services LLC\", \"cat__Company_Midwestern Health Management INC\", \"cat__Company_Miller Davis & Peoples\", \"cat__Company_Miller and Steeno, P.C.\", \"cat__Company_Minnesota Life Insurance Company\", \"cat__Company_Monarch Recovery Holdings, Inc.\", \"cat__Company_Money Now- Hattiesburg, Inc.\", \"cat__Company_MoneyGram\", \"cat__Company_Monterey Financial Services, Inc.\", \"cat__Company_Morgan & Associates, P.C.\", \"cat__Company_Morgan Stanley\", \"cat__Company_Mortgage Clearing Corporation\", \"cat__Company_Mountain Land Collections, Inc.\", \"cat__Company_Municipal Collections Services, Inc.\", \"cat__Company_Municipal Collections of America, Inc.\", \"cat__Company_N.A.R., Inc.\", \"cat__Company_NCB Management Services, Inc.\", \"cat__Company_NCC Business Services, Inc.\", \"cat__Company_NCS, Inc\", \"cat__Company_NCSPLUS INCORPORATED\", \"cat__Company_NELSON AND KENNARD\", \"cat__Company_NRA Group, LLC\", \"cat__Company_National Arbitration Forum\", \"cat__Company_National Business Factors\", \"cat__Company_National Consumer Telecom & Utilities Exchange, Inc.\", \"cat__Company_National Credit Adjusters, LLC\", \"cat__Company_National Credit Systems,Inc.\", \"cat__Company_National Enterprise Systems, Inc.\", \"cat__Company_National Loan Investors, LP\", \"cat__Company_National Mediation Services\", \"cat__Company_National Principal Group, LLC\", \"cat__Company_Nations Recovery Center\", \"cat__Company_Nationstar Mortgage\", \"cat__Company_Nationwide Credit & Collection, Inc.\", \"cat__Company_Nationwide Credit Corporation\", \"cat__Company_Navient\", \"cat__Company_Navy FCU\", \"cat__Company_NetSpend Corporation,  a TSYS Company\", \"cat__Company_Nevada Credico, Inc.\", \"cat__Company_New Century Financial Services, Inc.\", \"cat__Company_New Day Financial, LLC\", \"cat__Company_New York Community Bank\", \"cat__Company_Nexcheck, LLC\", \"cat__Company_Niagara Credit Solutions, Inc\", \"cat__Company_Niagara Portfolio Solutions LLC\", \"cat__Company_Nicholas Financial, Inc.\", \"cat__Company_Nissan Motor Acceptance Corporation\", \"cat__Company_North American Asset Services, LLC\", \"cat__Company_North American Credit Services\", \"cat__Company_North Shore Agency, LLC\", \"cat__Company_Northland Group, Inc.\", \"cat__Company_Northstar Location Services, LLC\", \"cat__Company_ONLINE Information Services, Inc.\", \"cat__Company_Ocwen\", \"cat__Company_Old Republic Title Holding Company, Inc\", \"cat__Company_Omega RMS, LLC\", \"cat__Company_OneWest Bank\", \"cat__Company_Ophrys, L.L.C.\", \"cat__Company_Optimum Outcomes, Inc.\", \"cat__Company_Oracle Financial Group LLC.\", \"cat__Company_Orions Management Group, LLC\", \"cat__Company_Overton, Russell, Doerr and Donovan, LLP\", \"cat__Company_P&L Acquisitions LLC\", \"cat__Company_P.S.C., Inc\", \"cat__Company_PHH Mortgage\", \"cat__Company_PLS GROUP, INC\", \"cat__Company_PMAB, LLC\", \"cat__Company_PNC Bank\", \"cat__Company_Paid In Full, Inc.\", \"cat__Company_Palm Beach Credit Adjustors, Inc\", \"cat__Company_Parson Bishop Services, Inc.\", \"cat__Company_Patient Accounting Service Center\", \"cat__Company_PayPal\", \"cat__Company_Penn Credit Corporation\", \"cat__Company_PennyMac Loan Services, LLC\", \"cat__Company_Pentagon FCU\", \"cat__Company_People's United Bank\", \"cat__Company_Performant Financial Corporation\", \"cat__Company_Persolve, LLC - Legal - Series 2\", \"cat__Company_Physicians & Dentists Credit Bureau\", \"cat__Company_Pinnacle Asset Management, LLC\", \"cat__Company_Pinnacle Credit Services, LLC\", \"cat__Company_Pinnacle Recovery, Inc.\", \"cat__Company_Portfolio Recovery Associates, Inc.\", \"cat__Company_Praxis Financial Solutions, Incorporated\", \"cat__Company_Premium Asset Services, LLC\", \"cat__Company_Pressler & Pressler, LLP\", \"cat__Company_Prince Parker & Associates\", \"cat__Company_ProCollect, Inc\", \"cat__Company_Professional Debt Mediation, Inc.\", \"cat__Company_Professional Finance Company, Inc.\", \"cat__Company_Professional Recovery Management\", \"cat__Company_Professional Recovery Services Inc.\", \"cat__Company_Progressive Financial Services, Inc.\", \"cat__Company_Prosperity Bancshares, Inc\", \"cat__Company_Protas, Spivok & Collins, LLC\", \"cat__Company_Provident Funding\", \"cat__Company_Pulte Mortgage\", \"cat__Company_QC Holdings, Inc.\", \"cat__Company_Quality Loan Service Corporation\", \"cat__Company_Quick Click Loans, LLC\", \"cat__Company_Quicken Loans\", \"cat__Company_R.A.Rogers, Inc.\", \"cat__Company_R.M. Galicia, Inc.\", \"cat__Company_RBS Citizens\", \"cat__Company_RCO Hawaii, LLLC\", \"cat__Company_RFNA, LP\", \"cat__Company_RGS Financial, Inc.\", \"cat__Company_RJM Acquisitions LLC\", \"cat__Company_RMI Services, LLC\", \"cat__Company_RMP Group Inc.\", \"cat__Company_RMS-Recovery Management Services, Inc.\", \"cat__Company_ROCKPORT FINANCIAL LLC\", \"cat__Company_RS Clark and Associates, Inc.\", \"cat__Company_RSH & Associates, LLC\", \"cat__Company_RSI Enterprises, Inc.\", \"cat__Company_Rabobank\", \"cat__Company_Radius Global Solutions LLC\", \"cat__Company_Rash Curtis and Associates\", \"cat__Company_Rausch, Sturm, Israel, Enerson & Hornik, LLC\", \"cat__Company_Ray Klein, Inc.\", \"cat__Company_Receivable Asset Management\", \"cat__Company_Receivable Management Group, Inc.\", \"cat__Company_Receivables Performance Management LLC\", \"cat__Company_Recovery One, LLC\", \"cat__Company_Regional Management Corp.\", \"cat__Company_Regions\", \"cat__Company_Reliant Capital Solutions, LLC\", \"cat__Company_Rent Recover, LLC\", \"cat__Company_Rent Recovery Solutions\", \"cat__Company_Renton Collections Inc.\", \"cat__Company_ResidentCollect, Inc.\", \"cat__Company_Residential Credit Solutions\", \"cat__Company_Resurgent Capital Services L.P.\", \"cat__Company_Retrieval-Masters Creditors Bureau, Inc.\", \"cat__Company_Revenue Assistance Corporation dba Revenue Group\", \"cat__Company_Revenue Enterprises, LLC\", \"cat__Company_Revenue Recovery Bureau\", \"cat__Company_Revenue Recovery Corporation\", \"cat__Company_Reverse Mortgage Solutions\", \"cat__Company_Ria Financial\", \"cat__Company_Risecredit, LLC\", \"cat__Company_Round Point Mortgage\", \"cat__Company_Royal United Mortgage LLC\", \"cat__Company_Rozlin Financial Group, Inc.\", \"cat__Company_Rushmore Loan Management Services LLC\", \"cat__Company_Rushmore Service Center, LLC\", \"cat__Company_SCA Collections, Inc.\", \"cat__Company_SECURITY CREDIT SYSTEMS INC\", \"cat__Company_SFS, Inc\", \"cat__Company_SKO Brenner American, Inc.\", \"cat__Company_SN SERVICING CORPORATION\", \"cat__Company_SRA Associates, Inc.\", \"cat__Company_Sallie Mae\", \"cat__Company_Santander Bank US\", \"cat__Company_Santander Consumer USA\", \"cat__Company_Sarma\", \"cat__Company_Second Round Limited Partnership\", \"cat__Company_Secure Capital Management, Inc.\", \"cat__Company_Security Credit Services, LLC\", \"cat__Company_Security Finance\", \"cat__Company_Security National Mortgage\", \"cat__Company_Seidberg Law Offices, P.C.\", \"cat__Company_Select Management Resources, LLC\", \"cat__Company_Select Portfolio Servicing, Inc\", \"cat__Company_Selene Finance\", \"cat__Company_Senex Services Corp.\", \"cat__Company_Sentry Recovery and Collections, Inc.\", \"cat__Company_Servatus Corporation\", \"cat__Company_Servis One, Inc.\", \"cat__Company_Sessoms & Rogers, P.A.\", \"cat__Company_Seterus\", \"cat__Company_Shellpoint Partners, LLC\", \"cat__Company_Sherloq Group, Inc\", \"cat__Company_Shermeta, Adams & VonAllmen,PC\", \"cat__Company_Skagit Bonded Collectors, LLC\", \"cat__Company_Solidus Group LLC.\", \"cat__Company_Solomon and Solomon, P.C.\", \"cat__Company_South Carolina Student Loan\", \"cat__Company_Southern Management Systems Inc.\", \"cat__Company_Southern Oregon Credit Service, Inc.\", \"cat__Company_Southwest Business Corporation\", \"cat__Company_Southwest Credit Systems, L.P.\", \"cat__Company_Specialized Loan Servicing LLC\", \"cat__Company_Speedy Cash Holdings\", \"cat__Company_Springleaf Finance Corporation\", \"cat__Company_SquareTwo Financial Corporation\", \"cat__Company_Stallings Financial Group, Inc.\", \"cat__Company_State Collection Service, Inc.\", \"cat__Company_State Farm Bank\", \"cat__Company_Statebridge Company\", \"cat__Company_Stearns Lending\", \"cat__Company_Stellar Recovery Inc.\", \"cat__Company_Stenger & Stenger, P.C\", \"cat__Company_Sterling Jewelers Inc.\", \"cat__Company_Stillman Law Office\", \"cat__Company_Stonegate Mortgage Corporation\", \"cat__Company_Stoneleigh Recovery Associates, LLC\", \"cat__Company_Stuart-Lippman and Associates, Inc\", \"cat__Company_Student Assistance Foundation\", \"cat__Company_Suburban Credit Corporation\", \"cat__Company_Sun Loan Company\", \"cat__Company_Sun West Mortgage Company, Inc.\", \"cat__Company_SunTrust Bank\", \"cat__Company_Sunrise Credit Services Inc.\", \"cat__Company_Supreme Lending\", \"cat__Company_Susquehanna Bank\", \"cat__Company_Suttell & Hammer P.S.\", \"cat__Company_Synergetic Communication Inc\", \"cat__Company_Synerprise Consulting Services, Inc.\", \"cat__Company_Synovus Bank\", \"cat__Company_TCF National Bank\", \"cat__Company_TD Bank\", \"cat__Company_TMX Finance LLC\", \"cat__Company_TekCollect Inc.\", \"cat__Company_Tenet HealthCare Corporation\", \"cat__Company_The Affiliated Group, Inc\", \"cat__Company_The Best Service Co.,Inc\", \"cat__Company_The Bureaus, Inc.\", \"cat__Company_The CBE Group, Inc.\", \"cat__Company_The CMI Group, Inc.\", \"cat__Company_The Genesis Group, Inc.\", \"cat__Company_The Huntington National Bank\", \"cat__Company_The McHughes Law Firm, LLC\", \"cat__Company_The Phoenix Recovery Group\", \"cat__Company_The Receivable Management Services Corporation\", \"cat__Company_The Regional Adjustment Bureau, Incorporated\", \"cat__Company_The Star Financial\", \"cat__Company_The TRAF Group\", \"cat__Company_The Thomas Agency, Inc.\", \"cat__Company_The Westmoore Group, LLC\", \"cat__Company_The Wilber Law Firm, P.C.\", \"cat__Company_Third Federal Savings & Loan\", \"cat__Company_Thomas, King & Associates\", \"cat__Company_Total Card, Inc.\", \"cat__Company_Tower Loan\", \"cat__Company_Toyota Motor Credit Corporation\", \"cat__Company_TransUnion\", \"cat__Company_Transcontinental Credit & Collection Corp\", \"cat__Company_Transworld Systems Inc.\", \"cat__Company_Trident Asset Management, L.L.C.\", \"cat__Company_Triton Management Group, Inc\", \"cat__Company_Trustmark Corporation\", \"cat__Company_Turning Point Solutions LLC\", \"cat__Company_U.S. Bancorp\", \"cat__Company_U.S. Collections West, Inc.\", \"cat__Company_UBS Bank\", \"cat__Company_UMB Bank\", \"cat__Company_URS Holdings LLC\", \"cat__Company_USAA Savings\", \"cat__Company_USCB Corporation\", \"cat__Company_Unified Global Group\", \"cat__Company_Union Bank\", \"cat__Company_Unique Management Services, Inc\", \"cat__Company_United Acceptance, Inc\", \"cat__Company_United Collection Bureau, Inc.\", \"cat__Company_United Consumers Inc\", \"cat__Company_United Guaranty\", \"cat__Company_United Recovery Group, LLC\", \"cat__Company_United Recovery Systems, LP\", \"cat__Company_United Recovery Worldwide LLC\", \"cat__Company_United Resource Systems, Inc\", \"cat__Company_United Shore Financial Services, LLC\", \"cat__Company_Universal Acceptance Corporation\", \"cat__Company_Universal Credit Services, Inc\", \"cat__Company_Universal Fidelity LP\", \"cat__Company_Uptain Group, Inc.\", \"cat__Company_VW Credit, Inc\", \"cat__Company_Valarity, LLC\", \"cat__Company_Valentine and Kebartas, Inc.\", \"cat__Company_Vanderbilt Mortgage & Finance\", \"cat__Company_Velocity Portfolio Group\", \"cat__Company_Vengroff Williams, Inc\", \"cat__Company_WAKEFIELD & ASSOCIATES, INC.\", \"cat__Company_Walter Lee & Associates, LLC\", \"cat__Company_Washington Federal\", \"cat__Company_Watertown Credit Bureau Inc\", \"cat__Company_Webster Bank\", \"cat__Company_Wells Fargo\", \"cat__Company_Weltman, Weinberg & Reis\", \"cat__Company_West Corporation\", \"cat__Company_Western Union\", \"cat__Company_Western-Shamrock Corporation\", \"cat__Company_Westgate Arbitration INC\", \"cat__Company_Westlake Services, LLC\", \"cat__Company_Weststar Mortgage Corporation\", \"cat__Company_Wexford & James LLC\", \"cat__Company_Wheels Financial Group, LLC\", \"cat__Company_Whitney Bank\", \"cat__Company_Wilber and Associates, P.C.\", \"cat__Company_Williams & Fudge, Inc\", \"cat__Company_Windham Professionals\", \"cat__Company_World Acceptance Corporation\", \"cat__Company_Xoom\", \"cat__Company_ZOA, LLC\", \"cat__Company_Zarvad III S.A.\", \"cat__Company_ZestFinance\", \"cat__Company_Zions Bancorporation\", \"cat__Company_Zwicker & Associates\", \"Num__dias de retraso\"], \"features\": {\"2\": {\"effect\": -0.0897440453478596, \"value\": 0.0}, \"3\": {\"effect\": -0.02119123935699463, \"value\": 0.0}, \"9\": {\"effect\": -0.024524772656447192, \"value\": 0.0}, \"30\": {\"effect\": -0.07789009296903208, \"value\": 1.0}, \"87\": {\"effect\": -0.03325933021485885, \"value\": 0.0}, \"182\": {\"effect\": -0.04666429359346331, \"value\": 0.0}, \"186\": {\"effect\": -0.0334662963818558, \"value\": 0.0}, \"198\": {\"effect\": -0.11508279605015774, \"value\": 1.0}, \"243\": {\"effect\": -0.04254666078368303, \"value\": 0.0}, \"464\": {\"effect\": -0.02675471632019172, \"value\": 0.0}}, \"plot_cmap\": \"RdBu\", \"labelMargin\": 20}),\n",
       "    document.getElementById('iOUT4LAIYNOW41D3FNIWJ')\n",
       "  );\n",
       "</script>"
      ],
      "text/plain": [
       "<shap.plots._force.AdditiveForceVisualizer at 0x1b516486390>"
      ]
     },
     "execution_count": 47,
     "metadata": {},
     "output_type": "execute_result"
    }
   ],
   "source": [
    "shap.force_plot(\n",
    "    kernel_explainer.expected_value,\n",
    "    shap_values_2d[25],\n",
    "    df_shap.iloc[[25], :]\n",
    ")"
   ]
  },
  {
   "cell_type": "code",
   "execution_count": 48,
   "id": "83dec862",
   "metadata": {},
   "outputs": [
    {
     "data": {
      "image/png": "[encoded data removed]",
      "text/plain": [
       "<Figure size 800x650 with 3 Axes>"
      ]
     },
     "metadata": {},
     "output_type": "display_data"
    }
   ],
   "source": [
    "expl = shap.Explanation(\n",
    "    values=shap_values_2d[20],     # SHAP values for that sample\n",
    "    base_values=kernel_explainer.expected_value,  # expected value\n",
    "    data=df_shap.iloc[20, :].values,      # feature values\n",
    "    feature_names=df_shap.columns.tolist() \n",
    ")\n",
    "\n",
    "# Then plot the waterfall\n",
    "shap.waterfall_plot(expl)"
   ]
  },
  {
   "cell_type": "code",
   "execution_count": null,
   "id": "cc0e705a",
   "metadata": {},
   "outputs": [
    {
     "ename": "SyntaxError",
     "evalue": "invalid syntax (1947214667.py, line 1)",
     "output_type": "error",
     "traceback": [
      "  \u001b[36mCell\u001b[39m\u001b[36m \u001b[39m\u001b[32mIn[47]\u001b[39m\u001b[32m, line 1\u001b[39m\n\u001b[31m    \u001b[39m\u001b[31m---\u001b[39m\n       ^\n\u001b[31mSyntaxError\u001b[39m\u001b[31m:\u001b[39m invalid syntax\n"
     ]
    }
   ],
   "source": [
    "---"
   ]
  },
  {
   "cell_type": "code",
   "execution_count": null,
   "id": "7143e2c8",
   "metadata": {},
   "outputs": [],
   "source": [
    "# Guardar en formato nativo de Keras\n",
    "os.chdir(\"../models\")\n",
    "model.save(\"modelo_dispute_red-retraso.keras\")"
   ]
  },
  {
   "cell_type": "code",
   "execution_count": null,
   "id": "13d14ba7",
   "metadata": {},
   "outputs": [
    {
     "data": {
      "text/plain": [
       "['preprocesador_red.pkl']"
      ]
     },
     "execution_count": 49,
     "metadata": {},
     "output_type": "execute_result"
    }
   ],
   "source": [
    "import joblib\n",
    "\n",
    "os.chdir(\"../src\")\n",
    "\n",
    "# Guardar el scaler entrenado\n",
    "joblib.dump(preprocessor, \"preprocesador_red-retraso.pkl\")"
   ]
  }
 ],
 "metadata": {
  "kernelspec": {
   "display_name": "projecto",
   "language": "python",
   "name": "python3"
  },
  "language_info": {
   "codemirror_mode": {
    "name": "ipython",
    "version": 3
   },
   "file_extension": ".py",
   "mimetype": "text/x-python",
   "name": "python",
   "nbconvert_exporter": "python",
   "pygments_lexer": "ipython3",
   "version": "3.12.3"
  }
 },
 "nbformat": 4,
 "nbformat_minor": 5
}
