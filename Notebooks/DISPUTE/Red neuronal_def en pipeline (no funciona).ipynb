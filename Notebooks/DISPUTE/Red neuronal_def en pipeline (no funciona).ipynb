{
 "cells": [
  {
   "cell_type": "code",
   "execution_count": 1,
   "id": "cff92a96",
   "metadata": {},
   "outputs": [
    {
     "name": "stderr",
     "output_type": "stream",
     "text": [
      "c:\\Users\\unaif\\anaconda3\\envs\\projecto\\Lib\\site-packages\\sklearn\\preprocessing\\_label.py:93: DataConversionWarning: A column-vector y was passed when a 1d array was expected. Please change the shape of y to (n_samples, ), for example using ravel().\n",
      "  y = column_or_1d(y, warn=True)\n",
      "c:\\Users\\unaif\\anaconda3\\envs\\projecto\\Lib\\site-packages\\sklearn\\preprocessing\\_label.py:93: DataConversionWarning: A column-vector y was passed when a 1d array was expected. Please change the shape of y to (n_samples, ), for example using ravel().\n",
      "  y = column_or_1d(y, warn=True)\n"
     ]
    }
   ],
   "source": [
    "import os\n",
    "os.chdir(\"..\")\n",
    "os.chdir(\"../src\")\n",
    "from tool_preprocess_onehot import state_df_zip, convert_to_str\n",
    "\n",
    "\n",
    "\n",
    "\n",
    "\n",
    "\n",
    "os.chdir(\"../data\")\n",
    "import pandas as pd\n",
    "df = pd.read_csv(\"quejas-clientes-limpio.csv\", low_memory=False)\n"
   ]
  },
  {
   "cell_type": "code",
   "execution_count": 2,
   "id": "97bd6048",
   "metadata": {},
   "outputs": [
    {
     "data": {
      "text/plain": [
       "'c:\\\\Users\\\\unaif\\\\OneDrive\\\\Documentos\\\\Documentos_Clase_Data\\\\PROYECTOS\\\\nombre_proyecto_final_ML\\\\Projecto-Final-ML\\\\data'"
      ]
     },
     "execution_count": 2,
     "metadata": {},
     "output_type": "execute_result"
    }
   ],
   "source": [
    "import os\n",
    "\n",
    "os.getcwd()"
   ]
  },
  {
   "cell_type": "code",
   "execution_count": 3,
   "id": "a6000971",
   "metadata": {},
   "outputs": [
    {
     "data": {
      "text/html": [
       "<div>\n",
       "<style scoped>\n",
       "    .dataframe tbody tr th:only-of-type {\n",
       "        vertical-align: middle;\n",
       "    }\n",
       "\n",
       "    .dataframe tbody tr th {\n",
       "        vertical-align: top;\n",
       "    }\n",
       "\n",
       "    .dataframe thead th {\n",
       "        text-align: right;\n",
       "    }\n",
       "</style>\n",
       "<table border=\"1\" class=\"dataframe\">\n",
       "  <thead>\n",
       "    <tr style=\"text-align: right;\">\n",
       "      <th></th>\n",
       "      <th>Complaint ID</th>\n",
       "      <th>Product</th>\n",
       "      <th>Sub-product</th>\n",
       "      <th>Issue</th>\n",
       "      <th>Sub-issue</th>\n",
       "      <th>State</th>\n",
       "      <th>ZIP code</th>\n",
       "      <th>Date received</th>\n",
       "      <th>Date sent to company</th>\n",
       "      <th>Company</th>\n",
       "      <th>Company response</th>\n",
       "      <th>Timely response?</th>\n",
       "      <th>Consumer disputed?</th>\n",
       "      <th>dias de retraso</th>\n",
       "      <th>weekday</th>\n",
       "    </tr>\n",
       "  </thead>\n",
       "  <tbody>\n",
       "    <tr>\n",
       "      <th>0</th>\n",
       "      <td>1291006</td>\n",
       "      <td>Debt collection</td>\n",
       "      <td>Unknown or not specified</td>\n",
       "      <td>Communication tactics</td>\n",
       "      <td>Frequent or repeated calls</td>\n",
       "      <td>TX</td>\n",
       "      <td>76119</td>\n",
       "      <td>2015-03-19</td>\n",
       "      <td>2015-03-19</td>\n",
       "      <td>Premium Asset Services, LLC</td>\n",
       "      <td>In progress</td>\n",
       "      <td>Yes</td>\n",
       "      <td>Unknown or not specified</td>\n",
       "      <td>0 days</td>\n",
       "      <td>Thursday</td>\n",
       "    </tr>\n",
       "    <tr>\n",
       "      <th>1</th>\n",
       "      <td>1290580</td>\n",
       "      <td>Debt collection</td>\n",
       "      <td>Medical</td>\n",
       "      <td>Cont'd attempts collect debt not owed</td>\n",
       "      <td>Debt is not mine</td>\n",
       "      <td>TX</td>\n",
       "      <td>77479</td>\n",
       "      <td>2015-03-19</td>\n",
       "      <td>2015-03-19</td>\n",
       "      <td>Accounts Receivable Consultants Inc.</td>\n",
       "      <td>Closed with explanation</td>\n",
       "      <td>Yes</td>\n",
       "      <td>Unknown or not specified</td>\n",
       "      <td>0 days</td>\n",
       "      <td>Thursday</td>\n",
       "    </tr>\n",
       "    <tr>\n",
       "      <th>2</th>\n",
       "      <td>1290564</td>\n",
       "      <td>Mortgage</td>\n",
       "      <td>FHA mortgage</td>\n",
       "      <td>Application, originator, mortgage broker</td>\n",
       "      <td>Unknown or not specified</td>\n",
       "      <td>MA</td>\n",
       "      <td>2127</td>\n",
       "      <td>2015-03-19</td>\n",
       "      <td>2015-03-19</td>\n",
       "      <td>RBS Citizens</td>\n",
       "      <td>Closed with explanation</td>\n",
       "      <td>Yes</td>\n",
       "      <td>Yes</td>\n",
       "      <td>0 days</td>\n",
       "      <td>Thursday</td>\n",
       "    </tr>\n",
       "    <tr>\n",
       "      <th>3</th>\n",
       "      <td>1291615</td>\n",
       "      <td>Credit card</td>\n",
       "      <td>Unknown or not specified</td>\n",
       "      <td>Other</td>\n",
       "      <td>Unknown or not specified</td>\n",
       "      <td>CA</td>\n",
       "      <td>92592</td>\n",
       "      <td>2015-03-19</td>\n",
       "      <td>2015-03-19</td>\n",
       "      <td>Navy FCU</td>\n",
       "      <td>In progress</td>\n",
       "      <td>Yes</td>\n",
       "      <td>Unknown or not specified</td>\n",
       "      <td>0 days</td>\n",
       "      <td>Thursday</td>\n",
       "    </tr>\n",
       "    <tr>\n",
       "      <th>4</th>\n",
       "      <td>1292165</td>\n",
       "      <td>Debt collection</td>\n",
       "      <td>Non-federal student loan</td>\n",
       "      <td>Cont'd attempts collect debt not owed</td>\n",
       "      <td>Debt resulted from identity theft</td>\n",
       "      <td>OH</td>\n",
       "      <td>43068</td>\n",
       "      <td>2015-03-19</td>\n",
       "      <td>2015-03-19</td>\n",
       "      <td>Transworld Systems Inc.</td>\n",
       "      <td>In progress</td>\n",
       "      <td>Yes</td>\n",
       "      <td>Unknown or not specified</td>\n",
       "      <td>0 days</td>\n",
       "      <td>Thursday</td>\n",
       "    </tr>\n",
       "    <tr>\n",
       "      <th>...</th>\n",
       "      <td>...</td>\n",
       "      <td>...</td>\n",
       "      <td>...</td>\n",
       "      <td>...</td>\n",
       "      <td>...</td>\n",
       "      <td>...</td>\n",
       "      <td>...</td>\n",
       "      <td>...</td>\n",
       "      <td>...</td>\n",
       "      <td>...</td>\n",
       "      <td>...</td>\n",
       "      <td>...</td>\n",
       "      <td>...</td>\n",
       "      <td>...</td>\n",
       "      <td>...</td>\n",
       "    </tr>\n",
       "    <tr>\n",
       "      <th>28151</th>\n",
       "      <td>1178184</td>\n",
       "      <td>Debt collection</td>\n",
       "      <td>Unknown or not specified</td>\n",
       "      <td>Cont'd attempts collect debt not owed</td>\n",
       "      <td>Debt is not mine</td>\n",
       "      <td>TX</td>\n",
       "      <td>75201</td>\n",
       "      <td>2015-01-01</td>\n",
       "      <td>2015-01-01</td>\n",
       "      <td>Enhanced Recovery Company, LLC</td>\n",
       "      <td>Closed with non-monetary relief</td>\n",
       "      <td>Yes</td>\n",
       "      <td>No</td>\n",
       "      <td>0 days</td>\n",
       "      <td>Thursday</td>\n",
       "    </tr>\n",
       "    <tr>\n",
       "      <th>28152</th>\n",
       "      <td>1178183</td>\n",
       "      <td>Consumer loan</td>\n",
       "      <td>Vehicle loan</td>\n",
       "      <td>Taking out the loan or lease</td>\n",
       "      <td>Unknown or not specified</td>\n",
       "      <td>GA</td>\n",
       "      <td>30043</td>\n",
       "      <td>2015-01-01</td>\n",
       "      <td>2015-01-01</td>\n",
       "      <td>DriveTime</td>\n",
       "      <td>Closed with explanation</td>\n",
       "      <td>Yes</td>\n",
       "      <td>Unknown or not specified</td>\n",
       "      <td>0 days</td>\n",
       "      <td>Thursday</td>\n",
       "    </tr>\n",
       "    <tr>\n",
       "      <th>28153</th>\n",
       "      <td>1178182</td>\n",
       "      <td>Mortgage</td>\n",
       "      <td>Conventional fixed mortgage</td>\n",
       "      <td>Loan servicing, payments, escrow account</td>\n",
       "      <td>Unknown or not specified</td>\n",
       "      <td>MN</td>\n",
       "      <td>55105</td>\n",
       "      <td>2015-01-01</td>\n",
       "      <td>2015-01-01</td>\n",
       "      <td>Regions</td>\n",
       "      <td>Closed with non-monetary relief</td>\n",
       "      <td>Yes</td>\n",
       "      <td>No</td>\n",
       "      <td>0 days</td>\n",
       "      <td>Thursday</td>\n",
       "    </tr>\n",
       "    <tr>\n",
       "      <th>28154</th>\n",
       "      <td>1178181</td>\n",
       "      <td>Payday loan</td>\n",
       "      <td>Unknown or not specified</td>\n",
       "      <td>Can't stop charges to bank account</td>\n",
       "      <td>Unknown or not specified</td>\n",
       "      <td>CA</td>\n",
       "      <td>92509</td>\n",
       "      <td>2015-01-01</td>\n",
       "      <td>2015-01-01</td>\n",
       "      <td>Moneytree Inc</td>\n",
       "      <td>Closed with explanation</td>\n",
       "      <td>Yes</td>\n",
       "      <td>Unknown or not specified</td>\n",
       "      <td>0 days</td>\n",
       "      <td>Thursday</td>\n",
       "    </tr>\n",
       "    <tr>\n",
       "      <th>28155</th>\n",
       "      <td>1178180</td>\n",
       "      <td>Money transfers</td>\n",
       "      <td>Domestic (US) money transfer</td>\n",
       "      <td>Other transaction issues</td>\n",
       "      <td>Unknown or not specified</td>\n",
       "      <td>OH</td>\n",
       "      <td>45068</td>\n",
       "      <td>2015-01-01</td>\n",
       "      <td>2015-01-01</td>\n",
       "      <td>PayPal</td>\n",
       "      <td>Closed with explanation</td>\n",
       "      <td>Yes</td>\n",
       "      <td>Yes</td>\n",
       "      <td>0 days</td>\n",
       "      <td>Thursday</td>\n",
       "    </tr>\n",
       "  </tbody>\n",
       "</table>\n",
       "<p>28156 rows × 15 columns</p>\n",
       "</div>"
      ],
      "text/plain": [
       "       Complaint ID          Product                   Sub-product  \\\n",
       "0           1291006  Debt collection      Unknown or not specified   \n",
       "1           1290580  Debt collection                       Medical   \n",
       "2           1290564         Mortgage                  FHA mortgage   \n",
       "3           1291615      Credit card      Unknown or not specified   \n",
       "4           1292165  Debt collection      Non-federal student loan   \n",
       "...             ...              ...                           ...   \n",
       "28151       1178184  Debt collection      Unknown or not specified   \n",
       "28152       1178183    Consumer loan                  Vehicle loan   \n",
       "28153       1178182         Mortgage   Conventional fixed mortgage   \n",
       "28154       1178181      Payday loan      Unknown or not specified   \n",
       "28155       1178180  Money transfers  Domestic (US) money transfer   \n",
       "\n",
       "                                          Issue  \\\n",
       "0                         Communication tactics   \n",
       "1         Cont'd attempts collect debt not owed   \n",
       "2      Application, originator, mortgage broker   \n",
       "3                                         Other   \n",
       "4         Cont'd attempts collect debt not owed   \n",
       "...                                         ...   \n",
       "28151     Cont'd attempts collect debt not owed   \n",
       "28152              Taking out the loan or lease   \n",
       "28153  Loan servicing, payments, escrow account   \n",
       "28154        Can't stop charges to bank account   \n",
       "28155                  Other transaction issues   \n",
       "\n",
       "                               Sub-issue State  ZIP code Date received  \\\n",
       "0             Frequent or repeated calls    TX     76119    2015-03-19   \n",
       "1                       Debt is not mine    TX     77479    2015-03-19   \n",
       "2               Unknown or not specified    MA      2127    2015-03-19   \n",
       "3               Unknown or not specified    CA     92592    2015-03-19   \n",
       "4      Debt resulted from identity theft    OH     43068    2015-03-19   \n",
       "...                                  ...   ...       ...           ...   \n",
       "28151                   Debt is not mine    TX     75201    2015-01-01   \n",
       "28152           Unknown or not specified    GA     30043    2015-01-01   \n",
       "28153           Unknown or not specified    MN     55105    2015-01-01   \n",
       "28154           Unknown or not specified    CA     92509    2015-01-01   \n",
       "28155           Unknown or not specified    OH     45068    2015-01-01   \n",
       "\n",
       "      Date sent to company                               Company  \\\n",
       "0               2015-03-19           Premium Asset Services, LLC   \n",
       "1               2015-03-19  Accounts Receivable Consultants Inc.   \n",
       "2               2015-03-19                          RBS Citizens   \n",
       "3               2015-03-19                              Navy FCU   \n",
       "4               2015-03-19               Transworld Systems Inc.   \n",
       "...                    ...                                   ...   \n",
       "28151           2015-01-01        Enhanced Recovery Company, LLC   \n",
       "28152           2015-01-01                             DriveTime   \n",
       "28153           2015-01-01                               Regions   \n",
       "28154           2015-01-01                         Moneytree Inc   \n",
       "28155           2015-01-01                                PayPal   \n",
       "\n",
       "                      Company response Timely response?  \\\n",
       "0                          In progress              Yes   \n",
       "1              Closed with explanation              Yes   \n",
       "2              Closed with explanation              Yes   \n",
       "3                          In progress              Yes   \n",
       "4                          In progress              Yes   \n",
       "...                                ...              ...   \n",
       "28151  Closed with non-monetary relief              Yes   \n",
       "28152          Closed with explanation              Yes   \n",
       "28153  Closed with non-monetary relief              Yes   \n",
       "28154          Closed with explanation              Yes   \n",
       "28155          Closed with explanation              Yes   \n",
       "\n",
       "             Consumer disputed? dias de retraso   weekday  \n",
       "0      Unknown or not specified          0 days  Thursday  \n",
       "1      Unknown or not specified          0 days  Thursday  \n",
       "2                           Yes          0 days  Thursday  \n",
       "3      Unknown or not specified          0 days  Thursday  \n",
       "4      Unknown or not specified          0 days  Thursday  \n",
       "...                         ...             ...       ...  \n",
       "28151                        No          0 days  Thursday  \n",
       "28152  Unknown or not specified          0 days  Thursday  \n",
       "28153                        No          0 days  Thursday  \n",
       "28154  Unknown or not specified          0 days  Thursday  \n",
       "28155                       Yes          0 days  Thursday  \n",
       "\n",
       "[28156 rows x 15 columns]"
      ]
     },
     "execution_count": 3,
     "metadata": {},
     "output_type": "execute_result"
    }
   ],
   "source": [
    "df"
   ]
  },
  {
   "cell_type": "code",
   "execution_count": 4,
   "id": "aedefa8c",
   "metadata": {},
   "outputs": [],
   "source": [
    "df.fillna(\"Unknown or not specified\", inplace=True)"
   ]
  },
  {
   "cell_type": "code",
   "execution_count": 5,
   "id": "7006488b",
   "metadata": {},
   "outputs": [
    {
     "data": {
      "text/plain": [
       "array(['Unknown or not specified', 'Yes', 'No'], dtype=object)"
      ]
     },
     "execution_count": 5,
     "metadata": {},
     "output_type": "execute_result"
    }
   ],
   "source": [
    "df[\"Consumer disputed?\"].unique()"
   ]
  },
  {
   "cell_type": "code",
   "execution_count": 6,
   "id": "94079f0d",
   "metadata": {},
   "outputs": [],
   "source": [
    "df=df.drop(columns=[\"Date received\",\t\"Date sent to company\" ])\n",
    "df=df[df[\"Company response\"]!=\"In progress\"]\n",
    "df=df[df[\"Consumer disputed?\"]!=\"Unknown or not specified\"]"
   ]
  },
  {
   "cell_type": "code",
   "execution_count": 7,
   "id": "7a87c66e",
   "metadata": {},
   "outputs": [
    {
     "data": {
      "text/html": [
       "<div>\n",
       "<style scoped>\n",
       "    .dataframe tbody tr th:only-of-type {\n",
       "        vertical-align: middle;\n",
       "    }\n",
       "\n",
       "    .dataframe tbody tr th {\n",
       "        vertical-align: top;\n",
       "    }\n",
       "\n",
       "    .dataframe thead th {\n",
       "        text-align: right;\n",
       "    }\n",
       "</style>\n",
       "<table border=\"1\" class=\"dataframe\">\n",
       "  <thead>\n",
       "    <tr style=\"text-align: right;\">\n",
       "      <th></th>\n",
       "      <th>Product</th>\n",
       "      <th>Sub-product</th>\n",
       "      <th>Issue</th>\n",
       "      <th>Sub-issue</th>\n",
       "      <th>State</th>\n",
       "      <th>Company</th>\n",
       "      <th>Company response</th>\n",
       "      <th>Timely response?</th>\n",
       "      <th>Consumer disputed?</th>\n",
       "      <th>weekday</th>\n",
       "    </tr>\n",
       "  </thead>\n",
       "  <tbody>\n",
       "    <tr>\n",
       "      <th>2</th>\n",
       "      <td>Mortgage</td>\n",
       "      <td>FHA mortgage</td>\n",
       "      <td>Application, originator, mortgage broker</td>\n",
       "      <td>Unknown or not specified</td>\n",
       "      <td>MA</td>\n",
       "      <td>RBS Citizens</td>\n",
       "      <td>Closed with explanation</td>\n",
       "      <td>Yes</td>\n",
       "      <td>Yes</td>\n",
       "      <td>Thursday</td>\n",
       "    </tr>\n",
       "    <tr>\n",
       "      <th>6</th>\n",
       "      <td>Consumer loan</td>\n",
       "      <td>Installment loan</td>\n",
       "      <td>Managing the loan or lease</td>\n",
       "      <td>Unknown or not specified</td>\n",
       "      <td>OH</td>\n",
       "      <td>CashCall, Inc.</td>\n",
       "      <td>Closed with explanation</td>\n",
       "      <td>Yes</td>\n",
       "      <td>Yes</td>\n",
       "      <td>Wednesday</td>\n",
       "    </tr>\n",
       "    <tr>\n",
       "      <th>9</th>\n",
       "      <td>Debt collection</td>\n",
       "      <td>Payday loan</td>\n",
       "      <td>Taking/threatening an illegal action</td>\n",
       "      <td>Threatened arrest/jail if do not pay</td>\n",
       "      <td>TX</td>\n",
       "      <td>Cottonwood Financial Ltd.</td>\n",
       "      <td>Closed with explanation</td>\n",
       "      <td>Yes</td>\n",
       "      <td>Yes</td>\n",
       "      <td>Wednesday</td>\n",
       "    </tr>\n",
       "    <tr>\n",
       "      <th>14</th>\n",
       "      <td>Debt collection</td>\n",
       "      <td>Other (phone, health club, etc.)</td>\n",
       "      <td>Disclosure verification of debt</td>\n",
       "      <td>Not given enough info to verify debt</td>\n",
       "      <td>UT</td>\n",
       "      <td>Account Liquidation Services Inc.</td>\n",
       "      <td>Closed with non-monetary relief</td>\n",
       "      <td>Yes</td>\n",
       "      <td>Yes</td>\n",
       "      <td>Wednesday</td>\n",
       "    </tr>\n",
       "    <tr>\n",
       "      <th>22</th>\n",
       "      <td>Debt collection</td>\n",
       "      <td>Unknown or not specified</td>\n",
       "      <td>Improper contact or sharing of info</td>\n",
       "      <td>Contacted me after I asked not to</td>\n",
       "      <td>IL</td>\n",
       "      <td>Municipal Collections Services, Inc.</td>\n",
       "      <td>Closed with explanation</td>\n",
       "      <td>Yes</td>\n",
       "      <td>Yes</td>\n",
       "      <td>Wednesday</td>\n",
       "    </tr>\n",
       "    <tr>\n",
       "      <th>...</th>\n",
       "      <td>...</td>\n",
       "      <td>...</td>\n",
       "      <td>...</td>\n",
       "      <td>...</td>\n",
       "      <td>...</td>\n",
       "      <td>...</td>\n",
       "      <td>...</td>\n",
       "      <td>...</td>\n",
       "      <td>...</td>\n",
       "      <td>...</td>\n",
       "    </tr>\n",
       "    <tr>\n",
       "      <th>28149</th>\n",
       "      <td>Credit reporting</td>\n",
       "      <td>Unknown or not specified</td>\n",
       "      <td>Improper use of my credit report</td>\n",
       "      <td>Report improperly shared by CRC</td>\n",
       "      <td>MI</td>\n",
       "      <td>Experian</td>\n",
       "      <td>Closed with explanation</td>\n",
       "      <td>Yes</td>\n",
       "      <td>No</td>\n",
       "      <td>Thursday</td>\n",
       "    </tr>\n",
       "    <tr>\n",
       "      <th>28150</th>\n",
       "      <td>Credit card</td>\n",
       "      <td>Unknown or not specified</td>\n",
       "      <td>Late fee</td>\n",
       "      <td>Unknown or not specified</td>\n",
       "      <td>AR</td>\n",
       "      <td>U.S. Bancorp</td>\n",
       "      <td>Closed with monetary relief</td>\n",
       "      <td>Yes</td>\n",
       "      <td>No</td>\n",
       "      <td>Thursday</td>\n",
       "    </tr>\n",
       "    <tr>\n",
       "      <th>28151</th>\n",
       "      <td>Debt collection</td>\n",
       "      <td>Unknown or not specified</td>\n",
       "      <td>Cont'd attempts collect debt not owed</td>\n",
       "      <td>Debt is not mine</td>\n",
       "      <td>TX</td>\n",
       "      <td>Enhanced Recovery Company, LLC</td>\n",
       "      <td>Closed with non-monetary relief</td>\n",
       "      <td>Yes</td>\n",
       "      <td>No</td>\n",
       "      <td>Thursday</td>\n",
       "    </tr>\n",
       "    <tr>\n",
       "      <th>28153</th>\n",
       "      <td>Mortgage</td>\n",
       "      <td>Conventional fixed mortgage</td>\n",
       "      <td>Loan servicing, payments, escrow account</td>\n",
       "      <td>Unknown or not specified</td>\n",
       "      <td>MN</td>\n",
       "      <td>Regions</td>\n",
       "      <td>Closed with non-monetary relief</td>\n",
       "      <td>Yes</td>\n",
       "      <td>No</td>\n",
       "      <td>Thursday</td>\n",
       "    </tr>\n",
       "    <tr>\n",
       "      <th>28155</th>\n",
       "      <td>Money transfers</td>\n",
       "      <td>Domestic (US) money transfer</td>\n",
       "      <td>Other transaction issues</td>\n",
       "      <td>Unknown or not specified</td>\n",
       "      <td>OH</td>\n",
       "      <td>PayPal</td>\n",
       "      <td>Closed with explanation</td>\n",
       "      <td>Yes</td>\n",
       "      <td>Yes</td>\n",
       "      <td>Thursday</td>\n",
       "    </tr>\n",
       "  </tbody>\n",
       "</table>\n",
       "<p>6006 rows × 10 columns</p>\n",
       "</div>"
      ],
      "text/plain": [
       "                Product                       Sub-product  \\\n",
       "2              Mortgage                      FHA mortgage   \n",
       "6         Consumer loan                  Installment loan   \n",
       "9       Debt collection                       Payday loan   \n",
       "14      Debt collection  Other (phone, health club, etc.)   \n",
       "22      Debt collection          Unknown or not specified   \n",
       "...                 ...                               ...   \n",
       "28149  Credit reporting          Unknown or not specified   \n",
       "28150       Credit card          Unknown or not specified   \n",
       "28151   Debt collection          Unknown or not specified   \n",
       "28153          Mortgage       Conventional fixed mortgage   \n",
       "28155   Money transfers      Domestic (US) money transfer   \n",
       "\n",
       "                                          Issue  \\\n",
       "2      Application, originator, mortgage broker   \n",
       "6                    Managing the loan or lease   \n",
       "9          Taking/threatening an illegal action   \n",
       "14              Disclosure verification of debt   \n",
       "22          Improper contact or sharing of info   \n",
       "...                                         ...   \n",
       "28149          Improper use of my credit report   \n",
       "28150                                  Late fee   \n",
       "28151     Cont'd attempts collect debt not owed   \n",
       "28153  Loan servicing, payments, escrow account   \n",
       "28155                  Other transaction issues   \n",
       "\n",
       "                                  Sub-issue State  \\\n",
       "2                  Unknown or not specified    MA   \n",
       "6                  Unknown or not specified    OH   \n",
       "9      Threatened arrest/jail if do not pay    TX   \n",
       "14     Not given enough info to verify debt    UT   \n",
       "22        Contacted me after I asked not to    IL   \n",
       "...                                     ...   ...   \n",
       "28149       Report improperly shared by CRC    MI   \n",
       "28150              Unknown or not specified    AR   \n",
       "28151                      Debt is not mine    TX   \n",
       "28153              Unknown or not specified    MN   \n",
       "28155              Unknown or not specified    OH   \n",
       "\n",
       "                                    Company                 Company response  \\\n",
       "2                              RBS Citizens          Closed with explanation   \n",
       "6                            CashCall, Inc.          Closed with explanation   \n",
       "9                 Cottonwood Financial Ltd.          Closed with explanation   \n",
       "14        Account Liquidation Services Inc.  Closed with non-monetary relief   \n",
       "22     Municipal Collections Services, Inc.          Closed with explanation   \n",
       "...                                     ...                              ...   \n",
       "28149                              Experian          Closed with explanation   \n",
       "28150                          U.S. Bancorp      Closed with monetary relief   \n",
       "28151        Enhanced Recovery Company, LLC  Closed with non-monetary relief   \n",
       "28153                               Regions  Closed with non-monetary relief   \n",
       "28155                                PayPal          Closed with explanation   \n",
       "\n",
       "      Timely response? Consumer disputed?    weekday  \n",
       "2                  Yes                Yes   Thursday  \n",
       "6                  Yes                Yes  Wednesday  \n",
       "9                  Yes                Yes  Wednesday  \n",
       "14                 Yes                Yes  Wednesday  \n",
       "22                 Yes                Yes  Wednesday  \n",
       "...                ...                ...        ...  \n",
       "28149              Yes                 No   Thursday  \n",
       "28150              Yes                 No   Thursday  \n",
       "28151              Yes                 No   Thursday  \n",
       "28153              Yes                 No   Thursday  \n",
       "28155              Yes                Yes   Thursday  \n",
       "\n",
       "[6006 rows x 10 columns]"
      ]
     },
     "execution_count": 7,
     "metadata": {},
     "output_type": "execute_result"
    }
   ],
   "source": [
    "df.drop(columns=[\"Complaint ID\", \"ZIP code\",\"dias de retraso\"], inplace=True)\n",
    "df"
   ]
  },
  {
   "cell_type": "code",
   "execution_count": 8,
   "id": "8a22e72c",
   "metadata": {},
   "outputs": [
    {
     "name": "stdout",
     "output_type": "stream",
     "text": [
      "<class 'pandas.core.frame.DataFrame'>\n",
      "Index: 6006 entries, 2 to 28155\n",
      "Data columns (total 10 columns):\n",
      " #   Column              Non-Null Count  Dtype \n",
      "---  ------              --------------  ----- \n",
      " 0   Product             6006 non-null   object\n",
      " 1   Sub-product         6006 non-null   object\n",
      " 2   Issue               6006 non-null   object\n",
      " 3   Sub-issue           6006 non-null   object\n",
      " 4   State               6006 non-null   object\n",
      " 5   Company             6006 non-null   object\n",
      " 6   Company response    6006 non-null   object\n",
      " 7   Timely response?    6006 non-null   object\n",
      " 8   Consumer disputed?  6006 non-null   object\n",
      " 9   weekday             6006 non-null   object\n",
      "dtypes: object(10)\n",
      "memory usage: 516.1+ KB\n"
     ]
    }
   ],
   "source": [
    "df.info()"
   ]
  },
  {
   "cell_type": "code",
   "execution_count": null,
   "id": "37640cea",
   "metadata": {},
   "outputs": [],
   "source": []
  },
  {
   "cell_type": "code",
   "execution_count": 9,
   "id": "530c2e41",
   "metadata": {},
   "outputs": [],
   "source": [
    "X=df.drop(columns=[\"Consumer disputed?\"])"
   ]
  },
  {
   "cell_type": "code",
   "execution_count": 10,
   "id": "3251b87c",
   "metadata": {},
   "outputs": [
    {
     "name": "stdout",
     "output_type": "stream",
     "text": [
      "<class 'pandas.core.frame.DataFrame'>\n",
      "Index: 6006 entries, 2 to 28155\n",
      "Data columns (total 9 columns):\n",
      " #   Column            Non-Null Count  Dtype \n",
      "---  ------            --------------  ----- \n",
      " 0   Product           6006 non-null   object\n",
      " 1   Sub-product       6006 non-null   object\n",
      " 2   Issue             6006 non-null   object\n",
      " 3   Sub-issue         6006 non-null   object\n",
      " 4   State             6006 non-null   object\n",
      " 5   Company           6006 non-null   object\n",
      " 6   Company response  6006 non-null   object\n",
      " 7   Timely response?  6006 non-null   object\n",
      " 8   weekday           6006 non-null   object\n",
      "dtypes: object(9)\n",
      "memory usage: 469.2+ KB\n"
     ]
    }
   ],
   "source": [
    "X.info()"
   ]
  },
  {
   "cell_type": "code",
   "execution_count": 11,
   "id": "2b2dc271",
   "metadata": {},
   "outputs": [],
   "source": [
    "y=df['Consumer disputed?'].apply(lambda x: 1 if x == 'Yes' else 0)"
   ]
  },
  {
   "cell_type": "code",
   "execution_count": 12,
   "id": "15731e26",
   "metadata": {},
   "outputs": [
    {
     "data": {
      "text/plain": [
       "2        1\n",
       "6        1\n",
       "9        1\n",
       "14       1\n",
       "22       1\n",
       "        ..\n",
       "28149    0\n",
       "28150    0\n",
       "28151    0\n",
       "28153    0\n",
       "28155    1\n",
       "Name: Consumer disputed?, Length: 6006, dtype: int64"
      ]
     },
     "execution_count": 12,
     "metadata": {},
     "output_type": "execute_result"
    }
   ],
   "source": [
    "y"
   ]
  },
  {
   "cell_type": "code",
   "execution_count": 13,
   "id": "ace7c226",
   "metadata": {},
   "outputs": [
    {
     "data": {
      "text/plain": [
       "(6006, 10)"
      ]
     },
     "execution_count": 13,
     "metadata": {},
     "output_type": "execute_result"
    }
   ],
   "source": [
    "df.shape"
   ]
  },
  {
   "cell_type": "code",
   "execution_count": 14,
   "id": "74ddbff1",
   "metadata": {},
   "outputs": [],
   "source": [
    "import pandas as pd\n",
    "import numpy as np\n",
    "from sklearn.pipeline import Pipeline\n",
    "from sklearn.model_selection import train_test_split\n",
    "from sklearn.preprocessing import LabelEncoder, OneHotEncoder, StandardScaler\n",
    "from sklearn.impute import SimpleImputer\n",
    "from sklearn.compose import ColumnTransformer\n",
    "import tensorflow as tf\n",
    "from tensorflow import keras\n",
    "from scikeras.wrappers import KerasClassifier\n",
    "from imblearn.pipeline import  Pipeline\n",
    "from tensorflow.keras.callbacks import EarlyStopping, ReduceLROnPlateau\n",
    "# --- Asumiendo que ya tienes el DataFrame df cargado y limpiado de NaNs básicos ---\n",
    "\n",
    "# 1. Codificación binaria de la variable objetivo\n",
    "\n",
    "from imblearn.pipeline import Pipeline as ImbPipeline\n",
    "from imblearn.over_sampling import ADASYN"
   ]
  },
  {
   "cell_type": "code",
   "execution_count": 15,
   "id": "d093fea1",
   "metadata": {},
   "outputs": [
    {
     "data": {
      "text/plain": [
       "Index(['Product', 'Sub-product', 'Issue', 'Sub-issue', 'State', 'Company',\n",
       "       'Company response', 'Timely response?', 'weekday'],\n",
       "      dtype='object')"
      ]
     },
     "execution_count": 15,
     "metadata": {},
     "output_type": "execute_result"
    }
   ],
   "source": [
    "X.columns"
   ]
  },
  {
   "cell_type": "code",
   "execution_count": 16,
   "id": "8e6a35d0",
   "metadata": {},
   "outputs": [],
   "source": [
    "categorical_features=['Product', 'Sub-product', 'Issue', 'Sub-issue', 'State',\n",
    "       'Company response', 'Timely response?', 'weekday', \"Company\"]\n",
    "\n",
    "\n"
   ]
  },
  {
   "cell_type": "code",
   "execution_count": 17,
   "id": "1b82e624",
   "metadata": {},
   "outputs": [],
   "source": [
    "preprocessor = ColumnTransformer(\n",
    "    transformers=[\n",
    "        ('cat', OneHotEncoder(handle_unknown='ignore', sparse_output=False), categorical_features), \n",
    "\n",
    "    ],\n",
    "\n",
    "    remainder='passthrough'  # deja pasar las numéricas sin tocar\n",
    ")"
   ]
  },
  {
   "cell_type": "code",
   "execution_count": 18,
   "id": "a620541a",
   "metadata": {},
   "outputs": [
    {
     "data": {
      "text/plain": [
       "952"
      ]
     },
     "execution_count": 18,
     "metadata": {},
     "output_type": "execute_result"
    }
   ],
   "source": [
    "n_features=preprocessor.fit_transform(X).shape[1]\n",
    "n_features"
   ]
  },
  {
   "cell_type": "code",
   "execution_count": 19,
   "id": "2996fc7e",
   "metadata": {},
   "outputs": [],
   "source": [
    "\n",
    "\n",
    "\n",
    "X_train, X_test, y_train, y_test = train_test_split(X, y, test_size = 0.20, random_state = 42, shuffle=True)"
   ]
  },
  {
   "cell_type": "code",
   "execution_count": 20,
   "id": "b4b55dfc",
   "metadata": {},
   "outputs": [
    {
     "data": {
      "text/html": [
       "<div>\n",
       "<style scoped>\n",
       "    .dataframe tbody tr th:only-of-type {\n",
       "        vertical-align: middle;\n",
       "    }\n",
       "\n",
       "    .dataframe tbody tr th {\n",
       "        vertical-align: top;\n",
       "    }\n",
       "\n",
       "    .dataframe thead th {\n",
       "        text-align: right;\n",
       "    }\n",
       "</style>\n",
       "<table border=\"1\" class=\"dataframe\">\n",
       "  <thead>\n",
       "    <tr style=\"text-align: right;\">\n",
       "      <th></th>\n",
       "      <th>Product</th>\n",
       "      <th>Sub-product</th>\n",
       "      <th>Issue</th>\n",
       "      <th>Sub-issue</th>\n",
       "      <th>State</th>\n",
       "      <th>Company</th>\n",
       "      <th>Company response</th>\n",
       "      <th>Timely response?</th>\n",
       "      <th>weekday</th>\n",
       "    </tr>\n",
       "  </thead>\n",
       "  <tbody>\n",
       "    <tr>\n",
       "      <th>27601</th>\n",
       "      <td>Debt collection</td>\n",
       "      <td>Medical</td>\n",
       "      <td>Cont'd attempts collect debt not owed</td>\n",
       "      <td>Debt is not mine</td>\n",
       "      <td>MD</td>\n",
       "      <td>Berks Credit and Collections, Inc.</td>\n",
       "      <td>Closed with explanation</td>\n",
       "      <td>Yes</td>\n",
       "      <td>Friday</td>\n",
       "    </tr>\n",
       "    <tr>\n",
       "      <th>27910</th>\n",
       "      <td>Debt collection</td>\n",
       "      <td>Medical</td>\n",
       "      <td>Cont'd attempts collect debt not owed</td>\n",
       "      <td>Debt was paid</td>\n",
       "      <td>MI</td>\n",
       "      <td>RMP Group Inc.</td>\n",
       "      <td>Closed with explanation</td>\n",
       "      <td>Yes</td>\n",
       "      <td>Friday</td>\n",
       "    </tr>\n",
       "    <tr>\n",
       "      <th>16004</th>\n",
       "      <td>Debt collection</td>\n",
       "      <td>Medical</td>\n",
       "      <td>Cont'd attempts collect debt not owed</td>\n",
       "      <td>Debt is not mine</td>\n",
       "      <td>NY</td>\n",
       "      <td>Commonwealth Financial Systems, Inc.</td>\n",
       "      <td>Closed with explanation</td>\n",
       "      <td>Yes</td>\n",
       "      <td>Friday</td>\n",
       "    </tr>\n",
       "    <tr>\n",
       "      <th>27139</th>\n",
       "      <td>Credit card</td>\n",
       "      <td>Unknown or not specified</td>\n",
       "      <td>Billing disputes</td>\n",
       "      <td>Unknown or not specified</td>\n",
       "      <td>DC</td>\n",
       "      <td>JPMorgan Chase</td>\n",
       "      <td>Closed with monetary relief</td>\n",
       "      <td>Yes</td>\n",
       "      <td>Monday</td>\n",
       "    </tr>\n",
       "    <tr>\n",
       "      <th>27640</th>\n",
       "      <td>Bank account or service</td>\n",
       "      <td>Checking account</td>\n",
       "      <td>Making/receiving payments, sending money</td>\n",
       "      <td>Unknown or not specified</td>\n",
       "      <td>MS</td>\n",
       "      <td>First Data Corporation</td>\n",
       "      <td>Closed with explanation</td>\n",
       "      <td>Yes</td>\n",
       "      <td>Friday</td>\n",
       "    </tr>\n",
       "    <tr>\n",
       "      <th>...</th>\n",
       "      <td>...</td>\n",
       "      <td>...</td>\n",
       "      <td>...</td>\n",
       "      <td>...</td>\n",
       "      <td>...</td>\n",
       "      <td>...</td>\n",
       "      <td>...</td>\n",
       "      <td>...</td>\n",
       "      <td>...</td>\n",
       "    </tr>\n",
       "    <tr>\n",
       "      <th>23427</th>\n",
       "      <td>Credit card</td>\n",
       "      <td>Unknown or not specified</td>\n",
       "      <td>APR or interest rate</td>\n",
       "      <td>Unknown or not specified</td>\n",
       "      <td>TX</td>\n",
       "      <td>GE Capital Retail</td>\n",
       "      <td>Closed with monetary relief</td>\n",
       "      <td>Yes</td>\n",
       "      <td>Tuesday</td>\n",
       "    </tr>\n",
       "    <tr>\n",
       "      <th>26892</th>\n",
       "      <td>Mortgage</td>\n",
       "      <td>Conventional fixed mortgage</td>\n",
       "      <td>Loan servicing, payments, escrow account</td>\n",
       "      <td>Unknown or not specified</td>\n",
       "      <td>OH</td>\n",
       "      <td>SunTrust Bank</td>\n",
       "      <td>Closed with non-monetary relief</td>\n",
       "      <td>Yes</td>\n",
       "      <td>Monday</td>\n",
       "    </tr>\n",
       "    <tr>\n",
       "      <th>26952</th>\n",
       "      <td>Mortgage</td>\n",
       "      <td>Conventional adjustable mortgage (ARM)</td>\n",
       "      <td>Loan servicing, payments, escrow account</td>\n",
       "      <td>Unknown or not specified</td>\n",
       "      <td>CO</td>\n",
       "      <td>Nationstar Mortgage</td>\n",
       "      <td>Closed with explanation</td>\n",
       "      <td>Yes</td>\n",
       "      <td>Monday</td>\n",
       "    </tr>\n",
       "    <tr>\n",
       "      <th>27236</th>\n",
       "      <td>Credit reporting</td>\n",
       "      <td>Unknown or not specified</td>\n",
       "      <td>Incorrect information on credit report</td>\n",
       "      <td>Information is not mine</td>\n",
       "      <td>CA</td>\n",
       "      <td>TransUnion</td>\n",
       "      <td>Closed with non-monetary relief</td>\n",
       "      <td>Yes</td>\n",
       "      <td>Monday</td>\n",
       "    </tr>\n",
       "    <tr>\n",
       "      <th>6784</th>\n",
       "      <td>Debt collection</td>\n",
       "      <td>Unknown or not specified</td>\n",
       "      <td>Cont'd attempts collect debt not owed</td>\n",
       "      <td>Debt is not mine</td>\n",
       "      <td>CA</td>\n",
       "      <td>Convergent Resources, Inc.</td>\n",
       "      <td>Closed with explanation</td>\n",
       "      <td>Yes</td>\n",
       "      <td>Friday</td>\n",
       "    </tr>\n",
       "  </tbody>\n",
       "</table>\n",
       "<p>4804 rows × 9 columns</p>\n",
       "</div>"
      ],
      "text/plain": [
       "                       Product                             Sub-product  \\\n",
       "27601          Debt collection                                 Medical   \n",
       "27910          Debt collection                                 Medical   \n",
       "16004          Debt collection                                 Medical   \n",
       "27139              Credit card                Unknown or not specified   \n",
       "27640  Bank account or service                        Checking account   \n",
       "...                        ...                                     ...   \n",
       "23427              Credit card                Unknown or not specified   \n",
       "26892                 Mortgage             Conventional fixed mortgage   \n",
       "26952                 Mortgage  Conventional adjustable mortgage (ARM)   \n",
       "27236         Credit reporting                Unknown or not specified   \n",
       "6784           Debt collection                Unknown or not specified   \n",
       "\n",
       "                                          Issue                 Sub-issue  \\\n",
       "27601     Cont'd attempts collect debt not owed          Debt is not mine   \n",
       "27910     Cont'd attempts collect debt not owed             Debt was paid   \n",
       "16004     Cont'd attempts collect debt not owed          Debt is not mine   \n",
       "27139                          Billing disputes  Unknown or not specified   \n",
       "27640  Making/receiving payments, sending money  Unknown or not specified   \n",
       "...                                         ...                       ...   \n",
       "23427                      APR or interest rate  Unknown or not specified   \n",
       "26892  Loan servicing, payments, escrow account  Unknown or not specified   \n",
       "26952  Loan servicing, payments, escrow account  Unknown or not specified   \n",
       "27236    Incorrect information on credit report   Information is not mine   \n",
       "6784      Cont'd attempts collect debt not owed          Debt is not mine   \n",
       "\n",
       "      State                               Company  \\\n",
       "27601    MD    Berks Credit and Collections, Inc.   \n",
       "27910    MI                        RMP Group Inc.   \n",
       "16004    NY  Commonwealth Financial Systems, Inc.   \n",
       "27139    DC                        JPMorgan Chase   \n",
       "27640    MS                First Data Corporation   \n",
       "...     ...                                   ...   \n",
       "23427    TX                     GE Capital Retail   \n",
       "26892    OH                         SunTrust Bank   \n",
       "26952    CO                   Nationstar Mortgage   \n",
       "27236    CA                            TransUnion   \n",
       "6784     CA            Convergent Resources, Inc.   \n",
       "\n",
       "                      Company response Timely response?  weekday  \n",
       "27601          Closed with explanation              Yes   Friday  \n",
       "27910          Closed with explanation              Yes   Friday  \n",
       "16004          Closed with explanation              Yes   Friday  \n",
       "27139      Closed with monetary relief              Yes   Monday  \n",
       "27640          Closed with explanation              Yes   Friday  \n",
       "...                                ...              ...      ...  \n",
       "23427      Closed with monetary relief              Yes  Tuesday  \n",
       "26892  Closed with non-monetary relief              Yes   Monday  \n",
       "26952          Closed with explanation              Yes   Monday  \n",
       "27236  Closed with non-monetary relief              Yes   Monday  \n",
       "6784           Closed with explanation              Yes   Friday  \n",
       "\n",
       "[4804 rows x 9 columns]"
      ]
     },
     "execution_count": 20,
     "metadata": {},
     "output_type": "execute_result"
    }
   ],
   "source": [
    "X_train"
   ]
  },
  {
   "cell_type": "code",
   "execution_count": 21,
   "id": "32df2f79",
   "metadata": {},
   "outputs": [
    {
     "data": {
      "text/plain": [
       "'model = keras.Sequential([\\n    keras.layers.Input(shape=(n_features,)),\\n    keras.layers.Dense(50, activation=\\'tanh\\'),\\n    keras.layers.Dense(50, activation=\\'relu\\'),\\n    keras.layers.Dense(1, activation=\"sigmoid\")   # 1 neurona + sigmoid\\n])'"
      ]
     },
     "execution_count": 21,
     "metadata": {},
     "output_type": "execute_result"
    }
   ],
   "source": [
    "\n",
    "\n",
    "\"\"\"model = keras.Sequential([\n",
    "    keras.layers.Input(shape=(n_features,)),\n",
    "    keras.layers.Dense(50, activation='tanh'),\n",
    "    keras.layers.Dense(50, activation='relu'),\n",
    "    keras.layers.Dense(1, activation=\"sigmoid\")   # 1 neurona + sigmoid\n",
    "])\"\"\""
   ]
  },
  {
   "cell_type": "code",
   "execution_count": 29,
   "id": "1084be4a",
   "metadata": {},
   "outputs": [],
   "source": [
    "import keras\n",
    "from keras import layers\n",
    "from keras import ops\n",
    "\n",
    "def create_model(**kwargs):\n",
    "\n",
    "\n",
    "    model = keras.Sequential()\n",
    "\n",
    "\n",
    "\n",
    "    model.add(keras.layers.Dense(256, activation='relu', kernel_regularizer=keras.regularizers.l2(0.001))) # mismo que la anterior pero decreciente   \n",
    "    model.add(keras.layers.BatchNormalization())\n",
    "    model.add(keras.layers.Dropout(0.3))\n",
    "        \n",
    "    model.add(keras.layers.Dense(128, activation='relu', kernel_regularizer=keras.regularizers.l2(0.001))) # mismo que la anterior pero decreciente   \n",
    "    model.add(keras.layers.BatchNormalization())\n",
    "    model.add(keras.layers.Dropout(0.3))\n",
    "\n",
    "    model.add(keras.layers.Dense(64, activation='relu', kernel_regularizer=keras.regularizers.l2(0.001))) # mismo que la anterior pero decreciente   \n",
    "    model.add(keras.layers.BatchNormalization())\n",
    "    model.add(keras.layers.Dropout(0.3))\n",
    "\n",
    "    model.add(keras.layers.Dense(32, activation='relu', kernel_regularizer=keras.regularizers.l2(0.001))) # mismo que la anterior pero decreciente   \n",
    "    model.add(keras.layers.BatchNormalization())\n",
    "    model.add(keras.layers.Dropout(0.3))\n",
    "    \n",
    "\n",
    "    model.add(keras.layers.Dense(1, activation='sigmoid'))  # salida binaria\n",
    "  \n",
    "    model.compile(\n",
    "    optimizer=tf.keras.optimizers.RMSprop(0.001),\n",
    "    loss=\"binary_crossentropy\",\n",
    "    metrics=[\n",
    "        \"accuracy\",\n",
    "        tf.keras.metrics.AUC(name=\"auc\", curve=\"ROC\"),  # AUC‑ROC\n",
    "  \n",
    "    ]\n",
    ")\n",
    "    return model"
   ]
  },
  {
   "cell_type": "code",
   "execution_count": 30,
   "id": "39bef65d",
   "metadata": {},
   "outputs": [],
   "source": [
    "from keras.callbacks import EarlyStopping, ReduceLROnPlateau"
   ]
  },
  {
   "cell_type": "code",
   "execution_count": 31,
   "id": "3ed5487f",
   "metadata": {},
   "outputs": [],
   "source": [
    "early_stop = EarlyStopping(\n",
    "    monitor='val_loss',      # Observa la pérdida en validación\n",
    "    patience=20,             # Espera 20 épocas sin mejora antes de detener\n",
    "    restore_best_weights=True # Restaura los mejores pesos\n",
    ")\n",
    "\n",
    "reduce_lr = ReduceLROnPlateau(\n",
    "    monitor='val_loss',\n",
    "    factor=0.5,              # Reduce la tasa de aprendizaje a la mitad\n",
    "    patience=10,             # Si no mejora en 10 épocas\n",
    "    min_lr=1e-6\n",
    ")"
   ]
  },
  {
   "cell_type": "code",
   "execution_count": 32,
   "id": "bc6752a5",
   "metadata": {},
   "outputs": [],
   "source": [
    "from keras.wrappers import SKLearnClassifier"
   ]
  },
  {
   "cell_type": "code",
   "execution_count": 33,
   "id": "a4957f0f",
   "metadata": {},
   "outputs": [],
   "source": [
    "X_train_transformed = preprocessor.fit_transform(X_train)\n",
    "input_shape = X_train_transformed.shape[1]\n",
    "\n",
    "keras_clf = KerasClassifier(\n",
    "    \n",
    "    model=create_model(),\n",
    "    epochs=500,\n",
    "    batch_size=64,\n",
    "    model__input_shape=input_shape,\n",
    "    random_state=42,\n",
    "    validation_split=0.2,\n",
    "    callbacks=[early_stop, reduce_lr],\n",
    "\n",
    ")"
   ]
  },
  {
   "cell_type": "code",
   "execution_count": 34,
   "id": "2c6ffd8c",
   "metadata": {},
   "outputs": [],
   "source": [
    "model_pipeline = ImbPipeline(steps=[\n",
    "    ('preprocessor', preprocessor),\n",
    "    ('oversampler', ADASYN(random_state=42)),\n",
    "    ('class', keras_clf)\n",
    "])"
   ]
  },
  {
   "cell_type": "code",
   "execution_count": 35,
   "id": "cb1fac39",
   "metadata": {},
   "outputs": [
    {
     "ename": "TypeError",
     "evalue": "BaseWrapper._check_model_param.<locals>.final_build_fn() got an unexpected keyword argument 'input_shape'",
     "output_type": "error",
     "traceback": [
      "\u001b[31m---------------------------------------------------------------------------\u001b[39m",
      "\u001b[31mTypeError\u001b[39m                                 Traceback (most recent call last)",
      "\u001b[36mCell\u001b[39m\u001b[36m \u001b[39m\u001b[32mIn[35]\u001b[39m\u001b[32m, line 1\u001b[39m\n\u001b[32m----> \u001b[39m\u001b[32m1\u001b[39m \u001b[43mmodel_pipeline\u001b[49m\u001b[43m.\u001b[49m\u001b[43mfit\u001b[49m\u001b[43m(\u001b[49m\u001b[43mX_train\u001b[49m\u001b[43m,\u001b[49m\u001b[43m \u001b[49m\u001b[43my_train\u001b[49m\u001b[43m)\u001b[49m\n",
      "\u001b[36mFile \u001b[39m\u001b[32mc:\\Users\\unaif\\anaconda3\\envs\\projecto\\Lib\\site-packages\\sklearn\\base.py:1389\u001b[39m, in \u001b[36m_fit_context.<locals>.decorator.<locals>.wrapper\u001b[39m\u001b[34m(estimator, *args, **kwargs)\u001b[39m\n\u001b[32m   1382\u001b[39m     estimator._validate_params()\n\u001b[32m   1384\u001b[39m \u001b[38;5;28;01mwith\u001b[39;00m config_context(\n\u001b[32m   1385\u001b[39m     skip_parameter_validation=(\n\u001b[32m   1386\u001b[39m         prefer_skip_nested_validation \u001b[38;5;129;01mor\u001b[39;00m global_skip_validation\n\u001b[32m   1387\u001b[39m     )\n\u001b[32m   1388\u001b[39m ):\n\u001b[32m-> \u001b[39m\u001b[32m1389\u001b[39m     \u001b[38;5;28;01mreturn\u001b[39;00m \u001b[43mfit_method\u001b[49m\u001b[43m(\u001b[49m\u001b[43mestimator\u001b[49m\u001b[43m,\u001b[49m\u001b[43m \u001b[49m\u001b[43m*\u001b[49m\u001b[43margs\u001b[49m\u001b[43m,\u001b[49m\u001b[43m \u001b[49m\u001b[43m*\u001b[49m\u001b[43m*\u001b[49m\u001b[43mkwargs\u001b[49m\u001b[43m)\u001b[49m\n",
      "\u001b[36mFile \u001b[39m\u001b[32mc:\\Users\\unaif\\anaconda3\\envs\\projecto\\Lib\\site-packages\\imblearn\\pipeline.py:526\u001b[39m, in \u001b[36mPipeline.fit\u001b[39m\u001b[34m(self, X, y, **params)\u001b[39m\n\u001b[32m    520\u001b[39m     \u001b[38;5;28;01mif\u001b[39;00m \u001b[38;5;28mself\u001b[39m._final_estimator != \u001b[33m\"\u001b[39m\u001b[33mpassthrough\u001b[39m\u001b[33m\"\u001b[39m:\n\u001b[32m    521\u001b[39m         last_step_params = \u001b[38;5;28mself\u001b[39m._get_metadata_for_step(\n\u001b[32m    522\u001b[39m             step_idx=\u001b[38;5;28mlen\u001b[39m(\u001b[38;5;28mself\u001b[39m) - \u001b[32m1\u001b[39m,\n\u001b[32m    523\u001b[39m             step_params=routed_params[\u001b[38;5;28mself\u001b[39m.steps[-\u001b[32m1\u001b[39m][\u001b[32m0\u001b[39m]],\n\u001b[32m    524\u001b[39m             all_params=params,\n\u001b[32m    525\u001b[39m         )\n\u001b[32m--> \u001b[39m\u001b[32m526\u001b[39m         \u001b[38;5;28;43mself\u001b[39;49m\u001b[43m.\u001b[49m\u001b[43m_final_estimator\u001b[49m\u001b[43m.\u001b[49m\u001b[43mfit\u001b[49m\u001b[43m(\u001b[49m\u001b[43mXt\u001b[49m\u001b[43m,\u001b[49m\u001b[43m \u001b[49m\u001b[43myt\u001b[49m\u001b[43m,\u001b[49m\u001b[43m \u001b[49m\u001b[43m*\u001b[49m\u001b[43m*\u001b[49m\u001b[43mlast_step_params\u001b[49m\u001b[43m[\u001b[49m\u001b[33;43m\"\u001b[39;49m\u001b[33;43mfit\u001b[39;49m\u001b[33;43m\"\u001b[39;49m\u001b[43m]\u001b[49m\u001b[43m)\u001b[49m\n\u001b[32m    527\u001b[39m \u001b[38;5;28;01mreturn\u001b[39;00m \u001b[38;5;28mself\u001b[39m\n",
      "\u001b[36mFile \u001b[39m\u001b[32mc:\\Users\\unaif\\anaconda3\\envs\\projecto\\Lib\\site-packages\\scikeras\\wrappers.py:1501\u001b[39m, in \u001b[36mKerasClassifier.fit\u001b[39m\u001b[34m(self, X, y, sample_weight, **kwargs)\u001b[39m\n\u001b[32m   1499\u001b[39m     sample_weight = \u001b[32m1\u001b[39m \u001b[38;5;28;01mif\u001b[39;00m sample_weight \u001b[38;5;129;01mis\u001b[39;00m \u001b[38;5;28;01mNone\u001b[39;00m \u001b[38;5;28;01melse\u001b[39;00m sample_weight\n\u001b[32m   1500\u001b[39m     sample_weight *= compute_sample_weight(class_weight=\u001b[38;5;28mself\u001b[39m.class_weight, y=y)\n\u001b[32m-> \u001b[39m\u001b[32m1501\u001b[39m \u001b[38;5;28;43msuper\u001b[39;49m\u001b[43m(\u001b[49m\u001b[43m)\u001b[49m\u001b[43m.\u001b[49m\u001b[43mfit\u001b[49m\u001b[43m(\u001b[49m\u001b[43mX\u001b[49m\u001b[43m=\u001b[49m\u001b[43mX\u001b[49m\u001b[43m,\u001b[49m\u001b[43m \u001b[49m\u001b[43my\u001b[49m\u001b[43m=\u001b[49m\u001b[43my\u001b[49m\u001b[43m,\u001b[49m\u001b[43m \u001b[49m\u001b[43msample_weight\u001b[49m\u001b[43m=\u001b[49m\u001b[43msample_weight\u001b[49m\u001b[43m,\u001b[49m\u001b[43m \u001b[49m\u001b[43m*\u001b[49m\u001b[43m*\u001b[49m\u001b[43mkwargs\u001b[49m\u001b[43m)\u001b[49m\n\u001b[32m   1502\u001b[39m \u001b[38;5;28;01mreturn\u001b[39;00m \u001b[38;5;28mself\u001b[39m\n",
      "\u001b[36mFile \u001b[39m\u001b[32mc:\\Users\\unaif\\anaconda3\\envs\\projecto\\Lib\\site-packages\\scikeras\\wrappers.py:770\u001b[39m, in \u001b[36mBaseWrapper.fit\u001b[39m\u001b[34m(self, X, y, sample_weight, **kwargs)\u001b[39m\n\u001b[32m    765\u001b[39m kwargs[\u001b[33m\"\u001b[39m\u001b[33mepochs\u001b[39m\u001b[33m\"\u001b[39m] = kwargs.get(\n\u001b[32m    766\u001b[39m     \u001b[33m\"\u001b[39m\u001b[33mepochs\u001b[39m\u001b[33m\"\u001b[39m, \u001b[38;5;28mgetattr\u001b[39m(\u001b[38;5;28mself\u001b[39m, \u001b[33m\"\u001b[39m\u001b[33mfit__epochs\u001b[39m\u001b[33m\"\u001b[39m, \u001b[38;5;28mself\u001b[39m.epochs)\n\u001b[32m    767\u001b[39m )\n\u001b[32m    768\u001b[39m kwargs[\u001b[33m\"\u001b[39m\u001b[33minitial_epoch\u001b[39m\u001b[33m\"\u001b[39m] = kwargs.get(\u001b[33m\"\u001b[39m\u001b[33minitial_epoch\u001b[39m\u001b[33m\"\u001b[39m, \u001b[32m0\u001b[39m)\n\u001b[32m--> \u001b[39m\u001b[32m770\u001b[39m \u001b[38;5;28;43mself\u001b[39;49m\u001b[43m.\u001b[49m\u001b[43m_fit\u001b[49m\u001b[43m(\u001b[49m\n\u001b[32m    771\u001b[39m \u001b[43m    \u001b[49m\u001b[43mX\u001b[49m\u001b[43m=\u001b[49m\u001b[43mX\u001b[49m\u001b[43m,\u001b[49m\n\u001b[32m    772\u001b[39m \u001b[43m    \u001b[49m\u001b[43my\u001b[49m\u001b[43m=\u001b[49m\u001b[43my\u001b[49m\u001b[43m,\u001b[49m\n\u001b[32m    773\u001b[39m \u001b[43m    \u001b[49m\u001b[43msample_weight\u001b[49m\u001b[43m=\u001b[49m\u001b[43msample_weight\u001b[49m\u001b[43m,\u001b[49m\n\u001b[32m    774\u001b[39m \u001b[43m    \u001b[49m\u001b[43mwarm_start\u001b[49m\u001b[43m=\u001b[49m\u001b[38;5;28;43mself\u001b[39;49m\u001b[43m.\u001b[49m\u001b[43mwarm_start\u001b[49m\u001b[43m,\u001b[49m\n\u001b[32m    775\u001b[39m \u001b[43m    \u001b[49m\u001b[43m*\u001b[49m\u001b[43m*\u001b[49m\u001b[43mkwargs\u001b[49m\u001b[43m,\u001b[49m\n\u001b[32m    776\u001b[39m \u001b[43m\u001b[49m\u001b[43m)\u001b[49m\n\u001b[32m    778\u001b[39m \u001b[38;5;28;01mreturn\u001b[39;00m \u001b[38;5;28mself\u001b[39m\n",
      "\u001b[36mFile \u001b[39m\u001b[32mc:\\Users\\unaif\\anaconda3\\envs\\projecto\\Lib\\site-packages\\scikeras\\wrappers.py:925\u001b[39m, in \u001b[36mBaseWrapper._fit\u001b[39m\u001b[34m(self, X, y, sample_weight, warm_start, epochs, initial_epoch, **kwargs)\u001b[39m\n\u001b[32m    923\u001b[39m \u001b[38;5;66;03m# Data checks\u001b[39;00m\n\u001b[32m    924\u001b[39m \u001b[38;5;28;01mif\u001b[39;00m \u001b[38;5;129;01mnot\u001b[39;00m ((\u001b[38;5;28mself\u001b[39m.warm_start \u001b[38;5;129;01mor\u001b[39;00m warm_start) \u001b[38;5;129;01mand\u001b[39;00m \u001b[38;5;28mself\u001b[39m.initialized_):\n\u001b[32m--> \u001b[39m\u001b[32m925\u001b[39m     X, y = \u001b[38;5;28;43mself\u001b[39;49m\u001b[43m.\u001b[49m\u001b[43m_initialize\u001b[49m\u001b[43m(\u001b[49m\u001b[43mX\u001b[49m\u001b[43m,\u001b[49m\u001b[43m \u001b[49m\u001b[43my\u001b[49m\u001b[43m)\u001b[49m\n\u001b[32m    926\u001b[39m \u001b[38;5;28;01melse\u001b[39;00m:\n\u001b[32m    927\u001b[39m     X, y = \u001b[38;5;28mself\u001b[39m._validate_data(X, y)\n",
      "\u001b[36mFile \u001b[39m\u001b[32mc:\\Users\\unaif\\anaconda3\\envs\\projecto\\Lib\\site-packages\\scikeras\\wrappers.py:862\u001b[39m, in \u001b[36mBaseWrapper._initialize\u001b[39m\u001b[34m(self, X, y)\u001b[39m\n\u001b[32m    859\u001b[39m feature_meta = \u001b[38;5;28mgetattr\u001b[39m(\u001b[38;5;28mself\u001b[39m.feature_encoder, \u001b[33m\"\u001b[39m\u001b[33mget_metadata\u001b[39m\u001b[33m\"\u001b[39m, \u001b[38;5;28mdict\u001b[39m)()\n\u001b[32m    860\u001b[39m \u001b[38;5;28mvars\u001b[39m(\u001b[38;5;28mself\u001b[39m).update(**feature_meta)\n\u001b[32m--> \u001b[39m\u001b[32m862\u001b[39m \u001b[38;5;28mself\u001b[39m.model_ = \u001b[38;5;28;43mself\u001b[39;49m\u001b[43m.\u001b[49m\u001b[43m_build_keras_model\u001b[49m\u001b[43m(\u001b[49m\u001b[43m)\u001b[49m\n\u001b[32m    863\u001b[39m \u001b[38;5;28mself\u001b[39m._initialize_callbacks()\n\u001b[32m    865\u001b[39m \u001b[38;5;28;01mreturn\u001b[39;00m X, y\n",
      "\u001b[36mFile \u001b[39m\u001b[32mc:\\Users\\unaif\\anaconda3\\envs\\projecto\\Lib\\site-packages\\scikeras\\wrappers.py:431\u001b[39m, in \u001b[36mBaseWrapper._build_keras_model\u001b[39m\u001b[34m(self)\u001b[39m\n\u001b[32m    429\u001b[39m \u001b[38;5;28;01mif\u001b[39;00m \u001b[38;5;28mself\u001b[39m._random_state \u001b[38;5;129;01mis\u001b[39;00m \u001b[38;5;129;01mnot\u001b[39;00m \u001b[38;5;28;01mNone\u001b[39;00m:\n\u001b[32m    430\u001b[39m     \u001b[38;5;28;01mwith\u001b[39;00m tensorflow_random_state(\u001b[38;5;28mself\u001b[39m._random_state):\n\u001b[32m--> \u001b[39m\u001b[32m431\u001b[39m         model = \u001b[43mfinal_build_fn\u001b[49m\u001b[43m(\u001b[49m\u001b[43m*\u001b[49m\u001b[43m*\u001b[49m\u001b[43mbuild_params\u001b[49m\u001b[43m)\u001b[49m\n\u001b[32m    432\u001b[39m \u001b[38;5;28;01melse\u001b[39;00m:\n\u001b[32m    433\u001b[39m     model = final_build_fn(**build_params)\n",
      "\u001b[31mTypeError\u001b[39m: BaseWrapper._check_model_param.<locals>.final_build_fn() got an unexpected keyword argument 'input_shape'"
     ]
    }
   ],
   "source": [
    "model_pipeline.fit(X_train, y_train)"
   ]
  },
  {
   "cell_type": "code",
   "execution_count": null,
   "id": "a384be76",
   "metadata": {},
   "outputs": [
    {
     "name": "stdout",
     "output_type": "stream",
     "text": [
      "\u001b[1m58/58\u001b[0m \u001b[32m━━━━━━━━━━━━━━━━━━━━\u001b[0m\u001b[37m\u001b[0m \u001b[1m0s\u001b[0m 2ms/step\n"
     ]
    }
   ],
   "source": [
    "y_prob=model.predict(X_test)"
   ]
  },
  {
   "cell_type": "code",
   "execution_count": null,
   "id": "dc98f563",
   "metadata": {},
   "outputs": [
    {
     "name": "stdout",
     "output_type": "stream",
     "text": [
      "\u001b[1m58/58\u001b[0m \u001b[32m━━━━━━━━━━━━━━━━━━━━\u001b[0m\u001b[37m\u001b[0m \u001b[1m0s\u001b[0m 1ms/step\n"
     ]
    }
   ],
   "source": [
    "y_pred=(model.predict(X_test) >= 0.5).astype(int)"
   ]
  },
  {
   "cell_type": "code",
   "execution_count": null,
   "id": "c57f4f70",
   "metadata": {},
   "outputs": [
    {
     "data": {
      "text/plain": [
       "array([[0],\n",
       "       [1],\n",
       "       [0],\n",
       "       ...,\n",
       "       [0],\n",
       "       [1],\n",
       "       [1]])"
      ]
     },
     "execution_count": 44,
     "metadata": {},
     "output_type": "execute_result"
    }
   ],
   "source": [
    "y_pred"
   ]
  },
  {
   "cell_type": "code",
   "execution_count": null,
   "id": "c950dcae",
   "metadata": {},
   "outputs": [],
   "source": [
    "import seaborn as sns"
   ]
  },
  {
   "cell_type": "code",
   "execution_count": null,
   "id": "8f8ac86a",
   "metadata": {},
   "outputs": [],
   "source": []
  },
  {
   "cell_type": "code",
   "execution_count": null,
   "id": "748edab5",
   "metadata": {},
   "outputs": [
    {
     "name": "stdout",
     "output_type": "stream",
     "text": [
      "0.8491891891891892\n",
      "Accuracy: 0.8491891891891892\n",
      "Precision: 0.8660022148394242\n",
      "Recall: 0.8319148936170213\n",
      "F1: 0.8486163863266414\n",
      "AUC-ROC: 0.8494739303249942\n"
     ]
    },
    {
     "data": {
      "text/plain": [
       "'              precision    recall  f1-score   support\\n\\n           0       0.83      0.87      0.85       910\\n           1       0.87      0.83      0.85       940\\n\\n    accuracy                           0.85      1850\\n   macro avg       0.85      0.85      0.85      1850\\nweighted avg       0.85      0.85      0.85      1850\\n'"
      ]
     },
     "execution_count": 46,
     "metadata": {},
     "output_type": "execute_result"
    },
    {
     "data": {
      "image/png": "[encoded data removed]",
      "text/plain": [
       "<Figure size 640x480 with 2 Axes>"
      ]
     },
     "metadata": {},
     "output_type": "display_data"
    }
   ],
   "source": [
    "from sklearn.metrics import accuracy_score\n",
    "from sklearn.metrics import classification_report\n",
    "from sklearn.model_selection import cross_validate\n",
    "import seaborn as sns\n",
    "\n",
    "print(accuracy_score(y_test, y_pred))\n",
    "from sklearn.metrics import confusion_matrix\n",
    "\n",
    "\n",
    "\n",
    "sns.heatmap(confusion_matrix(y_test, y_pred, normalize='true'), annot=True, \n",
    "            fmt='.2%', cmap='Blues');\n",
    "from sklearn.metrics import accuracy_score, precision_score, recall_score, f1_score, roc_auc_score\n",
    "print(\"Accuracy:\", accuracy_score(y_test, y_pred))\n",
    "print(\"Precision:\", precision_score(y_test, y_pred))\n",
    "\"\"\"print(\"cv\", cross_validate(model, X_train,y_train))\"\"\"\n",
    "\"\"\"print(\"train\", model.score(X_train,y_train))\n",
    "print(\"test\",model.score(X_test,y_test)\"\"\"\n",
    "print(\"Recall:\", recall_score(y_test, y_pred))\n",
    "print(\"F1:\", f1_score(y_test, y_pred))\n",
    "print(\"AUC-ROC:\", roc_auc_score(y_test, y_pred))\n",
    "classification_report(y_test, y_pred)"
   ]
  },
  {
   "cell_type": "code",
   "execution_count": null,
   "id": "bb6ff631",
   "metadata": {},
   "outputs": [
    {
     "data": {
      "text/plain": [
       "array([[0.86703297, 0.13296703],\n",
       "       [0.16808511, 0.83191489]])"
      ]
     },
     "execution_count": 47,
     "metadata": {},
     "output_type": "execute_result"
    }
   ],
   "source": [
    "confusion_matrix(y_test, y_pred, normalize='true')"
   ]
  },
  {
   "cell_type": "code",
   "execution_count": null,
   "id": "b5fad6b1",
   "metadata": {},
   "outputs": [
    {
     "data": {
      "text/plain": [
       "'              precision    recall  f1-score   support\\n\\n           0       0.83      0.87      0.85       910\\n           1       0.87      0.83      0.85       940\\n\\n    accuracy                           0.85      1850\\n   macro avg       0.85      0.85      0.85      1850\\nweighted avg       0.85      0.85      0.85      1850\\n'"
      ]
     },
     "execution_count": 48,
     "metadata": {},
     "output_type": "execute_result"
    }
   ],
   "source": [
    "classification_report(y_test, y_pred, )"
   ]
  },
  {
   "cell_type": "code",
   "execution_count": null,
   "id": "509fa1eb",
   "metadata": {},
   "outputs": [
    {
     "name": "stdout",
     "output_type": "stream",
     "text": [
      "Mejor umbral (threshold) para F1: 0.21999999999999995\n",
      "Mejor F1 obtenido: 0.8612538540596094\n"
     ]
    },
    {
     "data": {
      "text/plain": [
       "<Axes: xlabel='Threshold', ylabel='F1'>"
      ]
     },
     "execution_count": 49,
     "metadata": {},
     "output_type": "execute_result"
    },
    {
     "data": {
      "image/png": "[encoded data removed]",
      "text/plain": [
       "<Figure size 640x480 with 1 Axes>"
      ]
     },
     "metadata": {},
     "output_type": "display_data"
    }
   ],
   "source": [
    "import numpy as np\n",
    "import seaborn as sns\n",
    "from sklearn.metrics import f1_score, accuracy_score\n",
    "thresholds = np.arange(.1, 1, 0.01)\n",
    "\n",
    "best_threshold = 0\n",
    "best_f1 = 0\n",
    "lista={}\n",
    "for t in thresholds:\n",
    "    # Convertir probabilidades en etiquetas según el threshold\n",
    "    y_pred_t =  (y_prob > t).astype(int)\n",
    "    \n",
    "    \n",
    "    # Calcular F1 para ese threshold\n",
    "    current_f1 = f1_score(y_test, y_pred_t)\n",
    "    lista[t]=current_f1\n",
    "    # Guardar si es mejor que el mejor hasta ahora\n",
    "    if current_f1 > best_f1:\n",
    "        best_f1 = current_f1\n",
    "        best_threshold = t\n",
    "\n",
    "\n",
    "print(f\"Mejor umbral (threshold) para F1: {best_threshold}\")\n",
    "print(f\"Mejor F1 obtenido: {best_f1}\")\n",
    "sns.kdeplot(pd.DataFrame(list(lista.items()), columns=[\"Threshold\", \"F1\"]),  x=\"Threshold\", y=\"F1\", fill=True)\n"
   ]
  },
  {
   "cell_type": "code",
   "execution_count": null,
   "id": "83a80be1",
   "metadata": {},
   "outputs": [
    {
     "name": "stdout",
     "output_type": "stream",
     "text": [
      "Mejor umbral (threshold) para F1: 0.23999999999999994\n",
      "Mejor F1 obtenido: 0.8545945945945946\n"
     ]
    },
    {
     "data": {
      "text/plain": [
       "<Axes: xlabel='Threshold', ylabel='Density'>"
      ]
     },
     "execution_count": 50,
     "metadata": {},
     "output_type": "execute_result"
    },
    {
     "data": {
      "image/png": "[encoded data removed]",
      "text/plain": [
       "<Figure size 640x480 with 1 Axes>"
      ]
     },
     "metadata": {},
     "output_type": "display_data"
    }
   ],
   "source": [
    "import numpy as np\n",
    "thresholds = np.arange(.1, 1, 0.01)\n",
    "\n",
    "best_threshold = 0\n",
    "best_f1 = 0\n",
    "lista={}\n",
    "for t in thresholds:\n",
    "    # Convertir probabilidades en etiquetas según el threshold\n",
    "    y_pred_t =  (y_prob > t).astype(int)\n",
    "    ()\n",
    "    \n",
    "    # Calcular F1 para ese threshold\n",
    "    current_f1 = accuracy_score(y_test, y_pred_t)\n",
    "    lista[t]=current_f1    \n",
    "    # Guardar si es mejor que el mejor hasta ahora\n",
    "    if current_f1 > best_f1:\n",
    "        best_f1 = current_f1\n",
    "        best_threshold = t\n",
    "\n",
    "print(f\"Mejor umbral (threshold) para F1: {best_threshold}\")\n",
    "print(f\"Mejor F1 obtenido: {best_f1}\")\n",
    "\n",
    "sns.kdeplot(pd.DataFrame(list(lista.items()), columns=[\"Threshold\", \"Accuracy\"]) , x=\"Threshold\" ,  fill=True)"
   ]
  },
  {
   "cell_type": "code",
   "execution_count": null,
   "id": "b63a1bfe",
   "metadata": {},
   "outputs": [],
   "source": []
  },
  {
   "cell_type": "code",
   "execution_count": null,
   "id": "cc0e705a",
   "metadata": {},
   "outputs": [
    {
     "ename": "SyntaxError",
     "evalue": "invalid syntax (1947214667.py, line 1)",
     "output_type": "error",
     "traceback": [
      "  \u001b[36mCell\u001b[39m\u001b[36m \u001b[39m\u001b[32mIn[51]\u001b[39m\u001b[32m, line 1\u001b[39m\n\u001b[31m    \u001b[39m\u001b[31m---\u001b[39m\n       ^\n\u001b[31mSyntaxError\u001b[39m\u001b[31m:\u001b[39m invalid syntax\n"
     ]
    }
   ],
   "source": [
    "---"
   ]
  },
  {
   "cell_type": "code",
   "execution_count": null,
   "id": "7143e2c8",
   "metadata": {},
   "outputs": [],
   "source": [
    "# Guardar en formato nativo de Keras\n",
    "os.chdir(\"../models\")\n",
    "model.save(\"modelo_dispute_red.keras\")"
   ]
  },
  {
   "cell_type": "code",
   "execution_count": null,
   "id": "13d14ba7",
   "metadata": {},
   "outputs": [
    {
     "data": {
      "text/plain": [
       "['preprocesador_red.pkl']"
      ]
     },
     "execution_count": 53,
     "metadata": {},
     "output_type": "execute_result"
    }
   ],
   "source": [
    "import joblib\n",
    "\n",
    "os.chdir(\"../src\")\n",
    "\n",
    "# Guardar el scaler entrenado\n",
    "joblib.dump(preprocessor, \"preprocesador_red.pkl\")"
   ]
  }
 ],
 "metadata": {
  "kernelspec": {
   "display_name": "projecto",
   "language": "python",
   "name": "python3"
  },
  "language_info": {
   "codemirror_mode": {
    "name": "ipython",
    "version": 3
   },
   "file_extension": ".py",
   "mimetype": "text/x-python",
   "name": "python",
   "nbconvert_exporter": "python",
   "pygments_lexer": "ipython3",
   "version": "3.12.3"
  }
 },
 "nbformat": 4,
 "nbformat_minor": 5
}
