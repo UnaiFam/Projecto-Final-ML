{
 "cells": [
  {
   "cell_type": "code",
   "execution_count": 1,
   "id": "cff92a96",
   "metadata": {},
   "outputs": [
    {
     "name": "stderr",
     "output_type": "stream",
     "text": [
      "c:\\Users\\unaif\\anaconda3\\envs\\projecto\\Lib\\site-packages\\sklearn\\preprocessing\\_label.py:93: DataConversionWarning: A column-vector y was passed when a 1d array was expected. Please change the shape of y to (n_samples, ), for example using ravel().\n",
      "  y = column_or_1d(y, warn=True)\n",
      "c:\\Users\\unaif\\anaconda3\\envs\\projecto\\Lib\\site-packages\\sklearn\\preprocessing\\_label.py:93: DataConversionWarning: A column-vector y was passed when a 1d array was expected. Please change the shape of y to (n_samples, ), for example using ravel().\n",
      "  y = column_or_1d(y, warn=True)\n"
     ]
    }
   ],
   "source": [
    "import os\n",
    "os.chdir(\"..\")\n",
    "os.chdir(\"../src\")\n",
    "from tool_preprocess_onehot import state_df_zip, convert_to_str\n",
    "\n",
    "\n",
    "\n",
    "\n",
    "\n",
    "\n",
    "os.chdir(\"../data\")\n",
    "import pandas as pd\n",
    "df = pd.read_csv(\"quejas-clientes-limpio.csv\", low_memory=False)\n"
   ]
  },
  {
   "cell_type": "code",
   "execution_count": 2,
   "id": "97bd6048",
   "metadata": {},
   "outputs": [
    {
     "data": {
      "text/plain": [
       "'c:\\\\Users\\\\unaif\\\\OneDrive\\\\Documentos\\\\Documentos_Clase_Data\\\\PROYECTOS\\\\nombre_proyecto_final_ML\\\\Projecto-Final-ML\\\\data'"
      ]
     },
     "execution_count": 2,
     "metadata": {},
     "output_type": "execute_result"
    }
   ],
   "source": [
    "import os\n",
    "\n",
    "os.getcwd()"
   ]
  },
  {
   "cell_type": "code",
   "execution_count": 3,
   "id": "a6000971",
   "metadata": {},
   "outputs": [
    {
     "data": {
      "text/html": [
       "<div>\n",
       "<style scoped>\n",
       "    .dataframe tbody tr th:only-of-type {\n",
       "        vertical-align: middle;\n",
       "    }\n",
       "\n",
       "    .dataframe tbody tr th {\n",
       "        vertical-align: top;\n",
       "    }\n",
       "\n",
       "    .dataframe thead th {\n",
       "        text-align: right;\n",
       "    }\n",
       "</style>\n",
       "<table border=\"1\" class=\"dataframe\">\n",
       "  <thead>\n",
       "    <tr style=\"text-align: right;\">\n",
       "      <th></th>\n",
       "      <th>Complaint ID</th>\n",
       "      <th>Product</th>\n",
       "      <th>Sub-product</th>\n",
       "      <th>Issue</th>\n",
       "      <th>Sub-issue</th>\n",
       "      <th>State</th>\n",
       "      <th>ZIP code</th>\n",
       "      <th>Date received</th>\n",
       "      <th>Date sent to company</th>\n",
       "      <th>Company</th>\n",
       "      <th>Company response</th>\n",
       "      <th>Timely response?</th>\n",
       "      <th>Consumer disputed?</th>\n",
       "      <th>dias de retraso</th>\n",
       "      <th>weekday</th>\n",
       "    </tr>\n",
       "  </thead>\n",
       "  <tbody>\n",
       "    <tr>\n",
       "      <th>0</th>\n",
       "      <td>1291006</td>\n",
       "      <td>Debt collection</td>\n",
       "      <td>Unknown or not specified</td>\n",
       "      <td>Communication tactics</td>\n",
       "      <td>Frequent or repeated calls</td>\n",
       "      <td>TX</td>\n",
       "      <td>76119</td>\n",
       "      <td>2015-03-19</td>\n",
       "      <td>2015-03-19</td>\n",
       "      <td>Premium Asset Services, LLC</td>\n",
       "      <td>In progress</td>\n",
       "      <td>Yes</td>\n",
       "      <td>Unknown or not specified</td>\n",
       "      <td>0 days</td>\n",
       "      <td>Thursday</td>\n",
       "    </tr>\n",
       "    <tr>\n",
       "      <th>1</th>\n",
       "      <td>1290580</td>\n",
       "      <td>Debt collection</td>\n",
       "      <td>Medical</td>\n",
       "      <td>Cont'd attempts collect debt not owed</td>\n",
       "      <td>Debt is not mine</td>\n",
       "      <td>TX</td>\n",
       "      <td>77479</td>\n",
       "      <td>2015-03-19</td>\n",
       "      <td>2015-03-19</td>\n",
       "      <td>Accounts Receivable Consultants Inc.</td>\n",
       "      <td>Closed with explanation</td>\n",
       "      <td>Yes</td>\n",
       "      <td>Unknown or not specified</td>\n",
       "      <td>0 days</td>\n",
       "      <td>Thursday</td>\n",
       "    </tr>\n",
       "    <tr>\n",
       "      <th>2</th>\n",
       "      <td>1290564</td>\n",
       "      <td>Mortgage</td>\n",
       "      <td>FHA mortgage</td>\n",
       "      <td>Application, originator, mortgage broker</td>\n",
       "      <td>Unknown or not specified</td>\n",
       "      <td>MA</td>\n",
       "      <td>2127</td>\n",
       "      <td>2015-03-19</td>\n",
       "      <td>2015-03-19</td>\n",
       "      <td>RBS Citizens</td>\n",
       "      <td>Closed with explanation</td>\n",
       "      <td>Yes</td>\n",
       "      <td>Yes</td>\n",
       "      <td>0 days</td>\n",
       "      <td>Thursday</td>\n",
       "    </tr>\n",
       "    <tr>\n",
       "      <th>3</th>\n",
       "      <td>1291615</td>\n",
       "      <td>Credit card</td>\n",
       "      <td>Unknown or not specified</td>\n",
       "      <td>Other</td>\n",
       "      <td>Unknown or not specified</td>\n",
       "      <td>CA</td>\n",
       "      <td>92592</td>\n",
       "      <td>2015-03-19</td>\n",
       "      <td>2015-03-19</td>\n",
       "      <td>Navy FCU</td>\n",
       "      <td>In progress</td>\n",
       "      <td>Yes</td>\n",
       "      <td>Unknown or not specified</td>\n",
       "      <td>0 days</td>\n",
       "      <td>Thursday</td>\n",
       "    </tr>\n",
       "    <tr>\n",
       "      <th>4</th>\n",
       "      <td>1292165</td>\n",
       "      <td>Debt collection</td>\n",
       "      <td>Non-federal student loan</td>\n",
       "      <td>Cont'd attempts collect debt not owed</td>\n",
       "      <td>Debt resulted from identity theft</td>\n",
       "      <td>OH</td>\n",
       "      <td>43068</td>\n",
       "      <td>2015-03-19</td>\n",
       "      <td>2015-03-19</td>\n",
       "      <td>Transworld Systems Inc.</td>\n",
       "      <td>In progress</td>\n",
       "      <td>Yes</td>\n",
       "      <td>Unknown or not specified</td>\n",
       "      <td>0 days</td>\n",
       "      <td>Thursday</td>\n",
       "    </tr>\n",
       "    <tr>\n",
       "      <th>...</th>\n",
       "      <td>...</td>\n",
       "      <td>...</td>\n",
       "      <td>...</td>\n",
       "      <td>...</td>\n",
       "      <td>...</td>\n",
       "      <td>...</td>\n",
       "      <td>...</td>\n",
       "      <td>...</td>\n",
       "      <td>...</td>\n",
       "      <td>...</td>\n",
       "      <td>...</td>\n",
       "      <td>...</td>\n",
       "      <td>...</td>\n",
       "      <td>...</td>\n",
       "      <td>...</td>\n",
       "    </tr>\n",
       "    <tr>\n",
       "      <th>28151</th>\n",
       "      <td>1178184</td>\n",
       "      <td>Debt collection</td>\n",
       "      <td>Unknown or not specified</td>\n",
       "      <td>Cont'd attempts collect debt not owed</td>\n",
       "      <td>Debt is not mine</td>\n",
       "      <td>TX</td>\n",
       "      <td>75201</td>\n",
       "      <td>2015-01-01</td>\n",
       "      <td>2015-01-01</td>\n",
       "      <td>Enhanced Recovery Company, LLC</td>\n",
       "      <td>Closed with non-monetary relief</td>\n",
       "      <td>Yes</td>\n",
       "      <td>No</td>\n",
       "      <td>0 days</td>\n",
       "      <td>Thursday</td>\n",
       "    </tr>\n",
       "    <tr>\n",
       "      <th>28152</th>\n",
       "      <td>1178183</td>\n",
       "      <td>Consumer loan</td>\n",
       "      <td>Vehicle loan</td>\n",
       "      <td>Taking out the loan or lease</td>\n",
       "      <td>Unknown or not specified</td>\n",
       "      <td>GA</td>\n",
       "      <td>30043</td>\n",
       "      <td>2015-01-01</td>\n",
       "      <td>2015-01-01</td>\n",
       "      <td>DriveTime</td>\n",
       "      <td>Closed with explanation</td>\n",
       "      <td>Yes</td>\n",
       "      <td>Unknown or not specified</td>\n",
       "      <td>0 days</td>\n",
       "      <td>Thursday</td>\n",
       "    </tr>\n",
       "    <tr>\n",
       "      <th>28153</th>\n",
       "      <td>1178182</td>\n",
       "      <td>Mortgage</td>\n",
       "      <td>Conventional fixed mortgage</td>\n",
       "      <td>Loan servicing, payments, escrow account</td>\n",
       "      <td>Unknown or not specified</td>\n",
       "      <td>MN</td>\n",
       "      <td>55105</td>\n",
       "      <td>2015-01-01</td>\n",
       "      <td>2015-01-01</td>\n",
       "      <td>Regions</td>\n",
       "      <td>Closed with non-monetary relief</td>\n",
       "      <td>Yes</td>\n",
       "      <td>No</td>\n",
       "      <td>0 days</td>\n",
       "      <td>Thursday</td>\n",
       "    </tr>\n",
       "    <tr>\n",
       "      <th>28154</th>\n",
       "      <td>1178181</td>\n",
       "      <td>Payday loan</td>\n",
       "      <td>Unknown or not specified</td>\n",
       "      <td>Can't stop charges to bank account</td>\n",
       "      <td>Unknown or not specified</td>\n",
       "      <td>CA</td>\n",
       "      <td>92509</td>\n",
       "      <td>2015-01-01</td>\n",
       "      <td>2015-01-01</td>\n",
       "      <td>Moneytree Inc</td>\n",
       "      <td>Closed with explanation</td>\n",
       "      <td>Yes</td>\n",
       "      <td>Unknown or not specified</td>\n",
       "      <td>0 days</td>\n",
       "      <td>Thursday</td>\n",
       "    </tr>\n",
       "    <tr>\n",
       "      <th>28155</th>\n",
       "      <td>1178180</td>\n",
       "      <td>Money transfers</td>\n",
       "      <td>Domestic (US) money transfer</td>\n",
       "      <td>Other transaction issues</td>\n",
       "      <td>Unknown or not specified</td>\n",
       "      <td>OH</td>\n",
       "      <td>45068</td>\n",
       "      <td>2015-01-01</td>\n",
       "      <td>2015-01-01</td>\n",
       "      <td>PayPal</td>\n",
       "      <td>Closed with explanation</td>\n",
       "      <td>Yes</td>\n",
       "      <td>Yes</td>\n",
       "      <td>0 days</td>\n",
       "      <td>Thursday</td>\n",
       "    </tr>\n",
       "  </tbody>\n",
       "</table>\n",
       "<p>28156 rows × 15 columns</p>\n",
       "</div>"
      ],
      "text/plain": [
       "       Complaint ID          Product                   Sub-product  \\\n",
       "0           1291006  Debt collection      Unknown or not specified   \n",
       "1           1290580  Debt collection                       Medical   \n",
       "2           1290564         Mortgage                  FHA mortgage   \n",
       "3           1291615      Credit card      Unknown or not specified   \n",
       "4           1292165  Debt collection      Non-federal student loan   \n",
       "...             ...              ...                           ...   \n",
       "28151       1178184  Debt collection      Unknown or not specified   \n",
       "28152       1178183    Consumer loan                  Vehicle loan   \n",
       "28153       1178182         Mortgage   Conventional fixed mortgage   \n",
       "28154       1178181      Payday loan      Unknown or not specified   \n",
       "28155       1178180  Money transfers  Domestic (US) money transfer   \n",
       "\n",
       "                                          Issue  \\\n",
       "0                         Communication tactics   \n",
       "1         Cont'd attempts collect debt not owed   \n",
       "2      Application, originator, mortgage broker   \n",
       "3                                         Other   \n",
       "4         Cont'd attempts collect debt not owed   \n",
       "...                                         ...   \n",
       "28151     Cont'd attempts collect debt not owed   \n",
       "28152              Taking out the loan or lease   \n",
       "28153  Loan servicing, payments, escrow account   \n",
       "28154        Can't stop charges to bank account   \n",
       "28155                  Other transaction issues   \n",
       "\n",
       "                               Sub-issue State  ZIP code Date received  \\\n",
       "0             Frequent or repeated calls    TX     76119    2015-03-19   \n",
       "1                       Debt is not mine    TX     77479    2015-03-19   \n",
       "2               Unknown or not specified    MA      2127    2015-03-19   \n",
       "3               Unknown or not specified    CA     92592    2015-03-19   \n",
       "4      Debt resulted from identity theft    OH     43068    2015-03-19   \n",
       "...                                  ...   ...       ...           ...   \n",
       "28151                   Debt is not mine    TX     75201    2015-01-01   \n",
       "28152           Unknown or not specified    GA     30043    2015-01-01   \n",
       "28153           Unknown or not specified    MN     55105    2015-01-01   \n",
       "28154           Unknown or not specified    CA     92509    2015-01-01   \n",
       "28155           Unknown or not specified    OH     45068    2015-01-01   \n",
       "\n",
       "      Date sent to company                               Company  \\\n",
       "0               2015-03-19           Premium Asset Services, LLC   \n",
       "1               2015-03-19  Accounts Receivable Consultants Inc.   \n",
       "2               2015-03-19                          RBS Citizens   \n",
       "3               2015-03-19                              Navy FCU   \n",
       "4               2015-03-19               Transworld Systems Inc.   \n",
       "...                    ...                                   ...   \n",
       "28151           2015-01-01        Enhanced Recovery Company, LLC   \n",
       "28152           2015-01-01                             DriveTime   \n",
       "28153           2015-01-01                               Regions   \n",
       "28154           2015-01-01                         Moneytree Inc   \n",
       "28155           2015-01-01                                PayPal   \n",
       "\n",
       "                      Company response Timely response?  \\\n",
       "0                          In progress              Yes   \n",
       "1              Closed with explanation              Yes   \n",
       "2              Closed with explanation              Yes   \n",
       "3                          In progress              Yes   \n",
       "4                          In progress              Yes   \n",
       "...                                ...              ...   \n",
       "28151  Closed with non-monetary relief              Yes   \n",
       "28152          Closed with explanation              Yes   \n",
       "28153  Closed with non-monetary relief              Yes   \n",
       "28154          Closed with explanation              Yes   \n",
       "28155          Closed with explanation              Yes   \n",
       "\n",
       "             Consumer disputed? dias de retraso   weekday  \n",
       "0      Unknown or not specified          0 days  Thursday  \n",
       "1      Unknown or not specified          0 days  Thursday  \n",
       "2                           Yes          0 days  Thursday  \n",
       "3      Unknown or not specified          0 days  Thursday  \n",
       "4      Unknown or not specified          0 days  Thursday  \n",
       "...                         ...             ...       ...  \n",
       "28151                        No          0 days  Thursday  \n",
       "28152  Unknown or not specified          0 days  Thursday  \n",
       "28153                        No          0 days  Thursday  \n",
       "28154  Unknown or not specified          0 days  Thursday  \n",
       "28155                       Yes          0 days  Thursday  \n",
       "\n",
       "[28156 rows x 15 columns]"
      ]
     },
     "execution_count": 3,
     "metadata": {},
     "output_type": "execute_result"
    }
   ],
   "source": [
    "df"
   ]
  },
  {
   "cell_type": "code",
   "execution_count": 4,
   "id": "aedefa8c",
   "metadata": {},
   "outputs": [],
   "source": [
    "df.fillna(\"Unknown or not specified\", inplace=True)"
   ]
  },
  {
   "cell_type": "code",
   "execution_count": 5,
   "id": "7006488b",
   "metadata": {},
   "outputs": [
    {
     "data": {
      "text/plain": [
       "array(['Unknown or not specified', 'Yes', 'No'], dtype=object)"
      ]
     },
     "execution_count": 5,
     "metadata": {},
     "output_type": "execute_result"
    }
   ],
   "source": [
    "df[\"Consumer disputed?\"].unique()"
   ]
  },
  {
   "cell_type": "code",
   "execution_count": 6,
   "id": "94079f0d",
   "metadata": {},
   "outputs": [],
   "source": [
    "df=df.drop(columns=[\"Date received\",\t\"Date sent to company\" ])\n",
    "df=df[df[\"Company response\"]!=\"In progress\"]\n",
    "df=df[df[\"Consumer disputed?\"]!=\"Unknown or not specified\"]"
   ]
  },
  {
   "cell_type": "code",
   "execution_count": 7,
   "id": "7a87c66e",
   "metadata": {},
   "outputs": [
    {
     "data": {
      "text/html": [
       "<div>\n",
       "<style scoped>\n",
       "    .dataframe tbody tr th:only-of-type {\n",
       "        vertical-align: middle;\n",
       "    }\n",
       "\n",
       "    .dataframe tbody tr th {\n",
       "        vertical-align: top;\n",
       "    }\n",
       "\n",
       "    .dataframe thead th {\n",
       "        text-align: right;\n",
       "    }\n",
       "</style>\n",
       "<table border=\"1\" class=\"dataframe\">\n",
       "  <thead>\n",
       "    <tr style=\"text-align: right;\">\n",
       "      <th></th>\n",
       "      <th>Product</th>\n",
       "      <th>Sub-product</th>\n",
       "      <th>Issue</th>\n",
       "      <th>Sub-issue</th>\n",
       "      <th>State</th>\n",
       "      <th>Company</th>\n",
       "      <th>Company response</th>\n",
       "      <th>Timely response?</th>\n",
       "      <th>Consumer disputed?</th>\n",
       "      <th>weekday</th>\n",
       "    </tr>\n",
       "  </thead>\n",
       "  <tbody>\n",
       "    <tr>\n",
       "      <th>2</th>\n",
       "      <td>Mortgage</td>\n",
       "      <td>FHA mortgage</td>\n",
       "      <td>Application, originator, mortgage broker</td>\n",
       "      <td>Unknown or not specified</td>\n",
       "      <td>MA</td>\n",
       "      <td>RBS Citizens</td>\n",
       "      <td>Closed with explanation</td>\n",
       "      <td>Yes</td>\n",
       "      <td>Yes</td>\n",
       "      <td>Thursday</td>\n",
       "    </tr>\n",
       "    <tr>\n",
       "      <th>6</th>\n",
       "      <td>Consumer loan</td>\n",
       "      <td>Installment loan</td>\n",
       "      <td>Managing the loan or lease</td>\n",
       "      <td>Unknown or not specified</td>\n",
       "      <td>OH</td>\n",
       "      <td>CashCall, Inc.</td>\n",
       "      <td>Closed with explanation</td>\n",
       "      <td>Yes</td>\n",
       "      <td>Yes</td>\n",
       "      <td>Wednesday</td>\n",
       "    </tr>\n",
       "    <tr>\n",
       "      <th>9</th>\n",
       "      <td>Debt collection</td>\n",
       "      <td>Payday loan</td>\n",
       "      <td>Taking/threatening an illegal action</td>\n",
       "      <td>Threatened arrest/jail if do not pay</td>\n",
       "      <td>TX</td>\n",
       "      <td>Cottonwood Financial Ltd.</td>\n",
       "      <td>Closed with explanation</td>\n",
       "      <td>Yes</td>\n",
       "      <td>Yes</td>\n",
       "      <td>Wednesday</td>\n",
       "    </tr>\n",
       "    <tr>\n",
       "      <th>14</th>\n",
       "      <td>Debt collection</td>\n",
       "      <td>Other (phone, health club, etc.)</td>\n",
       "      <td>Disclosure verification of debt</td>\n",
       "      <td>Not given enough info to verify debt</td>\n",
       "      <td>UT</td>\n",
       "      <td>Account Liquidation Services Inc.</td>\n",
       "      <td>Closed with non-monetary relief</td>\n",
       "      <td>Yes</td>\n",
       "      <td>Yes</td>\n",
       "      <td>Wednesday</td>\n",
       "    </tr>\n",
       "    <tr>\n",
       "      <th>22</th>\n",
       "      <td>Debt collection</td>\n",
       "      <td>Unknown or not specified</td>\n",
       "      <td>Improper contact or sharing of info</td>\n",
       "      <td>Contacted me after I asked not to</td>\n",
       "      <td>IL</td>\n",
       "      <td>Municipal Collections Services, Inc.</td>\n",
       "      <td>Closed with explanation</td>\n",
       "      <td>Yes</td>\n",
       "      <td>Yes</td>\n",
       "      <td>Wednesday</td>\n",
       "    </tr>\n",
       "    <tr>\n",
       "      <th>...</th>\n",
       "      <td>...</td>\n",
       "      <td>...</td>\n",
       "      <td>...</td>\n",
       "      <td>...</td>\n",
       "      <td>...</td>\n",
       "      <td>...</td>\n",
       "      <td>...</td>\n",
       "      <td>...</td>\n",
       "      <td>...</td>\n",
       "      <td>...</td>\n",
       "    </tr>\n",
       "    <tr>\n",
       "      <th>28149</th>\n",
       "      <td>Credit reporting</td>\n",
       "      <td>Unknown or not specified</td>\n",
       "      <td>Improper use of my credit report</td>\n",
       "      <td>Report improperly shared by CRC</td>\n",
       "      <td>MI</td>\n",
       "      <td>Experian</td>\n",
       "      <td>Closed with explanation</td>\n",
       "      <td>Yes</td>\n",
       "      <td>No</td>\n",
       "      <td>Thursday</td>\n",
       "    </tr>\n",
       "    <tr>\n",
       "      <th>28150</th>\n",
       "      <td>Credit card</td>\n",
       "      <td>Unknown or not specified</td>\n",
       "      <td>Late fee</td>\n",
       "      <td>Unknown or not specified</td>\n",
       "      <td>AR</td>\n",
       "      <td>U.S. Bancorp</td>\n",
       "      <td>Closed with monetary relief</td>\n",
       "      <td>Yes</td>\n",
       "      <td>No</td>\n",
       "      <td>Thursday</td>\n",
       "    </tr>\n",
       "    <tr>\n",
       "      <th>28151</th>\n",
       "      <td>Debt collection</td>\n",
       "      <td>Unknown or not specified</td>\n",
       "      <td>Cont'd attempts collect debt not owed</td>\n",
       "      <td>Debt is not mine</td>\n",
       "      <td>TX</td>\n",
       "      <td>Enhanced Recovery Company, LLC</td>\n",
       "      <td>Closed with non-monetary relief</td>\n",
       "      <td>Yes</td>\n",
       "      <td>No</td>\n",
       "      <td>Thursday</td>\n",
       "    </tr>\n",
       "    <tr>\n",
       "      <th>28153</th>\n",
       "      <td>Mortgage</td>\n",
       "      <td>Conventional fixed mortgage</td>\n",
       "      <td>Loan servicing, payments, escrow account</td>\n",
       "      <td>Unknown or not specified</td>\n",
       "      <td>MN</td>\n",
       "      <td>Regions</td>\n",
       "      <td>Closed with non-monetary relief</td>\n",
       "      <td>Yes</td>\n",
       "      <td>No</td>\n",
       "      <td>Thursday</td>\n",
       "    </tr>\n",
       "    <tr>\n",
       "      <th>28155</th>\n",
       "      <td>Money transfers</td>\n",
       "      <td>Domestic (US) money transfer</td>\n",
       "      <td>Other transaction issues</td>\n",
       "      <td>Unknown or not specified</td>\n",
       "      <td>OH</td>\n",
       "      <td>PayPal</td>\n",
       "      <td>Closed with explanation</td>\n",
       "      <td>Yes</td>\n",
       "      <td>Yes</td>\n",
       "      <td>Thursday</td>\n",
       "    </tr>\n",
       "  </tbody>\n",
       "</table>\n",
       "<p>6006 rows × 10 columns</p>\n",
       "</div>"
      ],
      "text/plain": [
       "                Product                       Sub-product  \\\n",
       "2              Mortgage                      FHA mortgage   \n",
       "6         Consumer loan                  Installment loan   \n",
       "9       Debt collection                       Payday loan   \n",
       "14      Debt collection  Other (phone, health club, etc.)   \n",
       "22      Debt collection          Unknown or not specified   \n",
       "...                 ...                               ...   \n",
       "28149  Credit reporting          Unknown or not specified   \n",
       "28150       Credit card          Unknown or not specified   \n",
       "28151   Debt collection          Unknown or not specified   \n",
       "28153          Mortgage       Conventional fixed mortgage   \n",
       "28155   Money transfers      Domestic (US) money transfer   \n",
       "\n",
       "                                          Issue  \\\n",
       "2      Application, originator, mortgage broker   \n",
       "6                    Managing the loan or lease   \n",
       "9          Taking/threatening an illegal action   \n",
       "14              Disclosure verification of debt   \n",
       "22          Improper contact or sharing of info   \n",
       "...                                         ...   \n",
       "28149          Improper use of my credit report   \n",
       "28150                                  Late fee   \n",
       "28151     Cont'd attempts collect debt not owed   \n",
       "28153  Loan servicing, payments, escrow account   \n",
       "28155                  Other transaction issues   \n",
       "\n",
       "                                  Sub-issue State  \\\n",
       "2                  Unknown or not specified    MA   \n",
       "6                  Unknown or not specified    OH   \n",
       "9      Threatened arrest/jail if do not pay    TX   \n",
       "14     Not given enough info to verify debt    UT   \n",
       "22        Contacted me after I asked not to    IL   \n",
       "...                                     ...   ...   \n",
       "28149       Report improperly shared by CRC    MI   \n",
       "28150              Unknown or not specified    AR   \n",
       "28151                      Debt is not mine    TX   \n",
       "28153              Unknown or not specified    MN   \n",
       "28155              Unknown or not specified    OH   \n",
       "\n",
       "                                    Company                 Company response  \\\n",
       "2                              RBS Citizens          Closed with explanation   \n",
       "6                            CashCall, Inc.          Closed with explanation   \n",
       "9                 Cottonwood Financial Ltd.          Closed with explanation   \n",
       "14        Account Liquidation Services Inc.  Closed with non-monetary relief   \n",
       "22     Municipal Collections Services, Inc.          Closed with explanation   \n",
       "...                                     ...                              ...   \n",
       "28149                              Experian          Closed with explanation   \n",
       "28150                          U.S. Bancorp      Closed with monetary relief   \n",
       "28151        Enhanced Recovery Company, LLC  Closed with non-monetary relief   \n",
       "28153                               Regions  Closed with non-monetary relief   \n",
       "28155                                PayPal          Closed with explanation   \n",
       "\n",
       "      Timely response? Consumer disputed?    weekday  \n",
       "2                  Yes                Yes   Thursday  \n",
       "6                  Yes                Yes  Wednesday  \n",
       "9                  Yes                Yes  Wednesday  \n",
       "14                 Yes                Yes  Wednesday  \n",
       "22                 Yes                Yes  Wednesday  \n",
       "...                ...                ...        ...  \n",
       "28149              Yes                 No   Thursday  \n",
       "28150              Yes                 No   Thursday  \n",
       "28151              Yes                 No   Thursday  \n",
       "28153              Yes                 No   Thursday  \n",
       "28155              Yes                Yes   Thursday  \n",
       "\n",
       "[6006 rows x 10 columns]"
      ]
     },
     "execution_count": 7,
     "metadata": {},
     "output_type": "execute_result"
    }
   ],
   "source": [
    "df.drop(columns=[\"Complaint ID\", \"ZIP code\",\"dias de retraso\"], inplace=True)\n",
    "df"
   ]
  },
  {
   "cell_type": "code",
   "execution_count": 8,
   "id": "8a22e72c",
   "metadata": {},
   "outputs": [
    {
     "name": "stdout",
     "output_type": "stream",
     "text": [
      "<class 'pandas.core.frame.DataFrame'>\n",
      "Index: 6006 entries, 2 to 28155\n",
      "Data columns (total 10 columns):\n",
      " #   Column              Non-Null Count  Dtype \n",
      "---  ------              --------------  ----- \n",
      " 0   Product             6006 non-null   object\n",
      " 1   Sub-product         6006 non-null   object\n",
      " 2   Issue               6006 non-null   object\n",
      " 3   Sub-issue           6006 non-null   object\n",
      " 4   State               6006 non-null   object\n",
      " 5   Company             6006 non-null   object\n",
      " 6   Company response    6006 non-null   object\n",
      " 7   Timely response?    6006 non-null   object\n",
      " 8   Consumer disputed?  6006 non-null   object\n",
      " 9   weekday             6006 non-null   object\n",
      "dtypes: object(10)\n",
      "memory usage: 516.1+ KB\n"
     ]
    }
   ],
   "source": [
    "df.info()"
   ]
  },
  {
   "cell_type": "code",
   "execution_count": null,
   "id": "37640cea",
   "metadata": {},
   "outputs": [],
   "source": []
  },
  {
   "cell_type": "code",
   "execution_count": 9,
   "id": "530c2e41",
   "metadata": {},
   "outputs": [],
   "source": [
    "X=df.drop(columns=[\"Consumer disputed?\"])"
   ]
  },
  {
   "cell_type": "code",
   "execution_count": 10,
   "id": "3251b87c",
   "metadata": {},
   "outputs": [
    {
     "name": "stdout",
     "output_type": "stream",
     "text": [
      "<class 'pandas.core.frame.DataFrame'>\n",
      "Index: 6006 entries, 2 to 28155\n",
      "Data columns (total 9 columns):\n",
      " #   Column            Non-Null Count  Dtype \n",
      "---  ------            --------------  ----- \n",
      " 0   Product           6006 non-null   object\n",
      " 1   Sub-product       6006 non-null   object\n",
      " 2   Issue             6006 non-null   object\n",
      " 3   Sub-issue         6006 non-null   object\n",
      " 4   State             6006 non-null   object\n",
      " 5   Company           6006 non-null   object\n",
      " 6   Company response  6006 non-null   object\n",
      " 7   Timely response?  6006 non-null   object\n",
      " 8   weekday           6006 non-null   object\n",
      "dtypes: object(9)\n",
      "memory usage: 469.2+ KB\n"
     ]
    }
   ],
   "source": [
    "X.info()"
   ]
  },
  {
   "cell_type": "code",
   "execution_count": 11,
   "id": "2b2dc271",
   "metadata": {},
   "outputs": [],
   "source": [
    "y=df['Consumer disputed?'].apply(lambda x: 1 if x == 'Yes' else 0)"
   ]
  },
  {
   "cell_type": "code",
   "execution_count": 12,
   "id": "15731e26",
   "metadata": {},
   "outputs": [
    {
     "data": {
      "text/plain": [
       "2        1\n",
       "6        1\n",
       "9        1\n",
       "14       1\n",
       "22       1\n",
       "        ..\n",
       "28149    0\n",
       "28150    0\n",
       "28151    0\n",
       "28153    0\n",
       "28155    1\n",
       "Name: Consumer disputed?, Length: 6006, dtype: int64"
      ]
     },
     "execution_count": 12,
     "metadata": {},
     "output_type": "execute_result"
    }
   ],
   "source": [
    "y"
   ]
  },
  {
   "cell_type": "code",
   "execution_count": 13,
   "id": "ace7c226",
   "metadata": {},
   "outputs": [
    {
     "data": {
      "text/plain": [
       "(6006, 10)"
      ]
     },
     "execution_count": 13,
     "metadata": {},
     "output_type": "execute_result"
    }
   ],
   "source": [
    "df.shape"
   ]
  },
  {
   "cell_type": "code",
   "execution_count": 14,
   "id": "74ddbff1",
   "metadata": {},
   "outputs": [],
   "source": [
    "import pandas as pd\n",
    "import numpy as np\n",
    "from sklearn.pipeline import Pipeline\n",
    "from sklearn.model_selection import train_test_split\n",
    "from sklearn.preprocessing import LabelEncoder, OneHotEncoder, StandardScaler\n",
    "from sklearn.impute import SimpleImputer\n",
    "from sklearn.compose import ColumnTransformer\n",
    "import tensorflow as tf\n",
    "from tensorflow import keras\n",
    "from scikeras.wrappers import KerasClassifier\n",
    "from imblearn.pipeline import  Pipeline\n",
    "from tensorflow.keras.callbacks import EarlyStopping, ReduceLROnPlateau\n",
    "# --- Asumiendo que ya tienes el DataFrame df cargado y limpiado de NaNs básicos ---\n",
    "\n",
    "# 1. Codificación binaria de la variable objetivo\n",
    "\n",
    "from imblearn.pipeline import Pipeline as ImbPipeline\n",
    "from imblearn.over_sampling import ADASYN"
   ]
  },
  {
   "cell_type": "code",
   "execution_count": 15,
   "id": "d093fea1",
   "metadata": {},
   "outputs": [
    {
     "data": {
      "text/plain": [
       "Index(['Product', 'Sub-product', 'Issue', 'Sub-issue', 'State', 'Company',\n",
       "       'Company response', 'Timely response?', 'weekday'],\n",
       "      dtype='object')"
      ]
     },
     "execution_count": 15,
     "metadata": {},
     "output_type": "execute_result"
    }
   ],
   "source": [
    "X.columns"
   ]
  },
  {
   "cell_type": "code",
   "execution_count": 16,
   "id": "8e6a35d0",
   "metadata": {},
   "outputs": [],
   "source": [
    "categorical_features=['Product', 'Sub-product', 'Issue', 'Sub-issue', 'State',\n",
    "       'Company response', 'Timely response?', 'weekday', \"Company\"]\n",
    "\n",
    "\n"
   ]
  },
  {
   "cell_type": "code",
   "execution_count": 17,
   "id": "1b82e624",
   "metadata": {},
   "outputs": [],
   "source": [
    "preprocessor = ColumnTransformer(\n",
    "    transformers=[\n",
    "        ('cat', OneHotEncoder(handle_unknown='ignore', sparse_output=False), categorical_features), \n",
    "\n",
    "    ],\n",
    "\n",
    "    remainder='passthrough'  # deja pasar las numéricas sin tocar\n",
    ")"
   ]
  },
  {
   "cell_type": "code",
   "execution_count": 18,
   "id": "2c6ffd8c",
   "metadata": {},
   "outputs": [],
   "source": [
    "model_pipeline = ImbPipeline(steps=[\n",
    "    ('preprocessor', preprocessor),\n",
    "    ('oversampler', ADASYN(random_state=42)),\n",
    "\n",
    "])"
   ]
  },
  {
   "cell_type": "code",
   "execution_count": 19,
   "id": "a620541a",
   "metadata": {},
   "outputs": [
    {
     "data": {
      "text/plain": [
       "952"
      ]
     },
     "execution_count": 19,
     "metadata": {},
     "output_type": "execute_result"
    }
   ],
   "source": [
    "n_features=preprocessor.fit_transform(X).shape[1]\n",
    "n_features"
   ]
  },
  {
   "cell_type": "code",
   "execution_count": 20,
   "id": "d50b71d9",
   "metadata": {},
   "outputs": [
    {
     "data": {
      "text/plain": [
       "array([[0., 0., 0., ..., 0., 0., 0.],\n",
       "       [0., 1., 0., ..., 0., 0., 0.],\n",
       "       [0., 0., 0., ..., 0., 0., 0.],\n",
       "       ...,\n",
       "       [0., 0., 0., ..., 0., 0., 0.],\n",
       "       [0., 0., 0., ..., 0., 0., 0.],\n",
       "       [0., 0., 0., ..., 0., 0., 0.]])"
      ]
     },
     "execution_count": 20,
     "metadata": {},
     "output_type": "execute_result"
    }
   ],
   "source": [
    "X_proceses=preprocessor.fit_transform(X)\n",
    "X_proceses"
   ]
  },
  {
   "cell_type": "code",
   "execution_count": 21,
   "id": "5f95cb93",
   "metadata": {},
   "outputs": [],
   "source": [
    "X_proceses, y=ADASYN(random_state=42).fit_resample(X_proceses, y)"
   ]
  },
  {
   "cell_type": "code",
   "execution_count": 22,
   "id": "2996fc7e",
   "metadata": {},
   "outputs": [],
   "source": [
    "\n",
    "\n",
    "\n",
    "X_train, X_test, y_train, y_test = train_test_split(X_proceses, y, test_size = 0.20, random_state = 42, shuffle=True)"
   ]
  },
  {
   "cell_type": "code",
   "execution_count": 23,
   "id": "b4b55dfc",
   "metadata": {},
   "outputs": [
    {
     "data": {
      "text/plain": [
       "array([[0., 0., 0., ..., 0., 0., 0.],\n",
       "       [0., 0., 0., ..., 0., 0., 0.],\n",
       "       [1., 0., 0., ..., 0., 0., 0.],\n",
       "       ...,\n",
       "       [0., 0., 0., ..., 0., 0., 0.],\n",
       "       [0., 0., 0., ..., 0., 0., 0.],\n",
       "       [1., 0., 0., ..., 0., 0., 0.]])"
      ]
     },
     "execution_count": 23,
     "metadata": {},
     "output_type": "execute_result"
    }
   ],
   "source": [
    "X_train"
   ]
  },
  {
   "cell_type": "code",
   "execution_count": 24,
   "id": "32df2f79",
   "metadata": {},
   "outputs": [
    {
     "data": {
      "text/plain": [
       "'model = keras.Sequential([\\n    keras.layers.Input(shape=(n_features,)),\\n    keras.layers.Dense(50, activation=\\'tanh\\'),\\n    keras.layers.Dense(50, activation=\\'relu\\'),\\n    keras.layers.Dense(1, activation=\"sigmoid\")   # 1 neurona + sigmoid\\n])'"
      ]
     },
     "execution_count": 24,
     "metadata": {},
     "output_type": "execute_result"
    }
   ],
   "source": [
    "\n",
    "\n",
    "\"\"\"model = keras.Sequential([\n",
    "    keras.layers.Input(shape=(n_features,)),\n",
    "    keras.layers.Dense(50, activation='tanh'),\n",
    "    keras.layers.Dense(50, activation='relu'),\n",
    "    keras.layers.Dense(1, activation=\"sigmoid\")   # 1 neurona + sigmoid\n",
    "])\"\"\""
   ]
  },
  {
   "cell_type": "code",
   "execution_count": 25,
   "id": "1084be4a",
   "metadata": {},
   "outputs": [],
   "source": [
    "model = keras.Sequential([\n",
    "    keras.layers.Input(shape=(n_features,)), # dice el numeor de entrada\n",
    "    keras.layers.Dense(256, activation='relu', kernel_regularizer=keras.regularizers.l2(0.001)), # mismo que la anterior pero decreciente\n",
    "    keras.layers.BatchNormalization(),# normaliza\n",
    "    keras.layers.Dropout(0.3),# Apaga aleatoriamente 30% de las neuronas durante el entrenamiento reduce sobreajuste\n",
    "\n",
    "\n",
    "    keras.layers.Dense(128, activation='relu', kernel_regularizer=keras.regularizers.l2(0.001)), # aprende de forma no lineal  y evita sobreajuste\n",
    "    keras.layers.BatchNormalization(), # normaliza la capa de salida, ayuda para que las capas aprnda de forma mas consistente\n",
    "    keras.layers.Dropout(0.3),# Apaga aleatoriamente 30% de las neuronas durante el entrenamiento reduce sobreajuste\n",
    "    keras.layers.Dense(64, activation='relu', kernel_regularizer=keras.regularizers.l2(0.001)), # mismo que la anterior pero decreciente\n",
    "    keras.layers.BatchNormalization(),# normaliza\n",
    "    keras.layers.Dropout(0.3),# Apaga aleatoriamente 30% de las neuronas durante el entrenamiento reduce sobreajuste\n",
    "\n",
    "    keras.layers.Dense(32, activation='relu', kernel_regularizer=keras.regularizers.l2(0.001)), # mismo que la anterior pero decreciente\n",
    "    keras.layers.BatchNormalization(),# normaliza\n",
    "    keras.layers.Dropout(0.3),# Apaga aleatoriamente 30% de las neuronas durante el entrenamiento reduce sobreajuste\n",
    "\n",
    "    keras.layers.Dense(1, activation=\"sigmoid\")\n",
    "])"
   ]
  },
  {
   "cell_type": "code",
   "execution_count": 26,
   "id": "39bef65d",
   "metadata": {},
   "outputs": [],
   "source": [
    "model.compile(\n",
    "    optimizer=tf.keras.optimizers.RMSprop(0.001),\n",
    "    loss=\"binary_crossentropy\",\n",
    "    metrics=[\n",
    "        \"accuracy\",\n",
    "        tf.keras.metrics.AUC(name=\"auc\", curve=\"ROC\")   # AUC‑ROC\n",
    "    ]\n",
    ")"
   ]
  },
  {
   "cell_type": "code",
   "execution_count": 27,
   "id": "3ed5487f",
   "metadata": {},
   "outputs": [],
   "source": [
    "early_stop = EarlyStopping(\n",
    "    monitor='val_loss',      # Observa la pérdida en validación\n",
    "    patience=20,             # Espera 20 épocas sin mejora antes de detener\n",
    "    restore_best_weights=True # Restaura los mejores pesos\n",
    ")\n",
    "\n",
    "reduce_lr = ReduceLROnPlateau(\n",
    "    monitor='val_loss',\n",
    "    factor=0.5,              # Reduce la tasa de aprendizaje a la mitad\n",
    "    patience=10,             # Si no mejora en 10 épocas\n",
    "    min_lr=1e-6\n",
    ")"
   ]
  },
  {
   "cell_type": "code",
   "execution_count": 28,
   "id": "baa9be52",
   "metadata": {},
   "outputs": [
    {
     "name": "stdout",
     "output_type": "stream",
     "text": [
      "Epoch 1/500\n",
      "\u001b[1m93/93\u001b[0m \u001b[32m━━━━━━━━━━━━━━━━━━━━\u001b[0m\u001b[37m\u001b[0m \u001b[1m3s\u001b[0m 7ms/step - accuracy: 0.5533 - auc: 0.5734 - loss: 1.3676 - val_accuracy: 0.4858 - val_auc: 0.5998 - val_loss: 1.2153 - learning_rate: 0.0010\n",
      "Epoch 2/500\n",
      "\u001b[1m93/93\u001b[0m \u001b[32m━━━━━━━━━━━━━━━━━━━━\u001b[0m\u001b[37m\u001b[0m \u001b[1m0s\u001b[0m 4ms/step - accuracy: 0.6011 - auc: 0.6424 - loss: 1.1513 - val_accuracy: 0.4858 - val_auc: 0.6342 - val_loss: 1.1397 - learning_rate: 0.0010\n",
      "Epoch 3/500\n",
      "\u001b[1m93/93\u001b[0m \u001b[32m━━━━━━━━━━━━━━━━━━━━\u001b[0m\u001b[37m\u001b[0m \u001b[1m0s\u001b[0m 4ms/step - accuracy: 0.6524 - auc: 0.7141 - loss: 1.0199 - val_accuracy: 0.4858 - val_auc: 0.6886 - val_loss: 1.1455 - learning_rate: 0.0010\n",
      "Epoch 4/500\n",
      "\u001b[1m93/93\u001b[0m \u001b[32m━━━━━━━━━━━━━━━━━━━━\u001b[0m\u001b[37m\u001b[0m \u001b[1m0s\u001b[0m 4ms/step - accuracy: 0.6939 - auc: 0.7626 - loss: 0.9373 - val_accuracy: 0.5020 - val_auc: 0.7533 - val_loss: 1.1100 - learning_rate: 0.0010\n",
      "Epoch 5/500\n",
      "\u001b[1m93/93\u001b[0m \u001b[32m━━━━━━━━━━━━━━━━━━━━\u001b[0m\u001b[37m\u001b[0m \u001b[1m0s\u001b[0m 4ms/step - accuracy: 0.7313 - auc: 0.8086 - loss: 0.8596 - val_accuracy: 0.5432 - val_auc: 0.7936 - val_loss: 1.0657 - learning_rate: 0.0010\n",
      "Epoch 6/500\n",
      "\u001b[1m93/93\u001b[0m \u001b[32m━━━━━━━━━━━━━━━━━━━━\u001b[0m\u001b[37m\u001b[0m \u001b[1m0s\u001b[0m 4ms/step - accuracy: 0.7764 - auc: 0.8553 - loss: 0.7767 - val_accuracy: 0.6351 - val_auc: 0.8692 - val_loss: 0.9441 - learning_rate: 0.0010\n",
      "Epoch 7/500\n",
      "\u001b[1m93/93\u001b[0m \u001b[32m━━━━━━━━━━━━━━━━━━━━\u001b[0m\u001b[37m\u001b[0m \u001b[1m0s\u001b[0m 4ms/step - accuracy: 0.8163 - auc: 0.8928 - loss: 0.6982 - val_accuracy: 0.6696 - val_auc: 0.8807 - val_loss: 0.9581 - learning_rate: 0.0010\n",
      "Epoch 8/500\n",
      "\u001b[1m93/93\u001b[0m \u001b[32m━━━━━━━━━━━━━━━━━━━━\u001b[0m\u001b[37m\u001b[0m \u001b[1m0s\u001b[0m 4ms/step - accuracy: 0.8391 - auc: 0.9151 - loss: 0.6355 - val_accuracy: 0.7372 - val_auc: 0.8956 - val_loss: 0.8325 - learning_rate: 0.0010\n",
      "Epoch 9/500\n",
      "\u001b[1m93/93\u001b[0m \u001b[32m━━━━━━━━━━━━━━━━━━━━\u001b[0m\u001b[37m\u001b[0m \u001b[1m0s\u001b[0m 4ms/step - accuracy: 0.8656 - auc: 0.9329 - loss: 0.5755 - val_accuracy: 0.7459 - val_auc: 0.8965 - val_loss: 0.8475 - learning_rate: 0.0010\n",
      "Epoch 10/500\n",
      "\u001b[1m93/93\u001b[0m \u001b[32m━━━━━━━━━━━━━━━━━━━━\u001b[0m\u001b[37m\u001b[0m \u001b[1m0s\u001b[0m 4ms/step - accuracy: 0.8738 - auc: 0.9444 - loss: 0.5305 - val_accuracy: 0.7372 - val_auc: 0.9053 - val_loss: 0.8442 - learning_rate: 0.0010\n",
      "Epoch 11/500\n",
      "\u001b[1m93/93\u001b[0m \u001b[32m━━━━━━━━━━━━━━━━━━━━\u001b[0m\u001b[37m\u001b[0m \u001b[1m0s\u001b[0m 3ms/step - accuracy: 0.8898 - auc: 0.9540 - loss: 0.4868 - val_accuracy: 0.7946 - val_auc: 0.9102 - val_loss: 0.7295 - learning_rate: 0.0010\n",
      "Epoch 12/500\n",
      "\u001b[1m93/93\u001b[0m \u001b[32m━━━━━━━━━━━━━━━━━━━━\u001b[0m\u001b[37m\u001b[0m \u001b[1m0s\u001b[0m 3ms/step - accuracy: 0.8999 - auc: 0.9594 - loss: 0.4563 - val_accuracy: 0.7500 - val_auc: 0.8957 - val_loss: 0.8087 - learning_rate: 0.0010\n",
      "Epoch 13/500\n",
      "\u001b[1m93/93\u001b[0m \u001b[32m━━━━━━━━━━━━━━━━━━━━\u001b[0m\u001b[37m\u001b[0m \u001b[1m0s\u001b[0m 3ms/step - accuracy: 0.9021 - auc: 0.9615 - loss: 0.4355 - val_accuracy: 0.8176 - val_auc: 0.9182 - val_loss: 0.6441 - learning_rate: 0.0010\n",
      "Epoch 14/500\n",
      "\u001b[1m93/93\u001b[0m \u001b[32m━━━━━━━━━━━━━━━━━━━━\u001b[0m\u001b[37m\u001b[0m \u001b[1m0s\u001b[0m 3ms/step - accuracy: 0.9072 - auc: 0.9657 - loss: 0.4083 - val_accuracy: 0.8101 - val_auc: 0.9131 - val_loss: 0.6264 - learning_rate: 0.0010\n",
      "Epoch 15/500\n",
      "\u001b[1m93/93\u001b[0m \u001b[32m━━━━━━━━━━━━━━━━━━━━\u001b[0m\u001b[37m\u001b[0m \u001b[1m0s\u001b[0m 3ms/step - accuracy: 0.9130 - auc: 0.9680 - loss: 0.3879 - val_accuracy: 0.8162 - val_auc: 0.9301 - val_loss: 0.6003 - learning_rate: 0.0010\n",
      "Epoch 16/500\n",
      "\u001b[1m93/93\u001b[0m \u001b[32m━━━━━━━━━━━━━━━━━━━━\u001b[0m\u001b[37m\u001b[0m \u001b[1m0s\u001b[0m 3ms/step - accuracy: 0.9133 - auc: 0.9697 - loss: 0.3720 - val_accuracy: 0.8338 - val_auc: 0.9321 - val_loss: 0.5528 - learning_rate: 0.0010\n",
      "Epoch 17/500\n",
      "\u001b[1m93/93\u001b[0m \u001b[32m━━━━━━━━━━━━━━━━━━━━\u001b[0m\u001b[37m\u001b[0m \u001b[1m0s\u001b[0m 4ms/step - accuracy: 0.9214 - auc: 0.9737 - loss: 0.3450 - val_accuracy: 0.8291 - val_auc: 0.9290 - val_loss: 0.5592 - learning_rate: 0.0010\n",
      "Epoch 18/500\n",
      "\u001b[1m93/93\u001b[0m \u001b[32m━━━━━━━━━━━━━━━━━━━━\u001b[0m\u001b[37m\u001b[0m \u001b[1m0s\u001b[0m 3ms/step - accuracy: 0.9236 - auc: 0.9747 - loss: 0.3326 - val_accuracy: 0.8345 - val_auc: 0.9281 - val_loss: 0.5570 - learning_rate: 0.0010\n",
      "Epoch 19/500\n",
      "\u001b[1m93/93\u001b[0m \u001b[32m━━━━━━━━━━━━━━━━━━━━\u001b[0m\u001b[37m\u001b[0m \u001b[1m0s\u001b[0m 4ms/step - accuracy: 0.9201 - auc: 0.9729 - loss: 0.3337 - val_accuracy: 0.8264 - val_auc: 0.9278 - val_loss: 0.5701 - learning_rate: 0.0010\n",
      "Epoch 20/500\n",
      "\u001b[1m93/93\u001b[0m \u001b[32m━━━━━━━━━━━━━━━━━━━━\u001b[0m\u001b[37m\u001b[0m \u001b[1m0s\u001b[0m 3ms/step - accuracy: 0.9272 - auc: 0.9749 - loss: 0.3174 - val_accuracy: 0.8122 - val_auc: 0.9210 - val_loss: 0.5949 - learning_rate: 0.0010\n",
      "Epoch 21/500\n",
      "\u001b[1m93/93\u001b[0m \u001b[32m━━━━━━━━━━━━━━━━━━━━\u001b[0m\u001b[37m\u001b[0m \u001b[1m0s\u001b[0m 4ms/step - accuracy: 0.9322 - auc: 0.9781 - loss: 0.2977 - val_accuracy: 0.8432 - val_auc: 0.9279 - val_loss: 0.5387 - learning_rate: 0.0010\n",
      "Epoch 22/500\n",
      "\u001b[1m93/93\u001b[0m \u001b[32m━━━━━━━━━━━━━━━━━━━━\u001b[0m\u001b[37m\u001b[0m \u001b[1m0s\u001b[0m 3ms/step - accuracy: 0.9236 - auc: 0.9771 - loss: 0.2998 - val_accuracy: 0.8419 - val_auc: 0.9278 - val_loss: 0.4976 - learning_rate: 0.0010\n",
      "Epoch 23/500\n",
      "\u001b[1m93/93\u001b[0m \u001b[32m━━━━━━━━━━━━━━━━━━━━\u001b[0m\u001b[37m\u001b[0m \u001b[1m0s\u001b[0m 3ms/step - accuracy: 0.9260 - auc: 0.9764 - loss: 0.2953 - val_accuracy: 0.8466 - val_auc: 0.9298 - val_loss: 0.5010 - learning_rate: 0.0010\n",
      "Epoch 24/500\n",
      "\u001b[1m93/93\u001b[0m \u001b[32m━━━━━━━━━━━━━━━━━━━━\u001b[0m\u001b[37m\u001b[0m \u001b[1m0s\u001b[0m 4ms/step - accuracy: 0.9248 - auc: 0.9777 - loss: 0.2872 - val_accuracy: 0.8365 - val_auc: 0.9303 - val_loss: 0.5128 - learning_rate: 0.0010\n",
      "Epoch 25/500\n",
      "\u001b[1m93/93\u001b[0m \u001b[32m━━━━━━━━━━━━━━━━━━━━\u001b[0m\u001b[37m\u001b[0m \u001b[1m0s\u001b[0m 4ms/step - accuracy: 0.9265 - auc: 0.9786 - loss: 0.2793 - val_accuracy: 0.8108 - val_auc: 0.9240 - val_loss: 0.5648 - learning_rate: 0.0010\n",
      "Epoch 26/500\n",
      "\u001b[1m93/93\u001b[0m \u001b[32m━━━━━━━━━━━━━━━━━━━━\u001b[0m\u001b[37m\u001b[0m \u001b[1m0s\u001b[0m 4ms/step - accuracy: 0.9319 - auc: 0.9782 - loss: 0.2740 - val_accuracy: 0.8446 - val_auc: 0.9320 - val_loss: 0.5013 - learning_rate: 0.0010\n",
      "Epoch 27/500\n",
      "\u001b[1m93/93\u001b[0m \u001b[32m━━━━━━━━━━━━━━━━━━━━\u001b[0m\u001b[37m\u001b[0m \u001b[1m0s\u001b[0m 3ms/step - accuracy: 0.9272 - auc: 0.9781 - loss: 0.2741 - val_accuracy: 0.8453 - val_auc: 0.9247 - val_loss: 0.4860 - learning_rate: 0.0010\n",
      "Epoch 28/500\n",
      "\u001b[1m93/93\u001b[0m \u001b[32m━━━━━━━━━━━━━━━━━━━━\u001b[0m\u001b[37m\u001b[0m \u001b[1m0s\u001b[0m 3ms/step - accuracy: 0.9307 - auc: 0.9794 - loss: 0.2653 - val_accuracy: 0.8419 - val_auc: 0.9310 - val_loss: 0.4952 - learning_rate: 0.0010\n",
      "Epoch 29/500\n",
      "\u001b[1m93/93\u001b[0m \u001b[32m━━━━━━━━━━━━━━━━━━━━\u001b[0m\u001b[37m\u001b[0m \u001b[1m0s\u001b[0m 4ms/step - accuracy: 0.9314 - auc: 0.9783 - loss: 0.2658 - val_accuracy: 0.8689 - val_auc: 0.9321 - val_loss: 0.4397 - learning_rate: 0.0010\n",
      "Epoch 30/500\n",
      "\u001b[1m93/93\u001b[0m \u001b[32m━━━━━━━━━━━━━━━━━━━━\u001b[0m\u001b[37m\u001b[0m \u001b[1m0s\u001b[0m 3ms/step - accuracy: 0.9295 - auc: 0.9790 - loss: 0.2604 - val_accuracy: 0.8412 - val_auc: 0.9293 - val_loss: 0.4643 - learning_rate: 0.0010\n",
      "Epoch 31/500\n",
      "\u001b[1m93/93\u001b[0m \u001b[32m━━━━━━━━━━━━━━━━━━━━\u001b[0m\u001b[37m\u001b[0m \u001b[1m0s\u001b[0m 3ms/step - accuracy: 0.9329 - auc: 0.9805 - loss: 0.2507 - val_accuracy: 0.8378 - val_auc: 0.9316 - val_loss: 0.4606 - learning_rate: 0.0010\n",
      "Epoch 32/500\n",
      "\u001b[1m93/93\u001b[0m \u001b[32m━━━━━━━━━━━━━━━━━━━━\u001b[0m\u001b[37m\u001b[0m \u001b[1m0s\u001b[0m 3ms/step - accuracy: 0.9338 - auc: 0.9815 - loss: 0.2435 - val_accuracy: 0.8486 - val_auc: 0.9287 - val_loss: 0.4533 - learning_rate: 0.0010\n",
      "Epoch 33/500\n",
      "\u001b[1m93/93\u001b[0m \u001b[32m━━━━━━━━━━━━━━━━━━━━\u001b[0m\u001b[37m\u001b[0m \u001b[1m0s\u001b[0m 4ms/step - accuracy: 0.9385 - auc: 0.9837 - loss: 0.2319 - val_accuracy: 0.8459 - val_auc: 0.9341 - val_loss: 0.4574 - learning_rate: 0.0010\n",
      "Epoch 34/500\n",
      "\u001b[1m93/93\u001b[0m \u001b[32m━━━━━━━━━━━━━━━━━━━━\u001b[0m\u001b[37m\u001b[0m \u001b[1m0s\u001b[0m 4ms/step - accuracy: 0.9353 - auc: 0.9815 - loss: 0.2416 - val_accuracy: 0.8473 - val_auc: 0.9308 - val_loss: 0.4780 - learning_rate: 0.0010\n",
      "Epoch 35/500\n",
      "\u001b[1m93/93\u001b[0m \u001b[32m━━━━━━━━━━━━━━━━━━━━\u001b[0m\u001b[37m\u001b[0m \u001b[1m0s\u001b[0m 4ms/step - accuracy: 0.9351 - auc: 0.9803 - loss: 0.2412 - val_accuracy: 0.8284 - val_auc: 0.9253 - val_loss: 0.5190 - learning_rate: 0.0010\n",
      "Epoch 36/500\n",
      "\u001b[1m93/93\u001b[0m \u001b[32m━━━━━━━━━━━━━━━━━━━━\u001b[0m\u001b[37m\u001b[0m \u001b[1m0s\u001b[0m 3ms/step - accuracy: 0.9348 - auc: 0.9795 - loss: 0.2449 - val_accuracy: 0.8595 - val_auc: 0.9365 - val_loss: 0.4395 - learning_rate: 0.0010\n",
      "Epoch 37/500\n",
      "\u001b[1m93/93\u001b[0m \u001b[32m━━━━━━━━━━━━━━━━━━━━\u001b[0m\u001b[37m\u001b[0m \u001b[1m0s\u001b[0m 3ms/step - accuracy: 0.9327 - auc: 0.9790 - loss: 0.2441 - val_accuracy: 0.8520 - val_auc: 0.9270 - val_loss: 0.4647 - learning_rate: 0.0010\n",
      "Epoch 38/500\n",
      "\u001b[1m93/93\u001b[0m \u001b[32m━━━━━━━━━━━━━━━━━━━━\u001b[0m\u001b[37m\u001b[0m \u001b[1m0s\u001b[0m 3ms/step - accuracy: 0.9331 - auc: 0.9804 - loss: 0.2382 - val_accuracy: 0.8459 - val_auc: 0.9298 - val_loss: 0.4470 - learning_rate: 0.0010\n",
      "Epoch 39/500\n",
      "\u001b[1m93/93\u001b[0m \u001b[32m━━━━━━━━━━━━━━━━━━━━\u001b[0m\u001b[37m\u001b[0m \u001b[1m0s\u001b[0m 4ms/step - accuracy: 0.9336 - auc: 0.9810 - loss: 0.2347 - val_accuracy: 0.8507 - val_auc: 0.9304 - val_loss: 0.4631 - learning_rate: 0.0010\n",
      "Epoch 40/500\n",
      "\u001b[1m93/93\u001b[0m \u001b[32m━━━━━━━━━━━━━━━━━━━━\u001b[0m\u001b[37m\u001b[0m \u001b[1m0s\u001b[0m 3ms/step - accuracy: 0.9344 - auc: 0.9804 - loss: 0.2335 - val_accuracy: 0.8534 - val_auc: 0.9313 - val_loss: 0.4454 - learning_rate: 0.0010\n",
      "Epoch 41/500\n",
      "\u001b[1m93/93\u001b[0m \u001b[32m━━━━━━━━━━━━━━━━━━━━\u001b[0m\u001b[37m\u001b[0m \u001b[1m0s\u001b[0m 3ms/step - accuracy: 0.9275 - auc: 0.9792 - loss: 0.2403 - val_accuracy: 0.8561 - val_auc: 0.9297 - val_loss: 0.4344 - learning_rate: 0.0010\n",
      "Epoch 42/500\n",
      "\u001b[1m93/93\u001b[0m \u001b[32m━━━━━━━━━━━━━━━━━━━━\u001b[0m\u001b[37m\u001b[0m \u001b[1m0s\u001b[0m 3ms/step - accuracy: 0.9299 - auc: 0.9793 - loss: 0.2371 - val_accuracy: 0.8507 - val_auc: 0.9238 - val_loss: 0.4532 - learning_rate: 0.0010\n",
      "Epoch 43/500\n",
      "\u001b[1m93/93\u001b[0m \u001b[32m━━━━━━━━━━━━━━━━━━━━\u001b[0m\u001b[37m\u001b[0m \u001b[1m0s\u001b[0m 4ms/step - accuracy: 0.9353 - auc: 0.9818 - loss: 0.2265 - val_accuracy: 0.8568 - val_auc: 0.9227 - val_loss: 0.4510 - learning_rate: 0.0010\n",
      "Epoch 44/500\n",
      "\u001b[1m93/93\u001b[0m \u001b[32m━━━━━━━━━━━━━━━━━━━━\u001b[0m\u001b[37m\u001b[0m \u001b[1m0s\u001b[0m 4ms/step - accuracy: 0.9304 - auc: 0.9796 - loss: 0.2363 - val_accuracy: 0.8419 - val_auc: 0.9235 - val_loss: 0.4676 - learning_rate: 0.0010\n",
      "Epoch 45/500\n",
      "\u001b[1m93/93\u001b[0m \u001b[32m━━━━━━━━━━━━━━━━━━━━\u001b[0m\u001b[37m\u001b[0m \u001b[1m0s\u001b[0m 4ms/step - accuracy: 0.9358 - auc: 0.9806 - loss: 0.2271 - val_accuracy: 0.8507 - val_auc: 0.9239 - val_loss: 0.4691 - learning_rate: 0.0010\n",
      "Epoch 46/500\n",
      "\u001b[1m93/93\u001b[0m \u001b[32m━━━━━━━━━━━━━━━━━━━━\u001b[0m\u001b[37m\u001b[0m \u001b[1m0s\u001b[0m 3ms/step - accuracy: 0.9376 - auc: 0.9821 - loss: 0.2203 - val_accuracy: 0.8480 - val_auc: 0.9261 - val_loss: 0.4665 - learning_rate: 0.0010\n",
      "Epoch 47/500\n",
      "\u001b[1m93/93\u001b[0m \u001b[32m━━━━━━━━━━━━━━━━━━━━\u001b[0m\u001b[37m\u001b[0m \u001b[1m0s\u001b[0m 3ms/step - accuracy: 0.9344 - auc: 0.9820 - loss: 0.2232 - val_accuracy: 0.8595 - val_auc: 0.9251 - val_loss: 0.4441 - learning_rate: 0.0010\n",
      "Epoch 48/500\n",
      "\u001b[1m93/93\u001b[0m \u001b[32m━━━━━━━━━━━━━━━━━━━━\u001b[0m\u001b[37m\u001b[0m \u001b[1m0s\u001b[0m 4ms/step - accuracy: 0.9370 - auc: 0.9806 - loss: 0.2265 - val_accuracy: 0.8547 - val_auc: 0.9280 - val_loss: 0.4412 - learning_rate: 0.0010\n",
      "Epoch 49/500\n",
      "\u001b[1m93/93\u001b[0m \u001b[32m━━━━━━━━━━━━━━━━━━━━\u001b[0m\u001b[37m\u001b[0m \u001b[1m0s\u001b[0m 4ms/step - accuracy: 0.9356 - auc: 0.9818 - loss: 0.2212 - val_accuracy: 0.8432 - val_auc: 0.9278 - val_loss: 0.5202 - learning_rate: 0.0010\n",
      "Epoch 50/500\n",
      "\u001b[1m93/93\u001b[0m \u001b[32m━━━━━━━━━━━━━━━━━━━━\u001b[0m\u001b[37m\u001b[0m \u001b[1m0s\u001b[0m 4ms/step - accuracy: 0.9375 - auc: 0.9833 - loss: 0.2145 - val_accuracy: 0.8554 - val_auc: 0.9303 - val_loss: 0.4527 - learning_rate: 0.0010\n",
      "Epoch 51/500\n",
      "\u001b[1m93/93\u001b[0m \u001b[32m━━━━━━━━━━━━━━━━━━━━\u001b[0m\u001b[37m\u001b[0m \u001b[1m0s\u001b[0m 4ms/step - accuracy: 0.9390 - auc: 0.9824 - loss: 0.2160 - val_accuracy: 0.8412 - val_auc: 0.9280 - val_loss: 0.4823 - learning_rate: 0.0010\n",
      "Epoch 52/500\n",
      "\u001b[1m93/93\u001b[0m \u001b[32m━━━━━━━━━━━━━━━━━━━━\u001b[0m\u001b[37m\u001b[0m \u001b[1m0s\u001b[0m 4ms/step - accuracy: 0.9493 - auc: 0.9866 - loss: 0.1905 - val_accuracy: 0.8514 - val_auc: 0.9407 - val_loss: 0.4781 - learning_rate: 5.0000e-04\n",
      "Epoch 53/500\n",
      "\u001b[1m93/93\u001b[0m \u001b[32m━━━━━━━━━━━━━━━━━━━━\u001b[0m\u001b[37m\u001b[0m \u001b[1m0s\u001b[0m 4ms/step - accuracy: 0.9598 - auc: 0.9893 - loss: 0.1695 - val_accuracy: 0.8547 - val_auc: 0.9329 - val_loss: 0.4743 - learning_rate: 5.0000e-04\n",
      "Epoch 54/500\n",
      "\u001b[1m93/93\u001b[0m \u001b[32m━━━━━━━━━━━━━━━━━━━━\u001b[0m\u001b[37m\u001b[0m \u001b[1m0s\u001b[0m 4ms/step - accuracy: 0.9581 - auc: 0.9898 - loss: 0.1655 - val_accuracy: 0.8507 - val_auc: 0.9356 - val_loss: 0.4875 - learning_rate: 5.0000e-04\n",
      "Epoch 55/500\n",
      "\u001b[1m93/93\u001b[0m \u001b[32m━━━━━━━━━━━━━━━━━━━━\u001b[0m\u001b[37m\u001b[0m \u001b[1m0s\u001b[0m 4ms/step - accuracy: 0.9611 - auc: 0.9914 - loss: 0.1556 - val_accuracy: 0.8473 - val_auc: 0.9342 - val_loss: 0.5047 - learning_rate: 5.0000e-04\n",
      "Epoch 56/500\n",
      "\u001b[1m93/93\u001b[0m \u001b[32m━━━━━━━━━━━━━━━━━━━━\u001b[0m\u001b[37m\u001b[0m \u001b[1m0s\u001b[0m 4ms/step - accuracy: 0.9556 - auc: 0.9899 - loss: 0.1632 - val_accuracy: 0.8764 - val_auc: 0.9359 - val_loss: 0.4578 - learning_rate: 5.0000e-04\n",
      "Epoch 57/500\n",
      "\u001b[1m93/93\u001b[0m \u001b[32m━━━━━━━━━━━━━━━━━━━━\u001b[0m\u001b[37m\u001b[0m \u001b[1m0s\u001b[0m 4ms/step - accuracy: 0.9588 - auc: 0.9899 - loss: 0.1618 - val_accuracy: 0.8649 - val_auc: 0.9372 - val_loss: 0.4483 - learning_rate: 5.0000e-04\n",
      "Epoch 58/500\n",
      "\u001b[1m93/93\u001b[0m \u001b[32m━━━━━━━━━━━━━━━━━━━━\u001b[0m\u001b[37m\u001b[0m \u001b[1m0s\u001b[0m 4ms/step - accuracy: 0.9591 - auc: 0.9917 - loss: 0.1534 - val_accuracy: 0.8588 - val_auc: 0.9352 - val_loss: 0.4639 - learning_rate: 5.0000e-04\n",
      "Epoch 59/500\n",
      "\u001b[1m93/93\u001b[0m \u001b[32m━━━━━━━━━━━━━━━━━━━━\u001b[0m\u001b[37m\u001b[0m \u001b[1m0s\u001b[0m 4ms/step - accuracy: 0.9559 - auc: 0.9908 - loss: 0.1604 - val_accuracy: 0.8615 - val_auc: 0.9395 - val_loss: 0.4475 - learning_rate: 5.0000e-04\n",
      "Epoch 60/500\n",
      "\u001b[1m93/93\u001b[0m \u001b[32m━━━━━━━━━━━━━━━━━━━━\u001b[0m\u001b[37m\u001b[0m \u001b[1m0s\u001b[0m 4ms/step - accuracy: 0.9581 - auc: 0.9904 - loss: 0.1578 - val_accuracy: 0.8628 - val_auc: 0.9383 - val_loss: 0.4639 - learning_rate: 5.0000e-04\n",
      "Epoch 61/500\n",
      "\u001b[1m93/93\u001b[0m \u001b[32m━━━━━━━━━━━━━━━━━━━━\u001b[0m\u001b[37m\u001b[0m \u001b[1m0s\u001b[0m 4ms/step - accuracy: 0.9611 - auc: 0.9913 - loss: 0.1520 - val_accuracy: 0.8642 - val_auc: 0.9389 - val_loss: 0.4644 - learning_rate: 5.0000e-04\n"
     ]
    }
   ],
   "source": [
    "history = model.fit(\n",
    "    X_train,\n",
    "    y_train,\n",
    "    batch_size=64,\n",
    "    epochs=500, validation_split=0.2,\n",
    "    callbacks=[early_stop, reduce_lr],\n",
    "    \n",
    "    \n",
    ")"
   ]
  },
  {
   "cell_type": "code",
   "execution_count": 29,
   "id": "a384be76",
   "metadata": {},
   "outputs": [
    {
     "name": "stdout",
     "output_type": "stream",
     "text": [
      "\u001b[1m58/58\u001b[0m \u001b[32m━━━━━━━━━━━━━━━━━━━━\u001b[0m\u001b[37m\u001b[0m \u001b[1m0s\u001b[0m 2ms/step\n"
     ]
    }
   ],
   "source": [
    "y_prob=model.predict(X_test)"
   ]
  },
  {
   "cell_type": "code",
   "execution_count": 39,
   "id": "dc98f563",
   "metadata": {},
   "outputs": [
    {
     "name": "stdout",
     "output_type": "stream",
     "text": [
      "\u001b[1m58/58\u001b[0m \u001b[32m━━━━━━━━━━━━━━━━━━━━\u001b[0m\u001b[37m\u001b[0m \u001b[1m0s\u001b[0m 2ms/step\n"
     ]
    }
   ],
   "source": [
    "y_pred=(model.predict(X_test) >= 0.23).astype(int)"
   ]
  },
  {
   "cell_type": "code",
   "execution_count": 40,
   "id": "c57f4f70",
   "metadata": {},
   "outputs": [
    {
     "data": {
      "text/plain": [
       "array([[0],\n",
       "       [1],\n",
       "       [1],\n",
       "       ...,\n",
       "       [0],\n",
       "       [1],\n",
       "       [1]])"
      ]
     },
     "execution_count": 40,
     "metadata": {},
     "output_type": "execute_result"
    }
   ],
   "source": [
    "y_pred"
   ]
  },
  {
   "cell_type": "code",
   "execution_count": 41,
   "id": "c950dcae",
   "metadata": {},
   "outputs": [],
   "source": [
    "import seaborn as sns"
   ]
  },
  {
   "cell_type": "code",
   "execution_count": null,
   "id": "8f8ac86a",
   "metadata": {},
   "outputs": [
    {
     "ename": "TypeError",
     "evalue": "If no scoring is specified, the estimator passed should have a 'score' method. The estimator <Sequential name=sequential, built=True> does not.",
     "output_type": "error",
     "traceback": [
      "\u001b[31m---------------------------------------------------------------------------\u001b[39m",
      "\u001b[31mTypeError\u001b[39m                                 Traceback (most recent call last)",
      "\u001b[36mCell\u001b[39m\u001b[36m \u001b[39m\u001b[32mIn[50]\u001b[39m\u001b[32m, line 2\u001b[39m\n\u001b[32m      1\u001b[39m \u001b[38;5;28;01mfrom\u001b[39;00m\u001b[38;5;250m \u001b[39m\u001b[34;01msklearn\u001b[39;00m\u001b[34;01m.\u001b[39;00m\u001b[34;01mmodel_selection\u001b[39;00m\u001b[38;5;250m \u001b[39m\u001b[38;5;28;01mimport\u001b[39;00m cross_validate\n\u001b[32m----> \u001b[39m\u001b[32m2\u001b[39m \u001b[43mcross_validate\u001b[49m\u001b[43m(\u001b[49m\u001b[43mmodel\u001b[49m\u001b[43m,\u001b[49m\u001b[43m \u001b[49m\u001b[43mX_test\u001b[49m\u001b[43m,\u001b[49m\u001b[43m \u001b[49m\u001b[43my_test\u001b[49m\u001b[43m)\u001b[49m\n",
      "\u001b[36mFile \u001b[39m\u001b[32mc:\\Users\\unaif\\anaconda3\\envs\\projecto\\Lib\\site-packages\\sklearn\\utils\\_param_validation.py:216\u001b[39m, in \u001b[36mvalidate_params.<locals>.decorator.<locals>.wrapper\u001b[39m\u001b[34m(*args, **kwargs)\u001b[39m\n\u001b[32m    210\u001b[39m \u001b[38;5;28;01mtry\u001b[39;00m:\n\u001b[32m    211\u001b[39m     \u001b[38;5;28;01mwith\u001b[39;00m config_context(\n\u001b[32m    212\u001b[39m         skip_parameter_validation=(\n\u001b[32m    213\u001b[39m             prefer_skip_nested_validation \u001b[38;5;129;01mor\u001b[39;00m global_skip_validation\n\u001b[32m    214\u001b[39m         )\n\u001b[32m    215\u001b[39m     ):\n\u001b[32m--> \u001b[39m\u001b[32m216\u001b[39m         \u001b[38;5;28;01mreturn\u001b[39;00m \u001b[43mfunc\u001b[49m\u001b[43m(\u001b[49m\u001b[43m*\u001b[49m\u001b[43margs\u001b[49m\u001b[43m,\u001b[49m\u001b[43m \u001b[49m\u001b[43m*\u001b[49m\u001b[43m*\u001b[49m\u001b[43mkwargs\u001b[49m\u001b[43m)\u001b[49m\n\u001b[32m    217\u001b[39m \u001b[38;5;28;01mexcept\u001b[39;00m InvalidParameterError \u001b[38;5;28;01mas\u001b[39;00m e:\n\u001b[32m    218\u001b[39m     \u001b[38;5;66;03m# When the function is just a wrapper around an estimator, we allow\u001b[39;00m\n\u001b[32m    219\u001b[39m     \u001b[38;5;66;03m# the function to delegate validation to the estimator, but we replace\u001b[39;00m\n\u001b[32m    220\u001b[39m     \u001b[38;5;66;03m# the name of the estimator by the name of the function in the error\u001b[39;00m\n\u001b[32m    221\u001b[39m     \u001b[38;5;66;03m# message to avoid confusion.\u001b[39;00m\n\u001b[32m    222\u001b[39m     msg = re.sub(\n\u001b[32m    223\u001b[39m         \u001b[33mr\u001b[39m\u001b[33m\"\u001b[39m\u001b[33mparameter of \u001b[39m\u001b[33m\\\u001b[39m\u001b[33mw+ must be\u001b[39m\u001b[33m\"\u001b[39m,\n\u001b[32m    224\u001b[39m         \u001b[33mf\u001b[39m\u001b[33m\"\u001b[39m\u001b[33mparameter of \u001b[39m\u001b[38;5;132;01m{\u001b[39;00mfunc.\u001b[34m__qualname__\u001b[39m\u001b[38;5;132;01m}\u001b[39;00m\u001b[33m must be\u001b[39m\u001b[33m\"\u001b[39m,\n\u001b[32m    225\u001b[39m         \u001b[38;5;28mstr\u001b[39m(e),\n\u001b[32m    226\u001b[39m     )\n",
      "\u001b[36mFile \u001b[39m\u001b[32mc:\\Users\\unaif\\anaconda3\\envs\\projecto\\Lib\\site-packages\\sklearn\\model_selection\\_validation.py:349\u001b[39m, in \u001b[36mcross_validate\u001b[39m\u001b[34m(estimator, X, y, groups, scoring, cv, n_jobs, verbose, params, pre_dispatch, return_train_score, return_estimator, return_indices, error_score)\u001b[39m\n\u001b[32m    346\u001b[39m params = {} \u001b[38;5;28;01mif\u001b[39;00m params \u001b[38;5;129;01mis\u001b[39;00m \u001b[38;5;28;01mNone\u001b[39;00m \u001b[38;5;28;01melse\u001b[39;00m params\n\u001b[32m    347\u001b[39m cv = check_cv(cv, y, classifier=is_classifier(estimator))\n\u001b[32m--> \u001b[39m\u001b[32m349\u001b[39m scorers = \u001b[43mcheck_scoring\u001b[49m\u001b[43m(\u001b[49m\n\u001b[32m    350\u001b[39m \u001b[43m    \u001b[49m\u001b[43mestimator\u001b[49m\u001b[43m,\u001b[49m\u001b[43m \u001b[49m\u001b[43mscoring\u001b[49m\u001b[43m=\u001b[49m\u001b[43mscoring\u001b[49m\u001b[43m,\u001b[49m\u001b[43m \u001b[49m\u001b[43mraise_exc\u001b[49m\u001b[43m=\u001b[49m\u001b[43m(\u001b[49m\u001b[43merror_score\u001b[49m\u001b[43m \u001b[49m\u001b[43m==\u001b[49m\u001b[43m \u001b[49m\u001b[33;43m\"\u001b[39;49m\u001b[33;43mraise\u001b[39;49m\u001b[33;43m\"\u001b[39;49m\u001b[43m)\u001b[49m\n\u001b[32m    351\u001b[39m \u001b[43m\u001b[49m\u001b[43m)\u001b[49m\n\u001b[32m    353\u001b[39m \u001b[38;5;28;01mif\u001b[39;00m _routing_enabled():\n\u001b[32m    354\u001b[39m     \u001b[38;5;66;03m# For estimators, a MetadataRouter is created in get_metadata_routing\u001b[39;00m\n\u001b[32m    355\u001b[39m     \u001b[38;5;66;03m# methods. For these router methods, we create the router to use\u001b[39;00m\n\u001b[32m    356\u001b[39m     \u001b[38;5;66;03m# `process_routing` on it.\u001b[39;00m\n\u001b[32m    357\u001b[39m     router = (\n\u001b[32m    358\u001b[39m         MetadataRouter(owner=\u001b[33m\"\u001b[39m\u001b[33mcross_validate\u001b[39m\u001b[33m\"\u001b[39m)\n\u001b[32m    359\u001b[39m         .add(\n\u001b[32m   (...)\u001b[39m\u001b[32m    372\u001b[39m         )\n\u001b[32m    373\u001b[39m     )\n",
      "\u001b[36mFile \u001b[39m\u001b[32mc:\\Users\\unaif\\anaconda3\\envs\\projecto\\Lib\\site-packages\\sklearn\\utils\\_param_validation.py:216\u001b[39m, in \u001b[36mvalidate_params.<locals>.decorator.<locals>.wrapper\u001b[39m\u001b[34m(*args, **kwargs)\u001b[39m\n\u001b[32m    210\u001b[39m \u001b[38;5;28;01mtry\u001b[39;00m:\n\u001b[32m    211\u001b[39m     \u001b[38;5;28;01mwith\u001b[39;00m config_context(\n\u001b[32m    212\u001b[39m         skip_parameter_validation=(\n\u001b[32m    213\u001b[39m             prefer_skip_nested_validation \u001b[38;5;129;01mor\u001b[39;00m global_skip_validation\n\u001b[32m    214\u001b[39m         )\n\u001b[32m    215\u001b[39m     ):\n\u001b[32m--> \u001b[39m\u001b[32m216\u001b[39m         \u001b[38;5;28;01mreturn\u001b[39;00m \u001b[43mfunc\u001b[49m\u001b[43m(\u001b[49m\u001b[43m*\u001b[49m\u001b[43margs\u001b[49m\u001b[43m,\u001b[49m\u001b[43m \u001b[49m\u001b[43m*\u001b[49m\u001b[43m*\u001b[49m\u001b[43mkwargs\u001b[49m\u001b[43m)\u001b[49m\n\u001b[32m    217\u001b[39m \u001b[38;5;28;01mexcept\u001b[39;00m InvalidParameterError \u001b[38;5;28;01mas\u001b[39;00m e:\n\u001b[32m    218\u001b[39m     \u001b[38;5;66;03m# When the function is just a wrapper around an estimator, we allow\u001b[39;00m\n\u001b[32m    219\u001b[39m     \u001b[38;5;66;03m# the function to delegate validation to the estimator, but we replace\u001b[39;00m\n\u001b[32m    220\u001b[39m     \u001b[38;5;66;03m# the name of the estimator by the name of the function in the error\u001b[39;00m\n\u001b[32m    221\u001b[39m     \u001b[38;5;66;03m# message to avoid confusion.\u001b[39;00m\n\u001b[32m    222\u001b[39m     msg = re.sub(\n\u001b[32m    223\u001b[39m         \u001b[33mr\u001b[39m\u001b[33m\"\u001b[39m\u001b[33mparameter of \u001b[39m\u001b[33m\\\u001b[39m\u001b[33mw+ must be\u001b[39m\u001b[33m\"\u001b[39m,\n\u001b[32m    224\u001b[39m         \u001b[33mf\u001b[39m\u001b[33m\"\u001b[39m\u001b[33mparameter of \u001b[39m\u001b[38;5;132;01m{\u001b[39;00mfunc.\u001b[34m__qualname__\u001b[39m\u001b[38;5;132;01m}\u001b[39;00m\u001b[33m must be\u001b[39m\u001b[33m\"\u001b[39m,\n\u001b[32m    225\u001b[39m         \u001b[38;5;28mstr\u001b[39m(e),\n\u001b[32m    226\u001b[39m     )\n",
      "\u001b[36mFile \u001b[39m\u001b[32mc:\\Users\\unaif\\anaconda3\\envs\\projecto\\Lib\\site-packages\\sklearn\\metrics\\_scorer.py:1022\u001b[39m, in \u001b[36mcheck_scoring\u001b[39m\u001b[34m(estimator, scoring, allow_none, raise_exc)\u001b[39m\n\u001b[32m   1020\u001b[39m     \u001b[38;5;28;01mreturn\u001b[39;00m \u001b[38;5;28;01mNone\u001b[39;00m\n\u001b[32m   1021\u001b[39m \u001b[38;5;28;01melse\u001b[39;00m:\n\u001b[32m-> \u001b[39m\u001b[32m1022\u001b[39m     \u001b[38;5;28;01mraise\u001b[39;00m \u001b[38;5;167;01mTypeError\u001b[39;00m(\n\u001b[32m   1023\u001b[39m         \u001b[33m\"\u001b[39m\u001b[33mIf no scoring is specified, the estimator passed should \u001b[39m\u001b[33m\"\u001b[39m\n\u001b[32m   1024\u001b[39m         \u001b[33m\"\u001b[39m\u001b[33mhave a \u001b[39m\u001b[33m'\u001b[39m\u001b[33mscore\u001b[39m\u001b[33m'\u001b[39m\u001b[33m method. The estimator \u001b[39m\u001b[38;5;132;01m%r\u001b[39;00m\u001b[33m does not.\u001b[39m\u001b[33m\"\u001b[39m % estimator\n\u001b[32m   1025\u001b[39m     )\n",
      "\u001b[31mTypeError\u001b[39m: If no scoring is specified, the estimator passed should have a 'score' method. The estimator <Sequential name=sequential, built=True> does not."
     ]
    }
   ],
   "source": []
  },
  {
   "cell_type": "code",
   "execution_count": 42,
   "id": "748edab5",
   "metadata": {},
   "outputs": [
    {
     "name": "stdout",
     "output_type": "stream",
     "text": [
      "0.8708108108108108\n",
      "Accuracy: 0.8708108108108108\n",
      "Precision: 0.8580183861082737\n",
      "Recall: 0.8936170212765957\n",
      "F1: 0.8754559666492965\n",
      "AUC-ROC: 0.8704348842646715\n"
     ]
    },
    {
     "data": {
      "text/plain": [
       "'              precision    recall  f1-score   support\\n\\n           0       0.89      0.85      0.87       910\\n           1       0.86      0.89      0.88       940\\n\\n    accuracy                           0.87      1850\\n   macro avg       0.87      0.87      0.87      1850\\nweighted avg       0.87      0.87      0.87      1850\\n'"
      ]
     },
     "execution_count": 42,
     "metadata": {},
     "output_type": "execute_result"
    },
    {
     "data": {
      "image/png": "[encoded data removed]",
      "text/plain": [
       "<Figure size 640x480 with 2 Axes>"
      ]
     },
     "metadata": {},
     "output_type": "display_data"
    }
   ],
   "source": [
    "from sklearn.metrics import accuracy_score\n",
    "from sklearn.metrics import classification_report\n",
    "from sklearn.model_selection import cross_validate\n",
    "import seaborn as sns\n",
    "\n",
    "print(accuracy_score(y_test, y_pred))\n",
    "from sklearn.metrics import confusion_matrix\n",
    "\n",
    "\n",
    "\n",
    "sns.heatmap(confusion_matrix(y_test, y_pred, normalize='true'), annot=True, \n",
    "            fmt='.2%', cmap='Blues');\n",
    "from sklearn.metrics import accuracy_score, precision_score, recall_score, f1_score, roc_auc_score\n",
    "print(\"Accuracy:\", accuracy_score(y_test, y_pred))\n",
    "print(\"Precision:\", precision_score(y_test, y_pred))\n",
    "\"\"\"print(\"cv\", cross_validate(model, X_train,y_train))\"\"\"\n",
    "\"\"\"print(\"train\", model.score(X_train,y_train))\n",
    "print(\"test\",model.score(X_test,y_test)\"\"\"\n",
    "print(\"Recall:\", recall_score(y_test, y_pred))\n",
    "print(\"F1:\", f1_score(y_test, y_pred))\n",
    "print(\"AUC-ROC:\", roc_auc_score(y_test, y_pred))\n",
    "classification_report(y_test, y_pred)"
   ]
  },
  {
   "cell_type": "code",
   "execution_count": 43,
   "id": "bb6ff631",
   "metadata": {},
   "outputs": [
    {
     "data": {
      "text/plain": [
       "array([[0.84725275, 0.15274725],\n",
       "       [0.10638298, 0.89361702]])"
      ]
     },
     "execution_count": 43,
     "metadata": {},
     "output_type": "execute_result"
    }
   ],
   "source": [
    "confusion_matrix(y_test, y_pred, normalize='true')"
   ]
  },
  {
   "cell_type": "code",
   "execution_count": 44,
   "id": "b5fad6b1",
   "metadata": {},
   "outputs": [
    {
     "data": {
      "text/plain": [
       "'              precision    recall  f1-score   support\\n\\n           0       0.89      0.85      0.87       910\\n           1       0.86      0.89      0.88       940\\n\\n    accuracy                           0.87      1850\\n   macro avg       0.87      0.87      0.87      1850\\nweighted avg       0.87      0.87      0.87      1850\\n'"
      ]
     },
     "execution_count": 44,
     "metadata": {},
     "output_type": "execute_result"
    }
   ],
   "source": [
    "classification_report(y_test, y_pred, )"
   ]
  },
  {
   "cell_type": "code",
   "execution_count": 45,
   "id": "d98a2876",
   "metadata": {},
   "outputs": [
    {
     "name": "stdout",
     "output_type": "stream",
     "text": [
      "Mejor umbral (threshold) para F1: 0.22999999999999995\n",
      "Mejor F1 obtenido: 0.8754559666492965\n"
     ]
    }
   ],
   "source": [
    "import numpy as np\n",
    "thresholds = np.arange(.1, 1, 0.01)\n",
    "\n",
    "best_threshold = 0\n",
    "best_f1 = 0\n",
    "\n",
    "for t in thresholds:\n",
    "    # Convertir probabilidades en etiquetas según el threshold\n",
    "    y_pred_t =  (y_prob > t).astype(int)\n",
    "    ()\n",
    "    \n",
    "    # Calcular F1 para ese threshold\n",
    "    current_f1 = f1_score(y_test, y_pred_t)\n",
    "    \n",
    "    # Guardar si es mejor que el mejor hasta ahora\n",
    "    if current_f1 > best_f1:\n",
    "        best_f1 = current_f1\n",
    "        best_threshold = t\n",
    "\n",
    "print(f\"Mejor umbral (threshold) para F1: {best_threshold}\")\n",
    "print(f\"Mejor F1 obtenido: {best_f1}\")\n"
   ]
  },
  {
   "cell_type": "code",
   "execution_count": 46,
   "id": "704b5558",
   "metadata": {},
   "outputs": [
    {
     "name": "stdout",
     "output_type": "stream",
     "text": [
      "Mejor umbral (threshold) para F1: 0.23099999999999996\n",
      "Mejor F1 obtenido: 0.8708108108108108\n"
     ]
    }
   ],
   "source": [
    "import numpy as np\n",
    "thresholds = np.arange(.001, 1.01, 0.01)\n",
    "\n",
    "best_threshold = 0\n",
    "best_f1 = 0\n",
    "\n",
    "for t in thresholds:\n",
    "    # Convertir probabilidades en etiquetas según el threshold\n",
    "    y_pred_t =  (y_prob > t).astype(int)\n",
    "    ()\n",
    "    \n",
    "    # Calcular F1 para ese threshold\n",
    "    current_f1 = accuracy_score(y_test, y_pred_t)\n",
    "    \n",
    "    # Guardar si es mejor que el mejor hasta ahora\n",
    "    if current_f1 > best_f1:\n",
    "        best_f1 = current_f1\n",
    "        best_threshold = t\n",
    "\n",
    "print(f\"Mejor umbral (threshold) para F1: {best_threshold}\")\n",
    "print(f\"Mejor F1 obtenido: {best_f1}\")"
   ]
  },
  {
   "cell_type": "code",
   "execution_count": 47,
   "id": "cc0e705a",
   "metadata": {},
   "outputs": [
    {
     "ename": "SyntaxError",
     "evalue": "invalid syntax (1947214667.py, line 1)",
     "output_type": "error",
     "traceback": [
      "  \u001b[36mCell\u001b[39m\u001b[36m \u001b[39m\u001b[32mIn[47]\u001b[39m\u001b[32m, line 1\u001b[39m\n\u001b[31m    \u001b[39m\u001b[31m---\u001b[39m\n       ^\n\u001b[31mSyntaxError\u001b[39m\u001b[31m:\u001b[39m invalid syntax\n"
     ]
    }
   ],
   "source": [
    "---"
   ]
  },
  {
   "cell_type": "code",
   "execution_count": 48,
   "id": "7143e2c8",
   "metadata": {},
   "outputs": [],
   "source": [
    "# Guardar en formato nativo de Keras\n",
    "os.chdir(\"../models\")\n",
    "model.save(\"modelo_dispute_red.keras\")"
   ]
  },
  {
   "cell_type": "code",
   "execution_count": 49,
   "id": "13d14ba7",
   "metadata": {},
   "outputs": [
    {
     "data": {
      "text/plain": [
       "['preprocesador_red.pkl']"
      ]
     },
     "execution_count": 49,
     "metadata": {},
     "output_type": "execute_result"
    }
   ],
   "source": [
    "import joblib\n",
    "\n",
    "os.chdir(\"../src\")\n",
    "\n",
    "# Guardar el scaler entrenado\n",
    "joblib.dump(preprocessor, \"preprocesador_red.pkl\")"
   ]
  }
 ],
 "metadata": {
  "kernelspec": {
   "display_name": "projecto",
   "language": "python",
   "name": "python3"
  },
  "language_info": {
   "codemirror_mode": {
    "name": "ipython",
    "version": 3
   },
   "file_extension": ".py",
   "mimetype": "text/x-python",
   "name": "python",
   "nbconvert_exporter": "python",
   "pygments_lexer": "ipython3",
   "version": "3.12.3"
  }
 },
 "nbformat": 4,
 "nbformat_minor": 5
}
