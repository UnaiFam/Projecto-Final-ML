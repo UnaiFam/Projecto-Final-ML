{
 "cells": [
  {
   "cell_type": "code",
   "execution_count": 21,
   "id": "720a77e8",
   "metadata": {},
   "outputs": [],
   "source": [
    "import gradio as gr\n",
    "import os\n"
   ]
  },
  {
   "cell_type": "code",
   "execution_count": 22,
   "id": "e3d82810",
   "metadata": {},
   "outputs": [],
   "source": [
    "os.chdir(\"../src\")\n",
    "from tool_preprocess import State_enc, product_encoder, sub_Issue_enc, sub_product_encoder,  Issue_enc, Company_response_enc, Time_enco, preprocesing_function_paraforest"
   ]
  },
  {
   "cell_type": "code",
   "execution_count": 23,
   "id": "e6d632bd",
   "metadata": {},
   "outputs": [],
   "source": [
    "# Aplicacion\n",
    "import pandas as pd\n",
    "import pickle\n",
    "import os\n",
    "\n",
    "import os\n",
    "import joblib\n",
    "\n",
    "os.chdir(\"../models\")\n",
    "with open('modelo_timely_tree_def.pkl', 'rb') as f:\n",
    "    modelo_timely = pickle.load(f)"
   ]
  },
  {
   "cell_type": "code",
   "execution_count": 24,
   "id": "4aad43b8",
   "metadata": {},
   "outputs": [
    {
     "data": {
      "text/plain": [
       "['Bank account or service',\n",
       " 'Consumer loan',\n",
       " 'Credit card',\n",
       " 'Credit reporting',\n",
       " 'Debt collection',\n",
       " 'Money transfers',\n",
       " 'Mortgage',\n",
       " 'Other financial service',\n",
       " 'Payday loan',\n",
       " 'Prepaid card',\n",
       " 'Student loan',\n",
       " 'Unknown or not specified']"
      ]
     },
     "execution_count": 24,
     "metadata": {},
     "output_type": "execute_result"
    }
   ],
   "source": [
    "product_encoder.classes_.tolist()"
   ]
  },
  {
   "cell_type": "code",
   "execution_count": 25,
   "id": "39d59c4c",
   "metadata": {},
   "outputs": [
    {
     "name": "stderr",
     "output_type": "stream",
     "text": [
      "c:\\Users\\unaif\\anaconda3\\envs\\projecto\\Lib\\site-packages\\sklearn\\preprocessing\\_label.py:129: DataConversionWarning: A column-vector y was passed when a 1d array was expected. Please change the shape of y to (n_samples, ), for example using ravel().\n",
      "  y = column_or_1d(y, dtype=self.classes_.dtype, warn=True)\n"
     ]
    },
    {
     "data": {
      "text/plain": [
       "array([ 0,  1,  2,  3,  4,  5,  6,  7,  8,  9, 10, 11])"
      ]
     },
     "execution_count": 25,
     "metadata": {},
     "output_type": "execute_result"
    }
   ],
   "source": [
    "product_encoder.transform(pd.DataFrame(product_encoder.classes_.tolist()))"
   ]
  },
  {
   "cell_type": "code",
   "execution_count": 26,
   "id": "c6715954",
   "metadata": {},
   "outputs": [],
   "source": [
    "import pickle\n",
    "import joblib\n",
    "os.chdir(\"../models\")\n",
    "#saco las pipelines /modelos\n",
    "\n",
    "\n",
    "modelo_timely=joblib.load(\"modelo_timely_tree_def.pkl\")\n",
    "def predict_timely (    \n",
    "    Product:str,\n",
    "    Subproduct:str,\n",
    "    Issue:str,\n",
    "    Subissue:str,\n",
    "    State:str,\n",
    "    Companyresponse:str):\n",
    "    \n",
    "    #State por defecto Unknown\n",
    "    #Subproduct por defecto Unknown or \n",
    "    #Subissue por defecto Unknown or \n",
    "\n",
    "    #Product por defecto other financia services\n",
    "\n",
    "    #Yes=1, No= 0\n",
    "\n",
    "\n",
    "    \n",
    "\n",
    "    features=pd.DataFrame({\"Product\":[Product],\"Sub-product\": [Subproduct],\t\n",
    "            \"Issue\":[Issue],\t\n",
    "            \"Sub-issue\":[Subissue],\t\n",
    "            \"State\":[State],\t\n",
    "            \"Company response\":[Companyresponse]})\n",
    "\n",
    "    display(features)\n",
    "    features[\"Product\"] = product_encoder.transform(features[\"Product\"])\n",
    "    features[\"Sub-product\"] = sub_product_encoder.transform(features[\"Sub-product\"])\n",
    "    features[\"Issue\"] = Issue_enc.transform(features[\"Issue\"])\n",
    "    features[\"Sub-issue\"] = sub_Issue_enc.transform(features[\"Sub-issue\"])\n",
    "    features[\"State\"] = State_enc.transform(features[\"State\"])\n",
    "    features[\"Company response\"] = Company_response_enc.transform(features[\"Company response\"])\n",
    "    \n",
    "    display(features)\n",
    "    pred=modelo_timely.predict(features)[0]\n",
    "\n",
    "    \n",
    "    return {\"response01\": int(pred)}\n"
   ]
  },
  {
   "cell_type": "code",
   "execution_count": 27,
   "id": "b63fe87a",
   "metadata": {},
   "outputs": [
    {
     "data": {
      "text/html": [
       "<div>\n",
       "<style scoped>\n",
       "    .dataframe tbody tr th:only-of-type {\n",
       "        vertical-align: middle;\n",
       "    }\n",
       "\n",
       "    .dataframe tbody tr th {\n",
       "        vertical-align: top;\n",
       "    }\n",
       "\n",
       "    .dataframe thead th {\n",
       "        text-align: right;\n",
       "    }\n",
       "</style>\n",
       "<table border=\"1\" class=\"dataframe\">\n",
       "  <thead>\n",
       "    <tr style=\"text-align: right;\">\n",
       "      <th></th>\n",
       "      <th>Product</th>\n",
       "      <th>Sub-product</th>\n",
       "      <th>Issue</th>\n",
       "      <th>Sub-issue</th>\n",
       "      <th>State</th>\n",
       "      <th>Company response</th>\n",
       "    </tr>\n",
       "  </thead>\n",
       "  <tbody>\n",
       "    <tr>\n",
       "      <th>0</th>\n",
       "      <td>Debt collection</td>\n",
       "      <td>Unknown or not specified</td>\n",
       "      <td>Cont'd attempts collect debt not owed</td>\n",
       "      <td>Debt is not mine</td>\n",
       "      <td>TX</td>\n",
       "      <td>Closed with non-monetary relief</td>\n",
       "    </tr>\n",
       "  </tbody>\n",
       "</table>\n",
       "</div>"
      ],
      "text/plain": [
       "           Product               Sub-product  \\\n",
       "0  Debt collection  Unknown or not specified   \n",
       "\n",
       "                                   Issue         Sub-issue State  \\\n",
       "0  Cont'd attempts collect debt not owed  Debt is not mine    TX   \n",
       "\n",
       "                  Company response  \n",
       "0  Closed with non-monetary relief  "
      ]
     },
     "execution_count": 27,
     "metadata": {},
     "output_type": "execute_result"
    }
   ],
   "source": [
    "features =pd.DataFrame( {\n",
    "    \"Product\": [\"Debt collection\"],\n",
    "    \"Sub-product\": [\"Unknown or not specified\"],\n",
    "    \"Issue\": [\"Cont'd attempts collect debt not owed\"],\n",
    "    \"Sub-issue\": [\"Debt is not mine\"],\n",
    "    \"State\": [\"TX\"],\n",
    "    \"Company response\": [\"Closed with non-monetary relief\"]\n",
    "})\n",
    "\n",
    "features"
   ]
  },
  {
   "cell_type": "code",
   "execution_count": 28,
   "id": "48c9531e",
   "metadata": {},
   "outputs": [
    {
     "data": {
      "text/html": [
       "<div>\n",
       "<style scoped>\n",
       "    .dataframe tbody tr th:only-of-type {\n",
       "        vertical-align: middle;\n",
       "    }\n",
       "\n",
       "    .dataframe tbody tr th {\n",
       "        vertical-align: top;\n",
       "    }\n",
       "\n",
       "    .dataframe thead th {\n",
       "        text-align: right;\n",
       "    }\n",
       "</style>\n",
       "<table border=\"1\" class=\"dataframe\">\n",
       "  <thead>\n",
       "    <tr style=\"text-align: right;\">\n",
       "      <th></th>\n",
       "      <th>Product</th>\n",
       "      <th>Sub-product</th>\n",
       "      <th>Issue</th>\n",
       "      <th>Sub-issue</th>\n",
       "      <th>State</th>\n",
       "      <th>Company response</th>\n",
       "    </tr>\n",
       "  </thead>\n",
       "  <tbody>\n",
       "    <tr>\n",
       "      <th>0</th>\n",
       "      <td>Debt collection</td>\n",
       "      <td>Unknown or not specified</td>\n",
       "      <td>Cont'd attempts collect debt not owed</td>\n",
       "      <td>Debt is not mine</td>\n",
       "      <td>TX</td>\n",
       "      <td>Closed with non-monetary relief</td>\n",
       "    </tr>\n",
       "  </tbody>\n",
       "</table>\n",
       "</div>"
      ],
      "text/plain": [
       "           Product               Sub-product  \\\n",
       "0  Debt collection  Unknown or not specified   \n",
       "\n",
       "                                   Issue         Sub-issue State  \\\n",
       "0  Cont'd attempts collect debt not owed  Debt is not mine    TX   \n",
       "\n",
       "                  Company response  \n",
       "0  Closed with non-monetary relief  "
      ]
     },
     "metadata": {},
     "output_type": "display_data"
    },
    {
     "data": {
      "text/html": [
       "<div>\n",
       "<style scoped>\n",
       "    .dataframe tbody tr th:only-of-type {\n",
       "        vertical-align: middle;\n",
       "    }\n",
       "\n",
       "    .dataframe tbody tr th {\n",
       "        vertical-align: top;\n",
       "    }\n",
       "\n",
       "    .dataframe thead th {\n",
       "        text-align: right;\n",
       "    }\n",
       "</style>\n",
       "<table border=\"1\" class=\"dataframe\">\n",
       "  <thead>\n",
       "    <tr style=\"text-align: right;\">\n",
       "      <th></th>\n",
       "      <th>Product</th>\n",
       "      <th>Sub-product</th>\n",
       "      <th>Issue</th>\n",
       "      <th>Sub-issue</th>\n",
       "      <th>State</th>\n",
       "      <th>Company response</th>\n",
       "    </tr>\n",
       "  </thead>\n",
       "  <tbody>\n",
       "    <tr>\n",
       "      <th>0</th>\n",
       "      <td>4</td>\n",
       "      <td>39</td>\n",
       "      <td>24</td>\n",
       "      <td>11</td>\n",
       "      <td>50</td>\n",
       "      <td>3</td>\n",
       "    </tr>\n",
       "  </tbody>\n",
       "</table>\n",
       "</div>"
      ],
      "text/plain": [
       "   Product  Sub-product  Issue  Sub-issue  State  Company response\n",
       "0        4           39     24         11     50                 3"
      ]
     },
     "metadata": {},
     "output_type": "display_data"
    },
    {
     "data": {
      "text/plain": [
       "{'response01': 1}"
      ]
     },
     "execution_count": 28,
     "metadata": {},
     "output_type": "execute_result"
    }
   ],
   "source": [
    "predict_timely(\"Debt collection\",\t\"Unknown or not specified\",\t\"Cont'd attempts collect debt not owed\",\t\"Debt is not mine\"\t,\"TX\"\t,\"Closed with non-monetary relief\")"
   ]
  },
  {
   "cell_type": "code",
   "execution_count": 29,
   "id": "0ee1012f",
   "metadata": {},
   "outputs": [
    {
     "name": "stderr",
     "output_type": "stream",
     "text": [
      "c:\\Users\\unaif\\anaconda3\\envs\\projecto\\Lib\\site-packages\\gradio\\components\\dropdown.py:230: UserWarning: The value passed into gr.Dropdown() is not in the list of choices. Please update the list of choices to include: Unknown or set allow_custom_value=True.\n",
      "  warnings.warn(\n"
     ]
    },
    {
     "name": "stdout",
     "output_type": "stream",
     "text": [
      "* Running on local URL:  http://127.0.0.1:7862\n",
      "* To create a public link, set `share=True` in `launch()`.\n"
     ]
    },
    {
     "data": {
      "text/html": [
       "<div><iframe src=\"http://127.0.0.1:7862/\" width=\"100%\" height=\"500\" allow=\"autoplay; camera; microphone; clipboard-read; clipboard-write;\" frameborder=\"0\" allowfullscreen></iframe></div>"
      ],
      "text/plain": [
       "<IPython.core.display.HTML object>"
      ]
     },
     "metadata": {},
     "output_type": "display_data"
    }
   ],
   "source": [
    "iface = gr.Interface(\n",
    "    fn=predict_timely,\n",
    "    inputs=[\n",
    "        gr.Dropdown(choices=product_encoder.classes_.tolist(), value='Unknown', label=\"Product\"),\n",
    "        gr.Dropdown(choices=sub_product_encoder.classes_.tolist(), value='Unknown', label=\"Sub-product\"),\n",
    "        gr.Dropdown(choices=Issue_enc.classes_.tolist(), value='Unknown', label=\"Issue\"),\n",
    "        gr.Dropdown(choices=sub_Issue_enc.classes_.tolist(), value='Unknown', label=\"Sub-issue\"),\n",
    "        gr.Dropdown(choices=State_enc.classes_.tolist(), value='Unknown', label=\"State\"),\n",
    "        gr.Dropdown(choices=Company_response_enc.classes_.tolist(), value='Unknown', label=\"Company response\"),\n",
    "    ],\n",
    "    outputs=\"json\",\n",
    "    title=\"Predicción Timely\",\n",
    "    description=\"Introduce los parámetros para obtener la predicción.\"\n",
    ")\n",
    "if __name__ == \"__main__\":\n",
    "    iface.launch()"
   ]
  },
  {
   "cell_type": "code",
   "execution_count": 30,
   "id": "3a733402",
   "metadata": {},
   "outputs": [
    {
     "data": {
      "text/plain": [
       "'False '"
      ]
     },
     "execution_count": 30,
     "metadata": {},
     "output_type": "execute_result"
    }
   ],
   "source": [
    "\"False \""
   ]
  }
 ],
 "metadata": {
  "kernelspec": {
   "display_name": "projecto",
   "language": "python",
   "name": "python3"
  },
  "language_info": {
   "codemirror_mode": {
    "name": "ipython",
    "version": 3
   },
   "file_extension": ".py",
   "mimetype": "text/x-python",
   "name": "python",
   "nbconvert_exporter": "python",
   "pygments_lexer": "ipython3",
   "version": "3.12.3"
  }
 },
 "nbformat": 4,
 "nbformat_minor": 5
}
