{
 "cells": [
  {
   "cell_type": "code",
   "execution_count": 1,
   "id": "720a77e8",
   "metadata": {},
   "outputs": [
    {
     "name": "stderr",
     "output_type": "stream",
     "text": [
      "c:\\Users\\unaif\\anaconda3\\envs\\projecto\\Lib\\site-packages\\tqdm\\auto.py:21: TqdmWarning: IProgress not found. Please update jupyter and ipywidgets. See https://ipywidgets.readthedocs.io/en/stable/user_install.html\n",
      "  from .autonotebook import tqdm as notebook_tqdm\n"
     ]
    }
   ],
   "source": [
    "import gradio as gr\n",
    "import os\n"
   ]
  },
  {
   "cell_type": "code",
   "execution_count": 2,
   "id": "e3d82810",
   "metadata": {},
   "outputs": [
    {
     "name": "stderr",
     "output_type": "stream",
     "text": [
      "c:\\Users\\unaif\\anaconda3\\envs\\projecto\\Lib\\site-packages\\sklearn\\preprocessing\\_label.py:93: DataConversionWarning: A column-vector y was passed when a 1d array was expected. Please change the shape of y to (n_samples, ), for example using ravel().\n",
      "  y = column_or_1d(y, warn=True)\n",
      "c:\\Users\\unaif\\anaconda3\\envs\\projecto\\Lib\\site-packages\\sklearn\\preprocessing\\_label.py:93: DataConversionWarning: A column-vector y was passed when a 1d array was expected. Please change the shape of y to (n_samples, ), for example using ravel().\n",
      "  y = column_or_1d(y, warn=True)\n",
      "c:\\Users\\unaif\\anaconda3\\envs\\projecto\\Lib\\site-packages\\sklearn\\preprocessing\\_label.py:93: DataConversionWarning: A column-vector y was passed when a 1d array was expected. Please change the shape of y to (n_samples, ), for example using ravel().\n",
      "  y = column_or_1d(y, warn=True)\n",
      "c:\\Users\\unaif\\anaconda3\\envs\\projecto\\Lib\\site-packages\\sklearn\\preprocessing\\_label.py:93: DataConversionWarning: A column-vector y was passed when a 1d array was expected. Please change the shape of y to (n_samples, ), for example using ravel().\n",
      "  y = column_or_1d(y, warn=True)\n",
      "c:\\Users\\unaif\\anaconda3\\envs\\projecto\\Lib\\site-packages\\sklearn\\preprocessing\\_label.py:93: DataConversionWarning: A column-vector y was passed when a 1d array was expected. Please change the shape of y to (n_samples, ), for example using ravel().\n",
      "  y = column_or_1d(y, warn=True)\n",
      "c:\\Users\\unaif\\anaconda3\\envs\\projecto\\Lib\\site-packages\\sklearn\\preprocessing\\_label.py:93: DataConversionWarning: A column-vector y was passed when a 1d array was expected. Please change the shape of y to (n_samples, ), for example using ravel().\n",
      "  y = column_or_1d(y, warn=True)\n",
      "c:\\Users\\unaif\\anaconda3\\envs\\projecto\\Lib\\site-packages\\sklearn\\preprocessing\\_label.py:93: DataConversionWarning: A column-vector y was passed when a 1d array was expected. Please change the shape of y to (n_samples, ), for example using ravel().\n",
      "  y = column_or_1d(y, warn=True)\n",
      "c:\\Users\\unaif\\anaconda3\\envs\\projecto\\Lib\\site-packages\\sklearn\\preprocessing\\_label.py:93: DataConversionWarning: A column-vector y was passed when a 1d array was expected. Please change the shape of y to (n_samples, ), for example using ravel().\n",
      "  y = column_or_1d(y, warn=True)\n",
      "c:\\Users\\unaif\\anaconda3\\envs\\projecto\\Lib\\site-packages\\sklearn\\preprocessing\\_label.py:93: DataConversionWarning: A column-vector y was passed when a 1d array was expected. Please change the shape of y to (n_samples, ), for example using ravel().\n",
      "  y = column_or_1d(y, warn=True)\n",
      "c:\\Users\\unaif\\anaconda3\\envs\\projecto\\Lib\\site-packages\\sklearn\\preprocessing\\_label.py:93: DataConversionWarning: A column-vector y was passed when a 1d array was expected. Please change the shape of y to (n_samples, ), for example using ravel().\n",
      "  y = column_or_1d(y, warn=True)\n"
     ]
    }
   ],
   "source": [
    "os.chdir(\"../src\")\n",
    "from tool_preprocess import State_enc, product_encoder, sub_Issue_enc, sub_product_encoder,  Issue_enc, Company_response_enc, Time_enco, preprocesing_function_paraforest"
   ]
  },
  {
   "cell_type": "code",
   "execution_count": 3,
   "id": "e6d632bd",
   "metadata": {},
   "outputs": [],
   "source": [
    "# Aplicacion\n",
    "import pandas as pd\n",
    "import pickle\n",
    "import os\n",
    "\n",
    "import os\n",
    "import joblib\n",
    "\n",
    "os.chdir(\"../models\")\n",
    "with open('modelo_timely_tree_sin_comp.pkl', 'rb') as f:\n",
    "    modelo_timely = pickle.load(f)"
   ]
  },
  {
   "cell_type": "code",
   "execution_count": 4,
   "id": "4aad43b8",
   "metadata": {},
   "outputs": [
    {
     "data": {
      "text/plain": [
       "['Bank account or service',\n",
       " 'Consumer loan',\n",
       " 'Credit card',\n",
       " 'Credit reporting',\n",
       " 'Debt collection',\n",
       " 'Money transfers',\n",
       " 'Mortgage',\n",
       " 'Other financial service',\n",
       " 'Payday loan',\n",
       " 'Prepaid card',\n",
       " 'Student loan',\n",
       " 'Unknown or not specified']"
      ]
     },
     "execution_count": 4,
     "metadata": {},
     "output_type": "execute_result"
    }
   ],
   "source": [
    "product_encoder.classes_.tolist()"
   ]
  },
  {
   "cell_type": "code",
   "execution_count": 5,
   "id": "39d59c4c",
   "metadata": {},
   "outputs": [
    {
     "name": "stderr",
     "output_type": "stream",
     "text": [
      "c:\\Users\\unaif\\anaconda3\\envs\\projecto\\Lib\\site-packages\\sklearn\\preprocessing\\_label.py:129: DataConversionWarning: A column-vector y was passed when a 1d array was expected. Please change the shape of y to (n_samples, ), for example using ravel().\n",
      "  y = column_or_1d(y, dtype=self.classes_.dtype, warn=True)\n"
     ]
    },
    {
     "data": {
      "text/plain": [
       "array([ 0,  1,  2,  3,  4,  5,  6,  7,  8,  9, 10, 11])"
      ]
     },
     "execution_count": 5,
     "metadata": {},
     "output_type": "execute_result"
    }
   ],
   "source": [
    "product_encoder.transform(pd.DataFrame(product_encoder.classes_.tolist()))"
   ]
  },
  {
   "cell_type": "code",
   "execution_count": null,
   "id": "c6715954",
   "metadata": {},
   "outputs": [],
   "source": [
    "import pickle\n",
    "import joblib\n",
    "os.chdir(\"../models\")\n",
    "#saco las pipelines /modelos\n",
    "\n",
    "\n",
    "modelo_timely=joblib.load(\"modelo_timely_tree_sin_comp.pkl\")\n",
    "def predict_timely (    \n",
    "    Product:str,\n",
    "    Subproduct:str,\n",
    "    Issue:str,\n",
    "    Subissue:str,\n",
    "    State:str,\n",
    "    ):\n",
    "    \n",
    "    #State por defecto Unknown or not specified\n",
    "    #Subproduct por defecto Unknown or not specified\n",
    "    #Subissue por defecto Unknown or not specified\n",
    "    #Product por defecto other financial services\n",
    "\n",
    "    #Yes=1, No= 0\n",
    "\n",
    "\n",
    "    \n",
    "# \n",
    "    features=pd.DataFrame({\"Product\":[Product],\n",
    "                           \"Sub-product\": [Subproduct],\t\n",
    "            \"Issue\":[Issue],\t\n",
    "            \"Sub-issue\":[Subissue],\t\n",
    "            \"State\":[State],\t\n",
    "            })\n",
    "\n",
    "    display(features)\n",
    "    features[\"Product\"] = product_encoder.transform(features[\"Product\"])\n",
    "    features[\"Sub-product\"] = sub_product_encoder.transform(features[\"Sub-product\"])\n",
    "    features[\"Issue\"] = Issue_enc.transform(features[\"Issue\"])\n",
    "    features[\"Sub-issue\"] = sub_Issue_enc.transform(features[\"Sub-issue\"])\n",
    "    features[\"State\"] = State_enc.transform(features[\"State\"])\n",
    "    \n",
    "    \n",
    "    display(features)\n",
    "    pred=modelo_timely.predict(features)[0]\n",
    "\n",
    "    \n",
    "    return {\"response01\": int(pred), }\n"
   ]
  },
  {
   "cell_type": "code",
   "execution_count": 10,
   "id": "b63fe87a",
   "metadata": {},
   "outputs": [
    {
     "data": {
      "text/html": [
       "<div>\n",
       "<style scoped>\n",
       "    .dataframe tbody tr th:only-of-type {\n",
       "        vertical-align: middle;\n",
       "    }\n",
       "\n",
       "    .dataframe tbody tr th {\n",
       "        vertical-align: top;\n",
       "    }\n",
       "\n",
       "    .dataframe thead th {\n",
       "        text-align: right;\n",
       "    }\n",
       "</style>\n",
       "<table border=\"1\" class=\"dataframe\">\n",
       "  <thead>\n",
       "    <tr style=\"text-align: right;\">\n",
       "      <th></th>\n",
       "      <th>Product</th>\n",
       "      <th>Sub-product</th>\n",
       "      <th>Issue</th>\n",
       "      <th>Sub-issue</th>\n",
       "      <th>State</th>\n",
       "    </tr>\n",
       "  </thead>\n",
       "  <tbody>\n",
       "    <tr>\n",
       "      <th>0</th>\n",
       "      <td>Debt collection</td>\n",
       "      <td>Unknown or not specified</td>\n",
       "      <td>Cont'd attempts collect debt not owed</td>\n",
       "      <td>Debt is not mine</td>\n",
       "      <td>TX</td>\n",
       "    </tr>\n",
       "  </tbody>\n",
       "</table>\n",
       "</div>"
      ],
      "text/plain": [
       "           Product               Sub-product  \\\n",
       "0  Debt collection  Unknown or not specified   \n",
       "\n",
       "                                   Issue         Sub-issue State  \n",
       "0  Cont'd attempts collect debt not owed  Debt is not mine    TX  "
      ]
     },
     "execution_count": 10,
     "metadata": {},
     "output_type": "execute_result"
    }
   ],
   "source": [
    "features =pd.DataFrame( {\n",
    "    \"Product\": [\"Debt collection\"],\n",
    "    \"Sub-product\": [\"Unknown or not specified\"],\n",
    "    \"Issue\": [\"Cont'd attempts collect debt not owed\"],\n",
    "    \"Sub-issue\": [\"Debt is not mine\"],\n",
    "    \"State\": [\"TX\"],\n",
    "    \n",
    "})\n",
    "# simplemente una prueba\n",
    "features"
   ]
  },
  {
   "cell_type": "code",
   "execution_count": 11,
   "id": "48c9531e",
   "metadata": {},
   "outputs": [
    {
     "data": {
      "text/html": [
       "<div>\n",
       "<style scoped>\n",
       "    .dataframe tbody tr th:only-of-type {\n",
       "        vertical-align: middle;\n",
       "    }\n",
       "\n",
       "    .dataframe tbody tr th {\n",
       "        vertical-align: top;\n",
       "    }\n",
       "\n",
       "    .dataframe thead th {\n",
       "        text-align: right;\n",
       "    }\n",
       "</style>\n",
       "<table border=\"1\" class=\"dataframe\">\n",
       "  <thead>\n",
       "    <tr style=\"text-align: right;\">\n",
       "      <th></th>\n",
       "      <th>Product</th>\n",
       "      <th>Sub-product</th>\n",
       "      <th>Issue</th>\n",
       "      <th>Sub-issue</th>\n",
       "      <th>State</th>\n",
       "    </tr>\n",
       "  </thead>\n",
       "  <tbody>\n",
       "    <tr>\n",
       "      <th>0</th>\n",
       "      <td>Debt collection</td>\n",
       "      <td>Unknown or not specified</td>\n",
       "      <td>Cont'd attempts collect debt not owed</td>\n",
       "      <td>Debt is not mine</td>\n",
       "      <td>TX</td>\n",
       "    </tr>\n",
       "  </tbody>\n",
       "</table>\n",
       "</div>"
      ],
      "text/plain": [
       "           Product               Sub-product  \\\n",
       "0  Debt collection  Unknown or not specified   \n",
       "\n",
       "                                   Issue         Sub-issue State  \n",
       "0  Cont'd attempts collect debt not owed  Debt is not mine    TX  "
      ]
     },
     "metadata": {},
     "output_type": "display_data"
    },
    {
     "data": {
      "text/html": [
       "<div>\n",
       "<style scoped>\n",
       "    .dataframe tbody tr th:only-of-type {\n",
       "        vertical-align: middle;\n",
       "    }\n",
       "\n",
       "    .dataframe tbody tr th {\n",
       "        vertical-align: top;\n",
       "    }\n",
       "\n",
       "    .dataframe thead th {\n",
       "        text-align: right;\n",
       "    }\n",
       "</style>\n",
       "<table border=\"1\" class=\"dataframe\">\n",
       "  <thead>\n",
       "    <tr style=\"text-align: right;\">\n",
       "      <th></th>\n",
       "      <th>Product</th>\n",
       "      <th>Sub-product</th>\n",
       "      <th>Issue</th>\n",
       "      <th>Sub-issue</th>\n",
       "      <th>State</th>\n",
       "    </tr>\n",
       "  </thead>\n",
       "  <tbody>\n",
       "    <tr>\n",
       "      <th>0</th>\n",
       "      <td>4</td>\n",
       "      <td>39</td>\n",
       "      <td>24</td>\n",
       "      <td>11</td>\n",
       "      <td>50</td>\n",
       "    </tr>\n",
       "  </tbody>\n",
       "</table>\n",
       "</div>"
      ],
      "text/plain": [
       "   Product  Sub-product  Issue  Sub-issue  State\n",
       "0        4           39     24         11     50"
      ]
     },
     "metadata": {},
     "output_type": "display_data"
    },
    {
     "data": {
      "text/plain": [
       "{'response01': 1}"
      ]
     },
     "execution_count": 11,
     "metadata": {},
     "output_type": "execute_result"
    }
   ],
   "source": [
    "predict_timely(\"Debt collection\",\t\"Unknown or not specified\",\t\"Cont'd attempts collect debt not owed\",\t\"Debt is not mine\"\t,\"TX\"\t)"
   ]
  },
  {
   "cell_type": "code",
   "execution_count": 12,
   "id": "0ee1012f",
   "metadata": {},
   "outputs": [
    {
     "name": "stderr",
     "output_type": "stream",
     "text": [
      "c:\\Users\\unaif\\anaconda3\\envs\\projecto\\Lib\\site-packages\\gradio\\utils.py:1054: UserWarning: Expected 5 arguments for function <function predict_timely at 0x000001BF90DF4220>, received 6.\n",
      "  warnings.warn(\n",
      "c:\\Users\\unaif\\anaconda3\\envs\\projecto\\Lib\\site-packages\\gradio\\utils.py:1062: UserWarning: Expected maximum 5 arguments for function <function predict_timely at 0x000001BF90DF4220>, received 6.\n",
      "  warnings.warn(\n"
     ]
    },
    {
     "name": "stdout",
     "output_type": "stream",
     "text": [
      "* Running on local URL:  http://127.0.0.1:7860\n",
      "* To create a public link, set `share=True` in `launch()`.\n"
     ]
    },
    {
     "data": {
      "text/html": [
       "<div><iframe src=\"http://127.0.0.1:7860/\" width=\"100%\" height=\"500\" allow=\"autoplay; camera; microphone; clipboard-read; clipboard-write;\" frameborder=\"0\" allowfullscreen></iframe></div>"
      ],
      "text/plain": [
       "<IPython.core.display.HTML object>"
      ]
     },
     "metadata": {},
     "output_type": "display_data"
    }
   ],
   "source": [
    "iface = gr.Interface(\n",
    "    #meto la fucncos\n",
    "    fn=predict_timely,\n",
    "    inputs=[# meto el front\n",
    "        gr.Dropdown(choices=product_encoder.classes_.tolist(), value='Unknown or not specified', label=\"Product\"),\n",
    "        gr.Dropdown(choices=sub_product_encoder.classes_.tolist(), value='Unknown or not specified', label=\"Sub-product\"),\n",
    "        gr.Dropdown(choices=Issue_enc.classes_.tolist(), value='Unknown or not specified', label=\"Issue\"),\n",
    "        gr.Dropdown(choices=sub_Issue_enc.classes_.tolist(), value='Unknown or not specified', label=\"Sub-issue\"),\n",
    "        gr.Dropdown(choices=State_enc.classes_.tolist(), value='Unknown or not specified', label=\"State\"),\n",
    "        gr.Dropdown(choices=Company_response_enc.classes_.tolist(), value='Unknown or not specified', label=\"Company response\"),\n",
    "    ],\n",
    "    #sale json\n",
    "    outputs=\"json\",\n",
    "    title=\"Predicción Timely\",\n",
    "    description=\"Introduce los parámetros para obtener la predicción.\"\n",
    ")\n",
    "if __name__ == \"__main__\":\n",
    "    iface.launch()"
   ]
  },
  {
   "cell_type": "code",
   "execution_count": 13,
   "id": "3a733402",
   "metadata": {},
   "outputs": [
    {
     "data": {
      "text/plain": [
       "'False '"
      ]
     },
     "execution_count": 13,
     "metadata": {},
     "output_type": "execute_result"
    }
   ],
   "source": [
    "\"False \""
   ]
  }
 ],
 "metadata": {
  "kernelspec": {
   "display_name": "projecto",
   "language": "python",
   "name": "python3"
  },
  "language_info": {
   "codemirror_mode": {
    "name": "ipython",
    "version": 3
   },
   "file_extension": ".py",
   "mimetype": "text/x-python",
   "name": "python",
   "nbconvert_exporter": "python",
   "pygments_lexer": "ipython3",
   "version": "3.12.3"
  }
 },
 "nbformat": 4,
 "nbformat_minor": 5
}
