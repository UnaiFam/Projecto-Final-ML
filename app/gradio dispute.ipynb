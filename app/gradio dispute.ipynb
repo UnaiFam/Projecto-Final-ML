{
 "cells": [
  {
   "cell_type": "code",
   "execution_count": 1,
   "id": "720a77e8",
   "metadata": {},
   "outputs": [
    {
     "name": "stderr",
     "output_type": "stream",
     "text": [
      "c:\\Users\\unaif\\anaconda3\\envs\\projecto\\Lib\\site-packages\\tqdm\\auto.py:21: TqdmWarning: IProgress not found. Please update jupyter and ipywidgets. See https://ipywidgets.readthedocs.io/en/stable/user_install.html\n",
      "  from .autonotebook import tqdm as notebook_tqdm\n"
     ]
    }
   ],
   "source": [
    "import gradio as gr\n",
    "import os\n",
    "import joblib\n"
   ]
  },
  {
   "cell_type": "code",
   "execution_count": 2,
   "id": "e3d82810",
   "metadata": {},
   "outputs": [
    {
     "name": "stderr",
     "output_type": "stream",
     "text": [
      "c:\\Users\\unaif\\anaconda3\\envs\\projecto\\Lib\\site-packages\\sklearn\\preprocessing\\_label.py:93: DataConversionWarning: A column-vector y was passed when a 1d array was expected. Please change the shape of y to (n_samples, ), for example using ravel().\n",
      "  y = column_or_1d(y, warn=True)\n",
      "c:\\Users\\unaif\\anaconda3\\envs\\projecto\\Lib\\site-packages\\sklearn\\preprocessing\\_label.py:93: DataConversionWarning: A column-vector y was passed when a 1d array was expected. Please change the shape of y to (n_samples, ), for example using ravel().\n",
      "  y = column_or_1d(y, warn=True)\n",
      "c:\\Users\\unaif\\anaconda3\\envs\\projecto\\Lib\\site-packages\\sklearn\\preprocessing\\_label.py:93: DataConversionWarning: A column-vector y was passed when a 1d array was expected. Please change the shape of y to (n_samples, ), for example using ravel().\n",
      "  y = column_or_1d(y, warn=True)\n",
      "c:\\Users\\unaif\\anaconda3\\envs\\projecto\\Lib\\site-packages\\sklearn\\preprocessing\\_label.py:93: DataConversionWarning: A column-vector y was passed when a 1d array was expected. Please change the shape of y to (n_samples, ), for example using ravel().\n",
      "  y = column_or_1d(y, warn=True)\n",
      "c:\\Users\\unaif\\anaconda3\\envs\\projecto\\Lib\\site-packages\\sklearn\\preprocessing\\_label.py:93: DataConversionWarning: A column-vector y was passed when a 1d array was expected. Please change the shape of y to (n_samples, ), for example using ravel().\n",
      "  y = column_or_1d(y, warn=True)\n",
      "c:\\Users\\unaif\\anaconda3\\envs\\projecto\\Lib\\site-packages\\sklearn\\preprocessing\\_label.py:93: DataConversionWarning: A column-vector y was passed when a 1d array was expected. Please change the shape of y to (n_samples, ), for example using ravel().\n",
      "  y = column_or_1d(y, warn=True)\n",
      "c:\\Users\\unaif\\anaconda3\\envs\\projecto\\Lib\\site-packages\\sklearn\\preprocessing\\_label.py:93: DataConversionWarning: A column-vector y was passed when a 1d array was expected. Please change the shape of y to (n_samples, ), for example using ravel().\n",
      "  y = column_or_1d(y, warn=True)\n",
      "c:\\Users\\unaif\\anaconda3\\envs\\projecto\\Lib\\site-packages\\sklearn\\preprocessing\\_label.py:93: DataConversionWarning: A column-vector y was passed when a 1d array was expected. Please change the shape of y to (n_samples, ), for example using ravel().\n",
      "  y = column_or_1d(y, warn=True)\n",
      "c:\\Users\\unaif\\anaconda3\\envs\\projecto\\Lib\\site-packages\\sklearn\\preprocessing\\_label.py:93: DataConversionWarning: A column-vector y was passed when a 1d array was expected. Please change the shape of y to (n_samples, ), for example using ravel().\n",
      "  y = column_or_1d(y, warn=True)\n",
      "c:\\Users\\unaif\\anaconda3\\envs\\projecto\\Lib\\site-packages\\sklearn\\preprocessing\\_label.py:93: DataConversionWarning: A column-vector y was passed when a 1d array was expected. Please change the shape of y to (n_samples, ), for example using ravel().\n",
      "  y = column_or_1d(y, warn=True)\n"
     ]
    }
   ],
   "source": [
    "os.chdir(\"../src\")\n",
    "from tool_preprocess import State_enc, product_encoder, sub_Issue_enc, sub_product_encoder,  Issue_enc, Company_response_enc, Time_enco,Company_enc, preprocesing_function_paraforest, week_enc\n",
    "preprocesador = joblib.load(\"preprocesador_red.pkl\")"
   ]
  },
  {
   "cell_type": "code",
   "execution_count": 3,
   "id": "3eb20aa9",
   "metadata": {},
   "outputs": [
    {
     "data": {
      "text/html": [
       "<style>#sk-container-id-1 {\n",
       "  /* Definition of color scheme common for light and dark mode */\n",
       "  --sklearn-color-text: #000;\n",
       "  --sklearn-color-text-muted: #666;\n",
       "  --sklearn-color-line: gray;\n",
       "  /* Definition of color scheme for unfitted estimators */\n",
       "  --sklearn-color-unfitted-level-0: #fff5e6;\n",
       "  --sklearn-color-unfitted-level-1: #f6e4d2;\n",
       "  --sklearn-color-unfitted-level-2: #ffe0b3;\n",
       "  --sklearn-color-unfitted-level-3: chocolate;\n",
       "  /* Definition of color scheme for fitted estimators */\n",
       "  --sklearn-color-fitted-level-0: #f0f8ff;\n",
       "  --sklearn-color-fitted-level-1: #d4ebff;\n",
       "  --sklearn-color-fitted-level-2: #b3dbfd;\n",
       "  --sklearn-color-fitted-level-3: cornflowerblue;\n",
       "\n",
       "  /* Specific color for light theme */\n",
       "  --sklearn-color-text-on-default-background: var(--sg-text-color, var(--theme-code-foreground, var(--jp-content-font-color1, black)));\n",
       "  --sklearn-color-background: var(--sg-background-color, var(--theme-background, var(--jp-layout-color0, white)));\n",
       "  --sklearn-color-border-box: var(--sg-text-color, var(--theme-code-foreground, var(--jp-content-font-color1, black)));\n",
       "  --sklearn-color-icon: #696969;\n",
       "\n",
       "  @media (prefers-color-scheme: dark) {\n",
       "    /* Redefinition of color scheme for dark theme */\n",
       "    --sklearn-color-text-on-default-background: var(--sg-text-color, var(--theme-code-foreground, var(--jp-content-font-color1, white)));\n",
       "    --sklearn-color-background: var(--sg-background-color, var(--theme-background, var(--jp-layout-color0, #111)));\n",
       "    --sklearn-color-border-box: var(--sg-text-color, var(--theme-code-foreground, var(--jp-content-font-color1, white)));\n",
       "    --sklearn-color-icon: #878787;\n",
       "  }\n",
       "}\n",
       "\n",
       "#sk-container-id-1 {\n",
       "  color: var(--sklearn-color-text);\n",
       "}\n",
       "\n",
       "#sk-container-id-1 pre {\n",
       "  padding: 0;\n",
       "}\n",
       "\n",
       "#sk-container-id-1 input.sk-hidden--visually {\n",
       "  border: 0;\n",
       "  clip: rect(1px 1px 1px 1px);\n",
       "  clip: rect(1px, 1px, 1px, 1px);\n",
       "  height: 1px;\n",
       "  margin: -1px;\n",
       "  overflow: hidden;\n",
       "  padding: 0;\n",
       "  position: absolute;\n",
       "  width: 1px;\n",
       "}\n",
       "\n",
       "#sk-container-id-1 div.sk-dashed-wrapped {\n",
       "  border: 1px dashed var(--sklearn-color-line);\n",
       "  margin: 0 0.4em 0.5em 0.4em;\n",
       "  box-sizing: border-box;\n",
       "  padding-bottom: 0.4em;\n",
       "  background-color: var(--sklearn-color-background);\n",
       "}\n",
       "\n",
       "#sk-container-id-1 div.sk-container {\n",
       "  /* jupyter's `normalize.less` sets `[hidden] { display: none; }`\n",
       "     but bootstrap.min.css set `[hidden] { display: none !important; }`\n",
       "     so we also need the `!important` here to be able to override the\n",
       "     default hidden behavior on the sphinx rendered scikit-learn.org.\n",
       "     See: https://github.com/scikit-learn/scikit-learn/issues/21755 */\n",
       "  display: inline-block !important;\n",
       "  position: relative;\n",
       "}\n",
       "\n",
       "#sk-container-id-1 div.sk-text-repr-fallback {\n",
       "  display: none;\n",
       "}\n",
       "\n",
       "div.sk-parallel-item,\n",
       "div.sk-serial,\n",
       "div.sk-item {\n",
       "  /* draw centered vertical line to link estimators */\n",
       "  background-image: linear-gradient(var(--sklearn-color-text-on-default-background), var(--sklearn-color-text-on-default-background));\n",
       "  background-size: 2px 100%;\n",
       "  background-repeat: no-repeat;\n",
       "  background-position: center center;\n",
       "}\n",
       "\n",
       "/* Parallel-specific style estimator block */\n",
       "\n",
       "#sk-container-id-1 div.sk-parallel-item::after {\n",
       "  content: \"\";\n",
       "  width: 100%;\n",
       "  border-bottom: 2px solid var(--sklearn-color-text-on-default-background);\n",
       "  flex-grow: 1;\n",
       "}\n",
       "\n",
       "#sk-container-id-1 div.sk-parallel {\n",
       "  display: flex;\n",
       "  align-items: stretch;\n",
       "  justify-content: center;\n",
       "  background-color: var(--sklearn-color-background);\n",
       "  position: relative;\n",
       "}\n",
       "\n",
       "#sk-container-id-1 div.sk-parallel-item {\n",
       "  display: flex;\n",
       "  flex-direction: column;\n",
       "}\n",
       "\n",
       "#sk-container-id-1 div.sk-parallel-item:first-child::after {\n",
       "  align-self: flex-end;\n",
       "  width: 50%;\n",
       "}\n",
       "\n",
       "#sk-container-id-1 div.sk-parallel-item:last-child::after {\n",
       "  align-self: flex-start;\n",
       "  width: 50%;\n",
       "}\n",
       "\n",
       "#sk-container-id-1 div.sk-parallel-item:only-child::after {\n",
       "  width: 0;\n",
       "}\n",
       "\n",
       "/* Serial-specific style estimator block */\n",
       "\n",
       "#sk-container-id-1 div.sk-serial {\n",
       "  display: flex;\n",
       "  flex-direction: column;\n",
       "  align-items: center;\n",
       "  background-color: var(--sklearn-color-background);\n",
       "  padding-right: 1em;\n",
       "  padding-left: 1em;\n",
       "}\n",
       "\n",
       "\n",
       "/* Toggleable style: style used for estimator/Pipeline/ColumnTransformer box that is\n",
       "clickable and can be expanded/collapsed.\n",
       "- Pipeline and ColumnTransformer use this feature and define the default style\n",
       "- Estimators will overwrite some part of the style using the `sk-estimator` class\n",
       "*/\n",
       "\n",
       "/* Pipeline and ColumnTransformer style (default) */\n",
       "\n",
       "#sk-container-id-1 div.sk-toggleable {\n",
       "  /* Default theme specific background. It is overwritten whether we have a\n",
       "  specific estimator or a Pipeline/ColumnTransformer */\n",
       "  background-color: var(--sklearn-color-background);\n",
       "}\n",
       "\n",
       "/* Toggleable label */\n",
       "#sk-container-id-1 label.sk-toggleable__label {\n",
       "  cursor: pointer;\n",
       "  display: flex;\n",
       "  width: 100%;\n",
       "  margin-bottom: 0;\n",
       "  padding: 0.5em;\n",
       "  box-sizing: border-box;\n",
       "  text-align: center;\n",
       "  align-items: start;\n",
       "  justify-content: space-between;\n",
       "  gap: 0.5em;\n",
       "}\n",
       "\n",
       "#sk-container-id-1 label.sk-toggleable__label .caption {\n",
       "  font-size: 0.6rem;\n",
       "  font-weight: lighter;\n",
       "  color: var(--sklearn-color-text-muted);\n",
       "}\n",
       "\n",
       "#sk-container-id-1 label.sk-toggleable__label-arrow:before {\n",
       "  /* Arrow on the left of the label */\n",
       "  content: \"▸\";\n",
       "  float: left;\n",
       "  margin-right: 0.25em;\n",
       "  color: var(--sklearn-color-icon);\n",
       "}\n",
       "\n",
       "#sk-container-id-1 label.sk-toggleable__label-arrow:hover:before {\n",
       "  color: var(--sklearn-color-text);\n",
       "}\n",
       "\n",
       "/* Toggleable content - dropdown */\n",
       "\n",
       "#sk-container-id-1 div.sk-toggleable__content {\n",
       "  max-height: 0;\n",
       "  max-width: 0;\n",
       "  overflow: hidden;\n",
       "  text-align: left;\n",
       "  /* unfitted */\n",
       "  background-color: var(--sklearn-color-unfitted-level-0);\n",
       "}\n",
       "\n",
       "#sk-container-id-1 div.sk-toggleable__content.fitted {\n",
       "  /* fitted */\n",
       "  background-color: var(--sklearn-color-fitted-level-0);\n",
       "}\n",
       "\n",
       "#sk-container-id-1 div.sk-toggleable__content pre {\n",
       "  margin: 0.2em;\n",
       "  border-radius: 0.25em;\n",
       "  color: var(--sklearn-color-text);\n",
       "  /* unfitted */\n",
       "  background-color: var(--sklearn-color-unfitted-level-0);\n",
       "}\n",
       "\n",
       "#sk-container-id-1 div.sk-toggleable__content.fitted pre {\n",
       "  /* unfitted */\n",
       "  background-color: var(--sklearn-color-fitted-level-0);\n",
       "}\n",
       "\n",
       "#sk-container-id-1 input.sk-toggleable__control:checked~div.sk-toggleable__content {\n",
       "  /* Expand drop-down */\n",
       "  max-height: 200px;\n",
       "  max-width: 100%;\n",
       "  overflow: auto;\n",
       "}\n",
       "\n",
       "#sk-container-id-1 input.sk-toggleable__control:checked~label.sk-toggleable__label-arrow:before {\n",
       "  content: \"▾\";\n",
       "}\n",
       "\n",
       "/* Pipeline/ColumnTransformer-specific style */\n",
       "\n",
       "#sk-container-id-1 div.sk-label input.sk-toggleable__control:checked~label.sk-toggleable__label {\n",
       "  color: var(--sklearn-color-text);\n",
       "  background-color: var(--sklearn-color-unfitted-level-2);\n",
       "}\n",
       "\n",
       "#sk-container-id-1 div.sk-label.fitted input.sk-toggleable__control:checked~label.sk-toggleable__label {\n",
       "  background-color: var(--sklearn-color-fitted-level-2);\n",
       "}\n",
       "\n",
       "/* Estimator-specific style */\n",
       "\n",
       "/* Colorize estimator box */\n",
       "#sk-container-id-1 div.sk-estimator input.sk-toggleable__control:checked~label.sk-toggleable__label {\n",
       "  /* unfitted */\n",
       "  background-color: var(--sklearn-color-unfitted-level-2);\n",
       "}\n",
       "\n",
       "#sk-container-id-1 div.sk-estimator.fitted input.sk-toggleable__control:checked~label.sk-toggleable__label {\n",
       "  /* fitted */\n",
       "  background-color: var(--sklearn-color-fitted-level-2);\n",
       "}\n",
       "\n",
       "#sk-container-id-1 div.sk-label label.sk-toggleable__label,\n",
       "#sk-container-id-1 div.sk-label label {\n",
       "  /* The background is the default theme color */\n",
       "  color: var(--sklearn-color-text-on-default-background);\n",
       "}\n",
       "\n",
       "/* On hover, darken the color of the background */\n",
       "#sk-container-id-1 div.sk-label:hover label.sk-toggleable__label {\n",
       "  color: var(--sklearn-color-text);\n",
       "  background-color: var(--sklearn-color-unfitted-level-2);\n",
       "}\n",
       "\n",
       "/* Label box, darken color on hover, fitted */\n",
       "#sk-container-id-1 div.sk-label.fitted:hover label.sk-toggleable__label.fitted {\n",
       "  color: var(--sklearn-color-text);\n",
       "  background-color: var(--sklearn-color-fitted-level-2);\n",
       "}\n",
       "\n",
       "/* Estimator label */\n",
       "\n",
       "#sk-container-id-1 div.sk-label label {\n",
       "  font-family: monospace;\n",
       "  font-weight: bold;\n",
       "  display: inline-block;\n",
       "  line-height: 1.2em;\n",
       "}\n",
       "\n",
       "#sk-container-id-1 div.sk-label-container {\n",
       "  text-align: center;\n",
       "}\n",
       "\n",
       "/* Estimator-specific */\n",
       "#sk-container-id-1 div.sk-estimator {\n",
       "  font-family: monospace;\n",
       "  border: 1px dotted var(--sklearn-color-border-box);\n",
       "  border-radius: 0.25em;\n",
       "  box-sizing: border-box;\n",
       "  margin-bottom: 0.5em;\n",
       "  /* unfitted */\n",
       "  background-color: var(--sklearn-color-unfitted-level-0);\n",
       "}\n",
       "\n",
       "#sk-container-id-1 div.sk-estimator.fitted {\n",
       "  /* fitted */\n",
       "  background-color: var(--sklearn-color-fitted-level-0);\n",
       "}\n",
       "\n",
       "/* on hover */\n",
       "#sk-container-id-1 div.sk-estimator:hover {\n",
       "  /* unfitted */\n",
       "  background-color: var(--sklearn-color-unfitted-level-2);\n",
       "}\n",
       "\n",
       "#sk-container-id-1 div.sk-estimator.fitted:hover {\n",
       "  /* fitted */\n",
       "  background-color: var(--sklearn-color-fitted-level-2);\n",
       "}\n",
       "\n",
       "/* Specification for estimator info (e.g. \"i\" and \"?\") */\n",
       "\n",
       "/* Common style for \"i\" and \"?\" */\n",
       "\n",
       ".sk-estimator-doc-link,\n",
       "a:link.sk-estimator-doc-link,\n",
       "a:visited.sk-estimator-doc-link {\n",
       "  float: right;\n",
       "  font-size: smaller;\n",
       "  line-height: 1em;\n",
       "  font-family: monospace;\n",
       "  background-color: var(--sklearn-color-background);\n",
       "  border-radius: 1em;\n",
       "  height: 1em;\n",
       "  width: 1em;\n",
       "  text-decoration: none !important;\n",
       "  margin-left: 0.5em;\n",
       "  text-align: center;\n",
       "  /* unfitted */\n",
       "  border: var(--sklearn-color-unfitted-level-1) 1pt solid;\n",
       "  color: var(--sklearn-color-unfitted-level-1);\n",
       "}\n",
       "\n",
       ".sk-estimator-doc-link.fitted,\n",
       "a:link.sk-estimator-doc-link.fitted,\n",
       "a:visited.sk-estimator-doc-link.fitted {\n",
       "  /* fitted */\n",
       "  border: var(--sklearn-color-fitted-level-1) 1pt solid;\n",
       "  color: var(--sklearn-color-fitted-level-1);\n",
       "}\n",
       "\n",
       "/* On hover */\n",
       "div.sk-estimator:hover .sk-estimator-doc-link:hover,\n",
       ".sk-estimator-doc-link:hover,\n",
       "div.sk-label-container:hover .sk-estimator-doc-link:hover,\n",
       ".sk-estimator-doc-link:hover {\n",
       "  /* unfitted */\n",
       "  background-color: var(--sklearn-color-unfitted-level-3);\n",
       "  color: var(--sklearn-color-background);\n",
       "  text-decoration: none;\n",
       "}\n",
       "\n",
       "div.sk-estimator.fitted:hover .sk-estimator-doc-link.fitted:hover,\n",
       ".sk-estimator-doc-link.fitted:hover,\n",
       "div.sk-label-container:hover .sk-estimator-doc-link.fitted:hover,\n",
       ".sk-estimator-doc-link.fitted:hover {\n",
       "  /* fitted */\n",
       "  background-color: var(--sklearn-color-fitted-level-3);\n",
       "  color: var(--sklearn-color-background);\n",
       "  text-decoration: none;\n",
       "}\n",
       "\n",
       "/* Span, style for the box shown on hovering the info icon */\n",
       ".sk-estimator-doc-link span {\n",
       "  display: none;\n",
       "  z-index: 9999;\n",
       "  position: relative;\n",
       "  font-weight: normal;\n",
       "  right: .2ex;\n",
       "  padding: .5ex;\n",
       "  margin: .5ex;\n",
       "  width: min-content;\n",
       "  min-width: 20ex;\n",
       "  max-width: 50ex;\n",
       "  color: var(--sklearn-color-text);\n",
       "  box-shadow: 2pt 2pt 4pt #999;\n",
       "  /* unfitted */\n",
       "  background: var(--sklearn-color-unfitted-level-0);\n",
       "  border: .5pt solid var(--sklearn-color-unfitted-level-3);\n",
       "}\n",
       "\n",
       ".sk-estimator-doc-link.fitted span {\n",
       "  /* fitted */\n",
       "  background: var(--sklearn-color-fitted-level-0);\n",
       "  border: var(--sklearn-color-fitted-level-3);\n",
       "}\n",
       "\n",
       ".sk-estimator-doc-link:hover span {\n",
       "  display: block;\n",
       "}\n",
       "\n",
       "/* \"?\"-specific style due to the `<a>` HTML tag */\n",
       "\n",
       "#sk-container-id-1 a.estimator_doc_link {\n",
       "  float: right;\n",
       "  font-size: 1rem;\n",
       "  line-height: 1em;\n",
       "  font-family: monospace;\n",
       "  background-color: var(--sklearn-color-background);\n",
       "  border-radius: 1rem;\n",
       "  height: 1rem;\n",
       "  width: 1rem;\n",
       "  text-decoration: none;\n",
       "  /* unfitted */\n",
       "  color: var(--sklearn-color-unfitted-level-1);\n",
       "  border: var(--sklearn-color-unfitted-level-1) 1pt solid;\n",
       "}\n",
       "\n",
       "#sk-container-id-1 a.estimator_doc_link.fitted {\n",
       "  /* fitted */\n",
       "  border: var(--sklearn-color-fitted-level-1) 1pt solid;\n",
       "  color: var(--sklearn-color-fitted-level-1);\n",
       "}\n",
       "\n",
       "/* On hover */\n",
       "#sk-container-id-1 a.estimator_doc_link:hover {\n",
       "  /* unfitted */\n",
       "  background-color: var(--sklearn-color-unfitted-level-3);\n",
       "  color: var(--sklearn-color-background);\n",
       "  text-decoration: none;\n",
       "}\n",
       "\n",
       "#sk-container-id-1 a.estimator_doc_link.fitted:hover {\n",
       "  /* fitted */\n",
       "  background-color: var(--sklearn-color-fitted-level-3);\n",
       "}\n",
       "</style><div id=\"sk-container-id-1\" class=\"sk-top-container\"><div class=\"sk-text-repr-fallback\"><pre>LabelEncoder()</pre><b>In a Jupyter environment, please rerun this cell to show the HTML representation or trust the notebook. <br />On GitHub, the HTML representation is unable to render, please try loading this page with nbviewer.org.</b></div><div class=\"sk-container\" hidden><div class=\"sk-item\"><div class=\"sk-estimator fitted sk-toggleable\"><input class=\"sk-toggleable__control sk-hidden--visually\" id=\"sk-estimator-id-1\" type=\"checkbox\" checked><label for=\"sk-estimator-id-1\" class=\"sk-toggleable__label fitted sk-toggleable__label-arrow\"><div><div>LabelEncoder</div></div><div><a class=\"sk-estimator-doc-link fitted\" rel=\"noreferrer\" target=\"_blank\" href=\"https://scikit-learn.org/1.6/modules/generated/sklearn.preprocessing.LabelEncoder.html\">?<span>Documentation for LabelEncoder</span></a><span class=\"sk-estimator-doc-link fitted\">i<span>Fitted</span></span></div></label><div class=\"sk-toggleable__content fitted\"><pre>LabelEncoder()</pre></div> </div></div></div></div>"
      ],
      "text/plain": [
       "LabelEncoder()"
      ]
     },
     "execution_count": 3,
     "metadata": {},
     "output_type": "execute_result"
    }
   ],
   "source": [
    "Time_enco"
   ]
  },
  {
   "cell_type": "code",
   "execution_count": 4,
   "id": "3969966e",
   "metadata": {},
   "outputs": [],
   "source": [
    "# Aplicacion\n",
    "import pandas as pd\n",
    "import pickle\n",
    "import os\n",
    "\n",
    "import os\n",
    "import joblib\n",
    "\n",
    "os.chdir(\"../models\")\n",
    "with open('modelo_timely_tree_def.pkl', 'rb') as f:\n",
    "    modelo_timely = pickle.load(f)"
   ]
  },
  {
   "cell_type": "code",
   "execution_count": 5,
   "id": "e768cce4",
   "metadata": {},
   "outputs": [],
   "source": [
    "import dill\n",
    "import __main__\n",
    "import sys\n",
    "sys.path.append(os.path.abspath(\"../src\"))  # ajusta según tu estructura\n",
    "def convert_to_str(X):\n",
    "    return X.astype(str)\n",
    "__main__.convert_to_str = convert_to_str\n",
    "\n",
    "\n",
    "\n",
    "from tensorflow import keras\n",
    "modelo_dispute = keras.models.load_model(\"modelo_dispute_red.keras\")\n"
   ]
  },
  {
   "cell_type": "code",
   "execution_count": 6,
   "id": "4aad43b8",
   "metadata": {},
   "outputs": [
    {
     "data": {
      "text/plain": [
       "['Bank account or service',\n",
       " 'Consumer loan',\n",
       " 'Credit card',\n",
       " 'Credit reporting',\n",
       " 'Debt collection',\n",
       " 'Money transfers',\n",
       " 'Mortgage',\n",
       " 'Other financial service',\n",
       " 'Payday loan',\n",
       " 'Prepaid card',\n",
       " 'Student loan',\n",
       " 'Unknown or not specified']"
      ]
     },
     "execution_count": 6,
     "metadata": {},
     "output_type": "execute_result"
    }
   ],
   "source": [
    "product_encoder.classes_.tolist()"
   ]
  },
  {
   "cell_type": "code",
   "execution_count": 7,
   "id": "39d59c4c",
   "metadata": {},
   "outputs": [
    {
     "name": "stderr",
     "output_type": "stream",
     "text": [
      "c:\\Users\\unaif\\anaconda3\\envs\\projecto\\Lib\\site-packages\\sklearn\\preprocessing\\_label.py:129: DataConversionWarning: A column-vector y was passed when a 1d array was expected. Please change the shape of y to (n_samples, ), for example using ravel().\n",
      "  y = column_or_1d(y, dtype=self.classes_.dtype, warn=True)\n"
     ]
    },
    {
     "data": {
      "text/plain": [
       "array([ 0,  1,  2,  3,  4,  5,  6,  7,  8,  9, 10, 11])"
      ]
     },
     "execution_count": 7,
     "metadata": {},
     "output_type": "execute_result"
    }
   ],
   "source": [
    "product_encoder.transform(pd.DataFrame(product_encoder.classes_.tolist()))"
   ]
  },
  {
   "cell_type": "code",
   "execution_count": 8,
   "id": "c6715954",
   "metadata": {},
   "outputs": [],
   "source": [
    "import pickle\n",
    "import joblib\n",
    "os.chdir(\"../models\")\n",
    "#saco las pipelines /modelos\n",
    "\n",
    "\n",
    "modelo_timely=joblib.load(\"modelo_timely_tree_def.pkl\")\n",
    "def predict_timely (    \n",
    "    Product:str,\n",
    "    Subproduct:str,\n",
    "    Issue:str,\n",
    "    Subissue:str,\n",
    "    State:str,\n",
    "    Companyresponse:str):\n",
    "    \n",
    "    #State por defecto Unknown\n",
    "    #Subproduct por defecto Unknown or \n",
    "    #Subissue por defecto Unknown or \n",
    "\n",
    "    #Product por defecto other financia services\n",
    "\n",
    "    #Yes=1, No= 0\n",
    "\n",
    "\n",
    "    \n",
    "\n",
    "    features=pd.DataFrame({\"Product\":[Product],\"Sub-product\": [Subproduct],\t\n",
    "            \"Issue\":[Issue],\t\n",
    "            \"Sub-issue\":[Subissue],\t\n",
    "            \"State\":[State],\t\n",
    "            \"Company response\":[Companyresponse]})\n",
    "\n",
    "    display(features)\n",
    "    features[\"Product\"] = product_encoder.transform(features[\"Product\"])\n",
    "    features[\"Sub-product\"] = sub_product_encoder.transform(features[\"Sub-product\"])\n",
    "    features[\"Issue\"] = Issue_enc.transform(features[\"Issue\"])\n",
    "    features[\"Sub-issue\"] = sub_Issue_enc.transform(features[\"Sub-issue\"])\n",
    "    features[\"State\"] = State_enc.transform(features[\"State\"])\n",
    "    features[\"Company response\"] = Company_response_enc.transform(features[\"Company response\"])\n",
    "    \n",
    "    display(features)\n",
    "    pred=modelo_timely.predict(features)[0]\n",
    "\n",
    "    \n",
    "    return {\"response01\": int(pred)}\n"
   ]
  },
  {
   "cell_type": "code",
   "execution_count": 9,
   "id": "48c9531e",
   "metadata": {},
   "outputs": [
    {
     "data": {
      "text/html": [
       "<div>\n",
       "<style scoped>\n",
       "    .dataframe tbody tr th:only-of-type {\n",
       "        vertical-align: middle;\n",
       "    }\n",
       "\n",
       "    .dataframe tbody tr th {\n",
       "        vertical-align: top;\n",
       "    }\n",
       "\n",
       "    .dataframe thead th {\n",
       "        text-align: right;\n",
       "    }\n",
       "</style>\n",
       "<table border=\"1\" class=\"dataframe\">\n",
       "  <thead>\n",
       "    <tr style=\"text-align: right;\">\n",
       "      <th></th>\n",
       "      <th>Product</th>\n",
       "      <th>Sub-product</th>\n",
       "      <th>Issue</th>\n",
       "      <th>Sub-issue</th>\n",
       "      <th>State</th>\n",
       "      <th>Company response</th>\n",
       "    </tr>\n",
       "  </thead>\n",
       "  <tbody>\n",
       "    <tr>\n",
       "      <th>0</th>\n",
       "      <td>Debt collection</td>\n",
       "      <td>Unknown or not specified</td>\n",
       "      <td>Cont'd attempts collect debt not owed</td>\n",
       "      <td>Debt is not mine</td>\n",
       "      <td>TX</td>\n",
       "      <td>Closed with non-monetary relief</td>\n",
       "    </tr>\n",
       "  </tbody>\n",
       "</table>\n",
       "</div>"
      ],
      "text/plain": [
       "           Product               Sub-product  \\\n",
       "0  Debt collection  Unknown or not specified   \n",
       "\n",
       "                                   Issue         Sub-issue State  \\\n",
       "0  Cont'd attempts collect debt not owed  Debt is not mine    TX   \n",
       "\n",
       "                  Company response  \n",
       "0  Closed with non-monetary relief  "
      ]
     },
     "metadata": {},
     "output_type": "display_data"
    },
    {
     "data": {
      "text/html": [
       "<div>\n",
       "<style scoped>\n",
       "    .dataframe tbody tr th:only-of-type {\n",
       "        vertical-align: middle;\n",
       "    }\n",
       "\n",
       "    .dataframe tbody tr th {\n",
       "        vertical-align: top;\n",
       "    }\n",
       "\n",
       "    .dataframe thead th {\n",
       "        text-align: right;\n",
       "    }\n",
       "</style>\n",
       "<table border=\"1\" class=\"dataframe\">\n",
       "  <thead>\n",
       "    <tr style=\"text-align: right;\">\n",
       "      <th></th>\n",
       "      <th>Product</th>\n",
       "      <th>Sub-product</th>\n",
       "      <th>Issue</th>\n",
       "      <th>Sub-issue</th>\n",
       "      <th>State</th>\n",
       "      <th>Company response</th>\n",
       "    </tr>\n",
       "  </thead>\n",
       "  <tbody>\n",
       "    <tr>\n",
       "      <th>0</th>\n",
       "      <td>4</td>\n",
       "      <td>39</td>\n",
       "      <td>24</td>\n",
       "      <td>11</td>\n",
       "      <td>50</td>\n",
       "      <td>3</td>\n",
       "    </tr>\n",
       "  </tbody>\n",
       "</table>\n",
       "</div>"
      ],
      "text/plain": [
       "   Product  Sub-product  Issue  Sub-issue  State  Company response\n",
       "0        4           39     24         11     50                 3"
      ]
     },
     "metadata": {},
     "output_type": "display_data"
    },
    {
     "data": {
      "text/plain": [
       "{'response01': 1}"
      ]
     },
     "execution_count": 9,
     "metadata": {},
     "output_type": "execute_result"
    }
   ],
   "source": [
    "predict_timely(\"Debt collection\",\t\"Unknown or not specified\",\t\"Cont'd attempts collect debt not owed\",\t\"Debt is not mine\"\t,\"TX\"\t,\"Closed with non-monetary relief\")"
   ]
  },
  {
   "cell_type": "code",
   "execution_count": 10,
   "id": "2e9f1f3e",
   "metadata": {},
   "outputs": [
    {
     "data": {
      "text/html": [
       "<div>\n",
       "<style scoped>\n",
       "    .dataframe tbody tr th:only-of-type {\n",
       "        vertical-align: middle;\n",
       "    }\n",
       "\n",
       "    .dataframe tbody tr th {\n",
       "        vertical-align: top;\n",
       "    }\n",
       "\n",
       "    .dataframe thead th {\n",
       "        text-align: right;\n",
       "    }\n",
       "</style>\n",
       "<table border=\"1\" class=\"dataframe\">\n",
       "  <thead>\n",
       "    <tr style=\"text-align: right;\">\n",
       "      <th></th>\n",
       "      <th>0</th>\n",
       "    </tr>\n",
       "  </thead>\n",
       "  <tbody>\n",
       "    <tr>\n",
       "      <th>0</th>\n",
       "      <td>Yes</td>\n",
       "    </tr>\n",
       "  </tbody>\n",
       "</table>\n",
       "</div>"
      ],
      "text/plain": [
       "     0\n",
       "0  Yes"
      ]
     },
     "execution_count": 10,
     "metadata": {},
     "output_type": "execute_result"
    }
   ],
   "source": [
    "pd.DataFrame([\"Yes\"])"
   ]
  },
  {
   "cell_type": "code",
   "execution_count": 11,
   "id": "7c3ea010",
   "metadata": {},
   "outputs": [
    {
     "name": "stderr",
     "output_type": "stream",
     "text": [
      "c:\\Users\\unaif\\anaconda3\\envs\\projecto\\Lib\\site-packages\\sklearn\\preprocessing\\_label.py:129: DataConversionWarning: A column-vector y was passed when a 1d array was expected. Please change the shape of y to (n_samples, ), for example using ravel().\n",
      "  y = column_or_1d(y, dtype=self.classes_.dtype, warn=True)\n"
     ]
    },
    {
     "data": {
      "text/plain": [
       "1"
      ]
     },
     "execution_count": 11,
     "metadata": {},
     "output_type": "execute_result"
    }
   ],
   "source": [
    "int(Time_enco.transform(pd.DataFrame([\"Yes\"]))[0])"
   ]
  },
  {
   "cell_type": "code",
   "execution_count": 20,
   "id": "f07f6d1d",
   "metadata": {},
   "outputs": [],
   "source": [
    "def predict_dispute (\n",
    "    Product:int, \n",
    "    Subproduct:int, \n",
    "    Issue:int, \n",
    "    Subissue:int, \n",
    "    State:int,\n",
    "    Company:int,\n",
    "    Companyresponse:int, \n",
    "    timely:int, \n",
    "    weekday:int\n",
    "    ):\n",
    "\n",
    "    \"\"\"\n",
    "    \n",
    "    \"\"\"\n",
    "\n",
    "    if timely is None:\n",
    "        timely = int(predict_timely(Issue=Issue,Subissue=Subissue , Companyresponse=Companyresponse, Product=Product, Subproduct=Subproduct , State=State )[\"response01\"])\n",
    "    print(timely)\n",
    "\n",
    "    \n",
    "    features=pd.DataFrame({\n",
    "\n",
    "            \"Product\":[Product],\n",
    "            \"Sub-product\": [Subproduct],\t\n",
    "            \"Issue\":[Issue],\t\n",
    "            \"Sub-issue\":[Subissue],\t\n",
    "            \"State\":[State],\t\n",
    "            \"Company response\":[Companyresponse],\n",
    "            \"Timely response?\": [timely],\n",
    "            \"Company\":[Company],\n",
    "            \n",
    "            \n",
    "            \"weekday\":[weekday],})\n",
    "    \n",
    "\n",
    "\n",
    "    features_pro=preprocesador.transform(features)\n",
    "\n",
    "    #pred=modelo_dispute.predict(features_pro)[0]\n",
    "    pred=(modelo_dispute.predict(features_pro) >= 0.23).astype(int)\n",
    "    prob=modelo_dispute.predict(features_pro)\n",
    "\n",
    "    return {\"response\": pred, \"prob\": prob}"
   ]
  },
  {
   "cell_type": "code",
   "execution_count": 13,
   "id": "e930e348",
   "metadata": {},
   "outputs": [
    {
     "name": "stderr",
     "output_type": "stream",
     "text": [
      "c:\\Users\\unaif\\anaconda3\\envs\\projecto\\Lib\\site-packages\\sklearn\\preprocessing\\_label.py:129: DataConversionWarning: A column-vector y was passed when a 1d array was expected. Please change the shape of y to (n_samples, ), for example using ravel().\n",
      "  y = column_or_1d(y, dtype=self.classes_.dtype, warn=True)\n"
     ]
    },
    {
     "data": {
      "text/plain": [
       "array([4])"
      ]
     },
     "execution_count": 13,
     "metadata": {},
     "output_type": "execute_result"
    }
   ],
   "source": [
    "product_encoder.transform(pd.DataFrame([\"Debt collection\"]))"
   ]
  },
  {
   "cell_type": "code",
   "execution_count": 14,
   "id": "70fc6266",
   "metadata": {},
   "outputs": [
    {
     "name": "stdout",
     "output_type": "stream",
     "text": [
      "Premium Asset Services, LLC\n",
      "\u001b[1m1/1\u001b[0m \u001b[32m━━━━━━━━━━━━━━━━━━━━\u001b[0m\u001b[37m\u001b[0m \u001b[1m0s\u001b[0m 94ms/step\n"
     ]
    },
    {
     "name": "stderr",
     "output_type": "stream",
     "text": [
      "C:\\Users\\unaif\\AppData\\Local\\Temp\\ipykernel_26896\\2052658597.py:43: DeprecationWarning: Conversion of an array with ndim > 0 to a scalar is deprecated, and will error in future. Ensure you extract a single element from your array before performing this operation. (Deprecated NumPy 1.25.)\n",
      "  return {\"response\": int(pred)}\n"
     ]
    },
    {
     "data": {
      "text/plain": [
       "{'response': 0}"
      ]
     },
     "execution_count": 14,
     "metadata": {},
     "output_type": "execute_result"
    }
   ],
   "source": [
    "predict_dispute(\"Debt collection\"\t,\"Unknown or not specified\"\t,\"Communication tactics\",\t\"Frequent or repeated calls\",\"TX\", \t\t\t \t\"In progress\",\"Yes\", \"Premium Asset Services, LLC\", \"Monday\")"
   ]
  },
  {
   "cell_type": "code",
   "execution_count": 21,
   "id": "0ee1012f",
   "metadata": {},
   "outputs": [
    {
     "name": "stderr",
     "output_type": "stream",
     "text": [
      "c:\\Users\\unaif\\anaconda3\\envs\\projecto\\Lib\\site-packages\\gradio\\components\\dropdown.py:230: UserWarning: The value passed into gr.Dropdown() is not in the list of choices. Please update the list of choices to include: Unknown or not specified or set allow_custom_value=True.\n",
      "  warnings.warn(\n"
     ]
    },
    {
     "name": "stdout",
     "output_type": "stream",
     "text": [
      "* Running on local URL:  http://127.0.0.1:7863\n",
      "* To create a public link, set `share=True` in `launch()`.\n"
     ]
    },
    {
     "data": {
      "text/html": [
       "<div><iframe src=\"http://127.0.0.1:7863/\" width=\"100%\" height=\"500\" allow=\"autoplay; camera; microphone; clipboard-read; clipboard-write;\" frameborder=\"0\" allowfullscreen></iframe></div>"
      ],
      "text/plain": [
       "<IPython.core.display.HTML object>"
      ]
     },
     "metadata": {},
     "output_type": "display_data"
    },
    {
     "name": "stderr",
     "output_type": "stream",
     "text": [
      "Traceback (most recent call last):\n",
      "  File \"c:\\Users\\unaif\\anaconda3\\envs\\projecto\\Lib\\site-packages\\gradio\\queueing.py\", line 626, in process_events\n",
      "    response = await route_utils.call_process_api(\n",
      "               ^^^^^^^^^^^^^^^^^^^^^^^^^^^^^^^^^^^\n",
      "  File \"c:\\Users\\unaif\\anaconda3\\envs\\projecto\\Lib\\site-packages\\gradio\\route_utils.py\", line 350, in call_process_api\n",
      "    output = await app.get_blocks().process_api(\n",
      "             ^^^^^^^^^^^^^^^^^^^^^^^^^^^^^^^^^^^\n",
      "  File \"c:\\Users\\unaif\\anaconda3\\envs\\projecto\\Lib\\site-packages\\gradio\\blocks.py\", line 2235, in process_api\n",
      "    inputs = await self.preprocess_data(\n",
      "             ^^^^^^^^^^^^^^^^^^^^^^^^^^^\n",
      "  File \"c:\\Users\\unaif\\anaconda3\\envs\\projecto\\Lib\\site-packages\\gradio\\blocks.py\", line 1897, in preprocess_data\n",
      "    processed_input.append(block.preprocess(inputs_cached))\n",
      "                           ^^^^^^^^^^^^^^^^^^^^^^^^^^^^^^^\n",
      "  File \"c:\\Users\\unaif\\anaconda3\\envs\\projecto\\Lib\\site-packages\\gradio\\components\\dropdown.py\", line 206, in preprocess\n",
      "    raise Error(\n",
      "gradio.exceptions.Error: 'Value: Unknown or not specified is not in the list of choices: [\\'\\', \\'1st Franklin Financial Corporation\\', \\'1st Portfolio Holding Corporation\\', \\'21st Mortgage Corporation\\', \\'2288984 Ontario Inc.\\', \\'24 Asset Management Corp\\', \\'360 Mortgage\\', \\'3rd Generation, Inc.\\', \\'4 Star Resolution LLC\\', \\'A.R.M. Solutions, Inc.\\', \\'AAA Collections\\', \\'AALM Consulting Services LTD (International company)\\', \\'ABA Recovery Service, Inc.\\', \\'ABC Finance Co.\\', \\'AC Autopay, LLC\\', \\'ACCELERATED COLLECTION SERVICE, INC\\', \\'ACE Cash Express Inc.\\', \\'ACS Education Services\\', \\'AES/PHEAA\\', \\'AFS Acceptance, LLC\\', \\'ALCHRO INC.\\', \\'ALEXANDER-ROSE ASSOC, INC.\\', \\'ALTERNATIVE DISPUTE RESOLUTIONS\\', \\'AMCOL Systems, Inc.\\', \\'APEX Asset Management, LLC\\', \\'APPLE RECOVERY, LLC\\', \\'AR Resources, Inc.\\', \\'ARM WNY LLC\\', \\'ARS National Services, Inc.\\', \\'ATG Credit, LLC\\', \\'AUDUBON LIBERTY & ASSOCIATES\\', \\'Aargon Agency, Inc.\\', \\'Ability Recovery Services, LLC\\', \\'Absolute Resolutions Corp.\\', \\'Academy Mortgage\\', \\'Accelerated Financial Solutions, LLC\\', \\'Accelerated Receivables Group, Inc.\\', \\'Accelerated Receivables Management, Inc.\\', \\'Access Credit Management, Inc.\\', \\'Access Group\\', \\'Access Receivables Management\\', \\'Account Brokers Inc.\\', \\'Account Control Systems, Inc\\', \\'Account Control Technology, Inc.\\', \\'Account Discovery Systems, LLC\\', \\'Account Liquidation Services Inc.\\', \\'Account Management Resources\\', \\'Account Receivable Solutions, Inc.\\', \\'Account Resolution Corporation\\', \\'Account Services Collections, Inc\\', \\'Accounts Management, Inc\\', \\'Accounts Receivable Consultants Inc.\\', \\'Accurate Background\\', \\'Acquired Assets, Ltd.\\', \\'Action Collection Agencies, Inc.\\', \\'Action Collection Service\\', \\'Action Collectors Inc.\\', \\'Ad Astra Recovery Services Inc\\', \\'Adler Wallach & Associates, Inc.\\', \\'Admin Recovery, LLC\\', \\'Advance America, Cash Advance Centers, Inc.\\', \\'Advanced Call Center Technologies, LLC\\', \\'Advanced Collection Bureau, Inc.\\', \\'Advanced Collections, Inc.\\', \\'Advanced Loan Systems, LLC.\\', \\'Advantage Credit Bureau Inc.\\', \\'Advantage Financial Services, LLC\\', \\'Affiliated Acceptance Corporation\\', \\'Affiliated Creditors, Inc.\\', \\'Affiliates Management Company\\', \\'Afni, Inc.\\', \\'Agency of Credit Control\\', \\'Alabama Housing Finance Authority\\', \\'Aldous & Associates, PLLC\\', \\'Allen & Withrow\\', \\'Alliance Collection Agencies, Inc.\\', \\'Alliance Collection Service\\', \\'AllianceOne Recievables Management\\', \\'Alliant Capital Management LLC\\', \\'Allied Collection Services, Inc. (Nevada)\\', \\'Allied International Credit Corporation\\', \\'Allied Interstate LLC\\', \\'Ally Financial Inc.\\', \\'Alpha Mortgage Corporation\\', \\'Alpha Recovery Corp\\', \\'Alpine Credit, Inc\\', \\'Altisource Portfolio Solutions, S.\\\\x85 r.l.\\', \\'AmerAssist A/R Solutions, Inc.\\', \\'AmeriCash Holding LLC\\', \\'AmeriCollect\\', \\'AmeriFirst Home Mortgage\\', \\'AmeriHome Mortgage Company, LLC\\', \"America\\'s Car-Mart, Inc.\", \\'American Accounts & Advisers Inc.\\', \\'American Adjustment Bureau, Inc\\', \\'American Advisors Group\\', \\'American Collection Services, Inc. (OK, TX)\\', \\'American Collections Enterprise, Inc.\\', \\'American Coradius International LLC\\', \\'American Credit Acceptance, LLC\\', \\'American Credit Adjusters\\', \\'American Credit Resolution, Incorporated\\', \\'American Financial Resources, Inc.\\', \\'American Financing Corporation\\', \\'American Honda Finance Corporation\\', \\'American Internet Mortgage, Inc\\', \\'American Northwest Recovery Solutions Inc\\', \\'American Professional Collections\\', \\'American Profit Recovery, Inc\\', \\'American Recovery Service Incorporated\\', \\'American Southwest Mortgage Corporation\\', \\'Americash\\', \\'Ameripro Funding\\', \\'Amerisave\\', \\'Amex\\', \\'Amscot Corporation\\', \\'Amsher Collection Services, Inc.\\', \\'Andreu, Palma & Andreu, PL\\', \\'Ann Arbor Credit Bureau, Inc.\\', \\'Apelles, LLC\\', \\'Apple Financial Holdings, Inc\\', \\'Applied Business Services, Inc.\\', \\'Applied Resolutions Group\\', \\'Arbor Residential Mortgage LLC\\', \\'Arcadia Holdings, LLC\\', \\'Argon Credit\\', \\'Armada Corp.\\', \\'Armcon Corp\\', \\'Armor Systems Corporation\\', \\'Army and Air Force Exchange Service\\', \\'Arnold Scott Harris, P.C.\\', \\'Array Services Group, Inc.\\', \\'Arvest Bank\\', \\'Ascension Point Recovery Services, LLC\\', \\'Ashner Group Inc\\', \\'Ashwood Financial Inc\\', \\'Aspen National Financial, Inc.\\', \\'Asset Management Holdings, LLC\\', \\'Asset Management Outsourcing, Inc.\\', \\'Asset Maximization Group, Inc.\\', \\'Asset One Mortgage, Inc.\\', \\'Asset Recovery Group, Inc.\\', \\'Asset Recovery Inc\\', \\'Asset Recovery Solutions, LLC\\', \\'Assets Recovered, LLC\\', \\'Associated Bank\\', \\'Associated Credit Services, Inc.\\', \\'Association Capital Resources, LLC\\', \\'Asta Funding, Inc\\', \\'Astoria Bank\\', \\'Astra Business Services\\', \\'Atlantic Credit & Finance, Inc.\\', \\'Atlantic Recovery Solutions LLC\\', \\'Atlanticus Services Corporation\\', \\'Atlas Collections Inc. (of New Castle)\\', \\'Atlas Collections, Inc.\\', \\'Audit & Adjustment Co. Inc.\\', \\'Audit Systems, Inc.\\', \\'Audubon Holdings Group\\', \\'Augusta Collection Agency, Inc.\\', \\'Aurora Financial Group Inc.\\', \\'Auto Trakk, LLC\\', \\'Automated Collection Services, Inc.\\', \\'Automobile Acceptance Corporation\\', \\'Automotive Credit Corporation\\', \\'Automotive Management Services, Inc.\\', \\'Autovest, L.L.C.\\', \\'Avadyne Health Holdings, Inc\\', \\'Avalanche Title and Escrow, LLC\\', \\'Avant Credit Corporation\\', \\'Avante\\', \\'Avid Acceptance, LLC\\', \\'Axia Financial, LLC\\', \\'B.C. Services, Inc.\\', \\'BAM Financial, LLC\\', \\'BB&T Financial\\', \\'BBVA Compass\\', \\'BCA Financial Services, Inc.\\', \\'BMO Harris\\', \\'BMW Financial Services\\', \\'BNY Mellon\\', \\'BOK Financial Corp\\', \\'BRAUFMANN, LEIGHMANN & ASSOCIATES\\', \\'BWW Law Group, LLC\\', \\'Balanced Healthcare Receivables LLC\\', \\'Ballato Law Firm, P.C.\\', \\'Ballybunion Enterprises, Inc\\', \\'Banco Popular North America\\', \\'Banco Popular de Puerto Rico\\', \\'Banco Santander Puerto Rico\\', \\'BancorpSouth Bank\\', \\'Bank of America\\', \\'Bank of Hawaii\\', \\'Bank of the West\\', \\'BankUnited\\', \\'Bankers Auto Acceptance\\', \\'Barclays\\', \\'Bass & Associates, P.C., Attorneys at Law\\', \\'Bayside Capital Services, LLC\\', \\'Bayview Loan Servicing, LLC\\', \\'Benuck & Rainey, Inc.\\', \\'Berks Credit and Collections, Inc.\\', \\'Berlin-Wheeler, Inc.\\', \\'Berlin-Wheeler, Inc. (Kansas)\\', \\'Berman & Rabin, P.A.\\', \\'Bison Recovery Group, Inc.\\', \\'Bizcorp, LLC\\', \\'Blackhawk Network Holdings Inc.\\', \\'Blakely-Witt and Associates, Inc.\\', \\'Blatt, Hasenmiller, Leibsker & Moore, LLC\\', \\'Bliksum, LLC\\', \\'Blitt and Gaines, P.C.\\', \\'BlueChip Financial\\', \\'BlueYield, Inc.\\', \\'Blueshore Recovery\\', \"Boeing Employees\\' Credit Union\", \\'Bogman, Inc\\', \\'Bonded Business Services, Ltd.\\', \\'Bonneville Billing and Collections\\', \\'Bowen & Associates Recovery, Inc\\', \\'Bowman, Heintz, Boscia & Vician, P. C.\\', \\'Brazos Loan Servicing\\', \\'Brennan & Clark, Ltd., LLC\\', \\'Brian A. Blitz, P.A.\\', \\'Brightwater Capital, LLC\\', \\'Brock & Scott, PLLC\\', \\'Brookshaw Management, LLC\\', \\'Broward Adjustment Services, Inc.\\', \\'Brown and Joseph, Ltd\\', \\'Brumbaugh & Quandahl\\', \\'Bryant, Hodge & Associates LLC\\', \\'Budget Control Services, Inc.\\', \\'Buffaloe & Associates, PLC\\', \\'Bull City Financial Solutions, Inc\\', \\'Bureau of Accounts Control\\', \\'Burke Costanza & Carberry LLP\\', \\'Business Revenue Systems, Inc.\\', \\'Butte County Credit Bureau\\', \\'Byrider Franchising, LLC\\', \\'C&F Mortgage Corporation\\', \\'C.Tech Collections, Inc.\\', \\'CAC Financial Corp\\', \\'CAP Management Company\\', \\'CBM Services, Inc.\\', \\'CBS Collections, Inc\\', \\'CBV Collection Services Ltd.\\', \\'CCB Credit Serivces, Inc\\', \\'CCS Financial Services, Inc.\\', \\'CFM Group LLC\\', \\'CFS ACCEPTANCE\\', \\'CFS2, Inc.\\', \\'CHS, Inc.\\', \\'CIR, Law Offices\\', \\'CIS Direct Lending\\', \\'CIT Bank\\', \\'CJA Auto Sales, Inc.\\', \\'CL Holdings, LLC\\', \\'CLS Mortgage\\', \\'CMG Financial\\', \\'CMK Investments Inc\\', \\'CMM, LLC\\', \\'CMRE Financial Services, Inc.\\', \\'CN Collections, Inc.\\', \\'CNG Financial Corporation\\', \\'COLLECTIONS USA, INC.\\', \\'CRA Collections, Inc\\', \\'CU Recovery, Inc.\\', \\'CW Financial\\', \\'Cade Investments LLC\\', \\'Caine & Weiner Co. Inc.\\', \\'Caliber Home Loans, Inc\\', \\'California Accounts Service\\', \\'California Business Bureau, Inc.\\', \\'Cannon & Cannon Firm PC\\', \\'Capio Partners, LLC\\', \\'Capital Accounts, LLC\\', \\'Capital Alliance Financial, LLC\\', \\'Capital Collections, LLC\\', \\'Capital Management Services, LP\\', \\'Capital Markets Cooporative, LLC\\', \\'Capital One\\', \\'CarFinance Capital LLC\\', \\'CarMax, Inc.\\', \\'Carmel Financial Corporation, Inc.\\', \\'Carmen V. Porreca, P.C.\\', \\'Carolina Finance, LLC\\', \\'Carrington Mortgage\\', \\'Carter-Young, Inc.\\', \\'Cascade Capital, LLC\\', \\'Cascade Collections, Inc.\\', \\'Cash America International, Inc.\\', \\'Cash Express, LLC\\', \\'CashCall, Inc.\\', \\'Castle Credit Corp\\', \\'Cavalry Investments, LLC\\', \\'Ceannate\\', \\'Cedars Business Services, LLC\\', \\'Centennial Lending LLC\\', \\'Central Portfolio Control Inc.\\', \\'Central States Recovery, Inc.\\', \\'Century Credit & Collections, LLC\\', \\'Century Financial Group\\', \\'Century Mortgage Company\\', \\'Certified Credit Reporting, Inc.\\', \\'Certified Recovery Inc\\', \\'Certified Recovery Systems, Inc.\\', \\'Certified Services, Inc.\\', \\'Charles Schwab Bank\\', \\'Charlottesville Bureau of Credits, Inc\\', \\'Check City Partnership, LLC\\', \\'Check into Cash, Inc.\\', \\'Checksmart Financial Company\\', \\'Choice Recovery, Inc.\\', \\'Citibank\\', \\'City National Bank\\', \\'Citywide Home Loans, a Utah Corporation\\', \\'Clark County Collection Service\\', \\'Clay Chapman Iwamura Pulice & Nervell\\', \\'Clear Debt Solutions, LLC\\', \\'ClearSpring Loan Services, Inc.\\', \\'Client Services, Inc.\\', \\'Coast Collection Agency Inc\\', \\'Coast Professional, Inc.\\', \\'Coast to Coast Financial Solutions, Inc.\\', \\'Coastal Credit, LLC\\', \\'Coastal Finance Company, Inc.\\', \\'Coastline Financial Resources, LLC\\', \\'Cogent Road, Inc.\\', \\'Cohen & Associates\\', \\'Cohen McNeile & Pappas, PC\\', \\'Collectech Diversified, Inc.\\', \\'Collection Associates, Ltd.\\', \\'Collection Bureau Incorporated\\', \\'Collection Bureau Services, Inc.\\', \\'Collection Bureau of America Ltd.\\', \\'Collection Bureau of Walla Walla\\', \\'Collection Bureau of the Hudson Valley, Inc.\\', \\'Collection Consultants of California\\', \\'Collection Information Bureau, Inc.\\', \\'Collection Management Company\\', \\'Collection Professionals, Inc (Wyoming)\\', \\'Collection Professionals, Inc. (Macomb, IL)\\', \\'Collection Service Center, Inc.\\', \\'Collection Service of Nevada\\', \\'Collection Services, Inc.\\', \\'Collection Technology Incorporated\\', \\'Collections Inc\\', \\'Collections Unlimited of Texas\\', \\'Colonial Mortgage Service Co. Of America\\', \\'Colony Brands, Inc.\\', \\'Colorado Capital Investments, Inc.\\', \\'Colorado Housing and Finance Authority\\', \\'Columbia Collection Service, Inc.\\', \\'Columbia Recovery Group LLC\\', \\'Comerica\\', \\'Commerce Bank\\', \\'Commercial Acceptance Company\\', \\'Commercial Recovery Systems\\', \\'Commonwealth Financial Systems, Inc.\\', \\'Commonwealth Health Corporation\\', \\'Community Health Investment Company, LLC.\\', \\'ConServe\\', \\'Concentric Receivables Management, Ltd.\\', \\'Concord Resolution Inc\\', \\'Concord Servicing Corporation\\', \\'Condor Capital Corp.\\', \\'Conrad Credit Corporation\\', \\'Consolidated Management Group, LLC\\', \\'Constar Financial Services, LLC\\', \\'Consumer Adjustment Company Incorporated\\', \\'Consumer Collection Management. Inc\\', \\'Consumer Portfolio Services\\', \\'Contemporary Recovery Solutions Inc.\\', \\'Continental Credit Control\\', \\'Continental Finance Company, LLC\\', \\'Continental Home Loans Inc.\\', \\'Contract Callers, Inc.\\', \\'Controlled Credit Corporation\\', \\'Convergent Resources, Inc.\\', \\'Convergys\\', \\'CoreLogic\\', \\'Cornerstone Home Lending Inc.\\', \\'Cornerstone Mitigation\\', \\'Cottonwood Financial Ltd.\\', \\'Couch Conville & Blitt LLC\\', \\'Credence Resource Management, LLC\\', \\'Credico, Inc.\\', \\'Credit Acceptance Corporation\\', \\'Credit Bureau Central, Inc (NV)\\', \\'Credit Bureau Collection Services, Inc.\\', \\'Credit Bureau Services Association\\', \\'Credit Bureau Systems, Inc.\\', \\'Credit Bureau of Carbon County\\', \\'Credit Bureau of Columbia, Inc.\\', \\'Credit Bureau of Lancaster County, Inc.\\', \\'Credit Bureau of Napa\\', \\'Credit Bureau of New Ulm, Inc.\\', \\'Credit Bureau of York, Inc.\\', \\'Credit Card Receivables Fund Incorporated\\', \\'Credit Central Holdings, LLC\\', \\'Credit Clearing House of America, Inc.\\', \\'Credit Collections U.S.A., L.L.C.\\', \\'Credit Consulting Services, Inc.\\', \\'Credit Corp Solutions Inc.\\', \\'Credit Financial Services, lnc\\', \\'Credit International Corporation\\', \\'Credit Management Control, Inc.\\', \\'Credit Management Services, Inc.\\', \\'Credit One LLC\\', \\'Credit Plus Inc\\', \\'Credit Protection Association, L.P.\\', \\'Credit Service Company, INC\\', \\'Credit Service of Logan, Inc.\\', \\'Credit Service, Inc\\', \\'Credit Services of Oregon, Inc.\\', \\'Credit Solutions, LLC (KY)\\', \\'Credit Systems International, Inc.\\', \\'Credit Union Mortgage Association\\', \\'Credit World Services, Inc\\', \\'Creditor Advocates Inc\\', \\'Creditors Collection Service\\', \\'Creditors Service Bureau Inc\\', \\'Critical Resolution Mediation LLC\\', \\'CrossCountry Mortgage Inc.\\', \\'Crown Asset Management, LLC\\', \\'Crown Holdings, LLC\\', \\'D. SCOTT CARRUTHERS\\', \\'DCS Enterprises, Inc.\\', \\'DHI Mortgage\\', \\'DLC, LLC\\', \\'DTA GROUP LLC\\', \\'Daniels Norelli Scully & Cecere, P.C.\\', \\'Darnel Quick Recovery, Inc.\\', \\'Data Search NY, Inc.\\', \\'Data and Contact Management Solutions, LLC\\', \\'Data-Central, LLC\\', \\'DataMax Corporation\\', \\'DeGrasse & Rolnick\\', \\'Debt Management, Inc\\', \\'Debt Recovery Solutions, LLC\\', \\'Debt Restoration Services\\', \\'Delbert Services\\', \\'Delmarva Collections, Inc.\\', \\'Delray Capital, LLC\\', \\'Delta Management Associates, Inc.\\', \\'Delta Outsource Group, Inc.\\', \\'Denovus Corporation, Ltd.\\', \\'Designed Receivable Solultions, Inc.\\', \\'Deutsche Bank\\', \\'Diaz & Associates, Inc.\\', \\'Direct Financial Solutions LLC\\', \\'Discover\\', \\'Ditech Mortgage Corp\\', \\'Diversified Acceptance Corporation\\', \\'Diversified Adjustment Service, Inc.\\', \\'Diversified Consultants, Inc.\\', \\'Diversified Recovery Services Inc.\\', \\'Dominion Law Associates, P.L.L.C.\\', \\'Douglas, Knight & Associates, Inc.\\', \\'Dovenmuehle Mortgage Inc.\\', \\'DriveTime\\', \\'Durango Credit and Collection Company, Inc.\\', \\'Duvera Billing Services, LLC\\', \"Dyck-O\\'Neal, Inc.\", \\'Dynamic Recovery Solutions, LLC\\', \\'Dynia & Associates, LLC\\', \\'E*Trade Bank\\', \\'ECMC Group, Inc.\\', \\'EMPIRE MEDIATION SERVICES LLC\\', \\'EOS Holdings, Inc.\\', \\'EZCORP, Inc.\\', \\'Eagle Accounts Group, Inc.\\', \\'Eagle Collection Corp.\\', \\'Eagle Recovery Associates, Inc.\\', \\'Early Warning Services, LLC\\', \\'East West Bank\\', \\'Eastern Account Systems of Connecticut, Inc.\\', \\'Eastpoint Recovery Group, Inc\\', \\'Eaton Group Attorneys LLC\\', \\'Edfinancial Services\\', \\'Element Global Services\\', \\'Elite Financial Services, Inc.\\', \\'Eltman, Eltman & Cooper, PC\\', \\'Embrace Home Loans Inc\\', \\'Emerald AR Systems, LLC\\', \\'Emory Enterprises, LLC\\', \\'Encircle Collections, Inc.\\', \\'Encore Capital Group\\', \\'Enerson Law, LLC.\\', \\'Enhanced Acquisitions, LLC\\', \\'Enhanced Recovery Company, LLC\\', \\'Enova International, Inc.\\', \\'Envoy Mortgage Ltd.\\', \\'Epn, Inc.\\', \\'Equidata, Inc.\\', \\'Equifax\\', \\'Equinox Financial Management Solutions, Inc.\\', \\'Equity National Title and Closing Services, Inc.\\', \\'Escallate, LLC\\', \\'Esser, James & Associates\\', \\'Estate Information Services, LLC\\', \\'EverBank\\', \\'Everest Receivable Services Inc.\\', \\'Evergreen Professional Recoveries, Inc.\\', \\'Exeter Finance Corp\\', \\'Experian\\', \\'Expert Global Solutions, Inc.\\', \\'Express Cash Mart Management\\', \\'Express Recovery Services, Inc.\\', \\'F&T Financial Services, Inc.\\', \\'F.H. Cann & Associates, Inc.\\', \\'FAIR COLLECTIONS & OUTSOURCING, INC.\\', \\'FASTBUCKS HOLDING CORPORATION\\', \\'FC HoldCo LLC\\', \\'FCI Lender Services Inc.\\', \\'FINEX Group LLC\\', \\'FMA Alliance, Ltd.\\', \\'FMK Credit Education Center, INC\\', \\'FMS Inc.\\', \\'FNIS (Fidelity National Information Services, Inc.)\\', \\'Fairway Independent Mortgage Corporation\\', \\'Farrell Holdings, LLC\\', \\'Fay Servicing, LLC\\', \\'Featured Mediation, LLC\\', \\'Federal Adjustment Bureau, Inc.\\', \\'Federal Bond and Collection Service, Inc.\\', \\'Fein, Such, Kahn & Shepard, P.C.\\', \\'Fenton & McGarvey Law Firm, P.S.C.\\', \\'Fidelis Recovery Management, LLC\\', \\'Fidelity Capital Holdings, Inc.\\', \\'Fidelity Funding Mortgage Corp.\\', \\'Fidelity Information Corporation\\', \\'Fidelity National Financial, Inc\\', \\'Fidelity Properties Inc.\\', \\'Fifth Third Bank\\', \\'Filings and Claims Inc.\\', \\'Financial Accounts Service Team Inc.\\', \\'Financial Asset Management Systems, Inc.\\', \\'Financial Asset Management, Inc.\\', \\'Financial Corporation of America\\', \\'Financial Credit Network Inc\\', \\'Financial Credit Service, Inc.\\', \\'Financial Data Systems\\', \\'Financial Filing & Reporting, Inc.\\', \\'Financial Management Solutions\\', \\'Financial Recovery Services, Inc.\\', \\'Finkelstein, Kern, Steinberg & Cunningham, PC\\', \\'Firsel Law Group, Ltd.\\', \\'First Advantage Corporation\\', \\'First Advantage LNS Inc.\\', \\'First American Title Insurance Company\\', \\'First Associates Loan Servicing LLC\\', \\'First California Mortgage Co\\', \\'First Capital Recovery Inc.\\', \\'First Choice Loan Services, Inc.\\', \\'First Citizens\\', \\'First Credit Services Inc.\\', \\'First Data Corporation\\', \\'First Direct Lending, LLC\\', \\'First Federal Credit Control\\', \\'First Financial Asset Management, Inc.\\', \\'First Guaranty Mortgage Corporation\\', \\'First Hawaiian Bank\\', \\'First Heritage Credit, LLC\\', \\'First Investors Financial Services Group, Inc.\\', \\'First Mortgage Corporation\\', \\'First National Bank of Omaha\\', \\'First National Bank of Pennsylvania\\', \\'First National Collection Bureau, Inc.\\', \\'First Niagara Bank\\', \\'First Reliance Holdings LLC\\', \\'First Republic Bank\\', \\'First Service Residential, Nevada, LLC\\', \\'First Step Group, LLC\\', \\'First Tennessee Bank\\', \\'FirstBank\\', \\'FirstBank of Puerto Rico\\', \\'FirstMerit Bank\\', \\'FirstPoint Collection Resources\\', \\'FirstSource Advantage, LLC\\', \\'Flagstar Bank\\', \\'Focus Holding Company\\', \\'Focused Recovery Solutions, Inc.\\', \\'Ford Motor Credit Company\\', \\'Forster & Garbus LLP\\', \\'Franklin American Mortgage Company\\', \\'Franklin Cohen and Allbright Arbitrations LLC\\', \\'Franklin Collection Service, Inc.\\', \\'Franklin Credit Management\\', \\'Frederick J. Hanna & Associates, P.C.\\', \\'Freedom Mortgage\\', \\'Fresno Credit Bureau\\', \\'Friendly Finance Corporation\\', \\'Frontline Asset Strategies, LLC\\', \\'Frost-Arnett Company\\', \\'Full Circle Financial Services, LLC\\', \\'GAMACHE & MYERS, PC\\', \\'GC Services Limited Partnership\\', \\'GE Capital Bank\\', \\'GE Capital Retail\\', \\'GLA Collection Company, Inc.\\', \\'GM Financial\\', \\'GMA Investments, LLC\\', \\'GSA Commercial Asset Management\\', \\'GSF Mortgage Corporation\\', \\'GVA Holdings, LLC\\', \\'Galaxy Capital Acquisitions, LLC\\', \\'Gatestone & Co. International Inc.\\', \\'Gateway Funding\\', \\'General Business Recoveries, Inc.\\', \\'General Financial, Inc.\\', \\'General Service Bureau, Inc.\\', \\'Generation Mortgage\\', \\'Genesis Lending\\', \\'Genpact Limited\\', \\'Genuine Debt Solutions, LLC.\\', \\'Genworth Financial\\', \\'George Mason Mortgage, LLC\\', \\'Gila LLC\\', \\'Glass Mountain Capital, LLC\\', \\'Glasser and Glasser, PLC\\', \\'Global Asset Management Group, Inc.\\', \\'Global Client Solutions\\', \\'Global Credit & Collection Corporation\\', \\'Global Financial Services Group\\', \\'Global One Arbitration Inc.\\', \\'Global Payments Check Services, Inc.\\', \\'Global Portfolio Recovery, LLC\\', \\'Global Recovery Group\\', \\'Global Recovery Solutions\\', \\'Global Trust Management LLC\\', \\'Gold Key Credit, Inc.\\', \\'Gold Star Finance, Inc.\\', \\'Goldberg & Peretti, LLC\\', \\'Golden State Collections LLC\\', \\'Golden Title Loans LLC\\', \\'Goldman Sachs Bank USA\\', \\'Google Inc.\\', \\'Gotham Collection Services Corp.\\', \\'Gragil Associates, Inc.\\', \\'Grant & Weber\\', \\'Grant Mercantile Agency\\', \\'Great American Finance Co\\', \\'Great Lakes\\', \\'Green & Sons Agency, Inc.\\', \\'Green Tree Servicing, LLC\\', \\'Green Trust Cash, LLC\\', \\'GreenSky Trade Credit, LLC\\', \\'Greene & Cooper Collections LLC\\', \\'Greentree & Associates\\', \\'Grimley Financial Corporation\\', \\'Gryphon Corp\\', \\'Guaranteed Home Mortgage Company, Inc.\\', \\'Guaranteed Rate\\', \\'Guglielmo and Associates\\', \\'Guild Mortgage\\', \\'Gulf Coast Collection Bureau, Inc.\\', \\'Gurstel Chargo PA\\', \\'H. Kent Hollins, Attorney at Law, P.A\\', \\'HCFS Health Care Financial Services, Inc.\\', \\'HIGHLAND FINANCIAL SERVICES\\', \\'HOVG, LLC\\', \\'HSBC\\', \\'Halsted Financial Services, LLC.\\', \\'Harbinger Processing Group LLC\\', \\'Harley-Davidson Financial Services, Inc.\\', \\'Harpeth Financial Services, LLC\\', \\'Harris & Harris, Ltd.\\', \\'Harvard Collections, LLC\\', \\'Harvest Credit Management VII, LLC\\', \\'Hauge Associates, Inc.\\', \\'Hayt Hayt & Landau, P.L. (FL)\\', \\'Health Services Asset Management, LLC.\\', \\'Healthcare Collections-I, LLC\\', \\'Healthcare Financial Services, LLC\\', \\'Healthcare Management, LLC\\', \\'Healthcare Receivables Group, Inc.\\', \\'Heartland Payment Systems\\', \\'Herbert P. Sears Co., Inc.\\', \\'Hewitt-Capital\\', \\'Higher Education Student Assistance Authority (HESAA)\\', \\'Hillcrest Davidson & Assoc\\', \\'HireRight Solutions, Inc.\\', \\'Hollis Cobb Associates\\', \\'Holloway Credit Solutions\\', \\'HomeTown Lenders, LLC\\', \\'Homebridge Financial Services, Inc.\\', \\'Homestar Financial Corporation\\', \\'Honor Finance Holdings, LLC\\', \\'Hood & Stacy, P.A.\\', \\'Hosto & Buchan, PLLC\\', \\'Howell & Vail, LLP\\', \\'Hudson City Savings Bank\\', \\'Hunt & Henriques\\', \\'Hunter Warfield, Inc.\\', \\'Hyundai Capital America\\', \\'I.C. System, Inc.\\', \\'I.Q. Data International, Inc.\\', \\'IBERIABANK\\', \\'ICQ Search and Recovery Inc.\\', \\'IMMEDIATE RECOVERY GROUP, INC\\', \\'Ignite Revenue, Inc.\\', \\'Illinois Lending Corporation\\', \\'Immediate Credit Recovery\\', \\'Impac Mortgage Holdings, Inc.\\', \\'Independent Recovery Resources, Inc.\\', \\'Informative Research\\', \\'Innovative Collections, LLC\\', \\'Innovative Debt Solutions\\', \\'Innovis\\', \\'Insight Capital LLC (NV)\\', \\'Integral Recoveries, Inc.\\', \\'Integrated Recovery Services\\', \\'Integrity Solution Services, Inc.\\', \\'Interbank Mortgage Company\\', \\'Internal Check Systems, LLC\\', \\'International Computer Systems, Inc.\\', \\'Investment Retrievers, Inc.\\', \\'Investors Bank\\', \\'Io, Inc.\\', \\'Iowa Student Loan\\', \\'Ivy Street Development Corp.\\', \\'J R Brothers Financial, Inc.\\', \\'J.A. Cambece Law Office, P.C.\\', \\'J.S Resolution Group, Inc.\\', \\'JH Portfolio Debt Equities, LLC\\', \\'JLU Asset Management Group LTD\\', \\'JMD,LLC\\', \\'JNR Adjustment Company, Inc\\', \\'JP Recovery Services, Inc.\\', \\'JPMorgan Chase\\', \\'Jacob Law Group, PLLC\\', \\'Jacobs, Marsh LLC\\', \\'James B. Nutter & Company\\', \\'Jason A. Craig & Associates\\', \\'Javitch, Block & Rathbone LLC\\', \\'Jenkins, Wagnon & Young, P.C.\\', \\'Jim Bottin Enterprises, Inc\\', \\'John C. Bonewicz, P.C.\\', \\'John C. Heath, Attorney at Law, PLLC\\', \\'Johnson Mark LLC\\', \\'Jon Barry and Associates, Inc.\\', \\'Jonathan Neil & Associates, Inc\\', \\'Jormandy, LLC\\', \\'Justice Finance Company\\', \\'Jzanus Ltd.\\', \\'K & B Capital Corp\\', \\'K. Hovnanian American Mortgage, L.L.C.\\', \\'Kansas Counselors of Kansas City, Inc.\\', \\'Keith D. Weiner & Associates Co., L.P.A.\\', \\'KelKris Associates Inc\\', \\'Kenneth, Eisen & Associates, Ltd.\\', \\'Kevin B. Wilson Law Offices\\', \\'Key 2 Recovery, Inc.\\', \\'KeyBank NA\\', \\'Keynote Consulting, Inc.\\', \\'Keystone Credit Collections Inc.\\', \\'Khoury Alternative Claims Management\\', \\'Kimball, Tirey & St. John LLP\\', \\'Kings Credit Services\\', \\'Kirkland Asset Management LLC\\', \\'Kirschenbaum, Phillips & Roach, P.C.\\', \\'Knight & Hooper, PLLC\\', \\'Knight Adjustment Bureau\\', \\'Kohn Law Firm S.C.\\', \\'Komyatte & Casbon, P.C.\\', \\'Kramer & Frank, P.C.\\', \\'Kramer, Linkie & Taylor, LLC\\', \\'Kroll, Inc\\', \\'Kross, Lieberman & Stone, Inc.\\', \\'LCS Financial Corporation\\', \\'LDF Holdings, LLC\\', \\'LHR Inc.\\', \\'LJ Ross Associates\\', \\'LK Manley, Inc\\', \\'LMS Services, Inc.\\', \\'LTD Financial Services, L.P.\\', \\'Lacy Katzen LLP\\', \\'Lake Area Collections, LLC\\', \\'Lakeview Loan Servicing, LLC\\', \\'Lamont, Hanley & Associates, Inc.\\', \\'Land/Home Financial Services\\', \\'Landlord Rent Collections, LLC\\', \\'Larsen MacColl Partners II, L.P.\\', \\'Law Office of Harris & Zide\\', \\'Law Office of Linda Strumpf\\', \\'Law Office of Michael J. Scott, PC\\', \\'Law Office of Stephen P. Lamb\\', \\'Law Offices Howard Lee Schiff, P.C.\\', \\'Law Offices of Ed Overcash, LLC\\', \\'Law Offices of Goldberg & Oriel\\', \\'Law Offices of Robert J. Colclough, III\\', \\'Law Offices of Timothy E. Baxter & Associates, P.C.\\', \\'Law Offices of Timothy M. Sullivan\\', \\'Law Offices of Zakheim & LaVrar, P.A.\\', \\'Lazarus Financial Group, Inc.\\', \\'Lazega & Johanson LLC\\', \\'Leaders Financial Company\\', \\'Legacy Customer Management Group, LLC\\', \\'Legal Prevention Services, LLC.\\', \\'Legal Recovery Law Offices, Inc\\', \\'Lender Live\\', \\'Lendmark Financial Services, LLC\\', \\'LexisNexis\\', \\'Liberty Holdings, LLC\\', \\'Life Line Billing Systems, LLC\\', \\'Linebarger Goggan Blair & Sampson, LLP\\', \\'Lippman & Reed, PLLC\\', \\'Lipsky & Associates, Inc\\', \\'Lloyd & McDaniel, PLC\\', \"Lloyd\\'s Plan, Inc.\", \\'Loan Care\\', \\'Loan Servicing Group\\', \\'Loan To Learn\\', \\'LoanDepot\\', \\'Lobel Financial Corporation\\', \\'Long & Foster Financial Services, Inc.\\', \\'Louisiana Bureau of Credit Control Inc.\\', \\'Love, Beal & Nixon, P.C.\\', \\'Lustig, Glaser & Wilson, P.C.\\', \\'Lyons, Doughty & Veldhuis, P.C.\\', \\'M&S Recovery Solutions\\', \\'M&T Bank\\', \\'M.A.R.S. Inc.\\', \\'MAS Financial Services, Inc.\\', \\'MEFA\\', \\'MIB Group, Inc.\\', \\'MJ Altman Companies, Inc.\\', \\'MM Finance, LLC\\', \\'MNE Services, Inc\\', \\'MOHELA\\', \\'MOTORS FINANCIAL ACCEPTANCE CORPORATION\\', \\'MRS BPO, L.L.C.\\', \\'MRS Collections LLC\\', \\'MS Services LLC\\', \\'MST Financial Services, L.L.C.\\', \\'MSW Capital, LLC\\', \\'Machol & Johannes, LLC\\', \\'Main Street Personal Finance\\', \\'Malcolm S. Gerald and Associates, Inc.\\', \\'Mandarich Law Group, LLP\\', \\'Mapother & Mapother, PSC\\', \\'Mar Joe Enterprises\\', \\'Mariner Finance, LLC\\', \\'Mark A. Leachman P.C.\\', \\'MarkOne Holdings, LLC\\', \\'Markind Law Group, P.C.\\', \\'Markoff Law LLC\\', \\'Marlette Funding, LLC\\', \\'Massachusetts Housing Finance Agency\\', \\'Matthew Thomas & Associates LLC\\', \\'Maury Cobb, Attorney at Law, LLC\\', \\'Maverick Funding Corp.\\', \\'McCalla Raymer, LLC\\', \\'McCarthy, Burgess & Wolff, Inc.\\', \\'McCullough Payne & Haan, LLC\\', \\'Meade & Associates, Inc.\\', \\'Med-1 Solutions, LLC\\', \\'Media Collections, Inc\\', \\'Medical Business Bureau\\', \\'Medical Data Systems, Inc.\\', \\'Medical Recovery Services, LLC\\', \\'Medical Society Business Services, Inc.\\', \\'Medical-Dental-Hospital Bureau of San Antonio\\', \\'Mel S. Harris and Associates, LLC\\', \\'Mercantile Adjustment Bureau, LLC\\', \\'Mercedes-Benz Financial Services\\', \\'Merchants Credit Adjusters, Inc.\\', \\'Merchants Credit Bureau, Inc.\\', \\'Merchants Credit Corporation\\', \\'Merchants and Medical Credit Corporation, Inc.\\', \\'Merchants and Professional Bureau, Inc.\\', \"Merchants\\' Credit Guide Company\", \\'Meridian Financial Services, Inc.\\', \\'Messerli & Kramer P.A.\\', \\'Metro Collection Service, Inc.\\', \\'Metro Denver Title, LLC\\', \\'Metro Republic Commercial Service, Inc.\\', \\'Michael & Associates, PC\\', \\'Michael Andrews & Associates LLC\\', \\'Michael G. Niles\\', \\'Michael Harrison, Attorney at Law\\', \\'Mid Continent Credit Services, Inc\\', \\'Mid-America Accounts Control Bureau, Inc.\\', \\'Mid-Atlantic Finance Co., Inc.\\', \\'MidCountry Financial Corp.\\', \\'Midstate Collection Solutions, Inc.\\', \\'Midway Resolution Services LLC\\', \\'Midwest Fidelity Services, LLC\\', \\'Midwestern Health Management INC\\', \\'Millennium Financial Group, L.L.C.\\', \\'Miller Davis & Peoples\\', \\'Miller and Steeno, P.C.\\', \\'Millsap & Singer, LLC\\', \\'Minnesota Life Insurance Company\\', \\'MiraMed Revenue Group LLC\\', \\'Mirabella Investments Group, LLC\\', \\'Mitchell Rubenstein & Associates, P.C.\\', \\'Mobiloans, LLC\\', \\'Modern Adjustment Bureau\\', \\'Monarch Recovery Holdings, Inc.\\', \\'Money Investigations, Inc.\\', \\'Money Management International, Inc.\\', \\'Money Now- Hattiesburg, Inc.\\', \\'MoneyGram\\', \\'Moneytree Inc\\', \\'Monterey Financial Services, Inc.\\', \\'Morgan & Associates, P.C.\\', \\'Morgan & Pottinger, PSC\\', \\'Morgan Stanley\\', \\'Mortgage Capital Associates, Inc.\\', \\'Mortgage Clearing Corporation\\', \\'Mortgage Counseling Center\\', \\'Mortgage Investors Corporation\\', \\'Mortgage Research Center, LLC\\', \\'Moss Law Firm, P.C.\\', \\'Mountain Land Collections, Inc.\\', \\'Mountain West Financial, Inc\\', \\'Movement Mortgage\\', \\'Mullooly Jeffrey Rooney & Flynn\\', \\'Multiple Credit Solutions\\', \\'Municipal Collections Services, Inc.\\', \\'Municipal Collections of America, Inc.\\', \\'N.A.R., Inc.\\', \\'NAM National Arbitration and Mediation\\', \\'NCB Management Services, Inc.\\', \\'NCC Business Services, Inc.\\', \\'NCS, Inc\\', \\'NCSPLUS INCORPORATED\\', \\'NELSON AND KENNARD\\', \\'NIC, Inc.\\', \\'NRA Group, LLC\\', \\'NVR Inc\\', \\'Nair & Levin, P.C.\\', \\'National Account Services, Inc.\\', \\'National Arbitration Forum\\', \\'National Business Factors\\', \\'National Check Bureau, Inc.\\', \\'National Check Resolution Inc.\\', \\'National Commercial Services, Inc\\', \\'National Consumer Telecom & Utilities Exchange, Inc.\\', \\'National Credit Adjusters, LLC\\', \\'National Credit Services, Inc.\\', \\'National Credit Systems,Inc.\\', \\'National Enterprise Systems, Inc.\\', \\'National Financial LLC\\', \\'National Loan Investors, LP\\', \\'National Mediation Services\\', \\'National Principal Group, LLC\\', \\'National Recoveries, Inc.\\', \\'National Recovery Service, Inc.\\', \\'National Recovery Services LLC\\', \\'National Recovery Solutions, LLC\\', \\'Nations Financial\\', \\'Nations Lending Coporation\\', \\'Nations Recovery Center\\', \\'Nationstar Mortgage\\', \\'Nationwide Acceptance LLC\\', \\'Nationwide Advantage Mortgage Company\\', \\'Nationwide Arbitration Services LLC\\', \\'Nationwide Biweekly Administration, Inc\\', \\'Nationwide Credit & Collection, Inc.\\', \\'Nationwide Credit Corporation\\', \\'Nationwide Debt Management Solutions, LLC\\', \\'Nationwide Financial Group\\', \\'Nationwide Intermediary Services llc\\', \\'Nationwide Recovery Systems, Ltd\\', \\'Navient\\', \\'Navy FCU\\', \\'Neighborhood Housing Services of Richmond, Inc\\', \\'Nelnet\\', \\'Nelson, Cooper & Ortiz, LLC\\', \\'NetSpend Corporation,  a TSYS Company\\', \\'Nevada Credico, Inc.\\', \\'New American Funding\\', \\'New Century Financial Services, Inc.\\', \\'New Day Financial, LLC\\', \\'New York Community Bank\\', \\'New York State Higher Education Services Corporation (HESC)-\\', \\'Nexcheck, LLC\\', \\'Niagara Capital Associates, Inc.\\', \\'Niagara Credit Solutions, Inc\\', \\'Niagara Portfolio Solutions LLC\\', \\'Nicholas Financial, Inc.\\', \\'Nissan Motor Acceptance Corporation\\', \\'North American Asset Services, LLC\\', \\'North American Credit Services\\', \\'North Georgia Regional Collection Agency, Inc.\\', \\'North Shore Agency, LLC\\', \\'Northeast Collection Bureau\\', \\'Northern Alliance Management, LLC\\', \\'Northland Group, Inc.\\', \\'Northstar Location Services, LLC\\', \\'Northwest Collectors Inc.\\', \\'Norwich Commercial Group Inc.\\', \\'ONLINE Information Services, Inc.\\', \\'Oceanside Mortgage Company\\', \\'Ocwen\\', \\'Old National Bank\\', \\'Old Republic Title Holding Company, Inc\\', \\'Olde City Financial Inc.\\', \\'Oliphant Financial Corporation\\', \\'Oliver Adjustment Co.\\', \\'Oliver Adjustment Company of Kenosha & Racine, Inc\\', \\'Omega RMS, LLC\\', \\'On-Site Manager, Inc.\\', \\'OneWest Bank\\', \\'Operating Partners Co., LLC\\', \\'Ophrys, L.L.C.\\', \\'Optima Recovery Services LLC.\\', \\'Optimum Outcomes, Inc.\\', \\'Optio Solutions, LLC\\', \\'Oracle Financial Group LLC.\\', \\'Orions Management Group, LLC\\', \\'Overton, Russell, Doerr and Donovan, LLP\\', \\'Oxford Law, LLC\\', \\'P&B Capital Group, LLC\\', \\'P&L Acquisitions LLC\\', \\'P.S.C., Inc\\', \\'PACIFIC WESTERN BANK\\', \\'PDQ Services, Inc.\\', \\'PHH Mortgage\\', \\'PLS GROUP, INC\\', \\'PMAB, LLC\\', \\'PMT Solutions, LLC.\\', \\'PNC Bank\\', \\'PRO Consulting Services, Inc.\\', \\'Pacific Rim Alliance Corporation\\', \\'Pacific Union Financial, LLC\\', \\'Paid In Full, Inc.\\', \\'Palm Beach Credit Adjustors, Inc\\', \\'Pan Am Collections, Inc.\\', \\'Paragon Home Loans, Inc\\', \\'Parson Bishop Services, Inc.\\', \\'Partners for Payment Relief\\', \\'Patenaude & Felix APC\\', \\'Patient Accounting Service Center\\', \\'Patrick Scanlon P.A.\\', \\'Pay-O-Matic\\', \\'PayPal\\', \\'Peer Advisors, LLC\\', \\'Penn Credit Corporation\\', \\'Penncro Associates, Inc.\\', \\'PennyMac Loan Services, LLC\\', \\'Pentagon FCU\\', \"People\\'s United Bank\", \\'Peoples Home Equity, Inc.\\', \\'Performant Financial Corporation\\', \\'Persian Acceptance Corp\\', \\'Persolve, LLC - Legal - Series 2\\', \\'Peter Roberts & Associates, Inc.\\', \\'Phillips & Cohen Associates, Ltd.\\', \\'Phoenix Financial Services LLC\\', \\'Physicians & Dentists Credit Bureau\\', \\'Pinnacle Asset Management, LLC\\', \\'Pinnacle Credit Services, LLC\\', \\'Pinnacle Recovery, Inc.\\', \\'Planet Home Lending, LLC\\', \\'Plastyc, Inc.\\', \\'Plaza Home Mortgage\\', \\'PlusFour, Inc\\', \\'Polaris Home Funding Corp\\', \\'Pollack & Rosen, P.A.\\', \\'Portage Financial Services Company Inc.\\', \\'Portfolio America Asset Management, LLC\\', \\'Portfolio Recovery Associates, Inc.\\', \\'Praxis Financial Solutions, Incorporated\\', \\'Precise Financial Group, LLC\\', \\'Preferred Credit, Inc.\\', \\'Premier Recovery Group\\', \\'Premium Asset Services, LLC\\', \\'Pressler & Pressler, LLP\\', \\'Prestige Financial Services, Inc.\\', \\'Presto Auto Loans, Inc.\\', \\'Primary Financial Services L.L.C.\\', \\'Primary Residential Mortgage\\', \\'Prime Credit Corporation\\', \\'PrimeLending, A PlainsCapital Company\\', \\'Prince Parker & Associates\\', \\'Priority Home Mortgage, LP\\', \\'Pro Com Services of Illinois, Inc.\\', \\'ProCollect, Inc\\', \\'Professional Accounts Service, Inc. (Indiana)\\', \\'Professional Bureau of Collections of Maryland, Inc.\\', \\'Professional Claims Bureau, Inc.\\', \\'Professional Collection Company\\', \\'Professional Credit Management, Inc\\', \\'Professional Debt Mediation, Inc.\\', \\'Professional Finance Company, Inc.\\', \\'Professional Medical Management, Inc.\\', \\'Professional Placement Services, LLC\\', \\'Professional Receivables Network\\', \\'Professional Recovery Consultants, Inc.\\', \\'Professional Recovery Management\\', \\'Professional Recovery Services Inc.\\', \\'Professional Solutions Collection Agency, LLC\\', \\'Profit Services Group\\', \\'Progreso Financiero Holdings, Inc.\\', \\'Progressive Financial Services, Inc.\\', \\'Prospect Mortgage\\', \\'Prosperity Bancshares, Inc\\', \\'Protas, Spivok & Collins, LLC\\', \\'Provident Funding\\', \\'Prudent Law Group\\', \\'Pulte Mortgage\\', \\'QC Holdings, Inc.\\', \\'Quality Asset Recovery LLC\\', \\'Quality Loan Service Corporation\\', \\'Quality Title, Inc.\\', \\'Quall Cardot LLP\\', \\'Quantum Servicing Company\\', \\'Quick Click Loans, LLC\\', \\'Quicken Loans\\', \\'R & B Corporation of Virginia\\', \\'R&R Professional Recovery, Inc.\\', \\'R.A.Rogers, Inc.\\', \\'R.M. Galicia, Inc.\\', \\'RAB, INC.\\', \\'RBC Bank (Georgia)\\', \\'RBS Citizens\\', \\'RCO Hawaii, LLLC\\', \\'RFNA, LP\\', \\'RGS Financial, Inc.\\', \\'RJM Acquisitions LLC\\', \\'RMA Credit Association\\', \\'RMB, Inc.\\', \\'RMI Services, LLC\\', \\'RMP Group Inc.\\', \\'RMS-Recovery Management Services, Inc.\\', \\'ROCKPORT FINANCIAL LLC\\', \\'ROCKY POINT CAPITAL LLC\\', \\'RS Clark and Associates, Inc.\\', \\'RSB Equity Group, LLC\\', \\'RSH & Associates, LLC\\', \\'RSI Enterprises, Inc.\\', \\'Rabobank\\', \\'Radius Global Solutions LLC\\', \\'Rash Curtis and Associates\\', \\'Rauch-Milliken International, Inc.\\', \\'Rausch, Sturm, Israel, Enerson & Hornik, LLC\\', \\'Ray Klein, Inc.\\', \\'Razor Capital, LLC\\', \\'Real Time Resolutions\\', \\'Receivable Asset Management\\', \\'Receivable Management Group, Inc.\\', \\'Receivable Recovery Services, LLC\\', \\'Receivable Solutions Specialist, Inc.\\', \\'Receivables Management Corporation\\', \\'Receivables Management Group, Inc.\\', \\'Receivables Outsourcing, Inc.\\', \\'Receivables Performance Management LLC\\', \\'Recovery One, LLC\\', \\'Recovery Partners, LLC\\', \\'Red Cedar Services, Inc\\', \\'Red Rock Tribal Lending\\', \\'Regency Mortgage Corp\\', \\'Regional Acquisition Group, Inc.\\', \\'Regional Management Corp.\\', \\'Regions\\', \\'Reliance Exchange Group\\', \\'Reliant Capital Solutions, LLC\\', \\'Remex, Inc.\\', \\'Remit Corporation\\', \\'Renew Financial, LLC\\', \\'Rent Recover, LLC\\', \\'Rent Recovery Solutions\\', \\'RentDebt Automated Collections, LLC\\', \\'Renton Collections Inc.\\', \\'ResMac Inc.\\', \\'ResidentCollect, Inc.\\', \\'Residential Credit Solutions\\', \\'Residential Finance Corporation\\', \\'Residential Mortgage Services\\', \\'Resurgence Financial, LLC\\', \\'Resurgent Capital Services L.P.\\', \\'Retail Merchants Associates\\', \\'Retrieval-Masters Creditors Bureau, Inc.\\', \\'RevMD Partners, LLC.\\', \\'RevSolve, Inc.\\', \\'Revenue Assistance Corporation dba Revenue Group\\', \\'Revenue Assurance Professionals LLC\\', \\'Revenue Enterprises, LLC\\', \\'Revenue Recovery Bureau\\', \\'Revenue Recovery Corporation\\', \\'Reverse Mortgage Solutions\\', \\'Rhode Island Student Loan Authority\\', \\'Ria Financial\\', \\'Richard B. Maner, P. C.\\', \\'Richard Sokoloff, Attorney At Law\\', \\'Ridge & Valley Realty, Inc.\\', \\'Riexinger & Associates, LLC\\', \\'Risecredit, LLC\\', \\'Robert W. Warner & Associates, P.C.\\', \\'Robinson, Reagan and Young PLLC\\', \\'Rockford Mercantile Agency, Inc.\\', \\'Rodenburg LLP\\', \\'Roosen, Varchetti & Olivier, PLLC\\', \\'Roquemore Holdings LLC\\', \\'Rose & Associates, LLC.\\', \\'Rose Agency Inc.\\', \\'Rossman & Co\\', \\'Round Point Mortgage\\', \\'Round Two Recovery\\', \\'Royal United Mortgage LLC\\', \\'Rozlin Financial Group, Inc.\\', \\'Rubin & Debski, P.A.\\', \\'Rubin & Rothman, LLC\\', \\'Rubin & Yates, LLC\\', \\'Rushmore Loan Management Services LLC\\', \\'Rushmore Service Center, LLC\\', \\'Russell Collection Agency, Inc\\', \\'Russell W Richardson, Attorney at Law\\', \\'S & S Recovery, Inc.\\', \\'S&S Physician Services, Inc.\\', \\'SCA Collections, Inc.\\', \\'SCP IV Pingora AIV, L.P\\', \\'SCV Inc.\\', \\'SECURITY CREDIT SYSTEMS INC\\', \\'SFS, Inc\\', \\'SIMM Associates, Inc.\\', \\'SIRVA, Inc.\\', \\'SKO Brenner American, Inc.\\', \\'SKY FINANCIAL SERVICES, INC.\\', \\'SN SERVICING CORPORATION\\', \\'SRA Associates, Inc.\\', \\'Sa-Vit Enterprises, Inc.\\', \\'Sacor Financial, Inc\\', \\'Saints Recovery Group, Inc.\\', \\'Sallie Mae\\', \\'Sands Recovery Group\\', \\'Santander Bank US\\', \\'Santander Consumer USA\\', \\'Sarma\\', \\'Schachter Portnoy, L.L.C.\\', \\'Scheer, Green & Burke L.P.A.\\', \\'Scherr & McClure\\', \\'Scott Fetzer Financial Group, Inc.\\', \\'Scottrade Bank\\', \\'Seattle Service Bureau, Inc\\', \\'Second Round Limited Partnership\\', \\'Secure Capital Management, Inc.\\', \\'Security Auto Loans, Inc.\\', \\'Security Credit Services, LLC\\', \\'Security Finance\\', \\'Security National Automotive Acceptance Company, LLC\\', \\'Security National Mortgage\\', \\'Seidberg Law Offices, P.C.\\', \\'Select Management Resources, LLC\\', \\'Select Portfolio Servicing, Inc\\', \\'Select Resource Group LLC\\', \\'Selene Finance\\', \\'Selip & Stylianou, LLP\\', \\'Senex Services Corp.\\', \\'Sentrix Financial Services\\', \\'Sentry Credit, Inc.\\', \\'Sentry Recovery and Collections, Inc.\\', \\'Servatus Corporation\\', \\'Service Bureau, Inc.\\', \\'Service Finance Holdings, LLC\\', \\'Servis One, Inc.\\', \\'Sessoms & Rogers, P.A.\\', \\'Set Financial Corporation\\', \\'Seterus\\', \\'Shechtman Halperin Savage, LLP\\', \\'Shellpoint Partners, LLC\\', \\'Sherloq Group, Inc\\', \\'Shermeta, Adams & VonAllmen,PC\\', \\'Sierra Holdings LLC\\', \\'Sierra Pacific Mortgage\\', \\'Silver Cloud Financial\\', \\'Skagit Bonded Collectors, LLC\\', \\'Skyline Financial Corp\\', \\'Slovin & Associates Co., LPA\\', \\'Smart Auto Leasing\\', \\'Smith Debnam Narron Drake Saintsing & Myers LLP\\', \\'Social Finance, Inc.\\', \\'Sokaogon Finance, Inc.\\', \\'Solidus Group LLC.\\', \\'Solomon and Solomon, P.C.\\', \\'Sound Collection Services\\', \\'Source Receivables Management LLC\\', \\'South Carolina Student Loan\\', \\'Southern Credit Adjusters, Inc.\\', \\'Southern Credit Recovery, Inc.\\', \\'Southern Financial Systems, Inc.\\', \\'Southern Management Corp\\', \\'Southern Management Systems Inc.\\', \\'Southern Oregon Credit Service, Inc.\\', \\'Southwest Business Corporation\\', \\'Southwest Credit Systems, L.P.\\', \\'Specialized Loan Servicing LLC\\', \\'Specified Credit Association 1, Inc.\\', \\'Speedy Cash Holdings\\', \\'Sprechman & Associates, P.A.\\', \\'Springer Collections Inc.\\', \\'Springleaf Finance Corporation\\', \\'SquareTwo Financial Corporation\\', \\'Stallings Financial Group, Inc.\\', \\'Stanislaus Credit Control Service, Inc.\\', \\'State Collection Service, Inc.\\', \"State Employee\\'s Credit Union\", \\'State Farm Bank\\', \\'State Finance Company\\', \\'State Home Mortgage\\', \\'Statebridge Company\\', \\'States Recovery Systems, Inc.\\', \\'Statewide Credit Services Corp.\\', \\'Stearns Lending\\', \\'Stellar Recovery Inc.\\', \\'Stenger & Stenger, P.C\\', \\'Stephen L. Bruce, P.C.\\', \\'Stephens and Michaels Associates, Inc.\\', \\'Sterling Infosystems, Inc.\\', \\'Sterling Jewelers Inc.\\', \\'Sterne Agee Group, Inc\\', \\'Stillman Law Office\\', \\'Stonegate Mortgage Corporation\\', \\'Stoneleigh Recovery Associates, LLC\\', \\'Streamline Recovery Inc\\', \\'Stuart-Lippman and Associates, Inc\\', \\'Student Assistance Foundation\\', \\'Student Loan Finance Corporation\\', \\'Student Zoom, LLC\\', \\'Suburban Credit Corporation\\', \\'Sullivan Asset Management, LLC\\', \\'Summit Financial Corp\\', \\'Summit Funding, Inc.\\', \\'Summit Mortgage Corporation (Minnesota)\\', \\'Sun Loan Company\\', \\'Sun West Mortgage Company, Inc.\\', \\'SunTrust Bank\\', \\'Sunrise Credit Services Inc.\\', \\'Superior Adjustment, Inc.\\', \\'Supreme Lending\\', \\'Susquehanna Bank\\', \\'Suttell & Hammer P.S.\\', \\'Synergetic Communication Inc\\', \\'Synerprise Consulting Services, Inc.\\', \\'Synovus Bank\\', \\'Systematic National Collection, Inc.\\', \\'T.D. Service Financial Corporation\\', \\'TCF National Bank\\', \\'TD Bank\\', \\'TFC Credit Corporation\\', \\'TMX Finance LLC\\', \\'TSC Accounts Receivable Solutions\\', \\'TSG Collections, LLC\\', \\'Tate and Kirlin Assoc\\', \\'Tebo Financial Services, Inc.\\', \\'TekCollect Inc.\\', \\'Tenet HealthCare Corporation\\', \\'Terrill Outsourcing Group\\', \\'TexCap Financial, LLC\\', \\'Texas Guaranteed\\', \\'Texas Higher Education Coordinating Board\\', \\'The Affiliated Group, Inc\\', \\'The Best Service Co.,Inc\\', \\'The Bureaus, Inc.\\', \\'The CBE Group, Inc.\\', \\'The CMI Group, Inc.\\', \\'The Collection Connection\\', \\'The Genesis Group, Inc.\\', \\'The Huntington National Bank\\', \\'The Law Firm of Allan C. Smith\\', \\'The Law Office of Kevin Z. Shine, PLLC\\', \\'The Law Offices of Barry J. Gammons, PLLC\\', \\'The Law Offices of Gerald E Moore & Associates, PC\\', \\'The Law Offices of Gregory Alexandrides, LLC\\', \\'The Law Offices of Kenosian & Miele, LLP\\', \\'The Law Offices of Mitchell D. Bluhm & Associates\\', \\'The Leviton Law Firm, Ltd.\\', \\'The McHughes Law Firm, LLC\\', \\'The Nguyen Law Firm, PLC\\', \\'The Northern Trust Company\\', \\'The Phoenix Recovery Group\\', \\'The PrivateBank and Trust Company\\', \\'The Receivable Management Services Corporation\\', \\'The Regional Adjustment Bureau, Incorporated\\', \\'The Star Financial\\', \\'The TRAF Group\\', \\'The Thomas Agency, Inc.\\', \\'The Westmoore Group, LLC\\', \\'The Wilber Law Firm, P.C.\\', \\'Third Federal Savings & Loan\\', \\'Thomas & Thomas Attorneys and Counselors at Law, LLC\\', \\'Thomas, King & Associates\\', \\'Thunderbird Collection Specialists, Inc.\\', \\'Tidewater Finance Company\\', \\'Todd, Bremer & Lawson, Inc.\\', \\'Toll Brothers Inc.\\', \\'Tormey Bewley Corporation\\', \\'Torres Credit Services, Inc.\\', \\'Total Card, Inc.\\', \\'Total Customer Service, Inc.\\', \\'Total Finance AC, LLC\\', \\'Tower Loan\\', \\'Town Financial Corporation\\', \\'Toyota Motor Credit Corporation\\', \\'Trademark Management Solutions, LLC.\\', \\'TransUnion\\', \\'Transcontinental Credit & Collection Corp\\', \\'Transfinancial Companies, Inc\\', \\'Transworld Systems Inc.\\', \\'Tri-Counties Accounts Adjustment Bureau\\', \\'Tri-State Adjustments, Inc.\\', \\'Triad Financial Services, Inc.\\', \\'Trident Asset Management, L.L.C.\\', \\'Trinity Financial Services, LLC\\', \\'Triple AC Resolutions\\', \\'Tritium Card Services, Inc.\\', \\'Triton Management Group, Inc\\', \\'Trojan Professional Services, Inc.\\', \\'TruHome Solutions, LLC\\', \\'TrueAccord Corp.\\', \\'Trust Financial LLC\\', \\'Trustmark Corporation\\', \\'Tuition Options LLC\\', \\'Tulsa Adjustment Bureau\\', \\'Turning Point Solutions LLC\\', \\'U.S. Auto Credit Corporation\\', \\'U.S. Bancorp\\', \\'U.S. Collections West, Inc.\\', \\'UBS Bank\\', \\'ULRS, Inc.\\', \\'UMB Bank\\', \\'UNIFOUR FINANCIAL SERVICES, LLC\\', \\'UNITED AUTO ACCEPTANCE\\', \\'URS Holdings LLC\\', \\'USA CASH SERVICES MANAGEMENT, INC.\\', \\'USA Discounters, Ltd.\\', \\'USAA Savings\\', \\'USCB Corporation\\', \\'USCB, INC.\\', \\'Umpqua Holdings Corporation\\', \\'Unified Global Group\\', \\'Unifin Inc.\\', \\'Union Bank\\', \\'Unique Management Services, Inc\\', \\'United Acceptance, Inc\\', \\'United Accounts, Inc.\\', \\'United Collection Bureau\\', \\'United Collection Bureau, Inc.\\', \\'United Collection Service Inc\\', \\'United Consumers Inc\\', \\'United Debt Holdings, LLC\\', \\'United Guaranty\\', \\'United PanAm Financial Corp.\\', \\'United Recovery Group, LLC\\', \\'United Recovery Solutions\\', \\'United Recovery Systems, LP\\', \\'United Recovery Worldwide LLC\\', \\'United Resource Systems, Inc\\', \\'United Revenue Corporation\\', \\'United Security Financial Corp\\', \\'United Shore Financial Services, LLC\\', \\'United Student Aid (USA) Funds\\', \\'Universal Acceptance Corporation\\', \\'Universal Account Servicing, LLC\\', \\'Universal Credit Services, Inc\\', \\'Universal Fidelity LP\\', \\'Universal Technical Institute, Inc.\\', \\'University Lending Group, LLC\\', \\'Unlimited Progress Corp\\', \\'Uptain Group, Inc.\\', \\'Urban Financial of America, LLC\\', \\'VHDA\\', \\'VW Credit, Inc\\', \\'Valarity, LLC\\', \\'Valentine and Kebartas, Inc.\\', \\'Valley Collection Service, LLC\\', \\'Valley National Bank\\', \\'Van Ru Credit Corporation\\', \\'Vanderbilt Mortgage & Finance\\', \\'Vantage Sourcing, LLC\\', \\'Veldos, LLC\\', \\'Velocity Portfolio Group\\', \\'Vengroff Williams, Inc\\', \\'VeriCore, LLC\\', \\'Veripro Solutions Inc.\\', \\'Vermont Student Assistance Corporation\\', \\'Viamericas\\', \\'Victorian Finance, LLC\\', \\'Viking Client Services, Inc.\\', \\'Village Capital and Investment, LLC\\', \\'Virtuoso Sourcing Group, LLC.\\', \\'Vision Financial Corp.\\', \\'Vital Solutions, Inc.\\', \\'W.J. Bradley Mortgage\\', \\'WAKEFIELD & ASSOCIATES, INC.\\', \\'WESTERN CREDIT & COLLECTION SERVICE, INC.\\', \\'WINN LAW GROUP, APC\\', \\'Wakpamni Lake Community Corporation\\', \\'Walter Lee & Associates, LLC\\', \\'Washington Federal\\', \\'Watertown Credit Bureau Inc\\', \\'We Collect Inc\\', \\'Webster Bank\\', \\'Weinstein & Riley, P.S.\\', \\'Wellmont Health System\\', \\'Wells Fargo\\', \\'Weltman, Weinberg & Reis\\', \\'West Corporation\\', \\'WestStar Mortgage Inc.\\', \\'Western Control Services, Inc.\\', \\'Western Union\\', \\'Western-Shamrock Corporation\\', \\'Westgate Arbitration INC\\', \\'Westlake Services, LLC\\', \\'Weststar Mortgage Corporation\\', \\'Wetsch, Abbott & Osborn, PLC\\', \\'Wexford & James LLC\\', \\'Wheel City Motors East, Inc.\\', \\'Wheels Financial Group, LLC\\', \\'Whitney Bank\\', \\'Wholesale Capital Corporation\\', \\'Wilber and Associates, P.C.\\', \\'Williams & Fudge, Inc\\', \\'Williams, Alexander & Assocaites, Inc\\', \\'Windham Professionals\\', \\'Wolfe Financial, Inc.\\', \\'Works & Lentz of Tulsa, Inc.\\', \\'World Acceptance Corporation\\', \\'World Omni Financial Corp.\\', \\'World Recovery Service, LLC\\', \\'Worth Finance Corporation\\', \\'Wright & Lerch Attorneys At Law\\', \\'Wyndham Capital Mortgage, Inc.\\', \\'Xoom\\', \\'ZOA, LLC\\', \\'Zarvad III S.A.\\', \\'Zenith Financial Network Inc\\', \\'ZestFinance\\', \\'Zions Bancorporation\\', \\'Zwicker & Associates\\', \\'iQuantified Management Services, LLC\\']'\n"
     ]
    },
    {
     "name": "stdout",
     "output_type": "stream",
     "text": [
      "24 Asset Management Corp\n",
      "\u001b[1m1/1\u001b[0m \u001b[32m━━━━━━━━━━━━━━━━━━━━\u001b[0m\u001b[37m\u001b[0m \u001b[1m0s\u001b[0m 27ms/step\n",
      "\u001b[1m1/1\u001b[0m \u001b[32m━━━━━━━━━━━━━━━━━━━━\u001b[0m\u001b[37m\u001b[0m \u001b[1m0s\u001b[0m 27ms/step\n"
     ]
    }
   ],
   "source": [
    "iface = gr.Interface(\n",
    "    fn=predict_dispute,\n",
    "    inputs=[\n",
    "        gr.Dropdown(choices=product_encoder.classes_.tolist(), value='Unknown or not specified', label=\"Product\"),\n",
    "        gr.Dropdown(choices=sub_product_encoder.classes_.tolist(), value='Unknown or not specified', label=\"Sub-product\"),\n",
    "        gr.Dropdown(choices=Issue_enc.classes_.tolist(), value='Unknown or not specified', label=\"Issue\"),\n",
    "        gr.Dropdown(choices=sub_Issue_enc.classes_.tolist(), value='Unknown or not specified', label=\"Sub-issue\"),\n",
    "        gr.Dropdown(choices=State_enc.classes_.tolist(), value='Unknown or not specified', label=\"State\"),\n",
    "    \n",
    "        gr.Dropdown(choices=Company_response_enc.classes_.tolist(), value='Unknown or not specified', label=\"Company response\"),\n",
    "        \n",
    "        gr.Dropdown(choices=[\"Yes\", \"No\", None], value=None, label=\"Timely response?\"),\n",
    "        gr.Dropdown(choices=Company_enc.classes_.tolist(), value='Unknown or not specified', label=\"Company\"),\n",
    "        \n",
    "        gr.Dropdown(choices=week_enc.classes_.tolist(),  label=\"weekday\")\n",
    "    ],\n",
    "    outputs=\"json\",\n",
    "    title=\"Predicción Timely\",\n",
    "    description=\"Introduce los parámetros para obtener la predicción.\"\n",
    ")\n",
    "if __name__ == \"__main__\":\n",
    "    iface.launch()"
   ]
  },
  {
   "cell_type": "markdown",
   "id": "111329a1",
   "metadata": {},
   "source": []
  },
  {
   "cell_type": "code",
   "execution_count": 16,
   "id": "3a733402",
   "metadata": {},
   "outputs": [
    {
     "data": {
      "text/plain": [
       "'False '"
      ]
     },
     "execution_count": 16,
     "metadata": {},
     "output_type": "execute_result"
    },
    {
     "name": "stdout",
     "output_type": "stream",
     "text": [
      "24 Asset Management Corp\n"
     ]
    }
   ],
   "source": [
    "\"False \""
   ]
  }
 ],
 "metadata": {
  "kernelspec": {
   "display_name": "projecto",
   "language": "python",
   "name": "python3"
  },
  "language_info": {
   "codemirror_mode": {
    "name": "ipython",
    "version": 3
   },
   "file_extension": ".py",
   "mimetype": "text/x-python",
   "name": "python",
   "nbconvert_exporter": "python",
   "pygments_lexer": "ipython3",
   "version": "3.12.3"
  }
 },
 "nbformat": 4,
 "nbformat_minor": 5
}
