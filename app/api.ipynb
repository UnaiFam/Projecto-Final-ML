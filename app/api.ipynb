{
 "cells": [
  {
   "cell_type": "code",
   "execution_count": 2,
   "id": "4ffd63da",
   "metadata": {},
   "outputs": [],
   "source": [
    "# Aplicacion\n",
    "import pandas as pd\n",
    "import pickle\n",
    "import os\n",
    "os.chdir(\"../models\")\n",
    "\n"
   ]
  },
  {
   "cell_type": "code",
   "execution_count": 3,
   "id": "5e1ab7b3",
   "metadata": {},
   "outputs": [],
   "source": [
    "with open('modelo_timely_tree.pkl', 'rb') as f:\n",
    "    modelo_timely = pickle.load(f)"
   ]
  },
  {
   "cell_type": "code",
   "execution_count": 4,
   "id": "57a87bdb",
   "metadata": {},
   "outputs": [],
   "source": [
    "with open('modelo_dispute_knn.pkl', 'rb') as f:\n",
    "    modelo_dispute = pickle.load(f)"
   ]
  },
  {
   "cell_type": "code",
   "execution_count": 5,
   "id": "2afe6fb7",
   "metadata": {},
   "outputs": [
    {
     "name": "stderr",
     "output_type": "stream",
     "text": [
      "c:\\Users\\unaif\\anaconda3\\envs\\projecto\\Lib\\site-packages\\sklearn\\preprocessing\\_label.py:93: DataConversionWarning: A column-vector y was passed when a 1d array was expected. Please change the shape of y to (n_samples, ), for example using ravel().\n",
      "  y = column_or_1d(y, warn=True)\n",
      "c:\\Users\\unaif\\anaconda3\\envs\\projecto\\Lib\\site-packages\\sklearn\\preprocessing\\_label.py:93: DataConversionWarning: A column-vector y was passed when a 1d array was expected. Please change the shape of y to (n_samples, ), for example using ravel().\n",
      "  y = column_or_1d(y, warn=True)\n",
      "c:\\Users\\unaif\\anaconda3\\envs\\projecto\\Lib\\site-packages\\sklearn\\preprocessing\\_label.py:93: DataConversionWarning: A column-vector y was passed when a 1d array was expected. Please change the shape of y to (n_samples, ), for example using ravel().\n",
      "  y = column_or_1d(y, warn=True)\n",
      "c:\\Users\\unaif\\anaconda3\\envs\\projecto\\Lib\\site-packages\\sklearn\\preprocessing\\_label.py:93: DataConversionWarning: A column-vector y was passed when a 1d array was expected. Please change the shape of y to (n_samples, ), for example using ravel().\n",
      "  y = column_or_1d(y, warn=True)\n",
      "c:\\Users\\unaif\\anaconda3\\envs\\projecto\\Lib\\site-packages\\sklearn\\preprocessing\\_label.py:93: DataConversionWarning: A column-vector y was passed when a 1d array was expected. Please change the shape of y to (n_samples, ), for example using ravel().\n",
      "  y = column_or_1d(y, warn=True)\n",
      "c:\\Users\\unaif\\anaconda3\\envs\\projecto\\Lib\\site-packages\\sklearn\\preprocessing\\_label.py:93: DataConversionWarning: A column-vector y was passed when a 1d array was expected. Please change the shape of y to (n_samples, ), for example using ravel().\n",
      "  y = column_or_1d(y, warn=True)\n",
      "c:\\Users\\unaif\\anaconda3\\envs\\projecto\\Lib\\site-packages\\sklearn\\preprocessing\\_label.py:93: DataConversionWarning: A column-vector y was passed when a 1d array was expected. Please change the shape of y to (n_samples, ), for example using ravel().\n",
      "  y = column_or_1d(y, warn=True)\n",
      "c:\\Users\\unaif\\anaconda3\\envs\\projecto\\Lib\\site-packages\\sklearn\\preprocessing\\_label.py:93: DataConversionWarning: A column-vector y was passed when a 1d array was expected. Please change the shape of y to (n_samples, ), for example using ravel().\n",
      "  y = column_or_1d(y, warn=True)\n",
      "c:\\Users\\unaif\\anaconda3\\envs\\projecto\\Lib\\site-packages\\sklearn\\preprocessing\\_label.py:93: DataConversionWarning: A column-vector y was passed when a 1d array was expected. Please change the shape of y to (n_samples, ), for example using ravel().\n",
      "  y = column_or_1d(y, warn=True)\n"
     ]
    }
   ],
   "source": [
    "os.chdir(\"../src\")\n",
    "from tool_preprocess import Time_enco"
   ]
  },
  {
   "cell_type": "code",
   "execution_count": 6,
   "id": "bb68ec83",
   "metadata": {},
   "outputs": [
    {
     "ename": "SyntaxError",
     "evalue": "invalid syntax. Perhaps you forgot a comma? (1706630513.py, line 36)",
     "output_type": "error",
     "traceback": [
      "  \u001b[36mCell\u001b[39m\u001b[36m \u001b[39m\u001b[32mIn[6]\u001b[39m\u001b[32m, line 36\u001b[39m\n\u001b[31m    \u001b[39m\u001b[31m\"ZIP code\":[ZIP code]\u001b[39m\n                ^\n\u001b[31mSyntaxError\u001b[39m\u001b[31m:\u001b[39m invalid syntax. Perhaps you forgot a comma?\n"
     ]
    }
   ],
   "source": [
    "def predict_timely (    \n",
    "\n",
    "    \n",
    "    Issue: int,\n",
    "    Companyresponse: int,\n",
    "    Product: int=7,\n",
    "    Subproduct: int=39,\n",
    "    Subissue: int = 39,\n",
    "    State: int = 52, Zip:int=000\n",
    "\n",
    "\n",
    "\n",
    "\n",
    "):\n",
    "    \"\"\"\n",
    "    \n",
    "    \n",
    "    State por defecto Unknown\n",
    "    Subproduct por defecto Unknown or \n",
    "    Subissue por defecto Unknown or \n",
    "Product por defecto other financia services\n",
    "\n",
    "    Yes=1, No= 0\n",
    "\n",
    "\n",
    "    \"\"\"\n",
    "\n",
    "    features=pd.DataFrame(\n",
    "        {\n",
    "            \"Product\":[Product],\n",
    "            \"Sub-product\": [Subproduct],\t\n",
    "            \"Issue\":[Issue],\t\n",
    "            \"Sub-issue\":[Subissue],\t\n",
    "            \"State\":[State],\t\n",
    "            \"Company response\":[Companyresponse],\n",
    "            \"ZIP code\":[ZIP code]\n",
    "\n",
    "}\n",
    "    )\n",
    "    \n",
    "\n",
    "\n",
    "    pred=modelo_timely.predict(features)[0]\n",
    "    prob=modelo_timely.predict_proba(features)\n",
    "    \n",
    "    return {\"response01\": pred, \"probability\":prob}"
   ]
  },
  {
   "cell_type": "code",
   "execution_count": null,
   "id": "b4e58445",
   "metadata": {},
   "outputs": [
    {
     "data": {
      "text/plain": [
       "np.int64(1)"
      ]
     },
     "execution_count": 117,
     "metadata": {},
     "output_type": "execute_result"
    }
   ],
   "source": [
    "predict_timely(1,3,5,1,1)['response01']"
   ]
  },
  {
   "cell_type": "code",
   "execution_count": null,
   "id": "76e0c43e",
   "metadata": {},
   "outputs": [],
   "source": [
    "from tool_preprocess import sub_product_encoder"
   ]
  },
  {
   "cell_type": "code",
   "execution_count": null,
   "id": "b0e7bd62",
   "metadata": {},
   "outputs": [
    {
     "name": "stderr",
     "output_type": "stream",
     "text": [
      "c:\\Users\\unaif\\anaconda3\\envs\\projecto\\Lib\\site-packages\\sklearn\\preprocessing\\_label.py:129: DataConversionWarning: A column-vector y was passed when a 1d array was expected. Please change the shape of y to (n_samples, ), for example using ravel().\n",
      "  y = column_or_1d(y, dtype=self.classes_.dtype, warn=True)\n"
     ]
    },
    {
     "data": {
      "text/plain": [
       "array([39, 39, 39])"
      ]
     },
     "execution_count": 121,
     "metadata": {},
     "output_type": "execute_result"
    }
   ],
   "source": [
    "sub_product_encoder.transform(pd.DataFrame(['Unknown or not specified', 'Unknown or not specified','Unknown or not specified'\n",
    "      ]))"
   ]
  },
  {
   "cell_type": "code",
   "execution_count": null,
   "id": "c524211f",
   "metadata": {},
   "outputs": [
    {
     "data": {
      "text/plain": [
       "array(['ZIP code', 'Timely response?', 'Product_Bank account or service',\n",
       "       'Product_Consumer loan', 'Product_Credit card',\n",
       "       'Product_Credit reporting', 'Product_Debt collection',\n",
       "       'Product_Money transfers', 'Product_Mortgage',\n",
       "       'Product_Other financial service', 'Product_Payday loan',\n",
       "       'Product_Prepaid card', 'Product_Student loan',\n",
       "       'Sub-product_(CD) Certificate of deposit', 'Sub-product_Auto',\n",
       "       'Sub-product_Cashing a check without an account',\n",
       "       'Sub-product_Check cashing', 'Sub-product_Checking account',\n",
       "       'Sub-product_Conventional adjustable mortgage (ARM)',\n",
       "       'Sub-product_Conventional fixed mortgage',\n",
       "       'Sub-product_Credit card',\n",
       "       'Sub-product_Domestic (US) money transfer',\n",
       "       'Sub-product_FHA mortgage', 'Sub-product_Federal student loan',\n",
       "       'Sub-product_Foreign currency exchange',\n",
       "       'Sub-product_General purpose card',\n",
       "       'Sub-product_Gift or merchant card',\n",
       "       'Sub-product_Government benefit payment card',\n",
       "       'Sub-product_Home equity loan or line of credit',\n",
       "       'Sub-product_ID prepaid card', 'Sub-product_Installment loan',\n",
       "       'Sub-product_International money transfer', 'Sub-product_Medical',\n",
       "       'Sub-product_Mobile wallet', 'Sub-product_Mortgage',\n",
       "       'Sub-product_Non-federal student loan',\n",
       "       'Sub-product_Other (phone, health club, etc.)',\n",
       "       'Sub-product_Other bank product/service',\n",
       "       'Sub-product_Other mortgage', 'Sub-product_Pawn loan',\n",
       "       'Sub-product_Payday loan', 'Sub-product_Personal line of credit',\n",
       "       'Sub-product_Reverse mortgage', 'Sub-product_Savings account',\n",
       "       'Sub-product_Title loan',\n",
       "       \"Sub-product_Traveler's/Cashier's checks\",\n",
       "       'Sub-product_Unknown or not specified', 'Sub-product_VA mortgage',\n",
       "       'Sub-product_Vehicle lease', 'Sub-product_Vehicle loan',\n",
       "       'Issue_APR or interest rate',\n",
       "       'Issue_Account opening, closing, or management',\n",
       "       'Issue_Account terms and changes', 'Issue_Adding money',\n",
       "       'Issue_Advertising and marketing',\n",
       "       'Issue_Advertising, marketing or disclosures',\n",
       "       'Issue_Application processing delay',\n",
       "       'Issue_Application, originator, mortgage broker',\n",
       "       'Issue_Applied for loan/did not receive money',\n",
       "       'Issue_Arbitration', 'Issue_Balance transfer',\n",
       "       'Issue_Balance transfer fee', 'Issue_Bankruptcy',\n",
       "       'Issue_Billing disputes', 'Issue_Billing statement',\n",
       "       \"Issue_Can't contact lender\", \"Issue_Can't repay my loan\",\n",
       "       \"Issue_Can't stop charges to bank account\", 'Issue_Cash advance',\n",
       "       'Issue_Cash advance fee',\n",
       "       'Issue_Charged bank acct wrong day or amt',\n",
       "       \"Issue_Charged fees or interest I didn't expect\",\n",
       "       'Issue_Closing/Cancelling account', 'Issue_Communication tactics',\n",
       "       \"Issue_Cont'd attempts collect debt not owed\",\n",
       "       'Issue_Convenience checks',\n",
       "       'Issue_Credit card protection / Debt protection',\n",
       "       'Issue_Credit decision / Underwriting',\n",
       "       'Issue_Credit determination',\n",
       "       'Issue_Credit line increase/decrease',\n",
       "       'Issue_Credit monitoring or identity protection',\n",
       "       \"Issue_Credit reporting company's investigation\",\n",
       "       'Issue_Customer service / Customer relations',\n",
       "       'Issue_Customer service/Customer relations',\n",
       "       'Issue_Dealing with my lender or servicer',\n",
       "       'Issue_Delinquent account', 'Issue_Deposits and withdrawals',\n",
       "       'Issue_Disclosure verification of debt',\n",
       "       'Issue_False statements or representation', 'Issue_Fees',\n",
       "       'Issue_Fraud or scam', 'Issue_Getting a loan',\n",
       "       'Issue_Identity theft / Fraud / Embezzlement',\n",
       "       'Issue_Improper contact or sharing of info',\n",
       "       'Issue_Improper use of my credit report',\n",
       "       'Issue_Incorrect exchange rate',\n",
       "       'Issue_Incorrect information on credit report',\n",
       "       'Issue_Incorrect/missing disclosures or info', 'Issue_Late fee',\n",
       "       'Issue_Loan modification,collection,foreclosure',\n",
       "       'Issue_Loan servicing, payments, escrow account',\n",
       "       'Issue_Making/receiving payments, sending money',\n",
       "       'Issue_Managing the line of credit',\n",
       "       'Issue_Managing the loan or lease',\n",
       "       'Issue_Managing, opening, or closing account',\n",
       "       'Issue_Money was not available when promised', 'Issue_Other',\n",
       "       'Issue_Other fee', 'Issue_Other service issues',\n",
       "       'Issue_Other transaction issues', 'Issue_Overlimit fee',\n",
       "       'Issue_Payment to acct not credited', 'Issue_Payoff process',\n",
       "       'Issue_Privacy', 'Issue_Problems caused by my funds being low',\n",
       "       'Issue_Problems when you are unable to pay',\n",
       "       \"Issue_Received a loan I didn't apply for\", 'Issue_Rewards',\n",
       "       'Issue_Sale of account', 'Issue_Settlement process and costs',\n",
       "       'Issue_Shopping for a line of credit',\n",
       "       'Issue_Shopping for a loan or lease',\n",
       "       'Issue_Taking out the loan or lease',\n",
       "       'Issue_Taking/threatening an illegal action',\n",
       "       'Issue_Transaction issue',\n",
       "       'Issue_Unable to get credit report/credit score',\n",
       "       'Issue_Unauthorized transactions/trans. issues',\n",
       "       'Issue_Unsolicited issuance of credit card',\n",
       "       'Issue_Using a debit or ATM card',\n",
       "       'Issue_Wrong amount charged or received',\n",
       "       'Sub-issue_Account status', 'Sub-issue_Account terms',\n",
       "       'Sub-issue_Account terms and changes',\n",
       "       'Sub-issue_Attempted to collect wrong amount',\n",
       "       'Sub-issue_Attempted to/Collected exempt funds',\n",
       "       'Sub-issue_Billing dispute',\n",
       "       'Sub-issue_Called after sent written cease of comm',\n",
       "       'Sub-issue_Called outside of 8am-9pm',\n",
       "       'Sub-issue_Contacted employer after asked not to',\n",
       "       'Sub-issue_Contacted me after I asked not to',\n",
       "       'Sub-issue_Contacted me instead of my attorney',\n",
       "       'Sub-issue_Debt is not mine',\n",
       "       'Sub-issue_Debt resulted from identity theft',\n",
       "       'Sub-issue_Debt was discharged in bankruptcy',\n",
       "       'Sub-issue_Debt was paid', 'Sub-issue_Frequent or repeated calls',\n",
       "       'Sub-issue_Impersonated an attorney or official',\n",
       "       'Sub-issue_Inadequate help over the phone',\n",
       "       'Sub-issue_Indicated committed crime not paying',\n",
       "       \"Sub-issue_Indicated shouldn't respond to lawsuit\",\n",
       "       'Sub-issue_Information is not mine',\n",
       "       'Sub-issue_Investigation took too long',\n",
       "       'Sub-issue_No notice of investigation status/result',\n",
       "       'Sub-issue_Not disclosed as an attempt to collect',\n",
       "       'Sub-issue_Not given enough info to verify debt',\n",
       "       'Sub-issue_Personal information',\n",
       "       'Sub-issue_Problem cancelling or closing account',\n",
       "       'Sub-issue_Problem getting my free annual report',\n",
       "       'Sub-issue_Problem getting report or credit score',\n",
       "       'Sub-issue_Problem with fraud alerts',\n",
       "       'Sub-issue_Problem with statement of dispute',\n",
       "       'Sub-issue_Public record',\n",
       "       'Sub-issue_Received marketing offer after opted out',\n",
       "       'Sub-issue_Receiving unwanted marketing/advertising',\n",
       "       'Sub-issue_Reinserted previously deleted info',\n",
       "       'Sub-issue_Report improperly shared by CRC',\n",
       "       'Sub-issue_Report shared with employer w/o consent',\n",
       "       'Sub-issue_Right to dispute notice not received',\n",
       "       'Sub-issue_Seized/Attempted to seize property',\n",
       "       'Sub-issue_Sued w/o proper notification of suit',\n",
       "       \"Sub-issue_Sued where didn't live/sign for debt\",\n",
       "       'Sub-issue_Talked to a third party about my debt',\n",
       "       'Sub-issue_Threatened arrest/jail if do not pay',\n",
       "       'Sub-issue_Threatened to sue on too old debt',\n",
       "       'Sub-issue_Threatened to take legal action',\n",
       "       'Sub-issue_Unknown or not specified',\n",
       "       'Sub-issue_Used obscene/profane/abusive language',\n",
       "       'Company response_Closed',\n",
       "       'Company response_Closed with explanation',\n",
       "       'Company response_Closed with monetary relief',\n",
       "       'Company response_Closed with non-monetary relief', 'State_AE',\n",
       "       'State_AK', 'State_AL', 'State_AP', 'State_AR', 'State_AS',\n",
       "       'State_AZ', 'State_CA', 'State_CO', 'State_CT', 'State_DC',\n",
       "       'State_DE', 'State_FL', 'State_GA', 'State_HI', 'State_IA',\n",
       "       'State_ID', 'State_IL', 'State_IN', 'State_KS', 'State_KY',\n",
       "       'State_LA', 'State_MA', 'State_MD', 'State_ME', 'State_MI',\n",
       "       'State_MN', 'State_MO', 'State_MS', 'State_MT', 'State_NC',\n",
       "       'State_ND', 'State_NE', 'State_NH', 'State_NJ', 'State_NM',\n",
       "       'State_NV', 'State_NY', 'State_OH', 'State_OK', 'State_OR',\n",
       "       'State_PA', 'State_PR', 'State_PW', 'State_RI', 'State_SC',\n",
       "       'State_SD', 'State_TN', 'State_TX', 'State_UT', 'State_Unknown',\n",
       "       'State_VA', 'State_VI', 'State_VT', 'State_WA', 'State_WI',\n",
       "       'State_WV', 'State_WY'], dtype=object)"
      ]
     },
     "execution_count": 141,
     "metadata": {},
     "output_type": "execute_result"
    }
   ],
   "source": [
    "modelo_dispute.feature_names_in_"
   ]
  },
  {
   "cell_type": "code",
   "execution_count": null,
   "id": "a935ed08",
   "metadata": {},
   "outputs": [],
   "source": [
    "from tool_preprocess import preprocesing_function_onehot"
   ]
  },
  {
   "cell_type": "code",
   "execution_count": 7,
   "id": "a7158036",
   "metadata": {},
   "outputs": [
    {
     "data": {
      "text/html": [
       "<div>\n",
       "<style scoped>\n",
       "    .dataframe tbody tr th:only-of-type {\n",
       "        vertical-align: middle;\n",
       "    }\n",
       "\n",
       "    .dataframe tbody tr th {\n",
       "        vertical-align: top;\n",
       "    }\n",
       "\n",
       "    .dataframe thead th {\n",
       "        text-align: right;\n",
       "    }\n",
       "</style>\n",
       "<table border=\"1\" class=\"dataframe\">\n",
       "  <thead>\n",
       "    <tr style=\"text-align: right;\">\n",
       "      <th></th>\n",
       "      <th>Product</th>\n",
       "      <th>Sub-product</th>\n",
       "      <th>Issue</th>\n",
       "      <th>Sub-issue</th>\n",
       "      <th>State</th>\n",
       "      <th>Company response</th>\n",
       "      <th>Timely response?</th>\n",
       "      <th>ZIP code</th>\n",
       "    </tr>\n",
       "  </thead>\n",
       "  <tbody>\n",
       "    <tr>\n",
       "      <th>0</th>\n",
       "      <td>1</td>\n",
       "      <td>1</td>\n",
       "      <td>1</td>\n",
       "      <td>1</td>\n",
       "      <td>1</td>\n",
       "      <td>1</td>\n",
       "      <td>1</td>\n",
       "      <td>0</td>\n",
       "    </tr>\n",
       "  </tbody>\n",
       "</table>\n",
       "</div>"
      ],
      "text/plain": [
       "   Product  Sub-product  Issue  Sub-issue  State  Company response  \\\n",
       "0        1            1      1          1      1                 1   \n",
       "\n",
       "   Timely response?  ZIP code  \n",
       "0                 1         0  "
      ]
     },
     "execution_count": 7,
     "metadata": {},
     "output_type": "execute_result"
    }
   ],
   "source": [
    "features=pd.DataFrame({\n",
    "\n",
    "            \"Product\":[1],\n",
    "            \"Sub-product\": [1],\t\n",
    "            \"Issue\":[1],\t\n",
    "            \"Sub-issue\":[1],\t\n",
    "            \"State\":[1],\t\n",
    "            \"Company response\":[1],\n",
    "            \"Timely response?\": [1],\"ZIP code\":[000]\n",
    "\n",
    "})\n",
    "features"
   ]
  },
  {
   "cell_type": "code",
   "execution_count": 152,
   "id": "0f390a22",
   "metadata": {},
   "outputs": [
    {
     "name": "stderr",
     "output_type": "stream",
     "text": [
      "c:\\Users\\unaif\\OneDrive\\Documentos\\Documentos_Clase_Data\\PROYECTOS\\nombre_proyecto_final_ML\\Projecto-Final-ML\\src\\tool_preprocess_onehot.py:373: FutureWarning: A value is trying to be set on a copy of a DataFrame or Series through chained assignment using an inplace method.\n",
      "The behavior will change in pandas 3.0. This inplace method will never work because the intermediate object on which we are setting values always behaves as a copy.\n",
      "\n",
      "For example, when doing 'df[col].method(value, inplace=True)', try using 'df.method({col: value}, inplace=True)' or df[col] = df[col].method(value) instead, to perform the operation inplace on the original object.\n",
      "\n",
      "\n",
      "  df[\"ZIP code\"].fillna(000, inplace=True)\n",
      "c:\\Users\\unaif\\OneDrive\\Documentos\\Documentos_Clase_Data\\PROYECTOS\\nombre_proyecto_final_ML\\Projecto-Final-ML\\src\\tool_preprocess_onehot.py:376: FutureWarning: A value is trying to be set on a copy of a DataFrame or Series through chained assignment using an inplace method.\n",
      "The behavior will change in pandas 3.0. This inplace method will never work because the intermediate object on which we are setting values always behaves as a copy.\n",
      "\n",
      "For example, when doing 'df[col].method(value, inplace=True)', try using 'df.method({col: value}, inplace=True)' or df[col] = df[col].method(value) instead, to perform the operation inplace on the original object.\n",
      "\n",
      "\n",
      "  df[\"Issue\"].fillna(\"Unknown or not specified\", inplace=True)\n",
      "c:\\Users\\unaif\\OneDrive\\Documentos\\Documentos_Clase_Data\\PROYECTOS\\nombre_proyecto_final_ML\\Projecto-Final-ML\\src\\tool_preprocess_onehot.py:377: FutureWarning: A value is trying to be set on a copy of a DataFrame or Series through chained assignment using an inplace method.\n",
      "The behavior will change in pandas 3.0. This inplace method will never work because the intermediate object on which we are setting values always behaves as a copy.\n",
      "\n",
      "For example, when doing 'df[col].method(value, inplace=True)', try using 'df.method({col: value}, inplace=True)' or df[col] = df[col].method(value) instead, to perform the operation inplace on the original object.\n",
      "\n",
      "\n",
      "  df[\"Sub-issue\"].fillna(\"Unknown or not specified\", inplace=True)\n",
      "c:\\Users\\unaif\\OneDrive\\Documentos\\Documentos_Clase_Data\\PROYECTOS\\nombre_proyecto_final_ML\\Projecto-Final-ML\\src\\tool_preprocess_onehot.py:378: FutureWarning: A value is trying to be set on a copy of a DataFrame or Series through chained assignment using an inplace method.\n",
      "The behavior will change in pandas 3.0. This inplace method will never work because the intermediate object on which we are setting values always behaves as a copy.\n",
      "\n",
      "For example, when doing 'df[col].method(value, inplace=True)', try using 'df.method({col: value}, inplace=True)' or df[col] = df[col].method(value) instead, to perform the operation inplace on the original object.\n",
      "\n",
      "\n",
      "  df[\"Sub-product\"].fillna(\"Unknown or not specified\", inplace=True)\n",
      "c:\\Users\\unaif\\OneDrive\\Documentos\\Documentos_Clase_Data\\PROYECTOS\\nombre_proyecto_final_ML\\Projecto-Final-ML\\src\\tool_preprocess_onehot.py:379: FutureWarning: A value is trying to be set on a copy of a DataFrame or Series through chained assignment using an inplace method.\n",
      "The behavior will change in pandas 3.0. This inplace method will never work because the intermediate object on which we are setting values always behaves as a copy.\n",
      "\n",
      "For example, when doing 'df[col].method(value, inplace=True)', try using 'df.method({col: value}, inplace=True)' or df[col] = df[col].method(value) instead, to perform the operation inplace on the original object.\n",
      "\n",
      "\n",
      "  df[\"ZIP code\"].fillna(0, inplace=True)\n",
      "c:\\Users\\unaif\\OneDrive\\Documentos\\Documentos_Clase_Data\\PROYECTOS\\nombre_proyecto_final_ML\\Projecto-Final-ML\\src\\tool_preprocess_onehot.py:381: FutureWarning: A value is trying to be set on a copy of a DataFrame or Series through chained assignment using an inplace method.\n",
      "The behavior will change in pandas 3.0. This inplace method will never work because the intermediate object on which we are setting values always behaves as a copy.\n",
      "\n",
      "For example, when doing 'df[col].method(value, inplace=True)', try using 'df.method({col: value}, inplace=True)' or df[col] = df[col].method(value) instead, to perform the operation inplace on the original object.\n",
      "\n",
      "\n",
      "  df[\"Consumer disputed?\"].fillna(\"Unknown or not specified\", inplace=True)\n",
      "c:\\Users\\unaif\\OneDrive\\Documentos\\Documentos_Clase_Data\\PROYECTOS\\nombre_proyecto_final_ML\\Projecto-Final-ML\\src\\tool_preprocess_onehot.py:419: FutureWarning: A value is trying to be set on a copy of a DataFrame or Series through chained assignment using an inplace method.\n",
      "The behavior will change in pandas 3.0. This inplace method will never work because the intermediate object on which we are setting values always behaves as a copy.\n",
      "\n",
      "For example, when doing 'df[col].method(value, inplace=True)', try using 'df.method({col: value}, inplace=True)' or df[col] = df[col].method(value) instead, to perform the operation inplace on the original object.\n",
      "\n",
      "\n",
      "  df[\"Consumer disputed?\"].fillna(\"Dispute Unknown or not specified\", inplace=True)\n"
     ]
    },
    {
     "ename": "ValueError",
     "evalue": "y contains previously unseen labels: 1",
     "output_type": "error",
     "traceback": [
      "\u001b[31m---------------------------------------------------------------------------\u001b[39m",
      "\u001b[31mKeyError\u001b[39m                                  Traceback (most recent call last)",
      "\u001b[36mFile \u001b[39m\u001b[32mc:\\Users\\unaif\\anaconda3\\envs\\projecto\\Lib\\site-packages\\sklearn\\utils\\_encode.py:235\u001b[39m, in \u001b[36m_encode\u001b[39m\u001b[34m(values, uniques, check_unknown)\u001b[39m\n\u001b[32m    234\u001b[39m \u001b[38;5;28;01mtry\u001b[39;00m:\n\u001b[32m--> \u001b[39m\u001b[32m235\u001b[39m     \u001b[38;5;28;01mreturn\u001b[39;00m \u001b[43m_map_to_integer\u001b[49m\u001b[43m(\u001b[49m\u001b[43mvalues\u001b[49m\u001b[43m,\u001b[49m\u001b[43m \u001b[49m\u001b[43muniques\u001b[49m\u001b[43m)\u001b[49m\n\u001b[32m    236\u001b[39m \u001b[38;5;28;01mexcept\u001b[39;00m \u001b[38;5;167;01mKeyError\u001b[39;00m \u001b[38;5;28;01mas\u001b[39;00m e:\n",
      "\u001b[36mFile \u001b[39m\u001b[32mc:\\Users\\unaif\\anaconda3\\envs\\projecto\\Lib\\site-packages\\sklearn\\utils\\_encode.py:174\u001b[39m, in \u001b[36m_map_to_integer\u001b[39m\u001b[34m(values, uniques)\u001b[39m\n\u001b[32m    173\u001b[39m table = _nandict({val: i \u001b[38;5;28;01mfor\u001b[39;00m i, val \u001b[38;5;129;01min\u001b[39;00m \u001b[38;5;28menumerate\u001b[39m(uniques)})\n\u001b[32m--> \u001b[39m\u001b[32m174\u001b[39m \u001b[38;5;28;01mreturn\u001b[39;00m xp.asarray([\u001b[43mtable\u001b[49m\u001b[43m[\u001b[49m\u001b[43mv\u001b[49m\u001b[43m]\u001b[49m \u001b[38;5;28;01mfor\u001b[39;00m v \u001b[38;5;129;01min\u001b[39;00m values], device=device(values))\n",
      "\u001b[36mFile \u001b[39m\u001b[32mc:\\Users\\unaif\\anaconda3\\envs\\projecto\\Lib\\site-packages\\sklearn\\utils\\_encode.py:167\u001b[39m, in \u001b[36m_nandict.__missing__\u001b[39m\u001b[34m(self, key)\u001b[39m\n\u001b[32m    166\u001b[39m     \u001b[38;5;28;01mreturn\u001b[39;00m \u001b[38;5;28mself\u001b[39m.nan_value\n\u001b[32m--> \u001b[39m\u001b[32m167\u001b[39m \u001b[38;5;28;01mraise\u001b[39;00m \u001b[38;5;167;01mKeyError\u001b[39;00m(key)\n",
      "\u001b[31mKeyError\u001b[39m: 1",
      "\nDuring handling of the above exception, another exception occurred:\n",
      "\u001b[31mValueError\u001b[39m                                Traceback (most recent call last)",
      "\u001b[36mCell\u001b[39m\u001b[36m \u001b[39m\u001b[32mIn[152]\u001b[39m\u001b[32m, line 1\u001b[39m\n\u001b[32m----> \u001b[39m\u001b[32m1\u001b[39m \u001b[43mpreprocesing_function_onehot\u001b[49m\u001b[43m(\u001b[49m\u001b[43mfeatures\u001b[49m\u001b[43m)\u001b[49m\n",
      "\u001b[36mFile \u001b[39m\u001b[32mc:\\Users\\unaif\\OneDrive\\Documentos\\Documentos_Clase_Data\\PROYECTOS\\nombre_proyecto_final_ML\\Projecto-Final-ML\\src\\tool_preprocess_onehot.py:420\u001b[39m, in \u001b[36mpreprocesing_function_onehot\u001b[39m\u001b[34m(df_not)\u001b[39m\n\u001b[32m    417\u001b[39m df[\u001b[33m'\u001b[39m\u001b[33mSub-issue\u001b[39m\u001b[33m'\u001b[39m]=df[\u001b[33m'\u001b[39m\u001b[33mSub-issue\u001b[39m\u001b[33m'\u001b[39m].fillna(\u001b[33m\"\u001b[39m\u001b[33mSub-issue Unknown or not specified\u001b[39m\u001b[33m\"\u001b[39m)\n\u001b[32m    419\u001b[39m df[\u001b[33m\"\u001b[39m\u001b[33mConsumer disputed?\u001b[39m\u001b[33m\"\u001b[39m].fillna(\u001b[33m\"\u001b[39m\u001b[33mDispute Unknown or not specified\u001b[39m\u001b[33m\"\u001b[39m, inplace=\u001b[38;5;28;01mTrue\u001b[39;00m)\n\u001b[32m--> \u001b[39m\u001b[32m420\u001b[39m df[\u001b[33m'\u001b[39m\u001b[33mTimely response?\u001b[39m\u001b[33m'\u001b[39m]=\u001b[43mTime_enco\u001b[49m\u001b[43m.\u001b[49m\u001b[43mtransform\u001b[49m\u001b[43m(\u001b[49m\u001b[43mdf\u001b[49m\u001b[43m[\u001b[49m\u001b[33;43m'\u001b[39;49m\u001b[33;43mTimely response?\u001b[39;49m\u001b[33;43m'\u001b[39;49m\u001b[43m]\u001b[49m\u001b[43m \u001b[49m\u001b[43m)\u001b[49m\n\u001b[32m    427\u001b[39m df[\u001b[33m'\u001b[39m\u001b[33mConsumer disputed?\u001b[39m\u001b[33m'\u001b[39m]=Dispute_enco.transform(df[\u001b[33m'\u001b[39m\u001b[33mConsumer disputed?\u001b[39m\u001b[33m'\u001b[39m] )\n\u001b[32m    429\u001b[39m df = pd.get_dummies(df, columns=[\u001b[33m'\u001b[39m\u001b[33mProduct\u001b[39m\u001b[33m'\u001b[39m,\u001b[33m'\u001b[39m\u001b[33mSub-product\u001b[39m\u001b[33m'\u001b[39m,  \u001b[33m'\u001b[39m\u001b[33mIssue\u001b[39m\u001b[33m'\u001b[39m, \u001b[33m'\u001b[39m\u001b[33mSub-issue\u001b[39m\u001b[33m'\u001b[39m, \u001b[33m\"\u001b[39m\u001b[33mCompany response\u001b[39m\u001b[33m\"\u001b[39m, \u001b[33m\"\u001b[39m\u001b[33mState\u001b[39m\u001b[33m\"\u001b[39m], drop_first=\u001b[38;5;28;01mFalse\u001b[39;00m)\n",
      "\u001b[36mFile \u001b[39m\u001b[32mc:\\Users\\unaif\\anaconda3\\envs\\projecto\\Lib\\site-packages\\sklearn\\preprocessing\\_label.py:134\u001b[39m, in \u001b[36mLabelEncoder.transform\u001b[39m\u001b[34m(self, y)\u001b[39m\n\u001b[32m    131\u001b[39m \u001b[38;5;28;01mif\u001b[39;00m _num_samples(y) == \u001b[32m0\u001b[39m:\n\u001b[32m    132\u001b[39m     \u001b[38;5;28;01mreturn\u001b[39;00m xp.asarray([])\n\u001b[32m--> \u001b[39m\u001b[32m134\u001b[39m \u001b[38;5;28;01mreturn\u001b[39;00m \u001b[43m_encode\u001b[49m\u001b[43m(\u001b[49m\u001b[43my\u001b[49m\u001b[43m,\u001b[49m\u001b[43m \u001b[49m\u001b[43muniques\u001b[49m\u001b[43m=\u001b[49m\u001b[38;5;28;43mself\u001b[39;49m\u001b[43m.\u001b[49m\u001b[43mclasses_\u001b[49m\u001b[43m)\u001b[49m\n",
      "\u001b[36mFile \u001b[39m\u001b[32mc:\\Users\\unaif\\anaconda3\\envs\\projecto\\Lib\\site-packages\\sklearn\\utils\\_encode.py:237\u001b[39m, in \u001b[36m_encode\u001b[39m\u001b[34m(values, uniques, check_unknown)\u001b[39m\n\u001b[32m    235\u001b[39m         \u001b[38;5;28;01mreturn\u001b[39;00m _map_to_integer(values, uniques)\n\u001b[32m    236\u001b[39m     \u001b[38;5;28;01mexcept\u001b[39;00m \u001b[38;5;167;01mKeyError\u001b[39;00m \u001b[38;5;28;01mas\u001b[39;00m e:\n\u001b[32m--> \u001b[39m\u001b[32m237\u001b[39m         \u001b[38;5;28;01mraise\u001b[39;00m \u001b[38;5;167;01mValueError\u001b[39;00m(\u001b[33mf\u001b[39m\u001b[33m\"\u001b[39m\u001b[33my contains previously unseen labels: \u001b[39m\u001b[38;5;132;01m{\u001b[39;00m\u001b[38;5;28mstr\u001b[39m(e)\u001b[38;5;132;01m}\u001b[39;00m\u001b[33m\"\u001b[39m)\n\u001b[32m    238\u001b[39m \u001b[38;5;28;01melse\u001b[39;00m:\n\u001b[32m    239\u001b[39m     \u001b[38;5;28;01mif\u001b[39;00m check_unknown:\n",
      "\u001b[31mValueError\u001b[39m: y contains previously unseen labels: 1"
     ]
    }
   ],
   "source": [
    "preprocesing_function_onehot(features)"
   ]
  },
  {
   "cell_type": "code",
   "execution_count": null,
   "id": "3f5df0b4",
   "metadata": {},
   "outputs": [],
   "source": [
    "def predict_dispute (\n",
    "    Product: int,\n",
    "    Subproduct: int,\n",
    "    Issue: int,\n",
    "    Companyresponse: int,\n",
    "    timely: int=None,\n",
    "    Subissue: int = 39,\n",
    "    State: int = 52\n",
    "):\n",
    "    \"\"\"State por defecto Unknown\n",
    "    Subissue por defecto Unknown or \n",
    "    Yes=2, No= 0, duda =1\n",
    "    \n",
    "    \"\"\"\n",
    "    \n",
    "    if timely is None:\n",
    "        timely = int(predict_timely(Issue=Issue,Subissue=Subissue , Companyresponse=Companyresponse, Product=Product, Subproduct=Subproduct , State=State )[\"response01\"])\n",
    "    print(timely)\n",
    "\n",
    "\n",
    "    \n",
    "    features=pd.DataFrame({\n",
    "\n",
    "            \"Product\":[Product],\n",
    "            \"Sub-product\": [Subproduct],\t\n",
    "            \"Issue\":[Issue],\t\n",
    "            \"Sub-issue\":[Subissue],\t\n",
    "            \"State\":[State],\t\n",
    "            \"Company response\":[Companyresponse],\n",
    "            \"Timely response?\": [timely]\n",
    "\n",
    "})\n",
    "    \n",
    "\n",
    "\n",
    "    pred=modelo_dispute.predict(features)[0]\n",
    "    prob=modelo_dispute.predict_proba(features)[0]\n",
    "\n",
    "    return {\"response\": pred,\"probability\":prob }"
   ]
  },
  {
   "cell_type": "code",
   "execution_count": 133,
   "id": "538ccefe",
   "metadata": {},
   "outputs": [
    {
     "name": "stdout",
     "output_type": "stream",
     "text": [
      "0\n"
     ]
    },
    {
     "ename": "ValueError",
     "evalue": "The feature names should match those that were passed during fit.\nFeature names unseen at fit time:\n- Company response\n- Issue\n- Product\n- State\n- Sub-issue\n- ...\nFeature names seen at fit time, yet now missing:\n- Company response_Closed\n- Company response_Closed with explanation\n- Company response_Closed with monetary relief\n- Company response_Closed with non-monetary relief\n- Issue_APR or interest rate\n- ...\n",
     "output_type": "error",
     "traceback": [
      "\u001b[31m---------------------------------------------------------------------------\u001b[39m",
      "\u001b[31mValueError\u001b[39m                                Traceback (most recent call last)",
      "\u001b[36mCell\u001b[39m\u001b[36m \u001b[39m\u001b[32mIn[133]\u001b[39m\u001b[32m, line 1\u001b[39m\n\u001b[32m----> \u001b[39m\u001b[32m1\u001b[39m \u001b[43mpredict_dispute\u001b[49m\u001b[43m(\u001b[49m\u001b[32;43m1\u001b[39;49m\u001b[43m,\u001b[49m\u001b[32;43m1\u001b[39;49m\u001b[43m,\u001b[49m\u001b[32;43m1\u001b[39;49m\u001b[43m,\u001b[49m\u001b[32;43m1\u001b[39;49m\u001b[43m,\u001b[49m\u001b[43m \u001b[49m\u001b[43mtimely\u001b[49m\u001b[43m=\u001b[49m\u001b[38;5;28;43;01mNone\u001b[39;49;00m\u001b[43m)\u001b[49m\n",
      "\u001b[36mCell\u001b[39m\u001b[36m \u001b[39m\u001b[32mIn[132]\u001b[39m\u001b[32m, line 33\u001b[39m, in \u001b[36mpredict_dispute\u001b[39m\u001b[34m(Product, Subproduct, Issue, Companyresponse, timely, Subissue, State)\u001b[39m\n\u001b[32m     18\u001b[39m     \u001b[38;5;28mprint\u001b[39m(timely)\n\u001b[32m     19\u001b[39m     features=pd.DataFrame({\n\u001b[32m     20\u001b[39m \n\u001b[32m     21\u001b[39m             \u001b[33m\"\u001b[39m\u001b[33mProduct\u001b[39m\u001b[33m\"\u001b[39m:[Product],\n\u001b[32m   (...)\u001b[39m\u001b[32m     28\u001b[39m \n\u001b[32m     29\u001b[39m })\n\u001b[32m---> \u001b[39m\u001b[32m33\u001b[39m     pred=\u001b[43mmodelo_dispute\u001b[49m\u001b[43m.\u001b[49m\u001b[43mpredict\u001b[49m\u001b[43m(\u001b[49m\u001b[43mfeatures\u001b[49m\u001b[43m)\u001b[49m[\u001b[32m0\u001b[39m]\n\u001b[32m     34\u001b[39m     prob=modelo_dispute.predict_proba(features)[\u001b[32m0\u001b[39m]\n\u001b[32m     36\u001b[39m     \u001b[38;5;28;01mreturn\u001b[39;00m {\u001b[33m\"\u001b[39m\u001b[33mresponse\u001b[39m\u001b[33m\"\u001b[39m: pred,\u001b[33m\"\u001b[39m\u001b[33mprobability\u001b[39m\u001b[33m\"\u001b[39m:prob }\n",
      "\u001b[36mFile \u001b[39m\u001b[32mc:\\Users\\unaif\\anaconda3\\envs\\projecto\\Lib\\site-packages\\sklearn\\neighbors\\_classification.py:277\u001b[39m, in \u001b[36mKNeighborsClassifier.predict\u001b[39m\u001b[34m(self, X)\u001b[39m\n\u001b[32m    275\u001b[39m     neigh_dist = \u001b[38;5;28;01mNone\u001b[39;00m\n\u001b[32m    276\u001b[39m \u001b[38;5;28;01melse\u001b[39;00m:\n\u001b[32m--> \u001b[39m\u001b[32m277\u001b[39m     neigh_dist, neigh_ind = \u001b[38;5;28;43mself\u001b[39;49m\u001b[43m.\u001b[49m\u001b[43mkneighbors\u001b[49m\u001b[43m(\u001b[49m\u001b[43mX\u001b[49m\u001b[43m)\u001b[49m\n\u001b[32m    279\u001b[39m classes_ = \u001b[38;5;28mself\u001b[39m.classes_\n\u001b[32m    280\u001b[39m _y = \u001b[38;5;28mself\u001b[39m._y\n",
      "\u001b[36mFile \u001b[39m\u001b[32mc:\\Users\\unaif\\anaconda3\\envs\\projecto\\Lib\\site-packages\\sklearn\\neighbors\\_base.py:838\u001b[39m, in \u001b[36mKNeighborsMixin.kneighbors\u001b[39m\u001b[34m(self, X, n_neighbors, return_distance)\u001b[39m\n\u001b[32m    836\u001b[39m         X = _check_precomputed(X)\n\u001b[32m    837\u001b[39m     \u001b[38;5;28;01melse\u001b[39;00m:\n\u001b[32m--> \u001b[39m\u001b[32m838\u001b[39m         X = \u001b[43mvalidate_data\u001b[49m\u001b[43m(\u001b[49m\n\u001b[32m    839\u001b[39m \u001b[43m            \u001b[49m\u001b[38;5;28;43mself\u001b[39;49m\u001b[43m,\u001b[49m\n\u001b[32m    840\u001b[39m \u001b[43m            \u001b[49m\u001b[43mX\u001b[49m\u001b[43m,\u001b[49m\n\u001b[32m    841\u001b[39m \u001b[43m            \u001b[49m\u001b[43mensure_all_finite\u001b[49m\u001b[43m=\u001b[49m\u001b[43mensure_all_finite\u001b[49m\u001b[43m,\u001b[49m\n\u001b[32m    842\u001b[39m \u001b[43m            \u001b[49m\u001b[43maccept_sparse\u001b[49m\u001b[43m=\u001b[49m\u001b[33;43m\"\u001b[39;49m\u001b[33;43mcsr\u001b[39;49m\u001b[33;43m\"\u001b[39;49m\u001b[43m,\u001b[49m\n\u001b[32m    843\u001b[39m \u001b[43m            \u001b[49m\u001b[43mreset\u001b[49m\u001b[43m=\u001b[49m\u001b[38;5;28;43;01mFalse\u001b[39;49;00m\u001b[43m,\u001b[49m\n\u001b[32m    844\u001b[39m \u001b[43m            \u001b[49m\u001b[43morder\u001b[49m\u001b[43m=\u001b[49m\u001b[33;43m\"\u001b[39;49m\u001b[33;43mC\u001b[39;49m\u001b[33;43m\"\u001b[39;49m\u001b[43m,\u001b[49m\n\u001b[32m    845\u001b[39m \u001b[43m        \u001b[49m\u001b[43m)\u001b[49m\n\u001b[32m    847\u001b[39m n_samples_fit = \u001b[38;5;28mself\u001b[39m.n_samples_fit_\n\u001b[32m    848\u001b[39m \u001b[38;5;28;01mif\u001b[39;00m n_neighbors > n_samples_fit:\n",
      "\u001b[36mFile \u001b[39m\u001b[32mc:\\Users\\unaif\\anaconda3\\envs\\projecto\\Lib\\site-packages\\sklearn\\utils\\validation.py:2919\u001b[39m, in \u001b[36mvalidate_data\u001b[39m\u001b[34m(_estimator, X, y, reset, validate_separately, skip_check_array, **check_params)\u001b[39m\n\u001b[32m   2835\u001b[39m \u001b[38;5;28;01mdef\u001b[39;00m\u001b[38;5;250m \u001b[39m\u001b[34mvalidate_data\u001b[39m(\n\u001b[32m   2836\u001b[39m     _estimator,\n\u001b[32m   2837\u001b[39m     /,\n\u001b[32m   (...)\u001b[39m\u001b[32m   2843\u001b[39m     **check_params,\n\u001b[32m   2844\u001b[39m ):\n\u001b[32m   2845\u001b[39m \u001b[38;5;250m    \u001b[39m\u001b[33;03m\"\"\"Validate input data and set or check feature names and counts of the input.\u001b[39;00m\n\u001b[32m   2846\u001b[39m \n\u001b[32m   2847\u001b[39m \u001b[33;03m    This helper function should be used in an estimator that requires input\u001b[39;00m\n\u001b[32m   (...)\u001b[39m\u001b[32m   2917\u001b[39m \u001b[33;03m        validated.\u001b[39;00m\n\u001b[32m   2918\u001b[39m \u001b[33;03m    \"\"\"\u001b[39;00m\n\u001b[32m-> \u001b[39m\u001b[32m2919\u001b[39m     \u001b[43m_check_feature_names\u001b[49m\u001b[43m(\u001b[49m\u001b[43m_estimator\u001b[49m\u001b[43m,\u001b[49m\u001b[43m \u001b[49m\u001b[43mX\u001b[49m\u001b[43m,\u001b[49m\u001b[43m \u001b[49m\u001b[43mreset\u001b[49m\u001b[43m=\u001b[49m\u001b[43mreset\u001b[49m\u001b[43m)\u001b[49m\n\u001b[32m   2920\u001b[39m     tags = get_tags(_estimator)\n\u001b[32m   2921\u001b[39m     \u001b[38;5;28;01mif\u001b[39;00m y \u001b[38;5;129;01mis\u001b[39;00m \u001b[38;5;28;01mNone\u001b[39;00m \u001b[38;5;129;01mand\u001b[39;00m tags.target_tags.required:\n",
      "\u001b[36mFile \u001b[39m\u001b[32mc:\\Users\\unaif\\anaconda3\\envs\\projecto\\Lib\\site-packages\\sklearn\\utils\\validation.py:2777\u001b[39m, in \u001b[36m_check_feature_names\u001b[39m\u001b[34m(estimator, X, reset)\u001b[39m\n\u001b[32m   2774\u001b[39m \u001b[38;5;28;01mif\u001b[39;00m \u001b[38;5;129;01mnot\u001b[39;00m missing_names \u001b[38;5;129;01mand\u001b[39;00m \u001b[38;5;129;01mnot\u001b[39;00m unexpected_names:\n\u001b[32m   2775\u001b[39m     message += \u001b[33m\"\u001b[39m\u001b[33mFeature names must be in the same order as they were in fit.\u001b[39m\u001b[38;5;130;01m\\n\u001b[39;00m\u001b[33m\"\u001b[39m\n\u001b[32m-> \u001b[39m\u001b[32m2777\u001b[39m \u001b[38;5;28;01mraise\u001b[39;00m \u001b[38;5;167;01mValueError\u001b[39;00m(message)\n",
      "\u001b[31mValueError\u001b[39m: The feature names should match those that were passed during fit.\nFeature names unseen at fit time:\n- Company response\n- Issue\n- Product\n- State\n- Sub-issue\n- ...\nFeature names seen at fit time, yet now missing:\n- Company response_Closed\n- Company response_Closed with explanation\n- Company response_Closed with monetary relief\n- Company response_Closed with non-monetary relief\n- Issue_APR or interest rate\n- ...\n"
     ]
    }
   ],
   "source": [
    "predict_dispute(1,1,1,1, timely=None)\n",
    "\n",
    "\n",
    "\n",
    "\n",
    "    \n"
   ]
  }
 ],
 "metadata": {
  "kernelspec": {
   "display_name": "projecto",
   "language": "python",
   "name": "python3"
  },
  "language_info": {
   "codemirror_mode": {
    "name": "ipython",
    "version": 3
   },
   "file_extension": ".py",
   "mimetype": "text/x-python",
   "name": "python",
   "nbconvert_exporter": "python",
   "pygments_lexer": "ipython3",
   "version": "3.12.3"
  }
 },
 "nbformat": 4,
 "nbformat_minor": 5
}
