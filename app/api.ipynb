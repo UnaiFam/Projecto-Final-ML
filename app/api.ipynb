{
 "cells": [
  {
   "cell_type": "code",
   "execution_count": 1,
   "id": "4ffd63da",
   "metadata": {},
   "outputs": [],
   "source": [
    "# Aplicacion\n",
    "import pandas as pd\n",
    "import pickle\n",
    "import os\n",
    "os.chdir(\"../models\")\n",
    "import os\n",
    "import joblib\n"
   ]
  },
  {
   "cell_type": "code",
   "execution_count": 2,
   "id": "c61b6ff4",
   "metadata": {},
   "outputs": [],
   "source": [
    "os.chdir(\"../src\")\n"
   ]
  },
  {
   "cell_type": "code",
   "execution_count": 3,
   "id": "e234143a",
   "metadata": {},
   "outputs": [
    {
     "data": {
      "text/plain": [
       "['company_names.txt',\n",
       " 'preproces_pipe.pkl',\n",
       " 'prueba copy.ipynb',\n",
       " 'prueba.ipynb',\n",
       " 'tool_preprocess.py',\n",
       " 'tool_preprocess_onehot.py',\n",
       " 'trained_preprocessor.pkl',\n",
       " '__pycache__']"
      ]
     },
     "execution_count": 3,
     "metadata": {},
     "output_type": "execute_result"
    }
   ],
   "source": [
    "os.listdir(os.getcwd())"
   ]
  },
  {
   "cell_type": "code",
   "execution_count": 4,
   "id": "1cb1f4f3",
   "metadata": {},
   "outputs": [],
   "source": [
    "os.chdir(\"../models\")"
   ]
  },
  {
   "cell_type": "code",
   "execution_count": 5,
   "id": "5e1ab7b3",
   "metadata": {},
   "outputs": [],
   "source": [
    "with open('modelo_timely_tree_def.pkl', 'rb') as f:\n",
    "    modelo_timely = pickle.load(f)"
   ]
  },
  {
   "cell_type": "code",
   "execution_count": 6,
   "id": "57a87bdb",
   "metadata": {},
   "outputs": [],
   "source": [
    "\"\"\"with open('modelo_pipe_dispute_knn.pkl', 'rb') as f:\n",
    "    modelo_dispute = pickle.load(f\"\"\"\n",
    "\n",
    "\n",
    "\n",
    "def convert_to_str(X):\n",
    "    return X.astype(str)\n",
    "modelo_dispute=joblib.load(\"modelo_pipe_dispute_randomforest_onehot_company_def.pkl\")\n",
    "\n"
   ]
  },
  {
   "cell_type": "code",
   "execution_count": 7,
   "id": "7b5e0bef",
   "metadata": {},
   "outputs": [],
   "source": [
    "import os\n",
    "import joblib\n",
    "\n",
    "os.chdir(\"../src\")  # navigate to the folder (if needed)\n",
    "\n",
    "# Load the trained preprocessor\n",
    "preprocess = joblib.load(\"trained_preprocessor.pkl\")"
   ]
  },
  {
   "cell_type": "code",
   "execution_count": 8,
   "id": "2afe6fb7",
   "metadata": {},
   "outputs": [
    {
     "name": "stderr",
     "output_type": "stream",
     "text": [
      "c:\\Users\\unaif\\anaconda3\\envs\\projecto\\Lib\\site-packages\\sklearn\\preprocessing\\_label.py:93: DataConversionWarning: A column-vector y was passed when a 1d array was expected. Please change the shape of y to (n_samples, ), for example using ravel().\n",
      "  y = column_or_1d(y, warn=True)\n",
      "c:\\Users\\unaif\\anaconda3\\envs\\projecto\\Lib\\site-packages\\sklearn\\preprocessing\\_label.py:93: DataConversionWarning: A column-vector y was passed when a 1d array was expected. Please change the shape of y to (n_samples, ), for example using ravel().\n",
      "  y = column_or_1d(y, warn=True)\n",
      "c:\\Users\\unaif\\anaconda3\\envs\\projecto\\Lib\\site-packages\\sklearn\\preprocessing\\_label.py:93: DataConversionWarning: A column-vector y was passed when a 1d array was expected. Please change the shape of y to (n_samples, ), for example using ravel().\n",
      "  y = column_or_1d(y, warn=True)\n",
      "c:\\Users\\unaif\\anaconda3\\envs\\projecto\\Lib\\site-packages\\sklearn\\preprocessing\\_label.py:93: DataConversionWarning: A column-vector y was passed when a 1d array was expected. Please change the shape of y to (n_samples, ), for example using ravel().\n",
      "  y = column_or_1d(y, warn=True)\n",
      "c:\\Users\\unaif\\anaconda3\\envs\\projecto\\Lib\\site-packages\\sklearn\\preprocessing\\_label.py:93: DataConversionWarning: A column-vector y was passed when a 1d array was expected. Please change the shape of y to (n_samples, ), for example using ravel().\n",
      "  y = column_or_1d(y, warn=True)\n",
      "c:\\Users\\unaif\\anaconda3\\envs\\projecto\\Lib\\site-packages\\sklearn\\preprocessing\\_label.py:93: DataConversionWarning: A column-vector y was passed when a 1d array was expected. Please change the shape of y to (n_samples, ), for example using ravel().\n",
      "  y = column_or_1d(y, warn=True)\n",
      "c:\\Users\\unaif\\anaconda3\\envs\\projecto\\Lib\\site-packages\\sklearn\\preprocessing\\_label.py:93: DataConversionWarning: A column-vector y was passed when a 1d array was expected. Please change the shape of y to (n_samples, ), for example using ravel().\n",
      "  y = column_or_1d(y, warn=True)\n",
      "c:\\Users\\unaif\\anaconda3\\envs\\projecto\\Lib\\site-packages\\sklearn\\preprocessing\\_label.py:93: DataConversionWarning: A column-vector y was passed when a 1d array was expected. Please change the shape of y to (n_samples, ), for example using ravel().\n",
      "  y = column_or_1d(y, warn=True)\n",
      "c:\\Users\\unaif\\anaconda3\\envs\\projecto\\Lib\\site-packages\\sklearn\\preprocessing\\_label.py:93: DataConversionWarning: A column-vector y was passed when a 1d array was expected. Please change the shape of y to (n_samples, ), for example using ravel().\n",
      "  y = column_or_1d(y, warn=True)\n"
     ]
    }
   ],
   "source": [
    "os.chdir(\"../src\")\n",
    "from tool_preprocess import Time_enco"
   ]
  },
  {
   "cell_type": "code",
   "execution_count": 9,
   "id": "bb68ec83",
   "metadata": {},
   "outputs": [],
   "source": [
    "def predict_timely (    \n",
    "\n",
    "    \n",
    "    Issue: int,\n",
    "    Companyresponse: int,\n",
    "    Product: int=7,\n",
    "    Subproduct: int=39,\n",
    "    Subissue: int = 39,\n",
    "    State: int = 52\n",
    "\n",
    "\n",
    "\n",
    "\n",
    "):\n",
    "    \"\"\"\n",
    "    \n",
    "    \n",
    "    State por defecto Unknown\n",
    "    Subproduct por defecto Unknown or \n",
    "    Subissue por defecto Unknown or \n",
    "Product por defecto other financia services\n",
    "\n",
    "    Yes=1, No= 0\n",
    "\n",
    "\n",
    "    \"\"\"\n",
    "\n",
    "    features=pd.DataFrame(\n",
    "        {\n",
    "            \"Product\":[Product],\n",
    "            \"Sub-product\": [Subproduct],\t\n",
    "            \"Issue\":[Issue],\t\n",
    "            \"Sub-issue\":[Subissue],\t\n",
    "            \"State\":[State],\t\n",
    "            \"Company response\":[Companyresponse],\n",
    "            \n",
    "\n",
    "}\n",
    "    )\n",
    "    \n",
    "\n",
    "\n",
    "    pred=modelo_timely.predict(features)[0]\n",
    "    prob=modelo_timely.predict_proba(features)\n",
    "    \n",
    "    return {\"response01\": int(pred), \"probability\":prob}"
   ]
  },
  {
   "cell_type": "code",
   "execution_count": 10,
   "id": "b4e58445",
   "metadata": {},
   "outputs": [
    {
     "data": {
      "text/plain": [
       "1"
      ]
     },
     "execution_count": 10,
     "metadata": {},
     "output_type": "execute_result"
    }
   ],
   "source": [
    "predict_timely(1,3,5,1,1)['response01']"
   ]
  },
  {
   "cell_type": "code",
   "execution_count": 11,
   "id": "a7158036",
   "metadata": {},
   "outputs": [
    {
     "data": {
      "text/html": [
       "<div>\n",
       "<style scoped>\n",
       "    .dataframe tbody tr th:only-of-type {\n",
       "        vertical-align: middle;\n",
       "    }\n",
       "\n",
       "    .dataframe tbody tr th {\n",
       "        vertical-align: top;\n",
       "    }\n",
       "\n",
       "    .dataframe thead th {\n",
       "        text-align: right;\n",
       "    }\n",
       "</style>\n",
       "<table border=\"1\" class=\"dataframe\">\n",
       "  <thead>\n",
       "    <tr style=\"text-align: right;\">\n",
       "      <th></th>\n",
       "      <th>Product</th>\n",
       "      <th>Sub-product</th>\n",
       "      <th>Issue</th>\n",
       "      <th>Sub-issue</th>\n",
       "      <th>State</th>\n",
       "      <th>Company response</th>\n",
       "      <th>Timely response?</th>\n",
       "      <th>ZIP code</th>\n",
       "    </tr>\n",
       "  </thead>\n",
       "  <tbody>\n",
       "    <tr>\n",
       "      <th>0</th>\n",
       "      <td>1</td>\n",
       "      <td>1</td>\n",
       "      <td>1</td>\n",
       "      <td>1</td>\n",
       "      <td>1</td>\n",
       "      <td>1</td>\n",
       "      <td>1</td>\n",
       "      <td>0</td>\n",
       "    </tr>\n",
       "  </tbody>\n",
       "</table>\n",
       "</div>"
      ],
      "text/plain": [
       "   Product  Sub-product  Issue  Sub-issue  State  Company response  \\\n",
       "0        1            1      1          1      1                 1   \n",
       "\n",
       "   Timely response?  ZIP code  \n",
       "0                 1         0  "
      ]
     },
     "execution_count": 11,
     "metadata": {},
     "output_type": "execute_result"
    }
   ],
   "source": [
    "features=pd.DataFrame({\n",
    "\n",
    "            \"Product\":[1],\n",
    "            \"Sub-product\": [1],\t\n",
    "            \"Issue\":[1],\t\n",
    "            \"Sub-issue\":[1],\t\n",
    "            \"State\":[1],\t\n",
    "            \"Company response\":[1],\n",
    "            \"Timely response?\": [1],\"ZIP code\":[000]\n",
    "\n",
    "})\n",
    "features"
   ]
  },
  {
   "cell_type": "code",
   "execution_count": null,
   "id": "878cf1e7",
   "metadata": {},
   "outputs": [],
   "source": [
    "\n",
    "\"2017-2-23\""
   ]
  },
  {
   "cell_type": "code",
   "execution_count": 12,
   "id": "eaad5543",
   "metadata": {},
   "outputs": [],
   "source": [
    "import os\n",
    "import joblib\n",
    "\n",
    "os.chdir(\"../src\")  # navigate to the folder (if needed)\n",
    "def convert_to_str(X):\n",
    "    return X.astype(str)\n",
    "# Load the trained preprocessor\n",
    "trained_preprocessor = joblib.load(\"trained_preprocessor.pkl\")"
   ]
  },
  {
   "cell_type": "code",
   "execution_count": 13,
   "id": "82c1d110",
   "metadata": {},
   "outputs": [
    {
     "ename": "ValueError",
     "evalue": "columns are missing: {'Company', 'weekday'}",
     "output_type": "error",
     "traceback": [
      "\u001b[31m---------------------------------------------------------------------------\u001b[39m",
      "\u001b[31mValueError\u001b[39m                                Traceback (most recent call last)",
      "\u001b[36mCell\u001b[39m\u001b[36m \u001b[39m\u001b[32mIn[13]\u001b[39m\u001b[32m, line 1\u001b[39m\n\u001b[32m----> \u001b[39m\u001b[32m1\u001b[39m \u001b[43mmodelo_dispute\u001b[49m\u001b[43m.\u001b[49m\u001b[43mpredict\u001b[49m\u001b[43m(\u001b[49m\u001b[43mfeatures\u001b[49m\u001b[43m)\u001b[49m\n",
      "\u001b[36mFile \u001b[39m\u001b[32mc:\\Users\\unaif\\anaconda3\\envs\\projecto\\Lib\\site-packages\\imblearn\\pipeline.py:658\u001b[39m, in \u001b[36mPipeline.predict\u001b[39m\u001b[34m(self, X, **params)\u001b[39m\n\u001b[32m    656\u001b[39m \u001b[38;5;28;01mif\u001b[39;00m \u001b[38;5;129;01mnot\u001b[39;00m _routing_enabled():\n\u001b[32m    657\u001b[39m     \u001b[38;5;28;01mfor\u001b[39;00m _, name, transform \u001b[38;5;129;01min\u001b[39;00m \u001b[38;5;28mself\u001b[39m._iter(with_final=\u001b[38;5;28;01mFalse\u001b[39;00m):\n\u001b[32m--> \u001b[39m\u001b[32m658\u001b[39m         Xt = \u001b[43mtransform\u001b[49m\u001b[43m.\u001b[49m\u001b[43mtransform\u001b[49m\u001b[43m(\u001b[49m\u001b[43mXt\u001b[49m\u001b[43m)\u001b[49m\n\u001b[32m    659\u001b[39m     \u001b[38;5;28;01mreturn\u001b[39;00m \u001b[38;5;28mself\u001b[39m.steps[-\u001b[32m1\u001b[39m][\u001b[32m1\u001b[39m].predict(Xt, **params)\n\u001b[32m    661\u001b[39m \u001b[38;5;66;03m# metadata routing enabled\u001b[39;00m\n",
      "\u001b[36mFile \u001b[39m\u001b[32mc:\\Users\\unaif\\anaconda3\\envs\\projecto\\Lib\\site-packages\\sklearn\\utils\\_set_output.py:319\u001b[39m, in \u001b[36m_wrap_method_output.<locals>.wrapped\u001b[39m\u001b[34m(self, X, *args, **kwargs)\u001b[39m\n\u001b[32m    317\u001b[39m \u001b[38;5;129m@wraps\u001b[39m(f)\n\u001b[32m    318\u001b[39m \u001b[38;5;28;01mdef\u001b[39;00m\u001b[38;5;250m \u001b[39m\u001b[34mwrapped\u001b[39m(\u001b[38;5;28mself\u001b[39m, X, *args, **kwargs):\n\u001b[32m--> \u001b[39m\u001b[32m319\u001b[39m     data_to_wrap = \u001b[43mf\u001b[49m\u001b[43m(\u001b[49m\u001b[38;5;28;43mself\u001b[39;49m\u001b[43m,\u001b[49m\u001b[43m \u001b[49m\u001b[43mX\u001b[49m\u001b[43m,\u001b[49m\u001b[43m \u001b[49m\u001b[43m*\u001b[49m\u001b[43margs\u001b[49m\u001b[43m,\u001b[49m\u001b[43m \u001b[49m\u001b[43m*\u001b[49m\u001b[43m*\u001b[49m\u001b[43mkwargs\u001b[49m\u001b[43m)\u001b[49m\n\u001b[32m    320\u001b[39m     \u001b[38;5;28;01mif\u001b[39;00m \u001b[38;5;28misinstance\u001b[39m(data_to_wrap, \u001b[38;5;28mtuple\u001b[39m):\n\u001b[32m    321\u001b[39m         \u001b[38;5;66;03m# only wrap the first output for cross decomposition\u001b[39;00m\n\u001b[32m    322\u001b[39m         return_tuple = (\n\u001b[32m    323\u001b[39m             _wrap_data_with_container(method, data_to_wrap[\u001b[32m0\u001b[39m], X, \u001b[38;5;28mself\u001b[39m),\n\u001b[32m    324\u001b[39m             *data_to_wrap[\u001b[32m1\u001b[39m:],\n\u001b[32m    325\u001b[39m         )\n",
      "\u001b[36mFile \u001b[39m\u001b[32mc:\\Users\\unaif\\anaconda3\\envs\\projecto\\Lib\\site-packages\\sklearn\\compose\\_column_transformer.py:1090\u001b[39m, in \u001b[36mColumnTransformer.transform\u001b[39m\u001b[34m(self, X, **params)\u001b[39m\n\u001b[32m   1088\u001b[39m     diff = all_names - \u001b[38;5;28mset\u001b[39m(column_names)\n\u001b[32m   1089\u001b[39m     \u001b[38;5;28;01mif\u001b[39;00m diff:\n\u001b[32m-> \u001b[39m\u001b[32m1090\u001b[39m         \u001b[38;5;28;01mraise\u001b[39;00m \u001b[38;5;167;01mValueError\u001b[39;00m(\u001b[33mf\u001b[39m\u001b[33m\"\u001b[39m\u001b[33mcolumns are missing: \u001b[39m\u001b[38;5;132;01m{\u001b[39;00mdiff\u001b[38;5;132;01m}\u001b[39;00m\u001b[33m\"\u001b[39m)\n\u001b[32m   1091\u001b[39m \u001b[38;5;28;01melse\u001b[39;00m:\n\u001b[32m   1092\u001b[39m     \u001b[38;5;66;03m# ndarray was used for fitting or transforming, thus we only\u001b[39;00m\n\u001b[32m   1093\u001b[39m     \u001b[38;5;66;03m# check that n_features_in_ is consistent\u001b[39;00m\n\u001b[32m   1094\u001b[39m     _check_n_features(\u001b[38;5;28mself\u001b[39m, X, reset=\u001b[38;5;28;01mFalse\u001b[39;00m)\n",
      "\u001b[31mValueError\u001b[39m: columns are missing: {'Company', 'weekday'}"
     ]
    }
   ],
   "source": [
    "modelo_dispute.predict(features)"
   ]
  },
  {
   "cell_type": "code",
   "execution_count": 23,
   "id": "5efd0c6f",
   "metadata": {},
   "outputs": [],
   "source": [
    "from tool_preprocess import product_encoder,sub_product_encoder, Issue_enc, sub_Issue_enc, State_enc, Company_response_enc, Company_enc"
   ]
  },
  {
   "cell_type": "code",
   "execution_count": 40,
   "id": "972feb38",
   "metadata": {},
   "outputs": [],
   "source": [
    "from  datetime import datetime\n"
   ]
  },
  {
   "cell_type": "code",
   "execution_count": 42,
   "id": "960a992b",
   "metadata": {},
   "outputs": [
    {
     "name": "stdout",
     "output_type": "stream",
     "text": [
      "2023-02-28 00:00:00\n"
     ]
    }
   ],
   "source": [
    "date_str = '02/28/2023'\n",
    "date_format = '%m/%d/%Y'\n",
    "\n",
    "date_obj = datetime.strptime(date_str, date_format)\n",
    "print(date_obj)"
   ]
  },
  {
   "cell_type": "code",
   "execution_count": 44,
   "id": "1cdd6afa",
   "metadata": {},
   "outputs": [
    {
     "data": {
      "text/plain": [
       "1"
      ]
     },
     "execution_count": 44,
     "metadata": {},
     "output_type": "execute_result"
    }
   ],
   "source": [
    "date_obj.weekday()"
   ]
  },
  {
   "cell_type": "code",
   "execution_count": 35,
   "id": "4fae7503",
   "metadata": {},
   "outputs": [
    {
     "ename": "TypeError",
     "evalue": "datetime.date() argument after ** must be a mapping, not list",
     "output_type": "error",
     "traceback": [
      "\u001b[31m---------------------------------------------------------------------------\u001b[39m",
      "\u001b[31mTypeError\u001b[39m                                 Traceback (most recent call last)",
      "\u001b[36mCell\u001b[39m\u001b[36m \u001b[39m\u001b[32mIn[35]\u001b[39m\u001b[32m, line 3\u001b[39m\n\u001b[32m      1\u001b[39m strdate=\u001b[33m\"\u001b[39m\u001b[33m2023-02-03\u001b[39m\u001b[33m\"\u001b[39m\n\u001b[32m      2\u001b[39m strdate.split(\u001b[33m\"\u001b[39m\u001b[33m-\u001b[39m\u001b[33m\"\u001b[39m)\n\u001b[32m----> \u001b[39m\u001b[32m3\u001b[39m start_date = dt.date(**strdate.split(\u001b[33m\"\u001b[39m\u001b[33m-\u001b[39m\u001b[33m\"\u001b[39m))\n",
      "\u001b[31mTypeError\u001b[39m: datetime.date() argument after ** must be a mapping, not list"
     ]
    }
   ],
   "source": [
    "strdate=\"2023-02-03\"\n",
    "strdate.split(\"-\")\n",
    "start_date = dt.date(**strdate.split(\"-\"))\n"
   ]
  },
  {
   "cell_type": "code",
   "execution_count": 24,
   "id": "48dd07a9",
   "metadata": {},
   "outputs": [],
   "source": [
    "def obtener_dia_semana(numero_dia):\n",
    "    dias_semana = [\"Monday\", \"Tuesday\", \"Wednesday\", \"Thursday\", \"Friday\", \"Saturday\", \"Sunday\"]\n",
    "    \n",
    "    return dias_semana[numero_dia]"
   ]
  },
  {
   "cell_type": "code",
   "execution_count": 50,
   "id": "3f5df0b4",
   "metadata": {},
   "outputs": [],
   "source": [
    "def predict_dispute (\n",
    "    Product: int,\n",
    "    Subproduct: int,\n",
    "    Issue: int,\n",
    "    Companyresponse: int,\n",
    "    Company:int, \n",
    "    date_str:str,\n",
    "    timely: int=None,\n",
    "    Subissue: int = 39,\n",
    "    State: int = 52, \n",
    "    zip:int=000, \n",
    "    \n",
    "):\n",
    "    \"\"\"State por defecto Unknown\n",
    "    Subissue por defecto Unknown or \n",
    "    Yes=2, No= 0, duda =1\n",
    "    \n",
    "    \"\"\"\n",
    "    date_format = '%Y/%m/%d'\n",
    "    date_obj = datetime.strptime(date_str, date_format)\n",
    "    weekday=date_obj.weekday()\n",
    "    if timely is None:\n",
    "        timely = int(predict_timely(Issue=Issue,Subissue=Subissue , Companyresponse=Companyresponse, Product=Product, Subproduct=Subproduct , State=State )[\"response01\"])\n",
    "    print(timely)\n",
    "\n",
    "    \n",
    "    \n",
    "\n",
    "    \n",
    "    features=pd.DataFrame({\n",
    "\n",
    "            \"Product\":[Product],\n",
    "            \"Sub-product\": [Subproduct],\t\n",
    "            \"Issue\":[Issue],\t\n",
    "            \"Sub-issue\":[Subissue],\t\n",
    "            \"State\":[State],\t\n",
    "            \"weekday\":[weekday],\n",
    "            \"Company\":[Company],\n",
    "            \"Company response\":[Companyresponse],\n",
    "            \"Timely response?\": [timely],\n",
    "            \"ZIP code\":[zip], \n",
    "            \n",
    "\n",
    "})\n",
    "    \n",
    "    features[\"Product\"] = product_encoder.inverse_transform(features[\"Product\"])\n",
    "    features[\"Sub-product\"] = sub_product_encoder.inverse_transform(features[\"Sub-product\"])\n",
    "    features[\"Issue\"] = Issue_enc.inverse_transform(features[\"Issue\"])\n",
    "    features[\"Sub-issue\"] = sub_Issue_enc.inverse_transform(features[\"Sub-issue\"])\n",
    "    features[\"Company\"] = Company_enc.inverse_transform(features[\"Company\"])\n",
    "    features[\"State\"] = State_enc.inverse_transform(features[\"State\"])\n",
    "    features[\"Company response\"] = Company_response_enc.inverse_transform(features[\"Company response\"])\n",
    "\n",
    "    pred=modelo_dispute.predict(features)[0]\n",
    "    prob=modelo_dispute.predict_proba(features)[0]\n",
    "\n",
    "    return {\"response\": pred,\"probability\":prob }"
   ]
  },
  {
   "cell_type": "code",
   "execution_count": 51,
   "id": "538ccefe",
   "metadata": {},
   "outputs": [
    {
     "name": "stdout",
     "output_type": "stream",
     "text": [
      "0\n"
     ]
    },
    {
     "data": {
      "text/plain": [
       "{'response': 'No', 'probability': array([0.50335732, 0.49664268])}"
      ]
     },
     "execution_count": 51,
     "metadata": {},
     "output_type": "execute_result"
    }
   ],
   "source": [
    "predict_dispute(1,2,3,3,4,\"2013/02/12\", timely=None)\n",
    "\n",
    "\n",
    "\n",
    "\n",
    "    \n"
   ]
  }
 ],
 "metadata": {
  "kernelspec": {
   "display_name": "projecto",
   "language": "python",
   "name": "python3"
  },
  "language_info": {
   "codemirror_mode": {
    "name": "ipython",
    "version": 3
   },
   "file_extension": ".py",
   "mimetype": "text/x-python",
   "name": "python",
   "nbconvert_exporter": "python",
   "pygments_lexer": "ipython3",
   "version": "3.12.3"
  }
 },
 "nbformat": 4,
 "nbformat_minor": 5
}
