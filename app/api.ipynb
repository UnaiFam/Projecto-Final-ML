{
 "cells": [
  {
   "cell_type": "code",
   "execution_count": 1,
   "id": "4ffd63da",
   "metadata": {},
   "outputs": [],
   "source": [
    "# Aplicacion\n",
    "import pandas as pd\n",
    "import pickle\n",
    "import os\n",
    "\n",
    "import os\n",
    "import joblib\n"
   ]
  },
  {
   "cell_type": "code",
   "execution_count": 2,
   "id": "c61b6ff4",
   "metadata": {},
   "outputs": [],
   "source": [
    "os.chdir(\"../app\")\n"
   ]
  },
  {
   "cell_type": "code",
   "execution_count": 3,
   "id": "e234143a",
   "metadata": {},
   "outputs": [
    {
     "data": {
      "text/plain": [
       "['api.ipynb',\n",
       " 'gradio dispute_v4.ipynb',\n",
       " 'gradio timely_v4.ipynb',\n",
       " 'main_copy.py',\n",
       " 'viejos',\n",
       " '__pycache__']"
      ]
     },
     "execution_count": 3,
     "metadata": {},
     "output_type": "execute_result"
    }
   ],
   "source": [
    "os.listdir(os.getcwd())"
   ]
  },
  {
   "cell_type": "code",
   "execution_count": 4,
   "id": "1cb1f4f3",
   "metadata": {},
   "outputs": [],
   "source": [
    "os.chdir(\"../models\")"
   ]
  },
  {
   "cell_type": "code",
   "execution_count": 5,
   "id": "0230e98c",
   "metadata": {},
   "outputs": [
    {
     "data": {
      "text/plain": [
       "['modelo_cluster.pkl',\n",
       " 'modelo_dispute_knn.pkl',\n",
       " 'modelo_dispute_red.keras',\n",
       " 'modelo_pipe_dispute_company_ordenc_randomforest.pkl',\n",
       " 'modelo_pipe_dispute_gradient_company_onehot.pkl',\n",
       " 'modelo_pipe_dispute_gradient_onehot.pkl',\n",
       " 'modelo_pipe_dispute_knn.pkl',\n",
       " 'modelo_pipe_dispute_knn_def.pkl',\n",
       " 'modelo_pipe_dispute_knn_onehot_company_.pkl',\n",
       " 'modelo_pipe_dispute_randomforest.pkl',\n",
       " 'modelo_pipe_dispute_randomforest_onehot_company.pkl',\n",
       " 'modelo_pipe_dispute_randomforest_onehot_company_def.pkl',\n",
       " 'modelo_pipe_dispute_SVC_onehot_.pkl',\n",
       " 'modelo_pipe_dispute_synth.pkl',\n",
       " 'modelo_pipe_dispute_synth_random_forest_ctgan.pkl',\n",
       " 'modelo_pipe_dispute_xbclass_label.pkl',\n",
       " 'modelo_timely_knn.pkl',\n",
       " 'modelo_timely_rf_sin_company.pkl',\n",
       " 'modelo_timely_tree.pkl',\n",
       " 'modelo_timely_tree_def.pkl',\n",
       " 'modelo_timely_tree_sin_comp.pkl',\n",
       " 'sintetizdorv1.pkl',\n",
       " '__init__.py']"
      ]
     },
     "execution_count": 5,
     "metadata": {},
     "output_type": "execute_result"
    }
   ],
   "source": [
    "os.listdir(os.getcwd())"
   ]
  },
  {
   "cell_type": "code",
   "execution_count": 6,
   "id": "5e1ab7b3",
   "metadata": {},
   "outputs": [],
   "source": [
    "with open('modelo_timely_tree_sin_comp.pkl', 'rb') as f:\n",
    "    modelo_timely = pickle.load(f)"
   ]
  },
  {
   "cell_type": "code",
   "execution_count": 7,
   "id": "57a87bdb",
   "metadata": {},
   "outputs": [],
   "source": [
    "\"\"\"with open('modelo_pipe_dispute_knn.pkl', 'rb') as f:\n",
    "    modelo_dispute = pickle.load(f\"\"\"\n",
    "\n",
    "\n",
    "\n",
    "from tensorflow import keras\n",
    "modelo_dispute = keras.models.load_model(\"modelo_dispute_red.keras\")\n",
    "\n"
   ]
  },
  {
   "cell_type": "code",
   "execution_count": 8,
   "id": "2afe6fb7",
   "metadata": {},
   "outputs": [
    {
     "name": "stderr",
     "output_type": "stream",
     "text": [
      "c:\\Users\\unaif\\anaconda3\\envs\\projecto\\Lib\\site-packages\\sklearn\\preprocessing\\_label.py:93: DataConversionWarning: A column-vector y was passed when a 1d array was expected. Please change the shape of y to (n_samples, ), for example using ravel().\n",
      "  y = column_or_1d(y, warn=True)\n",
      "c:\\Users\\unaif\\anaconda3\\envs\\projecto\\Lib\\site-packages\\sklearn\\preprocessing\\_label.py:93: DataConversionWarning: A column-vector y was passed when a 1d array was expected. Please change the shape of y to (n_samples, ), for example using ravel().\n",
      "  y = column_or_1d(y, warn=True)\n",
      "c:\\Users\\unaif\\anaconda3\\envs\\projecto\\Lib\\site-packages\\sklearn\\preprocessing\\_label.py:93: DataConversionWarning: A column-vector y was passed when a 1d array was expected. Please change the shape of y to (n_samples, ), for example using ravel().\n",
      "  y = column_or_1d(y, warn=True)\n",
      "c:\\Users\\unaif\\anaconda3\\envs\\projecto\\Lib\\site-packages\\sklearn\\preprocessing\\_label.py:93: DataConversionWarning: A column-vector y was passed when a 1d array was expected. Please change the shape of y to (n_samples, ), for example using ravel().\n",
      "  y = column_or_1d(y, warn=True)\n",
      "c:\\Users\\unaif\\anaconda3\\envs\\projecto\\Lib\\site-packages\\sklearn\\preprocessing\\_label.py:93: DataConversionWarning: A column-vector y was passed when a 1d array was expected. Please change the shape of y to (n_samples, ), for example using ravel().\n",
      "  y = column_or_1d(y, warn=True)\n",
      "c:\\Users\\unaif\\anaconda3\\envs\\projecto\\Lib\\site-packages\\sklearn\\preprocessing\\_label.py:93: DataConversionWarning: A column-vector y was passed when a 1d array was expected. Please change the shape of y to (n_samples, ), for example using ravel().\n",
      "  y = column_or_1d(y, warn=True)\n",
      "c:\\Users\\unaif\\anaconda3\\envs\\projecto\\Lib\\site-packages\\sklearn\\preprocessing\\_label.py:93: DataConversionWarning: A column-vector y was passed when a 1d array was expected. Please change the shape of y to (n_samples, ), for example using ravel().\n",
      "  y = column_or_1d(y, warn=True)\n",
      "c:\\Users\\unaif\\anaconda3\\envs\\projecto\\Lib\\site-packages\\sklearn\\preprocessing\\_label.py:93: DataConversionWarning: A column-vector y was passed when a 1d array was expected. Please change the shape of y to (n_samples, ), for example using ravel().\n",
      "  y = column_or_1d(y, warn=True)\n",
      "c:\\Users\\unaif\\anaconda3\\envs\\projecto\\Lib\\site-packages\\sklearn\\preprocessing\\_label.py:93: DataConversionWarning: A column-vector y was passed when a 1d array was expected. Please change the shape of y to (n_samples, ), for example using ravel().\n",
      "  y = column_or_1d(y, warn=True)\n",
      "c:\\Users\\unaif\\anaconda3\\envs\\projecto\\Lib\\site-packages\\sklearn\\preprocessing\\_label.py:93: DataConversionWarning: A column-vector y was passed when a 1d array was expected. Please change the shape of y to (n_samples, ), for example using ravel().\n",
      "  y = column_or_1d(y, warn=True)\n"
     ]
    }
   ],
   "source": [
    "os.chdir(\"../src\")\n",
    "from tool_preprocess import Time_enco"
   ]
  },
  {
   "cell_type": "code",
   "execution_count": null,
   "id": "bb68ec83",
   "metadata": {},
   "outputs": [],
   "source": [
    "def predict_timely (    \n",
    "    Issue: int=86,\n",
    "    Product: int=7,\n",
    "    Subproduct: int=39,\n",
    "    Subissue: int = 39,\n",
    "    State: int = 52):\n",
    "    \n",
    "    \"\"\"\n",
    "    Los codigos numericos estan en docs ID.md, en IDipynb y tambien en los encoder en la carpeta src tool_preprocess.py\n",
    "    calcula el si se respondera a tiempo \n",
    "    Valores por defecto:\n",
    "    Product: Other financial service\n",
    "    Subproduct Unknown or not specified \n",
    "    Issue: Unknown or not specified\n",
    "    Subissue Unknown or not specified\n",
    "    State Unknown or not specified\n",
    "\n",
    "    Devuelve             \n",
    "    \"response\":Yes/No\n",
    "            \"response01\": 1/0\n",
    "            \"prob\": %\n",
    "    \n",
    "    \n",
    "    \n",
    "    \"\"\"\n",
    "\n",
    "\n",
    "    # cogo los features y los pongo en df\n",
    "    features=pd.DataFrame(\n",
    "        {\n",
    "            \"Product\":[Product],\n",
    "            \"Sub-product\": [Subproduct],\t\n",
    "            \"Issue\":[Issue],\t\n",
    "            \"Sub-issue\":[Subissue],\t\n",
    "            \"State\":[State],\t\n",
    "        }\n",
    "    )\n",
    "    #predigo el df\n",
    "\n",
    "    pred=(float(modelo_timely.predict_proba(features)[:,1])>=0.5)\n",
    "    prob= float(modelo_timely.predict_proba(features)[:,1])\n",
    "\n",
    "    # paso para yes no\n",
    "    if int(pred)==1:\n",
    "        response=\"Yes\"\n",
    "    else:\n",
    "        response=\"No\"\n",
    "\n",
    "    return {\"response01\": int(pred), \"timeprob\":prob, \"response\":response\n",
    "            }"
   ]
  },
  {
   "cell_type": "code",
   "execution_count": 10,
   "id": "b4e58445",
   "metadata": {},
   "outputs": [
    {
     "name": "stderr",
     "output_type": "stream",
     "text": [
      "C:\\Users\\unaif\\AppData\\Local\\Temp\\ipykernel_11756\\2955415838.py:48: DeprecationWarning: Conversion of an array with ndim > 0 to a scalar is deprecated, and will error in future. Ensure you extract a single element from your array before performing this operation. (Deprecated NumPy 1.25.)\n",
      "  pred=(float(modelo_timely.predict_proba(features)[:,1])>=0.5)\n",
      "C:\\Users\\unaif\\AppData\\Local\\Temp\\ipykernel_11756\\2955415838.py:49: DeprecationWarning: Conversion of an array with ndim > 0 to a scalar is deprecated, and will error in future. Ensure you extract a single element from your array before performing this operation. (Deprecated NumPy 1.25.)\n",
      "  prob= float(modelo_timely.predict_proba(features)[:,1])\n"
     ]
    },
    {
     "data": {
      "text/plain": [
       "{'response01': 0, 'timeprob': 0.0, 'response': 'No'}"
      ]
     },
     "execution_count": 10,
     "metadata": {},
     "output_type": "execute_result"
    }
   ],
   "source": [
    "predict_timely(1,3,5,1)"
   ]
  },
  {
   "cell_type": "code",
   "execution_count": 11,
   "id": "878cf1e7",
   "metadata": {},
   "outputs": [
    {
     "data": {
      "text/plain": [
       "'2017-2-23'"
      ]
     },
     "execution_count": 11,
     "metadata": {},
     "output_type": "execute_result"
    }
   ],
   "source": [
    "\n",
    "\"2017-2-23\""
   ]
  },
  {
   "cell_type": "code",
   "execution_count": 26,
   "id": "eaad5543",
   "metadata": {},
   "outputs": [],
   "source": [
    "import os\n",
    "import joblib\n",
    "\n",
    "os.chdir(\"../src\")  # navigate to the folder (if needed)\n",
    "def convert_to_str(X):\n",
    "    return X.astype(str)\n",
    "# Load the trained preprocessor\n",
    "\n",
    "preprocesador = joblib.load(\"preprocesador_red.pkl\")"
   ]
  },
  {
   "cell_type": "code",
   "execution_count": 27,
   "id": "5efd0c6f",
   "metadata": {},
   "outputs": [],
   "source": [
    "from tool_preprocess import product_encoder, sub_product_encoder, Issue_enc, sub_Issue_enc, State_enc, Company_response_enc, Company_enc, Time_enco0, week_enc"
   ]
  },
  {
   "cell_type": "code",
   "execution_count": 28,
   "id": "9ffb1bf2",
   "metadata": {},
   "outputs": [
    {
     "name": "stderr",
     "output_type": "stream",
     "text": [
      "c:\\Users\\unaif\\anaconda3\\envs\\projecto\\Lib\\site-packages\\sklearn\\preprocessing\\_label.py:151: DataConversionWarning: A column-vector y was passed when a 1d array was expected. Please change the shape of y to (n_samples, ), for example using ravel().\n",
      "  y = column_or_1d(y, warn=True)\n"
     ]
    },
    {
     "data": {
      "text/plain": [
       "array(['Consumer loan'], dtype=object)"
      ]
     },
     "execution_count": 28,
     "metadata": {},
     "output_type": "execute_result"
    }
   ],
   "source": [
    "product_encoder.inverse_transform(pd.DataFrame([1]))"
   ]
  },
  {
   "cell_type": "code",
   "execution_count": 29,
   "id": "972feb38",
   "metadata": {},
   "outputs": [],
   "source": [
    "from  datetime import datetime\n"
   ]
  },
  {
   "cell_type": "code",
   "execution_count": 30,
   "id": "960a992b",
   "metadata": {},
   "outputs": [
    {
     "name": "stdout",
     "output_type": "stream",
     "text": [
      "2023-02-28 00:00:00\n"
     ]
    }
   ],
   "source": [
    "date_str = '02/28/2023'\n",
    "date_format = '%m/%d/%Y'\n",
    "\n",
    "date_obj = datetime.strptime(date_str, date_format)\n",
    "print(date_obj)"
   ]
  },
  {
   "cell_type": "code",
   "execution_count": 31,
   "id": "1cdd6afa",
   "metadata": {},
   "outputs": [
    {
     "data": {
      "text/plain": [
       "1"
      ]
     },
     "execution_count": 31,
     "metadata": {},
     "output_type": "execute_result"
    }
   ],
   "source": [
    "date_obj.weekday()"
   ]
  },
  {
   "cell_type": "code",
   "execution_count": 32,
   "id": "4fae7503",
   "metadata": {},
   "outputs": [
    {
     "data": {
      "text/plain": [
       "'strdate=\"2023-02-03\"\\nstrdate.split(\"-\")\\nstart_date = dt.date(**strdate.split(\"-\"))'"
      ]
     },
     "execution_count": 32,
     "metadata": {},
     "output_type": "execute_result"
    }
   ],
   "source": [
    "\"\"\"strdate=\"2023-02-03\"\n",
    "strdate.split(\"-\")\n",
    "start_date = dt.date(**strdate.split(\"-\"))\"\"\"\n"
   ]
  },
  {
   "cell_type": "code",
   "execution_count": 33,
   "id": "48dd07a9",
   "metadata": {},
   "outputs": [],
   "source": [
    "def obtener_dia_semana(numero_dia):\n",
    "    dias_semana = [\"Monday\", \"Tuesday\", \"Wednesday\", \"Thursday\", \"Friday\", \"Saturday\", \"Sunday\"]\n",
    "    \n",
    "    return dias_semana[numero_dia]"
   ]
  },
  {
   "cell_type": "code",
   "execution_count": null,
   "id": "3f5df0b4",
   "metadata": {},
   "outputs": [],
   "source": [
    "def predict_dispute (\n",
    "     \n",
    "    Issue:int, \n",
    "    Company:int,\n",
    "    Companyresponse:int, \n",
    "    weekday:int,\n",
    "    Product: int=7,\n",
    "    timely:int=None,\n",
    "    Subproduct:int=39,\n",
    "    Subissue:int=39, \n",
    "    State:int=52,\n",
    "    ):\n",
    "\n",
    "    \"\"\"    \n",
    "    Los codigos numericos estan en docs ID.md, en IDipynb y tambien en los encoder en la carpeta src tool_preprocess.py\n",
    "    Funcion que predice si el cliente disputara o no.\n",
    "\n",
    "    Product: Other financial service\n",
    "    Subproduct: Unknown or not specified \n",
    "    Issue: Unknown or not specified\n",
    "    Subissue: Unknown or not specified\n",
    "    State: Unknown or not specified\n",
    "    timely: response None\n",
    "    \n",
    "    Si timely response es none lo predice y da los reslutado\n",
    "    Devuelve:\n",
    "        \"response\":Yes/No\n",
    "        \"response01\": 1/0\n",
    "        \"prob\": %\n",
    "    Si timely response es none lo predice y dara los da los reslutados:\n",
    "        timely:\n",
    "            \"response\":Yes/No\n",
    "            \"response01\": 1/0\n",
    "            \"prob\": %\n",
    "        si no timely not calculated\n",
    "    \"\"\"\n",
    "\n",
    "    if timely == None:\n",
    "        timely_res = (predict_timely(Issue=Issue,Subissue=Subissue , Companyresponse=Companyresponse, Product=Product, Subproduct=Subproduct , State=State ))\n",
    "        timely=timely_res[\"response\"]\n",
    "    else:\n",
    "        timely_res='Not calculated'\n",
    "\n",
    "    \n",
    "    features=pd.DataFrame({\n",
    "\n",
    "            \"Product\":[Product],\n",
    "            \"Sub-product\": [Subproduct],\t\n",
    "            \"Issue\":[Issue],\t\n",
    "            \"Sub-issue\":[Subissue],\t\n",
    "            \"State\":[State],\t\n",
    "            \"weekday\":[weekday],\n",
    "            \"Company\":[Company],\n",
    "            \"Company response\":[Companyresponse],\n",
    "            \"Timely response?\": [timely]})\n",
    "    \n",
    "    features[\"Timely response?\"].replace([1,0], [\"Yes\", \"No\"], inplace=True)\n",
    "    \n",
    "    features[\"Product\"] = product_encoder.inverse_transform(pd.DataFrame(features[\"Product\"]))\n",
    "    features[\"Sub-product\"] = sub_product_encoder.inverse_transform(pd.DataFrame(features[\"Sub-product\"]))\n",
    "    features[\"Issue\"] = Issue_enc.inverse_transform(pd.DataFrame(features[\"Issue\"]))\n",
    "    features[\"Sub-issue\"] = sub_Issue_enc.inverse_transform(pd.DataFrame(features[\"Sub-issue\"]))\n",
    "    features[\"Company\"] = Company_enc.inverse_transform(pd.DataFrame(features[\"Company\"]))\n",
    "    features[\"State\"] = State_enc.inverse_transform(pd.DataFrame(features[\"State\"]))\n",
    "    features[\"Company response\"] = Company_response_enc.inverse_transform(pd.DataFrame(features[\"Company response\"]))\n",
    "    features[\"weekday\"]=week_enc.inverse_transform(pd.DataFrame(features[\"weekday\"]))\n",
    "\n",
    "    features_pro=preprocesador.transform(features)\n",
    "\n",
    "    pred=(modelo_dispute.predict(features_pro) >= 0.5).astype(int)\n",
    "    if pred== 1:\n",
    "        res=\"Yes\"\n",
    "    else :\n",
    "        res=\"No\"\n",
    "    prob=modelo_dispute.predict(features_pro)\n",
    "\n",
    "    return {\"response\":res, \"response01\": int(pred), \"prob\": float(prob), \"timely\":timely_res}"
   ]
  },
  {
   "cell_type": "code",
   "execution_count": 35,
   "id": "a7158036",
   "metadata": {},
   "outputs": [
    {
     "name": "stderr",
     "output_type": "stream",
     "text": [
      "C:\\Users\\unaif\\AppData\\Local\\Temp\\ipykernel_11756\\1601584997.py:14: FutureWarning: A value is trying to be set on a copy of a DataFrame or Series through chained assignment using an inplace method.\n",
      "The behavior will change in pandas 3.0. This inplace method will never work because the intermediate object on which we are setting values always behaves as a copy.\n",
      "\n",
      "For example, when doing 'df[col].method(value, inplace=True)', try using 'df.method({col: value}, inplace=True)' or df[col] = df[col].method(value) instead, to perform the operation inplace on the original object.\n",
      "\n",
      "\n",
      "  features[\"Timely response?\"].replace([1,0], [\"Yes\", \"No\"], inplace=True)\n"
     ]
    }
   ],
   "source": [
    "features=pd.DataFrame({\n",
    "\n",
    "            \"Product\":[1],\n",
    "            \"Sub-product\": [1],\t\n",
    "            \"Issue\":[1],\t\n",
    "            \"Sub-issue\":[1],\t\n",
    "            \"State\":[1],\t\n",
    "            \"Company response\":[1],\n",
    "            \"Timely response?\": [\"Yes\"],\n",
    "            \"weekday\":[1], \n",
    "            \"Company\":[1]\n",
    "\n",
    "})\n",
    "features[\"Timely response?\"].replace([1,0], [\"Yes\", \"No\"], inplace=True)"
   ]
  },
  {
   "cell_type": "code",
   "execution_count": 36,
   "id": "6d2aec02",
   "metadata": {},
   "outputs": [
    {
     "name": "stderr",
     "output_type": "stream",
     "text": [
      "c:\\Users\\unaif\\anaconda3\\envs\\projecto\\Lib\\site-packages\\sklearn\\preprocessing\\_label.py:151: DataConversionWarning: A column-vector y was passed when a 1d array was expected. Please change the shape of y to (n_samples, ), for example using ravel().\n",
      "  y = column_or_1d(y, warn=True)\n",
      "c:\\Users\\unaif\\anaconda3\\envs\\projecto\\Lib\\site-packages\\sklearn\\preprocessing\\_label.py:151: DataConversionWarning: A column-vector y was passed when a 1d array was expected. Please change the shape of y to (n_samples, ), for example using ravel().\n",
      "  y = column_or_1d(y, warn=True)\n",
      "c:\\Users\\unaif\\anaconda3\\envs\\projecto\\Lib\\site-packages\\sklearn\\preprocessing\\_label.py:151: DataConversionWarning: A column-vector y was passed when a 1d array was expected. Please change the shape of y to (n_samples, ), for example using ravel().\n",
      "  y = column_or_1d(y, warn=True)\n",
      "c:\\Users\\unaif\\anaconda3\\envs\\projecto\\Lib\\site-packages\\sklearn\\preprocessing\\_label.py:151: DataConversionWarning: A column-vector y was passed when a 1d array was expected. Please change the shape of y to (n_samples, ), for example using ravel().\n",
      "  y = column_or_1d(y, warn=True)\n",
      "c:\\Users\\unaif\\anaconda3\\envs\\projecto\\Lib\\site-packages\\sklearn\\preprocessing\\_label.py:151: DataConversionWarning: A column-vector y was passed when a 1d array was expected. Please change the shape of y to (n_samples, ), for example using ravel().\n",
      "  y = column_or_1d(y, warn=True)\n",
      "c:\\Users\\unaif\\anaconda3\\envs\\projecto\\Lib\\site-packages\\sklearn\\preprocessing\\_label.py:151: DataConversionWarning: A column-vector y was passed when a 1d array was expected. Please change the shape of y to (n_samples, ), for example using ravel().\n",
      "  y = column_or_1d(y, warn=True)\n",
      "c:\\Users\\unaif\\anaconda3\\envs\\projecto\\Lib\\site-packages\\sklearn\\preprocessing\\_label.py:151: DataConversionWarning: A column-vector y was passed when a 1d array was expected. Please change the shape of y to (n_samples, ), for example using ravel().\n",
      "  y = column_or_1d(y, warn=True)\n",
      "c:\\Users\\unaif\\anaconda3\\envs\\projecto\\Lib\\site-packages\\sklearn\\preprocessing\\_label.py:151: DataConversionWarning: A column-vector y was passed when a 1d array was expected. Please change the shape of y to (n_samples, ), for example using ravel().\n",
      "  y = column_or_1d(y, warn=True)\n"
     ]
    }
   ],
   "source": [
    "features[\"Product\"] = product_encoder.inverse_transform(pd.DataFrame(features[\"Product\"]))\n",
    "features[\"Sub-product\"] = sub_product_encoder.inverse_transform(pd.DataFrame(features[\"Sub-product\"]))\n",
    "features[\"Issue\"] = Issue_enc.inverse_transform(pd.DataFrame(features[\"Issue\"]))\n",
    "features[\"Sub-issue\"] = sub_Issue_enc.inverse_transform(pd.DataFrame(features[\"Sub-issue\"]))\n",
    "features[\"Company\"] = Company_enc.inverse_transform(pd.DataFrame(features[\"Company\"]))\n",
    "features[\"State\"] = State_enc.inverse_transform(pd.DataFrame(features[\"State\"]))\n",
    "features[\"Company response\"] = Company_response_enc.inverse_transform(pd.DataFrame(features[\"Company response\"]))\n",
    "\n",
    "features[\"weekday\"]=week_enc.inverse_transform(pd.DataFrame(features[\"weekday\"]))"
   ]
  },
  {
   "cell_type": "code",
   "execution_count": 37,
   "id": "a7afd73c",
   "metadata": {},
   "outputs": [
    {
     "data": {
      "text/html": [
       "<div>\n",
       "<style scoped>\n",
       "    .dataframe tbody tr th:only-of-type {\n",
       "        vertical-align: middle;\n",
       "    }\n",
       "\n",
       "    .dataframe tbody tr th {\n",
       "        vertical-align: top;\n",
       "    }\n",
       "\n",
       "    .dataframe thead th {\n",
       "        text-align: right;\n",
       "    }\n",
       "</style>\n",
       "<table border=\"1\" class=\"dataframe\">\n",
       "  <thead>\n",
       "    <tr style=\"text-align: right;\">\n",
       "      <th></th>\n",
       "      <th>Product</th>\n",
       "      <th>Sub-product</th>\n",
       "      <th>Issue</th>\n",
       "      <th>Sub-issue</th>\n",
       "      <th>State</th>\n",
       "      <th>Company response</th>\n",
       "      <th>Timely response?</th>\n",
       "      <th>weekday</th>\n",
       "      <th>Company</th>\n",
       "    </tr>\n",
       "  </thead>\n",
       "  <tbody>\n",
       "    <tr>\n",
       "      <th>0</th>\n",
       "      <td>Consumer loan</td>\n",
       "      <td>Auto</td>\n",
       "      <td>Account opening, closing, or management</td>\n",
       "      <td>Account terms</td>\n",
       "      <td>AK</td>\n",
       "      <td>Closed with explanation</td>\n",
       "      <td>Yes</td>\n",
       "      <td>Monday</td>\n",
       "      <td>1st Franklin Financial Corporation</td>\n",
       "    </tr>\n",
       "  </tbody>\n",
       "</table>\n",
       "</div>"
      ],
      "text/plain": [
       "         Product Sub-product                                    Issue  \\\n",
       "0  Consumer loan        Auto  Account opening, closing, or management   \n",
       "\n",
       "       Sub-issue State         Company response Timely response? weekday  \\\n",
       "0  Account terms    AK  Closed with explanation              Yes  Monday   \n",
       "\n",
       "                              Company  \n",
       "0  1st Franklin Financial Corporation  "
      ]
     },
     "execution_count": 37,
     "metadata": {},
     "output_type": "execute_result"
    }
   ],
   "source": [
    "features"
   ]
  },
  {
   "cell_type": "code",
   "execution_count": 38,
   "id": "cc03e105",
   "metadata": {},
   "outputs": [
    {
     "data": {
      "text/plain": [
       "array([[0., 1., 0., 0., 0., 0., 0., 0., 0., 0., 0., 0., 1., 0., 0., 0.,\n",
       "        0., 0., 0., 0., 0., 0., 0., 0., 0., 0., 0., 0., 0., 0., 0., 0.,\n",
       "        0., 0., 0., 0., 0., 0., 0., 0., 0., 0., 0., 0., 0., 0., 0., 0.,\n",
       "        0., 1., 0., 0., 0., 0., 0., 0., 0., 0., 0., 0., 0., 0., 0., 0.,\n",
       "        0., 0., 0., 0., 0., 0., 0., 0., 0., 0., 0., 0., 0., 0., 0., 0.,\n",
       "        0., 0., 0., 0., 0., 0., 0., 0., 0., 0., 0., 0., 0., 0., 0., 0.,\n",
       "        0., 0., 0., 0., 0., 0., 0., 0., 0., 0., 0., 0., 0., 0., 0., 0.,\n",
       "        0., 0., 0., 0., 0., 0., 0., 0., 0., 0., 0., 0., 0., 0., 0., 0.,\n",
       "        0., 1., 0., 0., 0., 0., 0., 0., 0., 0., 0., 0., 0., 0., 0., 0.,\n",
       "        0., 0., 0., 0., 0., 0., 0., 0., 0., 0., 0., 0., 0., 0., 0., 0.,\n",
       "        0., 0., 0., 0., 0., 0., 0., 0., 0., 0., 0., 0., 0., 0., 0., 0.,\n",
       "        1., 0., 0., 0., 0., 0., 0., 0., 0., 0., 0., 0., 0., 0., 0., 0.,\n",
       "        0., 0., 0., 0., 0., 0., 0., 0., 0., 0., 0., 0., 0., 0., 0., 0.,\n",
       "        0., 0., 0., 0., 0., 0., 0., 0., 0., 0., 0., 0., 0., 0., 0., 0.,\n",
       "        0., 0., 0., 0., 0., 0., 0., 0., 0., 0., 1., 0., 0., 0., 1., 0.,\n",
       "        1., 0., 0., 0., 0., 0., 0., 0., 0., 0., 0., 0., 0., 0., 0., 0.,\n",
       "        0., 0., 0., 0., 0., 0., 0., 0., 0., 0., 0., 0., 0., 0., 0., 0.,\n",
       "        0., 0., 0., 0., 0., 0., 0., 0., 0., 0., 0., 0., 0., 0., 0., 0.,\n",
       "        0., 0., 0., 0., 0., 0., 0., 0., 0., 0., 0., 0., 0., 0., 0., 0.,\n",
       "        0., 0., 0., 0., 0., 0., 0., 0., 0., 0., 0., 0., 0., 0., 0., 0.,\n",
       "        0., 0., 0., 0., 0., 0., 0., 0., 0., 0., 0., 0., 0., 0., 0., 0.,\n",
       "        0., 0., 0., 0., 0., 0., 0., 0., 0., 0., 0., 0., 0., 0., 0., 0.,\n",
       "        0., 0., 0., 0., 0., 0., 0., 0., 0., 0., 0., 0., 0., 0., 0., 0.,\n",
       "        0., 0., 0., 0., 0., 0., 0., 0., 0., 0., 0., 0., 0., 0., 0., 0.,\n",
       "        0., 0., 0., 0., 0., 0., 0., 0., 0., 0., 0., 0., 0., 0., 0., 0.,\n",
       "        0., 0., 0., 0., 0., 0., 0., 0., 0., 0., 0., 0., 0., 0., 0., 0.,\n",
       "        0., 0., 0., 0., 0., 0., 0., 0., 0., 0., 0., 0., 0., 0., 0., 0.,\n",
       "        0., 0., 0., 0., 0., 0., 0., 0., 0., 0., 0., 0., 0., 0., 0., 0.,\n",
       "        0., 0., 0., 0., 0., 0., 0., 0., 0., 0., 0., 0., 0., 0., 0., 0.,\n",
       "        0., 0., 0., 0., 0., 0., 0., 0., 0., 0., 0., 0., 0., 0., 0., 0.,\n",
       "        0., 0., 0., 0., 0., 0., 0., 0., 0., 0., 0., 0., 0., 0., 0., 0.,\n",
       "        0., 0., 0., 0., 0., 0., 0., 0., 0., 0., 0., 0., 0., 0., 0., 0.,\n",
       "        0., 0., 0., 0., 0., 0., 0., 0., 0., 0., 0., 0., 0., 0., 0., 0.,\n",
       "        0., 0., 0., 0., 0., 0., 0., 0., 0., 0., 0., 0., 0., 0., 0., 0.,\n",
       "        0., 0., 0., 0., 0., 0., 0., 0., 0., 0., 0., 0., 0., 0., 0., 0.,\n",
       "        0., 0., 0., 0., 0., 0., 0., 0., 0., 0., 0., 0., 0., 0., 0., 0.,\n",
       "        0., 0., 0., 0., 0., 0., 0., 0., 0., 0., 0., 0., 0., 0., 0., 0.,\n",
       "        0., 0., 0., 0., 0., 0., 0., 0., 0., 0., 0., 0., 0., 0., 0., 0.,\n",
       "        0., 0., 0., 0., 0., 0., 0., 0., 0., 0., 0., 0., 0., 0., 0., 0.,\n",
       "        0., 0., 0., 0., 0., 0., 0., 0., 0., 0., 0., 0., 0., 0., 0., 0.,\n",
       "        0., 0., 0., 0., 0., 0., 0., 0., 0., 0., 0., 0., 0., 0., 0., 0.,\n",
       "        0., 0., 0., 0., 0., 0., 0., 0., 0., 0., 0., 0., 0., 0., 0., 0.,\n",
       "        0., 0., 0., 0., 0., 0., 0., 0., 0., 0., 0., 0., 0., 0., 0., 0.,\n",
       "        0., 0., 0., 0., 0., 0., 0., 0., 0., 0., 0., 0., 0., 0., 0., 0.,\n",
       "        0., 0., 0., 0., 0., 0., 0., 0., 0., 0., 0., 0., 0., 0., 0., 0.,\n",
       "        0., 0., 0., 0., 0., 0., 0., 0., 0., 0., 0., 0., 0., 0., 0., 0.,\n",
       "        0., 0., 0., 0., 0., 0., 0., 0., 0., 0., 0., 0., 0., 0., 0., 0.,\n",
       "        0., 0., 0., 0., 0., 0., 0., 0., 0., 0., 0., 0., 0., 0., 0., 0.,\n",
       "        0., 0., 0., 0., 0., 0., 0., 0., 0., 0., 0., 0., 0., 0., 0., 0.,\n",
       "        0., 0., 0., 0., 0., 0., 0., 0., 0., 0., 0., 0., 0., 0., 0., 0.,\n",
       "        0., 0., 0., 0., 0., 0., 0., 0., 0., 0., 0., 0., 0., 0., 0., 0.,\n",
       "        0., 0., 0., 0., 0., 0., 0., 0., 0., 0., 0., 0., 0., 0., 0., 0.,\n",
       "        0., 0., 0., 0., 0., 0., 0., 0., 0., 0., 0., 0., 0., 0., 0., 0.,\n",
       "        0., 0., 0., 0., 0., 0., 0., 0., 0., 0., 0., 0., 0., 0., 0., 0.,\n",
       "        0., 0., 0., 0., 0., 0., 0., 0., 0., 0., 0., 0., 0., 0., 0., 0.,\n",
       "        0., 0., 0., 0., 0., 0., 0., 0., 0., 0., 0., 0., 0., 0., 0., 0.,\n",
       "        0., 0., 0., 0., 0., 0., 0., 0., 0., 0., 0., 0., 0., 0., 0., 0.,\n",
       "        0., 0., 0., 0., 0., 0., 0., 0., 0., 0., 0., 0., 0., 0., 0., 0.,\n",
       "        0., 0., 0., 0., 0., 0., 0., 0., 0., 0., 0., 0., 0., 0., 0., 0.,\n",
       "        0., 0., 0., 0., 0., 0., 0., 0.]])"
      ]
     },
     "execution_count": 38,
     "metadata": {},
     "output_type": "execute_result"
    }
   ],
   "source": [
    "preprocesador.transform(features)"
   ]
  },
  {
   "cell_type": "code",
   "execution_count": 39,
   "id": "538ccefe",
   "metadata": {},
   "outputs": [
    {
     "name": "stderr",
     "output_type": "stream",
     "text": [
      "C:\\Users\\unaif\\AppData\\Local\\Temp\\ipykernel_11756\\3402237261.py:51: FutureWarning: A value is trying to be set on a copy of a DataFrame or Series through chained assignment using an inplace method.\n",
      "The behavior will change in pandas 3.0. This inplace method will never work because the intermediate object on which we are setting values always behaves as a copy.\n",
      "\n",
      "For example, when doing 'df[col].method(value, inplace=True)', try using 'df.method({col: value}, inplace=True)' or df[col] = df[col].method(value) instead, to perform the operation inplace on the original object.\n",
      "\n",
      "\n",
      "  features[\"Timely response?\"].replace([1,0], [\"Yes\", \"No\"], inplace=True)\n",
      "c:\\Users\\unaif\\anaconda3\\envs\\projecto\\Lib\\site-packages\\sklearn\\preprocessing\\_label.py:151: DataConversionWarning: A column-vector y was passed when a 1d array was expected. Please change the shape of y to (n_samples, ), for example using ravel().\n",
      "  y = column_or_1d(y, warn=True)\n",
      "c:\\Users\\unaif\\anaconda3\\envs\\projecto\\Lib\\site-packages\\sklearn\\preprocessing\\_label.py:151: DataConversionWarning: A column-vector y was passed when a 1d array was expected. Please change the shape of y to (n_samples, ), for example using ravel().\n",
      "  y = column_or_1d(y, warn=True)\n",
      "c:\\Users\\unaif\\anaconda3\\envs\\projecto\\Lib\\site-packages\\sklearn\\preprocessing\\_label.py:151: DataConversionWarning: A column-vector y was passed when a 1d array was expected. Please change the shape of y to (n_samples, ), for example using ravel().\n",
      "  y = column_or_1d(y, warn=True)\n",
      "c:\\Users\\unaif\\anaconda3\\envs\\projecto\\Lib\\site-packages\\sklearn\\preprocessing\\_label.py:151: DataConversionWarning: A column-vector y was passed when a 1d array was expected. Please change the shape of y to (n_samples, ), for example using ravel().\n",
      "  y = column_or_1d(y, warn=True)\n",
      "c:\\Users\\unaif\\anaconda3\\envs\\projecto\\Lib\\site-packages\\sklearn\\preprocessing\\_label.py:151: DataConversionWarning: A column-vector y was passed when a 1d array was expected. Please change the shape of y to (n_samples, ), for example using ravel().\n",
      "  y = column_or_1d(y, warn=True)\n",
      "c:\\Users\\unaif\\anaconda3\\envs\\projecto\\Lib\\site-packages\\sklearn\\preprocessing\\_label.py:151: DataConversionWarning: A column-vector y was passed when a 1d array was expected. Please change the shape of y to (n_samples, ), for example using ravel().\n",
      "  y = column_or_1d(y, warn=True)\n",
      "c:\\Users\\unaif\\anaconda3\\envs\\projecto\\Lib\\site-packages\\sklearn\\preprocessing\\_label.py:151: DataConversionWarning: A column-vector y was passed when a 1d array was expected. Please change the shape of y to (n_samples, ), for example using ravel().\n",
      "  y = column_or_1d(y, warn=True)\n",
      "c:\\Users\\unaif\\anaconda3\\envs\\projecto\\Lib\\site-packages\\sklearn\\preprocessing\\_label.py:151: DataConversionWarning: A column-vector y was passed when a 1d array was expected. Please change the shape of y to (n_samples, ), for example using ravel().\n",
      "  y = column_or_1d(y, warn=True)\n"
     ]
    },
    {
     "name": "stdout",
     "output_type": "stream",
     "text": [
      "\u001b[1m1/1\u001b[0m \u001b[32m━━━━━━━━━━━━━━━━━━━━\u001b[0m\u001b[37m\u001b[0m \u001b[1m0s\u001b[0m 29ms/step"
     ]
    },
    {
     "name": "stdout",
     "output_type": "stream",
     "text": [
      "\u001b[1m1/1\u001b[0m \u001b[32m━━━━━━━━━━━━━━━━━━━━\u001b[0m\u001b[37m\u001b[0m \u001b[1m0s\u001b[0m 48ms/step\n",
      "\u001b[1m1/1\u001b[0m \u001b[32m━━━━━━━━━━━━━━━━━━━━\u001b[0m\u001b[37m\u001b[0m \u001b[1m0s\u001b[0m 42ms/step\n"
     ]
    },
    {
     "name": "stderr",
     "output_type": "stream",
     "text": [
      "C:\\Users\\unaif\\AppData\\Local\\Temp\\ipykernel_11756\\3402237261.py:71: DeprecationWarning: Conversion of an array with ndim > 0 to a scalar is deprecated, and will error in future. Ensure you extract a single element from your array before performing this operation. (Deprecated NumPy 1.25.)\n",
      "  return {\"response\":res, \"response01\": int(pred), \"prob\": float(prob), \"timely\":timely_res}\n"
     ]
    },
    {
     "data": {
      "text/plain": [
       "{'response': 'Yes',\n",
       " 'response01': 1,\n",
       " 'prob': 0.9922634959220886,\n",
       " 'timely': 'Not calculated'}"
      ]
     },
     "execution_count": 39,
     "metadata": {},
     "output_type": "execute_result"
    }
   ],
   "source": [
    "predict_dispute(1,1,1,1,1,1,1,1,1)\n",
    "\n",
    "\n",
    "\n",
    "    \n"
   ]
  }
 ],
 "metadata": {
  "kernelspec": {
   "display_name": "projecto",
   "language": "python",
   "name": "python3"
  },
  "language_info": {
   "codemirror_mode": {
    "name": "ipython",
    "version": 3
   },
   "file_extension": ".py",
   "mimetype": "text/x-python",
   "name": "python",
   "nbconvert_exporter": "python",
   "pygments_lexer": "ipython3",
   "version": "3.12.3"
  }
 },
 "nbformat": 4,
 "nbformat_minor": 5
}
