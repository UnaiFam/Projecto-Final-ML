{
 "cells": [
  {
   "cell_type": "code",
   "execution_count": 1,
   "id": "4ffd63da",
   "metadata": {},
   "outputs": [],
   "source": [
    "# Aplicacion\n",
    "import pandas as pd\n",
    "import pickle\n",
    "import os\n",
    "os.chdir(\"../models\")\n",
    "import os\n",
    "import joblib\n"
   ]
  },
  {
   "cell_type": "code",
   "execution_count": 2,
   "id": "c61b6ff4",
   "metadata": {},
   "outputs": [],
   "source": [
    "os.chdir(\"../src\")\n"
   ]
  },
  {
   "cell_type": "code",
   "execution_count": 3,
   "id": "e234143a",
   "metadata": {},
   "outputs": [
    {
     "data": {
      "text/plain": [
       "['company_names.txt',\n",
       " 'preproces_pipe.pkl',\n",
       " 'prueba copy.ipynb',\n",
       " 'prueba.ipynb',\n",
       " 'tool_preprocess.py',\n",
       " 'tool_preprocess_onehot.py',\n",
       " 'trained_preprocessor.pkl',\n",
       " '__pycache__']"
      ]
     },
     "execution_count": 3,
     "metadata": {},
     "output_type": "execute_result"
    }
   ],
   "source": [
    "os.listdir(os.getcwd())"
   ]
  },
  {
   "cell_type": "code",
   "execution_count": 5,
   "id": "1cb1f4f3",
   "metadata": {},
   "outputs": [],
   "source": [
    "os.chdir(\"../models\")"
   ]
  },
  {
   "cell_type": "code",
   "execution_count": 7,
   "id": "5e1ab7b3",
   "metadata": {},
   "outputs": [],
   "source": [
    "with open('modelo_timely_tree_def.pkl', 'rb') as f:\n",
    "    modelo_timely = pickle.load(f)"
   ]
  },
  {
   "cell_type": "code",
   "execution_count": 9,
   "id": "57a87bdb",
   "metadata": {},
   "outputs": [],
   "source": [
    "\"\"\"with open('modelo_pipe_dispute_knn.pkl', 'rb') as f:\n",
    "    modelo_dispute = pickle.load(f\"\"\"\n",
    "\n",
    "\n",
    "\n",
    "def convert_to_str(X):\n",
    "    return X.astype(str)\n",
    "modelo_dispute=joblib.load(\"modelo_pipe_dispute_knn_def.pkl\")"
   ]
  },
  {
   "cell_type": "code",
   "execution_count": 10,
   "id": "7b5e0bef",
   "metadata": {},
   "outputs": [],
   "source": [
    "import os\n",
    "import joblib\n",
    "\n",
    "os.chdir(\"../src\")  # navigate to the folder (if needed)\n",
    "\n",
    "# Load the trained preprocessor\n",
    "preprocess = joblib.load(\"trained_preprocessor.pkl\")"
   ]
  },
  {
   "cell_type": "code",
   "execution_count": 11,
   "id": "2afe6fb7",
   "metadata": {},
   "outputs": [
    {
     "name": "stderr",
     "output_type": "stream",
     "text": [
      "c:\\Users\\unaif\\anaconda3\\envs\\projecto\\Lib\\site-packages\\sklearn\\preprocessing\\_label.py:93: DataConversionWarning: A column-vector y was passed when a 1d array was expected. Please change the shape of y to (n_samples, ), for example using ravel().\n",
      "  y = column_or_1d(y, warn=True)\n",
      "c:\\Users\\unaif\\anaconda3\\envs\\projecto\\Lib\\site-packages\\sklearn\\preprocessing\\_label.py:93: DataConversionWarning: A column-vector y was passed when a 1d array was expected. Please change the shape of y to (n_samples, ), for example using ravel().\n",
      "  y = column_or_1d(y, warn=True)\n",
      "c:\\Users\\unaif\\anaconda3\\envs\\projecto\\Lib\\site-packages\\sklearn\\preprocessing\\_label.py:93: DataConversionWarning: A column-vector y was passed when a 1d array was expected. Please change the shape of y to (n_samples, ), for example using ravel().\n",
      "  y = column_or_1d(y, warn=True)\n",
      "c:\\Users\\unaif\\anaconda3\\envs\\projecto\\Lib\\site-packages\\sklearn\\preprocessing\\_label.py:93: DataConversionWarning: A column-vector y was passed when a 1d array was expected. Please change the shape of y to (n_samples, ), for example using ravel().\n",
      "  y = column_or_1d(y, warn=True)\n",
      "c:\\Users\\unaif\\anaconda3\\envs\\projecto\\Lib\\site-packages\\sklearn\\preprocessing\\_label.py:93: DataConversionWarning: A column-vector y was passed when a 1d array was expected. Please change the shape of y to (n_samples, ), for example using ravel().\n",
      "  y = column_or_1d(y, warn=True)\n",
      "c:\\Users\\unaif\\anaconda3\\envs\\projecto\\Lib\\site-packages\\sklearn\\preprocessing\\_label.py:93: DataConversionWarning: A column-vector y was passed when a 1d array was expected. Please change the shape of y to (n_samples, ), for example using ravel().\n",
      "  y = column_or_1d(y, warn=True)\n",
      "c:\\Users\\unaif\\anaconda3\\envs\\projecto\\Lib\\site-packages\\sklearn\\preprocessing\\_label.py:93: DataConversionWarning: A column-vector y was passed when a 1d array was expected. Please change the shape of y to (n_samples, ), for example using ravel().\n",
      "  y = column_or_1d(y, warn=True)\n",
      "c:\\Users\\unaif\\anaconda3\\envs\\projecto\\Lib\\site-packages\\sklearn\\preprocessing\\_label.py:93: DataConversionWarning: A column-vector y was passed when a 1d array was expected. Please change the shape of y to (n_samples, ), for example using ravel().\n",
      "  y = column_or_1d(y, warn=True)\n",
      "c:\\Users\\unaif\\anaconda3\\envs\\projecto\\Lib\\site-packages\\sklearn\\preprocessing\\_label.py:93: DataConversionWarning: A column-vector y was passed when a 1d array was expected. Please change the shape of y to (n_samples, ), for example using ravel().\n",
      "  y = column_or_1d(y, warn=True)\n"
     ]
    }
   ],
   "source": [
    "os.chdir(\"../src\")\n",
    "from tool_preprocess import Time_enco"
   ]
  },
  {
   "cell_type": "code",
   "execution_count": 12,
   "id": "bb68ec83",
   "metadata": {},
   "outputs": [],
   "source": [
    "def predict_timely (    \n",
    "\n",
    "    \n",
    "    Issue: int,\n",
    "    Companyresponse: int,\n",
    "    Product: int=7,\n",
    "    Subproduct: int=39,\n",
    "    Subissue: int = 39,\n",
    "    State: int = 52\n",
    "\n",
    "\n",
    "\n",
    "\n",
    "):\n",
    "    \"\"\"\n",
    "    \n",
    "    \n",
    "    State por defecto Unknown\n",
    "    Subproduct por defecto Unknown or \n",
    "    Subissue por defecto Unknown or \n",
    "Product por defecto other financia services\n",
    "\n",
    "    Yes=1, No= 0\n",
    "\n",
    "\n",
    "    \"\"\"\n",
    "\n",
    "    features=pd.DataFrame(\n",
    "        {\n",
    "            \"Product\":[Product],\n",
    "            \"Sub-product\": [Subproduct],\t\n",
    "            \"Issue\":[Issue],\t\n",
    "            \"Sub-issue\":[Subissue],\t\n",
    "            \"State\":[State],\t\n",
    "            \"Company response\":[Companyresponse],\n",
    "            \n",
    "\n",
    "}\n",
    "    )\n",
    "    \n",
    "\n",
    "\n",
    "    pred=modelo_timely.predict(features)[0]\n",
    "    prob=modelo_timely.predict_proba(features)\n",
    "    \n",
    "    return {\"response01\": int(pred), \"probability\":prob}"
   ]
  },
  {
   "cell_type": "code",
   "execution_count": 13,
   "id": "b4e58445",
   "metadata": {},
   "outputs": [
    {
     "data": {
      "text/plain": [
       "1"
      ]
     },
     "execution_count": 13,
     "metadata": {},
     "output_type": "execute_result"
    }
   ],
   "source": [
    "predict_timely(1,3,5,1,1)['response01']"
   ]
  },
  {
   "cell_type": "code",
   "execution_count": 14,
   "id": "a7158036",
   "metadata": {},
   "outputs": [
    {
     "data": {
      "text/html": [
       "<div>\n",
       "<style scoped>\n",
       "    .dataframe tbody tr th:only-of-type {\n",
       "        vertical-align: middle;\n",
       "    }\n",
       "\n",
       "    .dataframe tbody tr th {\n",
       "        vertical-align: top;\n",
       "    }\n",
       "\n",
       "    .dataframe thead th {\n",
       "        text-align: right;\n",
       "    }\n",
       "</style>\n",
       "<table border=\"1\" class=\"dataframe\">\n",
       "  <thead>\n",
       "    <tr style=\"text-align: right;\">\n",
       "      <th></th>\n",
       "      <th>Product</th>\n",
       "      <th>Sub-product</th>\n",
       "      <th>Issue</th>\n",
       "      <th>Sub-issue</th>\n",
       "      <th>State</th>\n",
       "      <th>Company response</th>\n",
       "      <th>Timely response?</th>\n",
       "      <th>ZIP code</th>\n",
       "    </tr>\n",
       "  </thead>\n",
       "  <tbody>\n",
       "    <tr>\n",
       "      <th>0</th>\n",
       "      <td>1</td>\n",
       "      <td>1</td>\n",
       "      <td>1</td>\n",
       "      <td>1</td>\n",
       "      <td>1</td>\n",
       "      <td>1</td>\n",
       "      <td>1</td>\n",
       "      <td>0</td>\n",
       "    </tr>\n",
       "  </tbody>\n",
       "</table>\n",
       "</div>"
      ],
      "text/plain": [
       "   Product  Sub-product  Issue  Sub-issue  State  Company response  \\\n",
       "0        1            1      1          1      1                 1   \n",
       "\n",
       "   Timely response?  ZIP code  \n",
       "0                 1         0  "
      ]
     },
     "execution_count": 14,
     "metadata": {},
     "output_type": "execute_result"
    }
   ],
   "source": [
    "features=pd.DataFrame({\n",
    "\n",
    "            \"Product\":[1],\n",
    "            \"Sub-product\": [1],\t\n",
    "            \"Issue\":[1],\t\n",
    "            \"Sub-issue\":[1],\t\n",
    "            \"State\":[1],\t\n",
    "            \"Company response\":[1],\n",
    "            \"Timely response?\": [1],\"ZIP code\":[000]\n",
    "\n",
    "})\n",
    "features"
   ]
  },
  {
   "cell_type": "code",
   "execution_count": null,
   "id": "878cf1e7",
   "metadata": {},
   "outputs": [],
   "source": [
    "\n"
   ]
  },
  {
   "cell_type": "code",
   "execution_count": 15,
   "id": "eaad5543",
   "metadata": {},
   "outputs": [],
   "source": [
    "import os\n",
    "import joblib\n",
    "\n",
    "os.chdir(\"../src\")  # navigate to the folder (if needed)\n",
    "def convert_to_str(X):\n",
    "    return X.astype(str)\n",
    "# Load the trained preprocessor\n",
    "trained_preprocessor = joblib.load(\"trained_preprocessor.pkl\")"
   ]
  },
  {
   "cell_type": "code",
   "execution_count": 16,
   "id": "82c1d110",
   "metadata": {},
   "outputs": [
    {
     "data": {
      "text/plain": [
       "array(['No'], dtype=object)"
      ]
     },
     "execution_count": 16,
     "metadata": {},
     "output_type": "execute_result"
    }
   ],
   "source": [
    "modelo_dispute.predict(features)"
   ]
  },
  {
   "cell_type": "code",
   "execution_count": 17,
   "id": "3f5df0b4",
   "metadata": {},
   "outputs": [],
   "source": [
    "def predict_dispute (\n",
    "    Product: int,\n",
    "    Subproduct: int,\n",
    "    Issue: int,\n",
    "    Companyresponse: int,\n",
    "    timely: int=None,\n",
    "    Subissue: int = 39,\n",
    "    State: int = 52, \n",
    "    zip:int=000\n",
    "):\n",
    "    \"\"\"State por defecto Unknown\n",
    "    Subissue por defecto Unknown or \n",
    "    Yes=2, No= 0, duda =1\n",
    "    \n",
    "    \"\"\"\n",
    "    \n",
    "    if timely is None:\n",
    "        timely = int(predict_timely(Issue=Issue,Subissue=Subissue , Companyresponse=Companyresponse, Product=Product, Subproduct=Subproduct , State=State )[\"response01\"])\n",
    "    print(timely)\n",
    "\n",
    "\n",
    "    \n",
    "    features=pd.DataFrame({\n",
    "\n",
    "            \"Product\":[Product],\n",
    "            \"Sub-product\": [Subproduct],\t\n",
    "            \"Issue\":[Issue],\t\n",
    "            \"Sub-issue\":[Subissue],\t\n",
    "            \"State\":[State],\t\n",
    "            \"Company response\":[Companyresponse],\n",
    "            \"Timely response?\": [timely],\n",
    "            \"ZIP code\":[zip]\n",
    "\n",
    "})\n",
    "    \n",
    "\n",
    "\n",
    "    pred=modelo_dispute.predict(features)[0]\n",
    "    prob=modelo_dispute.predict_proba(features)[0]\n",
    "\n",
    "    return {\"response\": pred,\"probability\":prob }"
   ]
  },
  {
   "cell_type": "code",
   "execution_count": 18,
   "id": "538ccefe",
   "metadata": {},
   "outputs": [
    {
     "name": "stdout",
     "output_type": "stream",
     "text": [
      "0\n"
     ]
    },
    {
     "data": {
      "text/plain": [
       "{'response': 'No', 'probability': array([1., 0.])}"
      ]
     },
     "execution_count": 18,
     "metadata": {},
     "output_type": "execute_result"
    }
   ],
   "source": [
    "predict_dispute(1,1,1,1, timely=None)\n",
    "\n",
    "\n",
    "\n",
    "\n",
    "    \n"
   ]
  }
 ],
 "metadata": {
  "kernelspec": {
   "display_name": "projecto",
   "language": "python",
   "name": "python3"
  },
  "language_info": {
   "codemirror_mode": {
    "name": "ipython",
    "version": 3
   },
   "file_extension": ".py",
   "mimetype": "text/x-python",
   "name": "python",
   "nbconvert_exporter": "python",
   "pygments_lexer": "ipython3",
   "version": "3.12.3"
  }
 },
 "nbformat": 4,
 "nbformat_minor": 5
}
